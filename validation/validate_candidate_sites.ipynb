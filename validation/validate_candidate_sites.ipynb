{
 "cells": [
  {
   "cell_type": "markdown",
   "metadata": {},
   "source": [
    "# Validate candidate TPA sites"
   ]
  },
  {
   "cell_type": "code",
   "execution_count": 1,
   "metadata": {},
   "outputs": [],
   "source": [
    "%load_ext autoreload\n",
    "%autoreload 2"
   ]
  },
  {
   "cell_type": "code",
   "execution_count": 43,
   "metadata": {},
   "outputs": [],
   "source": [
    "from validate_map import Validator"
   ]
  },
  {
   "cell_type": "code",
   "execution_count": 44,
   "metadata": {},
   "outputs": [
    {
     "name": "stdout",
     "output_type": "stream",
     "text": [
      "https://tiles.planet.com/basemaps/v1/planet-tiles/global_monthly_2020_06_mosaic/gmap/{z}/{x}/{y}.png?api_key=73112b15212f4e7bb15e35f1b144f049\n"
     ]
    }
   ],
   "source": [
    "# define input file to read, and output file to write\n",
    "data_dir = '../data/model_outputs/candidate_sites/0.0.11'\n",
    "fn = 'haiti_v0.0.11_2019-01-01_2021-06-01mosaic-median_blobs_thresh_0.6_min-sigma_3.5_area-thresh_0.0025_patch_v3.0_threshold_0.3_intersection'\n",
    "fin = f'{data_dir}/{fn}.geojson'\n",
    "fout = f'{data_dir}/{fn}_validated.geojson'\n",
    "v = Validator(fin, fout)"
   ]
  },
  {
   "cell_type": "code",
   "execution_count": 45,
   "metadata": {},
   "outputs": [
    {
     "data": {
      "application/vnd.jupyter.widget-view+json": {
       "model_id": "6444d8e02ba341728e6b12fd43dd81d8",
       "version_major": 2,
       "version_minor": 0
      },
      "text/plain": [
       "Map(center=[18.50915736627061, -72.60966469294132], controls=(ZoomControl(options=['position', 'zoom_in_text',…"
      ]
     },
     "metadata": {},
     "output_type": "display_data"
    }
   ],
   "source": [
    "v.map"
   ]
  },
  {
   "cell_type": "code",
   "execution_count": 3,
   "metadata": {},
   "outputs": [
    {
     "name": "stdout",
     "output_type": "stream",
     "text": [
      "found 96 candidate sites for confirmed_positives\n",
      "found 35 candidate sites for industrial\n",
      "found 9 candidate sites for uncertain\n"
     ]
    },
    {
     "name": "stderr",
     "output_type": "stream",
     "text": [
      "/Users/ckruse/miniforge3/envs/m1-plastics/lib/python3.9/site-packages/geopandas/io/file.py:362: FutureWarning: pandas.Int64Index is deprecated and will be removed from pandas in a future version. Use pandas.Index with the appropriate dtype instead.\n",
      "  pd.Int64Index,\n",
      "/Users/ckruse/miniforge3/envs/m1-plastics/lib/python3.9/site-packages/geopandas/io/file.py:362: FutureWarning: pandas.Int64Index is deprecated and will be removed from pandas in a future version. Use pandas.Index with the appropriate dtype instead.\n",
      "  pd.Int64Index,\n",
      "/Users/ckruse/miniforge3/envs/m1-plastics/lib/python3.9/site-packages/geopandas/io/file.py:362: FutureWarning: pandas.Int64Index is deprecated and will be removed from pandas in a future version. Use pandas.Index with the appropriate dtype instead.\n",
      "  pd.Int64Index,\n",
      "/Users/ckruse/miniforge3/envs/m1-plastics/lib/python3.9/site-packages/geopandas/io/file.py:362: FutureWarning: pandas.Int64Index is deprecated and will be removed from pandas in a future version. Use pandas.Index with the appropriate dtype instead.\n",
      "  pd.Int64Index,\n"
     ]
    }
   ],
   "source": [
    "import geopandas as gpd\n",
    "region = 'mediterranean_combined'\n",
    "path = f'../data/model_outputs/candidate_sites/0.0.11/{region}_v0.0.11_2021-01-01_2022-07-01_blobs_thresh_0.6_min-sigma_5.0_area-thresh_0.0025_band-median_patch_v3.0_threshold_0.3_intersection.geojson'\n",
    "#path = f'../data/model_outputs/candidate_sites/0.0.11/{region}_v0.0.11_2021-01-01_2022-07-01_blobs_thresh_0.6_min-sigma_5.0_area-thresh_0.0025_band-median.geojson'\n",
    "validated = gpd.read_file(path)\n",
    "\n",
    "options = ['dump', 'industrial', 'uncertain']\n",
    "names = ['confirmed_positives', 'industrial', 'uncertain']\n",
    "for option, name in zip(options, names):\n",
    "    try:\n",
    "        subset = validated[validated[option] == True]\n",
    "        subset = subset.drop(options, axis=1)\n",
    "        print(\"found\", len(subset), \"candidate sites for\", name)\n",
    "        subset.to_file(f'../data/sampling_locations/{region}_intersection_{name}.geojson')\n",
    "    except:\n",
    "        print(\"Couldn't export points of class\", option, name)\n",
    "\n",
    "subset = validated[validated['dump'].isna()]\n",
    "subset = subset.drop(options, axis=1)\n",
    "subset.to_file(f'../data/sampling_locations/{region}_intersection_confirmed_negatives.geojson')"
   ]
  },
  {
   "cell_type": "code",
   "execution_count": 16,
   "metadata": {},
   "outputs": [
    {
     "name": "stdout",
     "output_type": "stream",
     "text": [
      "Found 9 points\n"
     ]
    },
    {
     "name": "stderr",
     "output_type": "stream",
     "text": [
      "/Users/ckruse/miniforge3/envs/m1-plastics/lib/python3.9/site-packages/geopandas/io/file.py:362: FutureWarning: pandas.Int64Index is deprecated and will be removed from pandas in a future version. Use pandas.Index with the appropriate dtype instead.\n",
      "  pd.Int64Index,\n"
     ]
    }
   ],
   "source": [
    "region = 'kenya'\n",
    "path = f'../data/model_outputs/candidate_sites/0.0.11/{region}_v0.0.11_2020-01-01_2022-06-01_blobs_thresh_0.6_min-sigma_3.5_area-thresh_0.0025_band-median.geojson'\n",
    "validated = gpd.read_file(path)\n",
    "subset = validated[validated['dump'] == True]\n",
    "print(\"Found\", len(subset), \"points\")\n",
    "subset = subset.drop(options, axis=1)\n",
    "subset.to_file(f'../data/sampling_locations/{region}_pixel_confirmed_positives.geojson')"
   ]
  },
  {
   "cell_type": "code",
   "execution_count": 26,
   "metadata": {},
   "outputs": [
    {
     "name": "stderr",
     "output_type": "stream",
     "text": [
      "/Users/ckruse/miniforge3/envs/m1-plastics/lib/python3.9/site-packages/geopandas/io/file.py:362: FutureWarning: pandas.Int64Index is deprecated and will be removed from pandas in a future version. Use pandas.Index with the appropriate dtype instead.\n",
      "  pd.Int64Index,\n",
      "/Users/ckruse/miniforge3/envs/m1-plastics/lib/python3.9/site-packages/geopandas/io/file.py:362: FutureWarning: pandas.Int64Index is deprecated and will be removed from pandas in a future version. Use pandas.Index with the appropriate dtype instead.\n",
      "  pd.Int64Index,\n",
      "/Users/ckruse/miniforge3/envs/m1-plastics/lib/python3.9/site-packages/geopandas/io/file.py:362: FutureWarning: pandas.Int64Index is deprecated and will be removed from pandas in a future version. Use pandas.Index with the appropriate dtype instead.\n",
      "  pd.Int64Index,\n"
     ]
    }
   ],
   "source": [
    "import geopandas as gpd\n",
    "region = 'china'\n",
    "sub_region = '3'\n",
    "path = f'../data/model_outputs/candidate_sites/0.0.11/china_v0.0.11_2019-01-01_2021-06-01_blobs_thresh_0.6_min-sigma_3.5_area-thresh_0.00251__patch_v3.0_threshold_0.3_intersection_1.geojson'\n",
    "validated = gpd.read_file(path)\n",
    "subset = validated[validated['yes'] == True]\n",
    "subset = subset.drop(['yes', 'industrial', 'maybe'], axis=1)\n",
    "subset.to_file(f'../data/sampling_locations/{region}_{sub_region}_intersection_confirmed_positives.geojson')\n",
    "\n",
    "subset = validated[validated['yes'].isna()]\n",
    "subset = subset.drop(['yes', 'industrial', 'maybe'], axis=1)\n",
    "subset.to_file(f'../data/sampling_locations/{region}_{sub_region}_intersection_confirmed_negatives.geojson')\n",
    "\n",
    "subset = validated[validated['maybe'] == True]\n",
    "subset = subset.drop(['yes', 'industrial', 'maybe'], axis=1)\n",
    "subset.to_file(f'../data/sampling_locations/{region}_{sub_region}_intersection_uncertain.geojson')"
   ]
  },
  {
   "cell_type": "code",
   "execution_count": 44,
   "metadata": {},
   "outputs": [],
   "source": [
    "path = f'../data/model_outputs/candidate_sites/0.0.11/china_v0.0.11_2019-01-01_2021-06-01_blobs_thresh_0.6_min-sigma_3.5_area-thresh_0.00252__patch_v3.0_threshold_0.3_intersection_2.geojson'\n",
    "validated = gpd.read_file(path)\n",
    "positives = validated[validated['yes'] == True]\n",
    "maybes = validated[validated['maybe'] == True]\n",
    "industrial = validated[validated['industrial'] == True]\n",
    "negatives = validated[validated['yes'].isna()]"
   ]
  },
  {
   "cell_type": "code",
   "execution_count": 56,
   "metadata": {},
   "outputs": [
    {
     "name": "stderr",
     "output_type": "stream",
     "text": [
      "/var/folders/qp/7mx_414x647gwz3z5m2rl7780000gn/T/ipykernel_44317/4138285555.py:2: FutureWarning: The frame.append method is deprecated and will be removed from pandas in a future version. Use pandas.concat instead.\n",
      "  num_negatives = len(positives.append(maybes).append(industrial))\n",
      "/var/folders/qp/7mx_414x647gwz3z5m2rl7780000gn/T/ipykernel_44317/4138285555.py:2: FutureWarning: The frame.append method is deprecated and will be removed from pandas in a future version. Use pandas.concat instead.\n",
      "  num_negatives = len(positives.append(maybes).append(industrial))\n",
      "/var/folders/qp/7mx_414x647gwz3z5m2rl7780000gn/T/ipykernel_44317/4138285555.py:4: FutureWarning: The frame.append method is deprecated and will be removed from pandas in a future version. Use pandas.concat instead.\n",
      "  new_df = positives.append(maybes).append(industrial).append(negatives.iloc[rand_index])\n",
      "/var/folders/qp/7mx_414x647gwz3z5m2rl7780000gn/T/ipykernel_44317/4138285555.py:4: FutureWarning: The frame.append method is deprecated and will be removed from pandas in a future version. Use pandas.concat instead.\n",
      "  new_df = positives.append(maybes).append(industrial).append(negatives.iloc[rand_index])\n",
      "/var/folders/qp/7mx_414x647gwz3z5m2rl7780000gn/T/ipykernel_44317/4138285555.py:4: FutureWarning: The frame.append method is deprecated and will be removed from pandas in a future version. Use pandas.concat instead.\n",
      "  new_df = positives.append(maybes).append(industrial).append(negatives.iloc[rand_index])\n",
      "/Users/ckruse/miniforge3/envs/m1-plastics/lib/python3.9/site-packages/geopandas/io/file.py:362: FutureWarning: pandas.Int64Index is deprecated and will be removed from pandas in a future version. Use pandas.Index with the appropriate dtype instead.\n",
      "  pd.Int64Index,\n"
     ]
    }
   ],
   "source": [
    "import numpy as np\n",
    "num_negatives = len(positives.append(maybes).append(industrial))\n",
    "rand_index = np.random.randint(0, len(negatives), size=num_negatives)\n",
    "new_df = positives.append(maybes).append(industrial).append(negatives.iloc[rand_index])\n",
    "new_df.to_file('/Users/ckruse/Downloads/china_3_student_validation.geojson')\n"
   ]
  },
  {
   "cell_type": "code",
   "execution_count": 59,
   "metadata": {},
   "outputs": [
    {
     "name": "stderr",
     "output_type": "stream",
     "text": [
      "/Users/ckruse/miniforge3/envs/m1-plastics/lib/python3.9/site-packages/geopandas/io/file.py:362: FutureWarning: pandas.Int64Index is deprecated and will be removed from pandas in a future version. Use pandas.Index with the appropriate dtype instead.\n",
      "  pd.Int64Index,\n"
     ]
    }
   ],
   "source": [
    "gdf = gpd.read_file('../data/model_outputs/candidate_sites/0.0.11/north_india_v0.0.11_2019-01-01_2021-06-01_blobs_thresh_0.6_min-sigma_3.5_area-thresh_0.0025_west_patch_v3.0_threshold_0.3_intersection_west.geojson')\n",
    "num_samples = 500\n",
    "gdf = gdf.sample(n=num_samples)\n",
    "gdf.to_file('/Users/ckruse/Downloads/north_india_west_samples.geojson')"
   ]
  },
  {
   "cell_type": "code",
   "execution_count": 1,
   "metadata": {},
   "outputs": [
    {
     "name": "stderr",
     "output_type": "stream",
     "text": [
      "/Users/ckruse/miniforge3/envs/m1-plastics/lib/python3.9/site-packages/geopandas/io/file.py:362: FutureWarning: pandas.Int64Index is deprecated and will be removed from pandas in a future version. Use pandas.Index with the appropriate dtype instead.\n",
      "  pd.Int64Index,\n",
      "/Users/ckruse/miniforge3/envs/m1-plastics/lib/python3.9/site-packages/geopandas/io/file.py:362: FutureWarning: pandas.Int64Index is deprecated and will be removed from pandas in a future version. Use pandas.Index with the appropriate dtype instead.\n",
      "  pd.Int64Index,\n"
     ]
    }
   ],
   "source": [
    "import geopandas as gpd\n",
    "region = 'philippines'\n",
    "path = f'../data/model_outputs/candidate_sites/0.0.11/philippines_v0.0.11_2019-01-01_2021-06-01_blobs_thresh_0.6_min-sigma_3.5_area-thresh_0.0025_patch_v3.0_threshold_0.3_intersection.geojson'\n",
    "validated = gpd.read_file(path)\n",
    "subset = validated[validated['yes'] == True]\n",
    "subset = subset.drop(['yes', 'industrial', 'maybe', 'old'], axis=1)\n",
    "subset.to_file(f'../data/sampling_locations/{region}_0.0.11_3.0_intersection_confirmed_positives.geojson')\n",
    "\n",
    "#subset = subset = validated[validated['yes'].isna()]\n",
    "#subset = subset.drop(['yes', 'industrial', 'maybe', 'old'], axis=1)\n",
    "#subset.to_file(f'../data/sampling_locations/{region}_intersection_confirmed_negatives.geojson')\n",
    "\n",
    "subset = validated[validated['maybe'] == True]\n",
    "subset = subset.drop(['yes', 'industrial', 'maybe', 'old'], axis=1)\n",
    "subset.to_file(f'../data/sampling_locations/{region}_intersection_uncertain.geojson')"
   ]
  },
  {
   "cell_type": "code",
   "execution_count": 25,
   "metadata": {},
   "outputs": [
    {
     "name": "stderr",
     "output_type": "stream",
     "text": [
      "/Users/ckruse/miniforge3/envs/m1-plastics/lib/python3.9/site-packages/geopandas/io/file.py:362: FutureWarning: pandas.Int64Index is deprecated and will be removed from pandas in a future version. Use pandas.Index with the appropriate dtype instead.\n",
      "  pd.Int64Index,\n"
     ]
    }
   ],
   "source": [
    "subset = validated[validated['industrial'] == True]\n",
    "subset = subset.drop(['yes', 'industrial', 'construction', 'maybe'], axis=1)\n",
    "subset.to_file(f'../data/sampling_locations/{region}_intersection_industrial.geojson')"
   ]
  },
  {
   "cell_type": "code",
   "execution_count": 17,
   "metadata": {},
   "outputs": [
    {
     "data": {
      "text/plain": [
       "0"
      ]
     },
     "execution_count": 17,
     "metadata": {},
     "output_type": "execute_result"
    }
   ],
   "source": [
    "# select all rows of validated with none in colum dump, industrial, and maybe\n",
    "subset = validated[validated['maybe'].isna()]\n",
    "len(subset)"
   ]
  },
  {
   "cell_type": "code",
   "execution_count": 14,
   "metadata": {},
   "outputs": [
    {
     "data": {
      "text/plain": [
       "117"
      ]
     },
     "execution_count": 14,
     "metadata": {},
     "output_type": "execute_result"
    }
   ],
   "source": [
    "len(validated) - len(validated[validated['maybe'] == True]) - len(validated[validated['dump'] == True]) - len(validated[validated['industrial'] == True])"
   ]
  },
  {
   "cell_type": "code",
   "execution_count": null,
   "metadata": {},
   "outputs": [],
   "source": []
  }
 ],
 "metadata": {
  "interpreter": {
   "hash": "d425afa4a959a86aa036beaa1a58ff3469f38e31f3ec97f5785c695b9108eced"
  },
  "kernelspec": {
   "display_name": "mldev",
   "language": "python",
   "name": "python3"
  },
  "language_info": {
   "codemirror_mode": {
    "name": "ipython",
    "version": 3
   },
   "file_extension": ".py",
   "mimetype": "text/x-python",
   "name": "python",
   "nbconvert_exporter": "python",
   "pygments_lexer": "ipython3",
   "version": "3.9.7"
  }
 },
 "nbformat": 4,
 "nbformat_minor": 4
}
