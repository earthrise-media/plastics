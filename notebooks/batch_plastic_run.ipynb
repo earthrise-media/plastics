{
 "cells": [
  {
   "cell_type": "code",
   "execution_count": 1,
   "metadata": {},
   "outputs": [],
   "source": [
    "import json\n",
    "from scripts import step_1_generate_roi, step_2_deploy, step_3_detect_candidates, step_4_query_patch, step_5_download_candidates"
   ]
  },
  {
   "cell_type": "code",
   "execution_count": 2,
   "metadata": {},
   "outputs": [],
   "source": [
    "%load_ext autoreload\n",
    "%autoreload 2"
   ]
  },
  {
   "cell_type": "code",
   "execution_count": 35,
   "metadata": {},
   "outputs": [],
   "source": [
    "template = {\n",
    "    \"roi\": {\n",
    "        \"name\": \"ROI Name\",\n",
    "        \"region\": False,\n",
    "    },\n",
    "    \"dates\": {\n",
    "        \"start\": \"2021-01-01\",\n",
    "        \"end\": \"2022-07-01\"\n",
    "    },\n",
    "    \"data\": {\n",
    "        \"mosaic_period\": 3,\n",
    "        \"mosaic_method\": \"min\",\n",
    "        \"spectrogram_interval\": 2\n",
    "    },\n",
    "    \"pixel\": {\n",
    "        \"version\": \"0.0.11\",\n",
    "        \"name\": \"spectrogram_v0.0.11_2021-07-13\",\n",
    "    },\n",
    "    \"patch\": {\n",
    "        \"version\": \"weak_labels_3.0\",\n",
    "        \"name\": \"weak_labels_3.0_batchnorm\",\n",
    "        \"stride\": 8,\n",
    "    },\n",
    "    \"candidate_detect\": {\n",
    "        \"pred_threshold\": 0.3,\n",
    "        \"min_sigma\": 5.0\n",
    "    },\n",
    "    \"intersect\": {\n",
    "        \"patch_threshold\": 0.3,\n",
    "    },\n",
    "    \"run_local\": False\n",
    "}"
   ]
  },
  {
   "cell_type": "code",
   "execution_count": 30,
   "metadata": {},
   "outputs": [],
   "source": [
    "country_list = ['Korea North', 'Korea South', 'New Caledonia']"
   ]
  },
  {
   "cell_type": "code",
   "execution_count": 26,
   "metadata": {},
   "outputs": [],
   "source": [
    "for country in country_list:\n",
    "    config = template.copy()\n",
    "    config['roi']['name'] = country.lower().replace(' ', '_')\n",
    "    #config = json.dumps(config)\n",
    "    with open(f\"../pipeline/{country.lower().replace(' ', '_')}_config.json\", 'w') as f:\n",
    "        json.dump(config, f, indent=4)\n",
    "    "
   ]
  },
  {
   "cell_type": "code",
   "execution_count": 27,
   "metadata": {},
   "outputs": [
    {
     "name": "stdout",
     "output_type": "stream",
     "text": [
      "Korea, North\n",
      "Approx DL Time: 3.16 hours\n",
      "Number of DL Tiles to process: 1582\n",
      "Wrote dlkeys to ../data/boundaries/dlkeys/korea,_north_pop_0.25_dlkeys.txt\n",
      "Korea, South\n",
      "Approx DL Time: 2.67 hours\n",
      "Number of DL Tiles to process: 1333\n",
      "Wrote dlkeys to ../data/boundaries/dlkeys/korea,_south_pop_0.25_dlkeys.txt\n",
      "New Caledonia\n",
      "Approx DL Time: 0.13 hours\n",
      "Number of DL Tiles to process: 64\n",
      "Wrote dlkeys to ../data/boundaries/dlkeys/new_caledonia_pop_0.25_dlkeys.txt\n"
     ]
    }
   ],
   "source": [
    "roi_failures = {}\n",
    "for country in country_list:\n",
    "    print(country)\n",
    "    try:\n",
    "        step_1_generate_roi.main(config_path=f\"../pipeline/{country.lower().replace(' ', '_')}_config.json\")\n",
    "    except KeyboardInterrupt:\n",
    "        print(\"Keyboard interrupt\")\n",
    "        break\n",
    "    except Exception as e:\n",
    "        roi_failures[country] = e\n",
    "        print(f\"{country} failed: {e}\")\n",
    "        continue"
   ]
  },
  {
   "cell_type": "code",
   "execution_count": 31,
   "metadata": {},
   "outputs": [
    {
     "name": "stdout",
     "output_type": "stream",
     "text": [
      "Korea North\n",
      "Read 1582 dlkeys from ../data/boundaries/dlkeys/korea_north_pop_0.25_dlkeys.txt\n",
      "Estimated cost for run: $25.60\n",
      "Got patch product earthrise:korea_north_v0.0.11_2021-01-01_2022-07-01\n",
      "Model spectrogram_v0.0.11_2021-07-13 found in DLStorage.\n",
      "Model weak_labels_3.0_batchnorm found in DLStorage.\n",
      "Creating product earthrise:korea_north_patch_weak_labels_3.0_2021-01-01_2022-07-01_stride_8_patches\n"
     ]
    },
    {
     "name": "stderr",
     "output_type": "stream",
     "text": [
      "100%|██████████| 1582/1582 [03:01<00:00,  8.70it/s]\n"
     ]
    },
    {
     "name": "stdout",
     "output_type": "stream",
     "text": [
      "Korea South\n",
      "Read 1333 dlkeys from ../data/boundaries/dlkeys/korea_south_pop_0.25_dlkeys.txt\n",
      "Estimated cost for run: $21.57\n",
      "Got patch product earthrise:korea_south_v0.0.11_2021-01-01_2022-07-01\n",
      "Model spectrogram_v0.0.11_2021-07-13 found in DLStorage.\n",
      "Model weak_labels_3.0_batchnorm found in DLStorage.\n",
      "Creating product earthrise:korea_south_patch_weak_labels_3.0_2021-01-01_2022-07-01_stride_8_patches\n"
     ]
    },
    {
     "name": "stderr",
     "output_type": "stream",
     "text": [
      "100%|██████████| 1333/1333 [02:42<00:00,  8.21it/s]\n"
     ]
    },
    {
     "name": "stdout",
     "output_type": "stream",
     "text": [
      "New Caledonia\n",
      "Existing product found.\n",
      "Deleting db97e4b985ef52fa21d7e83dd688047fada1a0f2:earthrise:new_caledonia_patch_weak_labels_3.0_2021-01-01_2022-07-01_stride_8_patches\n",
      "Read 64 dlkeys from ../data/boundaries/dlkeys/new_caledonia_pop_0.25_dlkeys.txt\n",
      "Estimated cost for run: $1.04\n",
      "Got patch product earthrise:new_caledonia_v0.0.11_2021-01-01_2022-07-01\n",
      "Model spectrogram_v0.0.11_2021-07-13 found in DLStorage.\n",
      "Model weak_labels_3.0_batchnorm found in DLStorage.\n",
      "Creating product earthrise:new_caledonia_patch_weak_labels_3.0_2021-01-01_2022-07-01_stride_8_patches\n"
     ]
    },
    {
     "name": "stderr",
     "output_type": "stream",
     "text": [
      "100%|██████████| 64/64 [00:08<00:00,  7.23it/s]\n"
     ]
    }
   ],
   "source": [
    "from scripts import step_2_deploy\n",
    "detect_failures = {}\n",
    "for country in [c for c in country_list if c not in roi_failures.keys() and c != 'Samoa']:\n",
    "    print(country)\n",
    "    try:\n",
    "        step_2_deploy.main(config_path=f\"../pipeline/{country.lower().replace(' ', '_')}_config.json\")\n",
    "    except KeyboardInterrupt:\n",
    "        print(\"Keyboard interrupt\")\n",
    "        break\n",
    "    except Exception as e:\n",
    "        detect_failures[country] = e\n",
    "        print(f\"{country} failed: {e}\")\n",
    "        continue"
   ]
  },
  {
   "cell_type": "code",
   "execution_count": 32,
   "metadata": {},
   "outputs": [
    {
     "name": "stdout",
     "output_type": "stream",
     "text": [
      "Korea North\n",
      "Creating product earthrise:korea_north_v0.0.11_2021-01-01_2022-07-01_blobs_thresh_0.6_min-sigma_5.0_area-thresh_0.0025_band-median\n"
     ]
    },
    {
     "name": "stderr",
     "output_type": "stream",
     "text": [
      "100%|██████████| 1582/1582 [03:12<00:00,  8.20it/s]\n"
     ]
    },
    {
     "name": "stdout",
     "output_type": "stream",
     "text": [
      "Korea South\n",
      "Creating product earthrise:korea_south_v0.0.11_2021-01-01_2022-07-01_blobs_thresh_0.6_min-sigma_5.0_area-thresh_0.0025_band-median\n"
     ]
    },
    {
     "name": "stderr",
     "output_type": "stream",
     "text": [
      "100%|██████████| 1333/1333 [02:32<00:00,  8.74it/s]\n"
     ]
    },
    {
     "name": "stdout",
     "output_type": "stream",
     "text": [
      "New Caledonia\n",
      "Creating product earthrise:new_caledonia_v0.0.11_2021-01-01_2022-07-01_blobs_thresh_0.6_min-sigma_5.0_area-thresh_0.0025_band-median\n"
     ]
    },
    {
     "name": "stderr",
     "output_type": "stream",
     "text": [
      "100%|██████████| 50/50 [00:06<00:00,  7.79it/s]\n"
     ]
    }
   ],
   "source": [
    "candidate_failures = {}\n",
    "for country in [c for c in country_list if c not in detect_failures.keys() and c not in roi_failures.keys()]:\n",
    "    print(country)\n",
    "    try:\n",
    "        step_3_detect_candidates.main(config_path=f\"../pipeline/{country.lower().replace(' ', '_')}_config.json\")\n",
    "    except KeyboardInterrupt:\n",
    "        print(\"Keyboard interrupt\")\n",
    "        break\n",
    "    except Exception as e:\n",
    "        candidate_failures[country] = e\n",
    "        print(f\"{country} failed: {e}\")\n",
    "        continue\n",
    "\n",
    "# retry failed countries\n",
    "for country in [c for c in candidate_failures.keys()]:\n",
    "    print(country)\n",
    "    try:\n",
    "        step_3_detect_candidates.main(config_path=f\"../pipeline/{country.lower().replace(' ', '_')}_config.json\")\n",
    "        del(candidate_failures[country])\n",
    "    except KeyboardInterrupt:\n",
    "        print(\"Keyboard interrupt\")\n",
    "        break\n",
    "    except Exception as e:\n",
    "        candidate_failures[country] = e\n",
    "        print(f\"{country} failed: {e}\")\n",
    "        continue"
   ]
  },
  {
   "cell_type": "code",
   "execution_count": 33,
   "metadata": {},
   "outputs": [
    {
     "name": "stdout",
     "output_type": "stream",
     "text": [
      "Korea North\n",
      "korea_north_v0.0.11_2021-01-01_2022-07-01_blobs_thresh_0.6_min-sigma_5.0_area-thresh_0.0025_band-median\n",
      "Korea South\n",
      "korea_south_v0.0.11_2021-01-01_2022-07-01_blobs_thresh_0.6_min-sigma_5.0_area-thresh_0.0025_band-median\n",
      "New Caledonia\n",
      "new_caledonia_v0.0.11_2021-01-01_2022-07-01_blobs_thresh_0.6_min-sigma_5.0_area-thresh_0.0025_band-median\n"
     ]
    }
   ],
   "source": [
    "query_failures = {}\n",
    "for country in country_list:\n",
    "    print(country)\n",
    "    config_path = f\"../pipeline/{country.lower().replace(' ', '_')}_config.json\"\n",
    "    try:\n",
    "        with open(config_path, 'r') as f:\n",
    "            config = json.load(f)\n",
    "        # check if candidate detect product exists\n",
    "        print(config['candidate_detect']['product_id'])\n",
    "        step_4_query_patch.main(config_path=config_path)\n",
    "    except KeyboardInterrupt:\n",
    "        print(\"Keyboard interrupt\")\n",
    "        break\n",
    "    except Exception as e:\n",
    "        query_failures[country] = e\n",
    "        print(f\"{country} failed: {e}\")\n",
    "        continue"
   ]
  },
  {
   "cell_type": "code",
   "execution_count": 34,
   "metadata": {},
   "outputs": [
    {
     "name": "stdout",
     "output_type": "stream",
     "text": [
      "Downloading Korea North\n",
      "No candidates found for 0.0.11\n",
      "Korea North failed: list index out of range\n",
      "Downloading Korea South\n",
      "Downloading New Caledonia\n"
     ]
    }
   ],
   "source": [
    "download_failures = {}\n",
    "for country in country_list:\n",
    "    print(\"Downloading\", country)\n",
    "    config_path = f\"../pipeline/{country.lower().replace(' ', '_')}_config.json\"\n",
    "    try:\n",
    "        with open(config_path, 'r') as f:\n",
    "            config = json.load(f)\n",
    "        # check if candidate detect product exists\n",
    "        product_id = config['intersect']['product_id']\n",
    "        step_5_download_candidates.main(config_path=config_path)\n",
    "    except KeyboardInterrupt:\n",
    "        print(\"Keyboard interrupt\")\n",
    "        break\n",
    "    except Exception as e:\n",
    "        download_failures[country] = e\n",
    "        print(f\"{country} failed: {e}\")\n",
    "        continue"
   ]
  },
  {
   "cell_type": "code",
   "execution_count": null,
   "metadata": {},
   "outputs": [],
   "source": [
    "import os\n",
    "import geopandas as gpd\n",
    "import pandas as pd\n",
    "combined_df = gpd.GeoDataFrame()\n",
    "for f in os.listdir('../data/model_outputs/candidate_sites/0.0.11/'):\n",
    "    if f.startswith('intersect_'):\n",
    "        gdf = gpd.read_file(f'../data/model_outputs/candidate_sites/0.0.11/{f}')\n",
    "        combined_df = gpd.GeoDataFrame(pd.concat([combined_df, gdf]))\n",
    "\n",
    "run_title = 'caledonia_and_korea'\n",
    "combined_df.to_file(f'../data/model_outputs/candidate_sites/0.0.11/{run_title}.geojson', driver='GeoJSON')"
   ]
  }
 ],
 "metadata": {
  "kernelspec": {
   "display_name": "Python 3.9.7 ('m1-plastics')",
   "language": "python",
   "name": "python3"
  },
  "language_info": {
   "codemirror_mode": {
    "name": "ipython",
    "version": 3
   },
   "file_extension": ".py",
   "mimetype": "text/x-python",
   "name": "python",
   "nbconvert_exporter": "python",
   "pygments_lexer": "ipython3",
   "version": "3.9.7"
  },
  "orig_nbformat": 4,
  "vscode": {
   "interpreter": {
    "hash": "d425afa4a959a86aa036beaa1a58ff3469f38e31f3ec97f5785c695b9108eced"
   }
  }
 },
 "nbformat": 4,
 "nbformat_minor": 2
}
