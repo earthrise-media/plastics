{
 "cells": [
  {
   "cell_type": "code",
   "execution_count": null,
   "metadata": {},
   "outputs": [],
   "source": [
    "import json\n",
    "from scripts import step_1_generate_roi, step_2_deploy, step_3_detect_candidates, step_4_query_patch, step_5_download_candidates"
   ]
  },
  {
   "cell_type": "code",
   "execution_count": null,
   "metadata": {},
   "outputs": [],
   "source": [
    "%load_ext autoreload\n",
    "%autoreload 2"
   ]
  },
  {
   "cell_type": "code",
   "execution_count": null,
   "metadata": {},
   "outputs": [],
   "source": [
    "template = {\n",
    "    \"roi\": {\n",
    "        \"name\": \"ROI Name\",\n",
    "        \"region\": False,\n",
    "    },\n",
    "    \"dates\": {\n",
    "        \"start\": \"2021-01-01\",\n",
    "        \"end\": \"2022-07-01\"\n",
    "    },\n",
    "    \"data\": {\n",
    "        \"mosaic_period\": 3,\n",
    "        \"mosaic_method\": \"min\",\n",
    "        \"spectrogram_interval\": 2\n",
    "    },\n",
    "    \"pixel\": {\n",
    "        \"version\": \"0.0.11\",\n",
    "        \"name\": \"spectrogram_v0.0.11_2021-07-13\",\n",
    "    },\n",
    "    \"patch\": {\n",
    "        \"version\": \"weak_labels_3.0\",\n",
    "        \"name\": \"weak_labels_3.0_batchnorm\",\n",
    "        \"stride\": 8,\n",
    "    },\n",
    "    \"candidate_detect\": {\n",
    "        \"pred_threshold\": 0.3,\n",
    "        \"min_sigma\": 5.0\n",
    "    },\n",
    "    \"intersect\": {\n",
    "        \"patch_threshold\": 0.3,\n",
    "    },\n",
    "    \"run_local\": False\n",
    "}"
   ]
  },
  {
   "cell_type": "code",
   "execution_count": null,
   "metadata": {},
   "outputs": [],
   "source": [
    "country_list = ['Korea North', 'Korea South', 'New Caledonia']"
   ]
  },
  {
   "cell_type": "code",
   "execution_count": null,
   "metadata": {},
   "outputs": [],
   "source": [
    "for country in country_list:\n",
    "    config = template.copy()\n",
    "    config['roi']['name'] = country.lower().replace(' ', '_')\n",
    "    #config = json.dumps(config)\n",
    "    with open(f\"../pipeline/{country.lower().replace(' ', '_')}_config.json\", 'w') as f:\n",
    "        json.dump(config, f, indent=4)\n",
    "    "
   ]
  },
  {
   "cell_type": "code",
   "execution_count": null,
   "metadata": {},
   "outputs": [],
   "source": [
    "roi_failures = {}\n",
    "for country in country_list:\n",
    "    print(country)\n",
    "    try:\n",
    "        step_1_generate_roi.main(config_path=f\"../pipeline/{country.lower().replace(' ', '_')}_config.json\")\n",
    "    except KeyboardInterrupt:\n",
    "        print(\"Keyboard interrupt\")\n",
    "        break\n",
    "    except Exception as e:\n",
    "        roi_failures[country] = e\n",
    "        print(f\"{country} failed: {e}\")\n",
    "        continue"
   ]
  },
  {
   "cell_type": "code",
   "execution_count": null,
   "metadata": {},
   "outputs": [],
   "source": [
    "from scripts import step_2_deploy\n",
    "detect_failures = {}\n",
    "for country in [c for c in country_list if c not in roi_failures.keys() and c != 'Samoa']:\n",
    "    print(country)\n",
    "    try:\n",
    "        step_2_deploy.main(config_path=f\"../pipeline/{country.lower().replace(' ', '_')}_config.json\")\n",
    "    except KeyboardInterrupt:\n",
    "        print(\"Keyboard interrupt\")\n",
    "        break\n",
    "    except Exception as e:\n",
    "        detect_failures[country] = e\n",
    "        print(f\"{country} failed: {e}\")\n",
    "        continue"
   ]
  },
  {
   "cell_type": "code",
   "execution_count": null,
   "metadata": {},
   "outputs": [],
   "source": [
    "candidate_failures = {}\n",
    "for country in [c for c in country_list if c not in detect_failures.keys() and c not in roi_failures.keys()]:\n",
    "    print(country)\n",
    "    try:\n",
    "        step_3_detect_candidates.main(config_path=f\"../pipeline/{country.lower().replace(' ', '_')}_config.json\")\n",
    "    except KeyboardInterrupt:\n",
    "        print(\"Keyboard interrupt\")\n",
    "        break\n",
    "    except Exception as e:\n",
    "        candidate_failures[country] = e\n",
    "        print(f\"{country} failed: {e}\")\n",
    "        continue\n",
    "\n",
    "# retry failed countries\n",
    "for country in [c for c in candidate_failures.keys()]:\n",
    "    print(country)\n",
    "    try:\n",
    "        step_3_detect_candidates.main(config_path=f\"../pipeline/{country.lower().replace(' ', '_')}_config.json\")\n",
    "        del(candidate_failures[country])\n",
    "    except KeyboardInterrupt:\n",
    "        print(\"Keyboard interrupt\")\n",
    "        break\n",
    "    except Exception as e:\n",
    "        candidate_failures[country] = e\n",
    "        print(f\"{country} failed: {e}\")\n",
    "        continue"
   ]
  },
  {
   "cell_type": "code",
   "execution_count": null,
   "metadata": {},
   "outputs": [],
   "source": [
    "query_failures = {}\n",
    "for country in country_list:\n",
    "    print(country)\n",
    "    config_path = f\"../pipeline/{country.lower().replace(' ', '_')}_config.json\"\n",
    "    try:\n",
    "        with open(config_path, 'r') as f:\n",
    "            config = json.load(f)\n",
    "        # check if candidate detect product exists\n",
    "        print(config['candidate_detect']['product_id'])\n",
    "        step_4_query_patch.main(config_path=config_path)\n",
    "    except KeyboardInterrupt:\n",
    "        print(\"Keyboard interrupt\")\n",
    "        break\n",
    "    except Exception as e:\n",
    "        query_failures[country] = e\n",
    "        print(f\"{country} failed: {e}\")\n",
    "        continue"
   ]
  },
  {
   "cell_type": "code",
   "execution_count": null,
   "metadata": {},
   "outputs": [],
   "source": [
    "download_failures = {}\n",
    "for country in country_list:\n",
    "    print(\"Downloading\", country)\n",
    "    config_path = f\"../pipeline/{country.lower().replace(' ', '_')}_config.json\"\n",
    "    try:\n",
    "        with open(config_path, 'r') as f:\n",
    "            config = json.load(f)\n",
    "        # check if candidate detect product exists\n",
    "        product_id = config['intersect']['product_id']\n",
    "        step_5_download_candidates.main(config_path=config_path)\n",
    "    except KeyboardInterrupt:\n",
    "        print(\"Keyboard interrupt\")\n",
    "        break\n",
    "    except Exception as e:\n",
    "        download_failures[country] = e\n",
    "        print(f\"{country} failed: {e}\")\n",
    "        continue"
   ]
  },
  {
   "cell_type": "code",
   "execution_count": null,
   "metadata": {},
   "outputs": [],
   "source": [
    "import os\n",
    "import geopandas as gpd\n",
    "import pandas as pd\n",
    "combined_df = gpd.GeoDataFrame()\n",
    "for f in os.listdir('../data/model_outputs/candidate_sites/0.0.11/'):\n",
    "    if f.startswith('intersect_'):\n",
    "        gdf = gpd.read_file(f'../data/model_outputs/candidate_sites/0.0.11/{f}')\n",
    "        combined_df = gpd.GeoDataFrame(pd.concat([combined_df, gdf]))\n",
    "\n",
    "run_title = 'caledonia_and_korea'\n",
    "combined_df.to_file(f'../data/model_outputs/candidate_sites/0.0.11/{run_title}.geojson', driver='GeoJSON')"
   ]
  },
  {
   "cell_type": "code",
   "execution_count": null,
   "metadata": {},
   "outputs": [],
   "source": [
    "import os\n",
    "import geopandas as gpd\n",
    "import pandas as pd\n",
    "run_title = 'remainder_batch_run'\n",
    "\n",
    "gdf = gpd.read_file(f'../data/model_outputs/candidate_sites/0.0.11/{run_title}.geojson')"
   ]
  },
  {
   "cell_type": "code",
   "execution_count": null,
   "metadata": {},
   "outputs": [],
   "source": [
    "# remove duplicates from gdf\n",
    "print(len(gdf))\n",
    "gdf = gdf.drop_duplicates(subset=['id'])\n",
    "print(len(gdf))\n",
    "gdf.to_file(f'../data/model_outputs/candidate_sites/0.0.11/{run_title}.geojson', driver='GeoJSON')"
   ]
  }
 ],
 "metadata": {
  "kernelspec": {
   "display_name": "Python 3.9.7 ('m1-plastics')",
   "language": "python",
   "name": "python3"
  },
  "language_info": {
   "codemirror_mode": {
    "name": "ipython",
    "version": 3
   },
   "file_extension": ".py",
   "mimetype": "text/x-python",
   "name": "python",
   "nbconvert_exporter": "python",
   "pygments_lexer": "ipython3",
   "version": "3.9.7"
  },
  "orig_nbformat": 4,
  "vscode": {
   "interpreter": {
    "hash": "d425afa4a959a86aa036beaa1a58ff3469f38e31f3ec97f5785c695b9108eced"
   }
  }
 },
 "nbformat": 4,
 "nbformat_minor": 2
}
