{
 "cells": [
  {
   "cell_type": "code",
   "execution_count": 135,
   "metadata": {},
   "outputs": [],
   "source": [
    "import json"
   ]
  },
  {
   "cell_type": "code",
   "execution_count": 136,
   "metadata": {},
   "outputs": [
    {
     "name": "stdout",
     "output_type": "stream",
     "text": [
      "The autoreload extension is already loaded. To reload it, use:\n",
      "  %reload_ext autoreload\n"
     ]
    }
   ],
   "source": [
    "%load_ext autoreload\n",
    "%autoreload 2"
   ]
  },
  {
   "cell_type": "code",
   "execution_count": 137,
   "metadata": {},
   "outputs": [],
   "source": [
    "template = {\n",
    "    \"roi\": {\n",
    "        \"name\": \"Bangladesh\",\n",
    "        \"region\": False,\n",
    "    },\n",
    "    \"dates\": {\n",
    "        \"start\": \"2021-01-01\",\n",
    "        \"end\": \"2022-07-01\"\n",
    "    },\n",
    "    \"data\": {\n",
    "        \"mosaic_period\": 3,\n",
    "        \"mosaic_method\": \"min\",\n",
    "        \"spectrogram_interval\": 2\n",
    "    },\n",
    "    \"pixel\": {\n",
    "        \"version\": \"0.0.11\",\n",
    "        \"name\": \"spectrogram_v0.0.11_2021-07-13\",\n",
    "    },\n",
    "    \"patch\": {\n",
    "        \"version\": \"weak_labels_3.0\",\n",
    "        \"name\": \"weak_labels_3.0_batchnorm\",\n",
    "        \"stride\": 8,\n",
    "    },\n",
    "    \"candidate_detect\": {\n",
    "        \"pred_threshold\": 0.6,\n",
    "        \"min_sigma\": 5.0\n",
    "    },\n",
    "    \"run_local\": False\n",
    "}"
   ]
  },
  {
   "cell_type": "code",
   "execution_count": 138,
   "metadata": {},
   "outputs": [],
   "source": [
    "country_list = ['Fiji', 'Papua New Guinea', 'Solomon Islands', 'Marshall Islands', 'Micronesia', 'New Zealand', 'Vanuatu', 'Samoa', 'Palau', 'Kiribati', 'Tuvalu', 'Nauru', 'Tonga', 'Cyprus', 'Lebanon', 'Iran', 'Jordan', 'Saudi Arabia', 'Kuwait', 'Qatar', 'Bahrain', 'United Arab Emirates', 'Oman', 'Yemen', 'Nepal', 'Bhutan', 'Pakistan', 'Afghanistan', 'Armenia', 'Azerbaijan', 'Georgia']"
   ]
  },
  {
   "cell_type": "code",
   "execution_count": 139,
   "metadata": {},
   "outputs": [],
   "source": [
    "for country in country_list:\n",
    "    config = template.copy()\n",
    "    config['roi']['name'] = country.lower().replace(' ', '_')\n",
    "    #config = json.dumps(config)\n",
    "    with open(f\"../pipeline/{country.lower().replace(' ', '_')}_config.json\", 'w') as f:\n",
    "        json.dump(config, f, indent=4)\n",
    "    "
   ]
  },
  {
   "cell_type": "code",
   "execution_count": 142,
   "metadata": {},
   "outputs": [
    {
     "name": "stdout",
     "output_type": "stream",
     "text": [
      "Fiji\n",
      "Fiji failed: Polygon goes beyond +180deg longitude\n",
      "Papua New Guinea\n",
      "Approx DL Time: 2.58 hours\n",
      "Number of DL Tiles to process: 1291\n",
      "Wrote dlkeys to ../data/boundaries/dlkeys/papua_new_guinea_pop_0.25_dlkeys.txt\n",
      "Solomon Islands\n",
      "No boundaries found for Solomon_Islands\n",
      "No boundaries found for solomon_islands\n",
      "Solomon Islands failed: 'GetROI' object has no attribute 'region_file_name'\n",
      "Marshall Islands\n",
      "No boundaries found for Marshall_Islands\n",
      "No boundaries found for marshall_islands\n",
      "Marshall Islands failed: 'GetROI' object has no attribute 'region_file_name'\n",
      "Micronesia\n",
      "No boundaries found for Micronesia\n",
      "No boundaries found for micronesia\n",
      "Micronesia failed: 'GetROI' object has no attribute 'region_file_name'\n",
      "New Zealand\n",
      "Approx DL Time: 1.57 hours\n",
      "Number of DL Tiles to process: 783\n",
      "Wrote dlkeys to ../data/boundaries/dlkeys/new_zealand_pop_0.25_dlkeys.txt\n",
      "Vanuatu\n",
      "Approx DL Time: 0.30 hours\n",
      "Number of DL Tiles to process: 148\n",
      "Wrote dlkeys to ../data/boundaries/dlkeys/vanuatu_pop_0.25_dlkeys.txt\n",
      "Samoa\n",
      "Approx DL Time: 0.09 hours\n",
      "Number of DL Tiles to process: 44\n",
      "Wrote dlkeys to ../data/boundaries/dlkeys/samoa_pop_0.25_dlkeys.txt\n",
      "Palau\n",
      "Approx DL Time: 0.03 hours\n",
      "Number of DL Tiles to process: 17\n",
      "Wrote dlkeys to ../data/boundaries/dlkeys/palau_pop_0.25_dlkeys.txt\n",
      "Kiribati\n",
      "Approx DL Time: 0.07 hours\n",
      "Number of DL Tiles to process: 36\n",
      "Wrote dlkeys to ../data/boundaries/dlkeys/kiribati_pop_0.25_dlkeys.txt\n",
      "Tuvalu\n",
      "Tuvalu failed: No columns to parse from file\n",
      "Nauru\n",
      "Approx DL Time: 0.00 hours\n",
      "Number of DL Tiles to process: 2\n",
      "Wrote dlkeys to ../data/boundaries/dlkeys/nauru_pop_0.25_dlkeys.txt\n",
      "Tonga\n",
      "Approx DL Time: 0.06 hours\n",
      "Number of DL Tiles to process: 31\n",
      "Wrote dlkeys to ../data/boundaries/dlkeys/tonga_pop_0.25_dlkeys.txt\n",
      "Cyprus\n",
      "Approx DL Time: 0.25 hours\n",
      "Number of DL Tiles to process: 126\n",
      "Wrote dlkeys to ../data/boundaries/dlkeys/cyprus_pop_0.25_dlkeys.txt\n",
      "Lebanon\n",
      "Approx DL Time: 0.32 hours\n",
      "Number of DL Tiles to process: 158\n",
      "Wrote dlkeys to ../data/boundaries/dlkeys/lebanon_pop_0.25_dlkeys.txt\n",
      "Iran\n",
      "Approx DL Time: 17.62 hours\n",
      "Number of DL Tiles to process: 8812\n",
      "Wrote dlkeys to ../data/boundaries/dlkeys/iran_pop_0.25_dlkeys.txt\n",
      "Jordan\n",
      "Approx DL Time: 0.56 hours\n",
      "Number of DL Tiles to process: 279\n",
      "Wrote dlkeys to ../data/boundaries/dlkeys/jordan_pop_0.25_dlkeys.txt\n",
      "Saudi Arabia\n",
      "Approx DL Time: 6.02 hours\n",
      "Number of DL Tiles to process: 3010\n",
      "Wrote dlkeys to ../data/boundaries/dlkeys/saudi_arabia_pop_0.25_dlkeys.txt\n",
      "Kuwait\n",
      "Approx DL Time: 0.30 hours\n",
      "Number of DL Tiles to process: 152\n",
      "Wrote dlkeys to ../data/boundaries/dlkeys/kuwait_pop_0.25_dlkeys.txt\n",
      "Qatar\n",
      "Approx DL Time: 0.14 hours\n",
      "Number of DL Tiles to process: 72\n",
      "Wrote dlkeys to ../data/boundaries/dlkeys/qatar_pop_0.25_dlkeys.txt\n",
      "Bahrain\n",
      "Approx DL Time: 0.04 hours\n",
      "Number of DL Tiles to process: 19\n",
      "Wrote dlkeys to ../data/boundaries/dlkeys/bahrain_pop_0.25_dlkeys.txt\n",
      "United Arab Emirates\n",
      "Approx DL Time: 0.82 hours\n",
      "Number of DL Tiles to process: 408\n",
      "Wrote dlkeys to ../data/boundaries/dlkeys/united_arab_emirates_pop_0.25_dlkeys.txt\n",
      "Oman\n",
      "Approx DL Time: 1.05 hours\n",
      "Number of DL Tiles to process: 524\n",
      "Wrote dlkeys to ../data/boundaries/dlkeys/oman_pop_0.25_dlkeys.txt\n",
      "Yemen\n",
      "Approx DL Time: 4.13 hours\n",
      "Number of DL Tiles to process: 2063\n",
      "Wrote dlkeys to ../data/boundaries/dlkeys/yemen_pop_0.25_dlkeys.txt\n",
      "Nepal\n",
      "Approx DL Time: 2.99 hours\n",
      "Number of DL Tiles to process: 1495\n",
      "Wrote dlkeys to ../data/boundaries/dlkeys/nepal_pop_0.25_dlkeys.txt\n",
      "Bhutan\n",
      "Approx DL Time: 0.39 hours\n",
      "Number of DL Tiles to process: 193\n",
      "Wrote dlkeys to ../data/boundaries/dlkeys/bhutan_pop_0.25_dlkeys.txt\n",
      "Pakistan\n",
      "Approx DL Time: 13.72 hours\n",
      "Number of DL Tiles to process: 6859\n",
      "Wrote dlkeys to ../data/boundaries/dlkeys/pakistan_pop_0.25_dlkeys.txt\n",
      "Afghanistan\n",
      "Approx DL Time: 6.34 hours\n",
      "Number of DL Tiles to process: 3168\n",
      "Wrote dlkeys to ../data/boundaries/dlkeys/afghanistan_pop_0.25_dlkeys.txt\n",
      "Armenia\n",
      "Approx DL Time: 0.61 hours\n",
      "Number of DL Tiles to process: 306\n",
      "Wrote dlkeys to ../data/boundaries/dlkeys/armenia_pop_0.25_dlkeys.txt\n",
      "Azerbaijan\n",
      "Approx DL Time: 2.03 hours\n",
      "Number of DL Tiles to process: 1015\n",
      "Wrote dlkeys to ../data/boundaries/dlkeys/azerbaijan_pop_0.25_dlkeys.txt\n",
      "Georgia\n",
      "Approx DL Time: 1.10 hours\n",
      "Number of DL Tiles to process: 551\n",
      "Wrote dlkeys to ../data/boundaries/dlkeys/georgia_pop_0.25_dlkeys.txt\n"
     ]
    }
   ],
   "source": [
    "from scripts import step_1_generate_roi\n",
    "failures = {}\n",
    "for country in country_list:\n",
    "    print(country)\n",
    "    try:\n",
    "        step_1_generate_roi.main(config_path=f\"../pipeline/{country.lower().replace(' ', '_')}_config.json\")\n",
    "    except KeyboardInterrupt:\n",
    "        print(\"Keyboard interrupt\")\n",
    "        break\n",
    "    except Exception as e:\n",
    "        failures[country] = e\n",
    "        print(f\"{country} failed: {e}\")\n",
    "        continue"
   ]
  },
  {
   "cell_type": "code",
   "execution_count": 145,
   "metadata": {},
   "outputs": [
    {
     "name": "stdout",
     "output_type": "stream",
     "text": [
      "Samoa\n",
      "Existing product found.\n",
      "Deleting db97e4b985ef52fa21d7e83dd688047fada1a0f2:earthrise:samoa_patch_weak_labels_3.0_2021-01-01_2022-07-01_stride_8_patches\n",
      "Read 44 dlkeys from ../data/boundaries/dlkeys/samoa_pop_0.25_dlkeys.txt\n",
      "Estimated cost for run: $0.71\n",
      "Got patch product earthrise:samoa_v0.0.11_2021-01-01_2022-07-01\n",
      "Model spectrogram_v0.0.11_2021-07-13 found in DLStorage.\n",
      "Model weak_labels_3.0_batchnorm found in DLStorage.\n",
      "Creating product earthrise:samoa_patch_weak_labels_3.0_2021-01-01_2022-07-01_stride_8_patches\n"
     ]
    },
    {
     "name": "stderr",
     "output_type": "stream",
     "text": [
      "100%|██████████| 44/44 [00:10<00:00,  4.05it/s]\n"
     ]
    }
   ],
   "source": [
    "from scripts import step_2_deploy\n",
    "detect_failures = {}\n",
    "for country in [c for c in country_list if c not in failures.keys() and != 'Samoa']:\n",
    "    print(country)\n",
    "    try:\n",
    "        step_2_deploy.main(config_path=f\"../pipeline/{country.lower().replace(' ', '_')}_config.json\")\n",
    "    except KeyboardInterrupt:\n",
    "        print(\"Keyboard interrupt\")\n",
    "        break\n",
    "    except Exception as e:\n",
    "        detect_failures[country] = e\n",
    "        print(f\"{country} failed: {e}\")\n",
    "        continue"
   ]
  },
  {
   "cell_type": "code",
   "execution_count": 115,
   "metadata": {},
   "outputs": [
    {
     "data": {
      "text/plain": [
       "{'Fiji': descarteslabs.common.dltile.exceptions.InvalidShapeError('Polygon goes beyond +180deg longitude'),\n",
       " 'Solomon Islands': AttributeError(\"'GetROI' object has no attribute 'region_file_name'\"),\n",
       " 'Marshall Islands': AttributeError(\"'GetROI' object has no attribute 'region_file_name'\"),\n",
       " 'Micronesia': AttributeError(\"'GetROI' object has no attribute 'region_file_name'\"),\n",
       " 'Tuvalu': pandas.errors.EmptyDataError('No columns to parse from file')}"
      ]
     },
     "execution_count": 115,
     "metadata": {},
     "output_type": "execute_result"
    }
   ],
   "source": [
    "from scripts import step_3_detect_candidates\n",
    "candidate_failures = {}\n",
    "for country in [c for c in country_list if c not in detect_failures.keys() and c not in failures.keys()]:\n",
    "    print(country)\n",
    "    try:\n",
    "        step_3_detect_candidates.main(config_path=f\"../pipeline/{country.lower().replace(' ', '_')}_config.json\")\n",
    "    except KeyboardInterrupt:\n",
    "        print(\"Keyboard interrupt\")\n",
    "        break\n",
    "    except Exception as e:\n",
    "        candidate_failures[country] = e\n",
    "        print(f\"{country} failed: {e}\")\n",
    "        continue"
   ]
  }
 ],
 "metadata": {
  "kernelspec": {
   "display_name": "Python 3.9.7 ('m1-plastics')",
   "language": "python",
   "name": "python3"
  },
  "language_info": {
   "codemirror_mode": {
    "name": "ipython",
    "version": 3
   },
   "file_extension": ".py",
   "mimetype": "text/x-python",
   "name": "python",
   "nbconvert_exporter": "python",
   "pygments_lexer": "ipython3",
   "version": "3.9.7"
  },
  "orig_nbformat": 4,
  "vscode": {
   "interpreter": {
    "hash": "d425afa4a959a86aa036beaa1a58ff3469f38e31f3ec97f5785c695b9108eced"
   }
  }
 },
 "nbformat": 4,
 "nbformat_minor": 2
}
