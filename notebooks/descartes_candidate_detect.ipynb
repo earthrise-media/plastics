{
 "cells": [
  {
   "cell_type": "code",
   "execution_count": null,
   "metadata": {},
   "outputs": [],
   "source": [
    "%load_ext autoreload\n",
    "%autoreload 2"
   ]
  },
  {
   "cell_type": "code",
   "execution_count": null,
   "metadata": {},
   "outputs": [],
   "source": [
    "import os\n",
    "\n",
    "import descarteslabs as dl\n",
    "import geopandas as gpd\n",
    "from tqdm.notebook import tqdm\n",
    "\n",
    "from scripts import deploy_candidate_detect, candidate_detect"
   ]
  },
  {
   "cell_type": "code",
   "execution_count": null,
   "metadata": {},
   "outputs": [],
   "source": [
    "roi = 'brazil'\n",
    "model_name = '0.0.11'\n",
    "product_name = f'{roi}_v{model_name}_2019-01-01_2021-06-01'\n",
    "pred_threshold = 0.6\n",
    "min_sigma = 3.5\n",
    "product_id = f'earthrise:{f\"{product_name}_blobs_thresh_{pred_threshold}_min-sigma_{min_sigma}_area-thresh_0.0025\"}'\n",
    "\n",
    "run_local = False\n",
    "\n",
    "args = [\n",
    "    '--product_name',\n",
    "    product_name,\n",
    "    '--pred_threshold',\n",
    "    str(pred_threshold),\n",
    "    '--min_sigma',\n",
    "    str(min_sigma),\n",
    "]\n",
    "if run_local:\n",
    "    args.append('--run_local')"
   ]
  },
  {
   "cell_type": "code",
   "execution_count": null,
   "metadata": {},
   "outputs": [],
   "source": [
    "# Because of the way DL uploads modules when queuing async tasks, we need to launch from the scripts/ folder\n",
    "%cd ../scripts\n",
    "%pwd"
   ]
  },
  {
   "cell_type": "code",
   "execution_count": null,
   "metadata": {},
   "outputs": [],
   "source": [
    "deploy_candidate_detect.main(args)"
   ]
  },
  {
   "cell_type": "markdown",
   "metadata": {},
   "source": [
    "### Download data after the task is complete"
   ]
  },
  {
   "cell_type": "code",
   "execution_count": null,
   "metadata": {},
   "outputs": [],
   "source": [
    "fc_id = [fc.id for fc in dl.vectors.FeatureCollection.list() if product_id in fc.id][0]\n",
    "fc = dl.vectors.FeatureCollection(fc_id)\n",
    "\n",
    "roi_file = f'../data/boundaries/{roi}.geojson'\n",
    "region = gpd.read_file(roi_file)['geometry']\n",
    "\n",
    "features = []\n",
    "for elem in tqdm(fc.filter(region).features()):\n",
    "    features.append(elem.geojson)"
   ]
  },
  {
   "cell_type": "code",
   "execution_count": null,
   "metadata": {},
   "outputs": [],
   "source": [
    "coords = [feat['geometry']['coordinates'] for feat in features]\n",
    "merged = candidate_detect.merge_similar_sites(coords, search_radius=0.01, plot=True)\n",
    "directory = f\"../data/model_outputs/candidate_sites/{model_name}\"\n",
    "merged.to_file(os.path.join(directory, product_id.split(':')[-1] + '.geojson'))"
   ]
  },
  {
   "cell_type": "code",
   "execution_count": null,
   "metadata": {},
   "outputs": [],
   "source": []
  }
 ],
 "metadata": {
  "interpreter": {
   "hash": "5f4a6f8d452741ae39b876f55d203ddcbec389f01e8c4fbcd2b3334b0f39dea9"
  },
  "kernelspec": {
   "display_name": "Python 3.9.7 ('m1-base')",
   "language": "python",
   "name": "python3"
  },
  "language_info": {
   "codemirror_mode": {
    "name": "ipython",
    "version": 3
   },
   "file_extension": ".py",
   "mimetype": "text/x-python",
   "name": "python",
   "nbconvert_exporter": "python",
   "pygments_lexer": "ipython3",
   "version": "3.9.7"
  },
  "orig_nbformat": 4
 },
 "nbformat": 4,
 "nbformat_minor": 2
}
