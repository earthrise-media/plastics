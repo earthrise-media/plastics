{
 "cells": [
  {
   "cell_type": "code",
   "execution_count": null,
   "metadata": {},
   "outputs": [],
   "source": [
    "%load_ext autoreload\n",
    "%autoreload 2"
   ]
  },
  {
   "cell_type": "code",
   "execution_count": null,
   "metadata": {},
   "outputs": [],
   "source": [
    "import os\n",
    "\n",
    "import descarteslabs as dl\n",
    "import geopandas as gpd\n",
    "from tqdm.notebook import tqdm\n",
    "\n",
    "from scripts import deploy_candidate_detect, candidate_detect"
   ]
  },
  {
   "cell_type": "code",
   "execution_count": null,
   "metadata": {},
   "outputs": [],
   "source": [
    "#roi = 'central_america'\n",
    "countries = ['Portugal', 'Spain', 'Gibraltar', 'France', 'Monaco', 'Italy', 'san_marino', 'malta', 'slovenia', 'croatia', 'macedonia', 'montenegro', 'greece', 'iraq', 'syria', 'lebanon', 'jordan', 'israel']\n",
    "countries = ['jordan', 'israel']\n",
    "for roi in countries:\n",
    "    for dates in [['2021-01-01', '2022-07-01']]:\n",
    "        start_date = dates[0]\n",
    "        end_date = dates[1]\n",
    "        model_name = '0.0.11'\n",
    "        product_name = f'{roi}_v{model_name}_{start_date}_{end_date}'\n",
    "        pred_threshold = 0.6\n",
    "        min_sigma = 5.0\n",
    "        band = 'median'\n",
    "        product_id = f\"{product_name}_blobs_thresh_{pred_threshold}_min-sigma_{min_sigma}_area-thresh_0.0025_band-{band}\"\n",
    "\n",
    "        run_local = False\n",
    "\n",
    "        args = [\n",
    "            '--product_name',\n",
    "            product_name,\n",
    "            '--pred_threshold',\n",
    "            str(pred_threshold),\n",
    "            '--min_sigma',\n",
    "            str(min_sigma),\n",
    "            '--band',\n",
    "            band,\n",
    "        ]\n",
    "        if run_local:\n",
    "            args.append('--run_local')\n",
    "        \n",
    "        # Because of the way DL uploads modules when queuing async tasks, we need to launch from the scripts/ folder\n",
    "        %cd ../scripts\n",
    "        %pwd\n",
    "\n",
    "        deploy_candidate_detect.main(args)"
   ]
  },
  {
   "cell_type": "markdown",
   "metadata": {},
   "source": [
    "### Download data after the task is complete"
   ]
  },
  {
   "cell_type": "code",
   "execution_count": null,
   "metadata": {},
   "outputs": [],
   "source": [
    "countries = ['Portugal', 'Spain', 'Gibraltar', 'France', 'Monaco', 'Italy', 'san_marino', 'malta', 'slovenia', 'croatia', 'macedonia', 'montenegro', 'greece', 'iraq', 'syria', 'lebanon', 'jordan', 'israel']\n",
    "for roi in countries:\n",
    "    for dates in [['2021-01-01', '2022-07-01']]:\n",
    "        start_date = dates[0]\n",
    "        end_date = dates[1]\n",
    "        model_name = '0.0.11'\n",
    "        product_name = f'{roi}_v{model_name}_{start_date}_{end_date}'\n",
    "        pred_threshold = 0.6\n",
    "        min_sigma = 5.0\n",
    "        band = 'median'\n",
    "        product_id = f\"{product_name}_blobs_thresh_{pred_threshold}_min-sigma_{min_sigma}_area-thresh_0.0025_band-{band}\"\n",
    "        fc_id = [fc.id for fc in dl.vectors.FeatureCollection.list() if product_id in fc.id][0]\n",
    "        fc = dl.vectors.FeatureCollection(fc_id)\n",
    "\n",
    "        roi_file = f'../data/boundaries/{roi}.geojson'\n",
    "        region = gpd.read_file(roi_file)['geometry']\n",
    "        features = []\n",
    "        for i, r in enumerate(region):\n",
    "            print(\"region\", i)\n",
    "            candidates = fc.filter(r).features()\n",
    "            for elem in tqdm(candidates):\n",
    "                features.append(elem.geojson)\n",
    "        coords = [feat['geometry']['coordinates'] for feat in features]\n",
    "        if len(coords) > 0:\n",
    "            merged = candidate_detect.merge_similar_sites(coords, search_radius=0.01, plot=True)\n",
    "            directory = f\"../data/model_outputs/candidate_sites/{model_name}\"\n",
    "            merged.to_file(os.path.join(directory, product_id.split(':')[-1] + '.geojson'))\n",
    "        else:\n",
    "            print(\"No candidates found in\", roi)"
   ]
  },
  {
   "cell_type": "code",
   "execution_count": null,
   "metadata": {},
   "outputs": [],
   "source": [
    "coords = [feat['geometry']['coordinates'] for feat in features]\n",
    "merged = candidate_detect.merge_similar_sites(coords, search_radius=0.01, plot=True)\n",
    "directory = f\"../data/model_outputs/candidate_sites/{model_name}\"\n",
    "merged.to_file(os.path.join(directory, product_id.split(':')[-1] + '.geojson'))"
   ]
  },
  {
   "cell_type": "code",
   "execution_count": null,
   "metadata": {},
   "outputs": [],
   "source": []
  }
 ],
 "metadata": {
  "interpreter": {
   "hash": "d425afa4a959a86aa036beaa1a58ff3469f38e31f3ec97f5785c695b9108eced"
  },
  "kernelspec": {
   "display_name": "Python 3.9.7 ('m1-plastics')",
   "language": "python",
   "name": "python3"
  },
  "language_info": {
   "codemirror_mode": {
    "name": "ipython",
    "version": 3
   },
   "file_extension": ".py",
   "mimetype": "text/x-python",
   "name": "python",
   "nbconvert_exporter": "python",
   "pygments_lexer": "ipython3",
   "version": "3.9.7"
  },
  "orig_nbformat": 4
 },
 "nbformat": 4,
 "nbformat_minor": 2
}
