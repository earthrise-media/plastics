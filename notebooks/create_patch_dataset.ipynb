{
 "cells": [
  {
   "cell_type": "markdown",
   "metadata": {},
   "source": [
    "# Create Patch Dataset\n",
    "This notebook is the source for downloading Sentinel data for the 2D patch classifier\n",
    "\n",
    "### Inputs\n",
    "The notebook operates by loading a set of coordinates either from a geojson or csv. For each location in the list, it downloads a patch of width `RECT_WIDTH` across a specified period of time.\n",
    "\n",
    "### Outputs:\n",
    "Multispectral patches with the structure `[num_patches, height, width, bands]`"
   ]
  },
  {
   "cell_type": "code",
   "execution_count": null,
   "metadata": {},
   "outputs": [],
   "source": [
    "%load_ext autoreload\n",
    "%autoreload 2"
   ]
  },
  {
   "cell_type": "code",
   "execution_count": null,
   "metadata": {},
   "outputs": [],
   "source": [
    "import json\n",
    "import numpy as np\n",
    "import os\n",
    "import pandas as pd\n",
    "import pickle\n",
    "from tqdm.notebook import tqdm\n",
    "\n",
    "from scripts.dl_utils import download_patch, rect_from_point, pad_patch\n",
    "from scripts.viz_tools import normalize"
   ]
  },
  {
   "cell_type": "code",
   "execution_count": null,
   "metadata": {},
   "outputs": [],
   "source": [
    "def load_sites(file_name, rect_width):\n",
    "    \"\"\"Load points or polygons from a GeoJSON and return a list of rects as polygons\"\"\"\n",
    "    with open(os.path.join(DATA_DIR, file_name + '.geojson'), 'r') as f:\n",
    "        data = json.load(f)['features']\n",
    "\n",
    "    coords = []\n",
    "    for site in data:\n",
    "        if site['geometry']['type'] == 'MultiPolygon':\n",
    "            lon = np.squeeze(site['geometry']['coordinates'])[:,0]\n",
    "            lat = np.squeeze(site['geometry']['coordinates'])[:,1]\n",
    "            coords.append([np.mean(lon), np.mean(lat)])\n",
    "        elif site['geometry']['type'] == 'Point':\n",
    "            coords.append(site['geometry']['coordinates'])\n",
    "    print(len(coords), ' sites loaded')\n",
    "    polygons = [rect_from_point(point, rect_width) for point in coords]\n",
    "    return polygons\n",
    "        \n",
    "def save_patches(data, name, label_class):\n",
    "    num_pixels = np.shape(data)[1]\n",
    "    file_name = f\"{name}_patches_{start_date}_{end_date}\"\n",
    "    with open(os.path.join(OUTPUT_DIR, 'patches', f\"{file_name}_{num_pixels}px_patches.pkl\"),\"wb\") as f:\n",
    "        pickle.dump(data, f)\n",
    "        \n",
    "    with open(os.path.join(OUTPUT_DIR, 'patches', f\"{file_name}_{num_pixels}px_patch_labels.pkl\"),\"wb\") as f:\n",
    "        pickle.dump([label_class] * len(data), f)"
   ]
  },
  {
   "cell_type": "markdown",
   "metadata": {},
   "source": [
    "## Load Sampling Locations"
   ]
  },
  {
   "cell_type": "code",
   "execution_count": null,
   "metadata": {},
   "outputs": [],
   "source": [
    "# Configuration:\n",
    "# Set directory where training site json files are located and files are saved\n",
    "DATA_DIR = '../data/sampling_locations'\n",
    "OUTPUT_DIR = '../data/training_data'\n",
    "if not os.path.exists(OUTPUT_DIR):\n",
    "    os.mkdir(OUTPUT_DIR)\n",
    "    \n",
    "patch_width = 45\n",
    "# Improperly convert patch size to degrees (fix soon!)\n",
    "rect_width = np.round((patch_width / 100) / 111.1, 4)"
   ]
  },
  {
   "cell_type": "code",
   "execution_count": null,
   "metadata": {
    "scrolled": true
   },
   "outputs": [],
   "source": [
    "# Create site polygons from a geojson. Preferred method\n",
    "file_name = 'v_1.1.5_negatives'\n",
    "label_class = 0\n",
    "polygons = load_sites(file_name, rect_width)"
   ]
  },
  {
   "cell_type": "code",
   "execution_count": null,
   "metadata": {
    "scrolled": true
   },
   "outputs": [],
   "source": [
    "# Create site polygons from candidate csv\n",
    "# Note: I'm trying to move away from using csv files for data\n",
    "file_name = 'w_nusa_tenggara_v1.1_positives'\n",
    "label_class = 1\n",
    "coords = pd.read_csv(os.path.join(DATA_DIR, file_name + '.csv'), converters={'coords': eval})\n",
    "polygons = [rect_from_point([lon, lat], rect_width) for lon, lat in zip(coords['lon'], coords['lat'])]\n",
    "print(len(polygons), 'sites loaded')"
   ]
  },
  {
   "cell_type": "markdown",
   "metadata": {},
   "source": [
    "## Download Data"
   ]
  },
  {
   "cell_type": "code",
   "execution_count": null,
   "metadata": {},
   "outputs": [],
   "source": [
    "start_date = '2020-01-01'\n",
    "end_date = '2021-01-01'\n",
    "cloud_threshold = 0.1\n",
    "\n",
    "patches = []\n",
    "for polygon in tqdm(polygons):\n",
    "    img_stack = download_patch(polygon, start_date, end_date)\n",
    "    for patch in img_stack:\n",
    "        if np.sum(patch.mask) / patch.size < cloud_threshold:\n",
    "            patches.append(pad_patch(patch, patch_width))\n",
    "        \n",
    "save_patches(patches, file_name, label_class)\n",
    "print(len(patches), 'images extracted')"
   ]
  },
  {
   "cell_type": "code",
   "execution_count": null,
   "metadata": {},
   "outputs": [],
   "source": [
    "img_file_path = os.path.join(OUTPUT_DIR, 'patches', f\"{file_name}_{patch_width}px_{start_date}_{end_date}_patches.png\")\n",
    "plot_image_grid(patches, file_path = img_file_path)"
   ]
  },
  {
   "cell_type": "code",
   "execution_count": null,
   "metadata": {},
   "outputs": [],
   "source": []
  }
 ],
 "metadata": {
  "kernelspec": {
   "display_name": "Python 3",
   "language": "python",
   "name": "python3"
  },
  "language_info": {
   "codemirror_mode": {
    "name": "ipython",
    "version": 3
   },
   "file_extension": ".py",
   "mimetype": "text/x-python",
   "name": "python",
   "nbconvert_exporter": "python",
   "pygments_lexer": "ipython3",
   "version": "3.7.4"
  }
 },
 "nbformat": 4,
 "nbformat_minor": 4
}
