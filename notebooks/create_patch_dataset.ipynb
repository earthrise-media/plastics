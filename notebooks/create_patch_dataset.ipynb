{
 "cells": [
  {
   "cell_type": "markdown",
   "metadata": {},
   "source": [
    "# Create Patch Dataset\n",
    "This notebook is the source for downloading Sentinel data for the 2D patch classifier\n",
    "\n",
    "### Inputs\n",
    "The notebook operates by loading a set of coordinates either from a geojson or csv. For each location in the list, it downloads a patch of width `RECT_WIDTH` across a specified period of time.\n",
    "\n",
    "### Outputs:\n",
    "Multispectral patches with the structure `[num_patches, height, width, bands]`"
   ]
  },
  {
   "cell_type": "code",
   "execution_count": null,
   "metadata": {},
   "outputs": [],
   "source": [
    "import json\n",
    "import os\n",
    "import pickle\n",
    "\n",
    "import ee\n",
    "import numpy as np\n",
    "import pandas as pd\n",
    "from tqdm.notebook import tqdm\n",
    "\n",
    "import sys\n",
    "sys.path.append('../')\n",
    "from scripts.get_s2_data_ee import get_history, get_history_polygon, get_pixel_vectors\n",
    "from scripts.viz_tools import visualize_history\n",
    "\n",
    "%load_ext autoreload\n",
    "%autoreload 2"
   ]
  },
  {
   "cell_type": "code",
   "execution_count": null,
   "metadata": {},
   "outputs": [],
   "source": [
    "# Sentinel 2 band descriptions\n",
    "band_descriptions = {\n",
    "    'B1': 'Aerosols, 442nm',\n",
    "    'B2': 'Blue, 492nm',\n",
    "    'B3': 'Green, 559nm',\n",
    "    'B4': 'Red, 665nm',\n",
    "    'B5': 'Red Edge 1, 704nm',\n",
    "    'B6': 'Red Edge 2, 739nm',\n",
    "    'B7': 'Red Edge 3, 779nm',\n",
    "    'B8': 'NIR, 833nm',\n",
    "    'B8A': 'Red Edge 4, 864nm',\n",
    "    'B9': 'Water Vapor, 943nm',\n",
    "    'B11': 'SWIR 1, 1610nm',\n",
    "    'B12': 'SWIR 2, 2186nm'\n",
    "}"
   ]
  },
  {
   "cell_type": "code",
   "execution_count": null,
   "metadata": {},
   "outputs": [],
   "source": [
    "def load_points(file_name):\n",
    "    \"\"\"Load points saved as a GeoJSON and return a dictionary\"\"\"\n",
    "    with open(os.path.join(DATA_DIR, file_name)) as f:\n",
    "        sites = json.load(f)\n",
    "    f.close()\n",
    "\n",
    "    site_table = pd.DataFrame({\n",
    "        'name': [file_name.split('_')[0] + '_' + str(index) for index in range(len(sites['features']))],\n",
    "        'lon': [site['geometry']['coordinates'][0] for site in sites['features']],\n",
    "        'lat': [site['geometry']['coordinates'][1] for site in sites['features']],\n",
    "        'coords': [site['geometry']['coordinates'][0:2] for site in sites['features']],\n",
    "    })\n",
    "    \n",
    "    return site_table\n",
    "\n",
    "def create_img_stack(patch_history):\n",
    "    img_stack = []\n",
    "    for date in patch_history:\n",
    "        for site in patch_history[date]:\n",
    "            spectral_stack = []\n",
    "            band_shapes = [np.shape(patch_history[date][site][band])[0] for band in band_descriptions]\n",
    "            if np.array(band_shapes).all() > 0:\n",
    "                for band in band_descriptions:\n",
    "                    spectral_stack.append(patch_history[date][site][band])\n",
    "                cloud_percentage = 1 - np.sum(np.array(spectral_stack) > 0) / np.size(spectral_stack)\n",
    "                if cloud_percentage < 0.2:\n",
    "                    img_stack.append(np.rollaxis(np.array(spectral_stack), 0, 3))\n",
    "    \n",
    "    min_x = np.min([np.shape(img)[0] for img in img_stack])\n",
    "    min_y = np.min([np.shape(img)[1] for img in img_stack])\n",
    "    img_stack = [img[:min_x, :min_y, :] for img in img_stack]\n",
    "    return img_stack\n",
    "\n",
    "def visualize_patch_history(data, name):\n",
    "    first_date = list(patch_history.keys())[0]\n",
    "    first_site = list(patch_history[first_date].keys())[0]\n",
    "    num_pixels = np.shape(patch_history[first_date][first_site]['B2'])[0]\n",
    "    file_name = f\"{name}_patches_{num_months}_months_{start_date}\"\n",
    "    visualize_history(data, file_path=os.path.join(OUTPUT_DIR, 'patches', f\"{file_name}_{num_pixels}px_patches.png\"))\n",
    "        \n",
    "def save_patches(data, name, label_class):\n",
    "    num_pixels = np.shape(patches)[1]\n",
    "    file_name = f\"{name}_patches_{num_months}_months_{start_date}\"\n",
    "    with open(os.path.join(OUTPUT_DIR, 'patches', f\"{file_name}_{num_pixels}px_patches.pkl\"),\"wb\") as f:\n",
    "        pickle.dump(data, f)\n",
    "        \n",
    "    with open(os.path.join(OUTPUT_DIR, 'patches', f\"{file_name}_{num_pixels}px_patch_labels.pkl\"),\"wb\") as f:\n",
    "        pickle.dump([label_class] * len(data), f)"
   ]
  },
  {
   "cell_type": "markdown",
   "metadata": {},
   "source": [
    "## Load Sampling Locations"
   ]
  },
  {
   "cell_type": "code",
   "execution_count": null,
   "metadata": {},
   "outputs": [],
   "source": [
    "# Configuration:\n",
    "# Set directory where training site json files are located and files are saved\n",
    "# Set rect width for all patches that are not TPA sites\n",
    "DATA_DIR = '../data/sampling_locations'\n",
    "OUTPUT_DIR = '../data/training_data'\n",
    "RECT_WIDTH = 0.004\n",
    "    \n",
    "if not os.path.exists(OUTPUT_DIR):\n",
    "    os.mkdir(OUTPUT_DIR)"
   ]
  },
  {
   "cell_type": "code",
   "execution_count": null,
   "metadata": {},
   "outputs": [],
   "source": [
    "# Site coordinates from candidate geojson\n",
    "\n",
    "with open(os.path.join(DATA_DIR, 'v12_java_bali_validated_positives.geojson'), 'r') as f:\n",
    "    positive_sites = json.load(f)['features']\n",
    "positive_coords = [site['geometry']['coordinates'] for site in positive_sites]\n",
    "positive_names = ['site_' + str(i) for i in range(len(positive_sites))]\n",
    "\n",
    "print(len(positive_coords), 'positive sites loaded')"
   ]
  },
  {
   "cell_type": "code",
   "execution_count": null,
   "metadata": {
    "scrolled": true
   },
   "outputs": [],
   "source": [
    "# Read site coordinates from candidate csv\n",
    "java_negatives = pd.read_csv(os.path.join(DATA_DIR, 'v12_java_validated_negatives.csv'), converters={'coords': eval})\n",
    "java_negatives.head()"
   ]
  },
  {
   "cell_type": "code",
   "execution_count": null,
   "metadata": {},
   "outputs": [],
   "source": [
    "# Read sites from a sampling geojson\n",
    "sampling_points = load_points('city_points_30.geojson')"
   ]
  },
  {
   "cell_type": "markdown",
   "metadata": {},
   "source": [
    "## Download Data"
   ]
  },
  {
   "cell_type": "markdown",
   "metadata": {},
   "source": [
    "### Negative Sites"
   ]
  },
  {
   "cell_type": "code",
   "execution_count": null,
   "metadata": {
    "scrolled": true
   },
   "outputs": [],
   "source": [
    "# Create a list of patch histories\n",
    "# Each patch history is a dictionary with the format:\n",
    "# patch_history[date][site_name][band][band_img]\n",
    "# This function takes a while to run as it is extracting data from GEE\n",
    "num_months = 1\n",
    "start_date = '2019-03-01'\n",
    "patch_history = get_history(sampling_points['coords'], \n",
    "                            sampling_points['name'], \n",
    "                            RECT_WIDTH,\n",
    "                            num_months=num_months,\n",
    "                            start_date=start_date,\n",
    "                            cloud_mask=True)\n",
    "\n",
    "visualize_patch_history(patch_history, 'city_points_30')\n",
    "patches = create_img_stack(patch_history)\n",
    "save_patches(patches, 'city_points_30', 0)\n",
    "print(len(patches), 'images extracted')"
   ]
  },
  {
   "cell_type": "code",
   "execution_count": null,
   "metadata": {},
   "outputs": [],
   "source": []
  }
 ],
 "metadata": {
  "kernelspec": {
   "display_name": "Python 3",
   "language": "python",
   "name": "python3"
  },
  "language_info": {
   "codemirror_mode": {
    "name": "ipython",
    "version": 3
   },
   "file_extension": ".py",
   "mimetype": "text/x-python",
   "name": "python",
   "nbconvert_exporter": "python",
   "pygments_lexer": "ipython3",
   "version": "3.6.5"
  }
 },
 "nbformat": 4,
 "nbformat_minor": 4
}
