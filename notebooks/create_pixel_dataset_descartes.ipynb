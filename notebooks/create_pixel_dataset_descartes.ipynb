{
 "cells": [
  {
   "cell_type": "code",
   "execution_count": null,
   "metadata": {},
   "outputs": [],
   "source": [
    "%load_ext autoreload\n",
    "%autoreload 2"
   ]
  },
  {
   "cell_type": "code",
   "execution_count": null,
   "metadata": {},
   "outputs": [],
   "source": [
    "import descarteslabs as dl\n",
    "import json\n",
    "import matplotlib.pyplot as plt\n",
    "import numpy as np\n",
    "import os\n",
    "import pickle\n",
    "import pandas as pd\n",
    "import seaborn as sns\n",
    "import sys\n",
    "from tqdm.notebook import tqdm\n",
    "\n",
    "sys.path.append('../')\n",
    "from scripts.viz_tools import stretch_histogram, normalize, band_descriptions\n",
    "from scripts.dl_utils import download_patch, rect_from_point"
   ]
  },
  {
   "cell_type": "code",
   "execution_count": null,
   "metadata": {},
   "outputs": [],
   "source": [
    "# Define Parameters for data extraction\n",
    "START_DATE = '2020-01-01'\n",
    "END_DATE = '2020-03-31'\n",
    "\n",
    "OUTPUT_DIR = '../data/training_data/pixel_vectors'\n",
    "if not os.path.exists(OUTPUT_DIR):\n",
    "    os.mkdir(OUTPUT_DIR)"
   ]
  },
  {
   "cell_type": "code",
   "execution_count": null,
   "metadata": {},
   "outputs": [],
   "source": [
    "def plot_grid(img_stack, title=None, save=False):\n",
    "    # Plot all images from a stack in a grid\n",
    "    num_img = int(np.ceil(np.sqrt(len(img_stack))))\n",
    "    plt.figure(figsize=(12, 12), dpi=150, facecolor=(0,0,0))\n",
    "    for index, img in enumerate(tqdm(img_stack)):\n",
    "        plt.subplot(num_img, num_img, index + 1)\n",
    "        plt.imshow(np.clip(normalize(img[:,:,3:0:-1]), 0, 1))\n",
    "        plt.axis('off')\n",
    "    if title != None:\n",
    "        plt.suptitle(title, color='w', size=14)\n",
    "    plt.tight_layout()\n",
    "    if save:\n",
    "        plt.savefig(os.path.join(OUTPUT_DIR, title + '.png'), bbox_inches='tight')\n",
    "        plt.close()\n",
    "    else:\n",
    "        plt.show()\n",
    "\n",
    "def save_pixel_vectors(data, name, label_class):\n",
    "    file_name = f\"{name}_{START_DATE}_{END_DATE}\"\n",
    "    with open(os.path.join(OUTPUT_DIR, f\"{file_name}_pixel_vectors.pkl\"),\"wb\") as f:\n",
    "        pickle.dump(data, f)\n",
    "    with open(os.path.join(OUTPUT_DIR, f\"{file_name}_pixel_vector_labels.pkl\"),\"wb\") as f:\n",
    "        pickle.dump([label_class] * len(data), f)\n",
    "    plot_grid(img_stack, title=f\"{name} - Class {label_class}\", save=True)"
   ]
  },
  {
   "cell_type": "code",
   "execution_count": null,
   "metadata": {},
   "outputs": [],
   "source": [
    "# Create polygons from point samples\n",
    "\n",
    "with open('../data/sampling_locations/v_1.1.5_negatives.geojson', 'r') as f:\n",
    "    candidate_sites = json.load(f)['features']\n",
    "coords = [feature['geometry']['coordinates'] for feature in candidate_sites]\n",
    "\n",
    "# Set rect width in pixels\n",
    "num_pixels = 48\n",
    "# Convert pixels to degrees (not geographically sound)\n",
    "rect_width = np.round((num_pixels / 100) / 111.32, 4)\n",
    "\n",
    "polygons = [rect_from_point(coord, rect_width) for coord in coords]"
   ]
  },
  {
   "cell_type": "code",
   "execution_count": null,
   "metadata": {},
   "outputs": [],
   "source": [
    "# Load polygons from geojson\n",
    "filename = \n",
    "geometry_data = '../data/sampling_locations/sri_lanka_validated.geojson'\n",
    "with open(geometry_data, 'r') as f:\n",
    "    data = json.load(f)['features']\n",
    "polygons = [feature['geometry'] for feature in data]"
   ]
  },
  {
   "cell_type": "code",
   "execution_count": null,
   "metadata": {},
   "outputs": [],
   "source": [
    "# Download Sentinel Data\n",
    "img_stack = []\n",
    "for polygon in tqdm(polygons):\n",
    "    patches = download_patch(polygon, START_DATE, END_DATE)\n",
    "    for patch in patches:\n",
    "        img_stack.append(patch)\n",
    "print(len(img_stack), \"cloud masked patches extracted\")"
   ]
  },
  {
   "cell_type": "code",
   "execution_count": null,
   "metadata": {},
   "outputs": [],
   "source": [
    "plot_grid(img_stack, title=\"Negative Test\", save=True)"
   ]
  },
  {
   "cell_type": "code",
   "execution_count": null,
   "metadata": {},
   "outputs": [],
   "source": [
    "# Create pixel vectors\n",
    "pixel_vectors = []\n",
    "for img in img_stack:\n",
    "    height, width, channels = img.shape\n",
    "    vectors = img.reshape(height * width, channels)\n",
    "    [pixel_vectors.append(vector) for vector in vectors if np.mean(vector) > 0]\n",
    "print(f\"{np.shape(pixel_vectors)[0]:,} pixel vectors extracted\")"
   ]
  },
  {
   "cell_type": "code",
   "execution_count": null,
   "metadata": {},
   "outputs": [],
   "source": [
    "# Plot the mean pixel spectra of the extracted dataset.\n",
    "# Optional process that can take time with many samples\n",
    "data = pd.DataFrame(pixel_vectors, columns=band_descriptions.keys()).melt(var_name='band', value_name='value')\n",
    "plt.figure(figsize=(6,4), dpi=150, facecolor=(1,1,1))\n",
    "sns.lineplot(x='band', y='value', data=data, ci=\"sd\")\n",
    "plt.title('Mean Value +/- SD')\n",
    "plt.show()"
   ]
  },
  {
   "cell_type": "code",
   "execution_count": null,
   "metadata": {},
   "outputs": [],
   "source": [
    "# Save pixel vectors\n",
    "name = 'enter_descriptive_name'\n",
    "label_class = 0\n",
    "save_pixel_vectors(data=pixel_vectors, name=name, label_class=label_class)"
   ]
  },
  {
   "cell_type": "code",
   "execution_count": null,
   "metadata": {},
   "outputs": [],
   "source": []
  }
 ],
 "metadata": {
  "kernelspec": {
   "display_name": "Python 3",
   "language": "python",
   "name": "python3"
  },
  "language_info": {
   "codemirror_mode": {
    "name": "ipython",
    "version": 3
   },
   "file_extension": ".py",
   "mimetype": "text/x-python",
   "name": "python",
   "nbconvert_exporter": "python",
   "pygments_lexer": "ipython3",
   "version": "3.6.5"
  }
 },
 "nbformat": 4,
 "nbformat_minor": 4
}
