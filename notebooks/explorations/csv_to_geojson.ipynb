{
 "cells": [
  {
   "cell_type": "code",
   "execution_count": null,
   "metadata": {},
   "outputs": [],
   "source": [
    "import geopandas as gpd\n",
    "import pandas as pd"
   ]
  },
  {
   "cell_type": "code",
   "execution_count": null,
   "metadata": {},
   "outputs": [],
   "source": [
    "fn = 'negative_sites'\n",
    "csv = pd.read_csv(f'../../data/sampling_locations/{fn}.csv', converters={'coords': eval})\n",
    "gdf = gpd.GeoDataFrame(csv['name'], geometry=gpd.points_from_xy([coord[0] for coord in csv['coords']], [coord[1] for coord in csv['coords']]))\n",
    "for name in gdf['name']:\n",
    "    print(name)"
   ]
  },
  {
   "cell_type": "code",
   "execution_count": null,
   "metadata": {},
   "outputs": [],
   "source": [
    "indices = []\n",
    "for index in range(len(gdf)):\n",
    "    name = gdf.iloc[index]['name']\n",
    "    if 'bootstrap' in name:\n",
    "        indices.append(index)\n",
    "gdf_subset = gdf.iloc[indices]\n",
    "gdf_subset"
   ]
  },
  {
   "cell_type": "code",
   "execution_count": null,
   "metadata": {},
   "outputs": [],
   "source": [
    "file_path = '../../data/sampling_locations/bali_bootstrap'\n",
    "gdf_subset.to_file(file_path + '.geojson', driver='GeoJSON')"
   ]
  },
  {
   "cell_type": "code",
   "execution_count": null,
   "metadata": {},
   "outputs": [],
   "source": []
  }
 ],
 "metadata": {
  "kernelspec": {
   "display_name": "Python 3",
   "language": "python",
   "name": "python3"
  },
  "language_info": {
   "codemirror_mode": {
    "name": "ipython",
    "version": 3
   },
   "file_extension": ".py",
   "mimetype": "text/x-python",
   "name": "python",
   "nbconvert_exporter": "python",
   "pygments_lexer": "ipython3",
   "version": "3.6.5"
  }
 },
 "nbformat": 4,
 "nbformat_minor": 4
}
