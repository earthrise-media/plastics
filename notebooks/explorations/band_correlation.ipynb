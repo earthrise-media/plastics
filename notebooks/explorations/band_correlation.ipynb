{
 "cells": [
  {
   "cell_type": "code",
   "execution_count": null,
   "metadata": {},
   "outputs": [],
   "source": [
    "import os\n",
    "import pickle\n",
    "\n",
    "import matplotlib.pyplot as plt\n",
    "import numpy as np\n",
    "import pandas as pd\n",
    "\n",
    "from sklearn.model_selection import train_test_split\n",
    "from sklearn.utils import shuffle\n",
    "from tensorflow import keras\n",
    "from tensorflow.keras import layers\n",
    "\n",
    "import sys\n",
    "sys.path.append('../')\n",
    "from scripts.get_s2_data_ee import get_history, get_history_polygon, get_pixel_vectors\n",
    "\n",
    "%load_ext autoreload\n",
    "%autoreload 2"
   ]
  },
  {
   "cell_type": "code",
   "execution_count": null,
   "metadata": {},
   "outputs": [],
   "source": [
    "# Sentinel 2 band descriptions\n",
    "band_descriptions = {\n",
    "    'B1': 'Aerosols, 442nm',\n",
    "    'B2': 'Blue, 492nm',\n",
    "    'B3': 'Green, 559nm',\n",
    "    'B4': 'Red, 665nm',\n",
    "    'B5': 'Red Edge 1, 704nm',\n",
    "    'B6': 'Red Edge 2, 739nm',\n",
    "    'B7': 'Red Edge 3, 779nm',\n",
    "    'B8': 'NIR, 833nm',\n",
    "    'B8A': 'Red Edge 4, 864nm',\n",
    "    'B9': 'Water Vapor, 943nm',\n",
    "    'B11': 'SWIR 1, 1610nm',\n",
    "    'B12': 'SWIR 2, 2186nm'\n",
    "}\n",
    "\n",
    "band_wavelengths = [442, 492, 559, 665, 704, 739, 779, 833, 864, 943, 1610, 2186]"
   ]
  },
  {
   "cell_type": "code",
   "execution_count": null,
   "metadata": {},
   "outputs": [],
   "source": [
    "data_dir = '../data/training_sites'\n",
    "\n",
    "with open(os.path.join(data_dir, \"positive_data_toa.pkl\"), 'rb') as file:\n",
    "    positive = pickle.load(file)\n",
    "    \n",
    "with open(os.path.join(data_dir, \"negative_data_toa.pkl\"), 'rb') as file:\n",
    "    negative = pickle.load(file)\n",
    "    \n",
    "data = np.concatenate((positive, negative))"
   ]
  },
  {
   "cell_type": "code",
   "execution_count": null,
   "metadata": {},
   "outputs": [],
   "source": [
    "band_names = list(band_descriptions.keys())"
   ]
  },
  {
   "cell_type": "code",
   "execution_count": null,
   "metadata": {},
   "outputs": [],
   "source": [
    "pd.DataFrame(data, columns=band_names).corr().style.background_gradient(cmap='coolwarm').set_precision(2)"
   ]
  },
  {
   "cell_type": "code",
   "execution_count": null,
   "metadata": {},
   "outputs": [],
   "source": [
    "from sklearn.decomposition import PCA\n",
    "from sklearn.manifold import TSNE\n",
    "import umap\n",
    "reduced = PCA(n_components=1).fit_transform(data[:, 1:4])"
   ]
  },
  {
   "cell_type": "code",
   "execution_count": null,
   "metadata": {},
   "outputs": [],
   "source": [
    "pd.DataFrame(np.array([data[:,7], reduced[:,0]]).T, columns=['B8', 'RGB']).corr()"
   ]
  },
  {
   "cell_type": "code",
   "execution_count": null,
   "metadata": {},
   "outputs": [],
   "source": [
    "plt.figure(figsize=(8,8), facecolor=(1,1,1))\n",
    "plt.scatter(data[:,7], data[:,8], s=0.1, alpha=0.5)\n",
    "plt.plot([0, 1], [0, 1], c='r', alpha=0.4)\n",
    "#plt.xlim((0,0.8))\n",
    "#plt.ylim((0,0.8))\n",
    "plt.ylabel('RGB PCA')\n",
    "plt.xlabel('IR')\n",
    "plt.title('Actual NDVI vs. Predicted NDVI')\n",
    "plt.show()"
   ]
  },
  {
   "cell_type": "code",
   "execution_count": null,
   "metadata": {},
   "outputs": [],
   "source": [
    "source = data[:,1:4] / 5000\n",
    "target = (data[:,7] - data[:,3]) / (data[:,7] + data[:,3])\n",
    "x, y = shuffle(source, target, random_state=42)\n",
    "x_train, x_test, y_train, y_test = train_test_split(x, y, test_size=0.20, random_state=42)"
   ]
  },
  {
   "cell_type": "code",
   "execution_count": null,
   "metadata": {},
   "outputs": [],
   "source": [
    "input_shape = np.shape(x_train[0])\n",
    "model = keras.Sequential(\n",
    "    [\n",
    "        keras.Input(shape=input_shape),\n",
    "        layers.Dense(64, activation=\"relu\"),\n",
    "        layers.Dense(64, activation=\"relu\"),\n",
    "        layers.Dense(64, activation=\"relu\"),\n",
    "        layers.Dense(64, activation=\"relu\"),\n",
    "        layers.Dense(64, activation=\"relu\"),\n",
    "        layers.Dense(1, activation=\"linear\"),\n",
    "    ]\n",
    ")\n",
    "model.summary()"
   ]
  },
  {
   "cell_type": "code",
   "execution_count": null,
   "metadata": {},
   "outputs": [],
   "source": [
    "model.compile(loss=\"mse\", \n",
    "              optimizer=\"adam\", \n",
    "              metrics=[\"mse\", keras.metrics.RootMeanSquaredError()]\n",
    "             )"
   ]
  },
  {
   "cell_type": "code",
   "execution_count": null,
   "metadata": {
    "scrolled": true
   },
   "outputs": [],
   "source": [
    "batch_size = 128\n",
    "epochs = 50\n",
    "model.fit(x_train, \n",
    "          y_train, \n",
    "          batch_size=batch_size, \n",
    "          epochs=epochs, \n",
    "          validation_data = (x_test, y_test)\n",
    "         )"
   ]
  },
  {
   "cell_type": "code",
   "execution_count": null,
   "metadata": {
    "scrolled": true
   },
   "outputs": [],
   "source": [
    "# Enter rect width in degrees (0.035 max recommended) and site coordinates\n",
    "rect_width = 0.025\n",
    "site_coords = [115.350242, -8.562121]\n",
    "name = 'temesi'\n",
    "start_date = '2019-01-01'\n",
    "patch_history = get_history([site_coords], \n",
    "                            [name], \n",
    "                            rect_width,\n",
    "                            num_months = 12,\n",
    "                            start_date = start_date)"
   ]
  },
  {
   "cell_type": "code",
   "execution_count": null,
   "metadata": {},
   "outputs": [],
   "source": [
    "site_data = patch_history['2019-06-01']['temesi']\n",
    "rgb = np.stack((site_data['B4'], site_data['B3'], site_data['B2']), axis=-1)\n",
    "ndvi = (site_data['B8'] - site_data['B4']) / (site_data['B8'] + site_data['B4'])"
   ]
  },
  {
   "cell_type": "code",
   "execution_count": null,
   "metadata": {},
   "outputs": [],
   "source": [
    "test = np.stack((site_data['B2'].flatten(), site_data['B3'].flatten(), site_data['B4'].flatten()), axis=-1)"
   ]
  },
  {
   "cell_type": "code",
   "execution_count": null,
   "metadata": {},
   "outputs": [],
   "source": [
    "width, height = site_data['B4'].shape"
   ]
  },
  {
   "cell_type": "code",
   "execution_count": null,
   "metadata": {},
   "outputs": [],
   "source": [
    "(pred_ndvi).min()"
   ]
  },
  {
   "cell_type": "code",
   "execution_count": null,
   "metadata": {},
   "outputs": [],
   "source": [
    "plt.figure(figsize=(8,8), facecolor=(1,1,1))\n",
    "plt.scatter(ndvi, pred_ndvi, s=0.1, alpha=0.5)\n",
    "plt.plot([0, 1], [0, 1], c='r', alpha=0.4)\n",
    "plt.xlim((0,0.8))\n",
    "plt.ylim((0,0.8))\n",
    "plt.ylabel('Predicted NDVI')\n",
    "plt.xlabel('Actual NDVI')\n",
    "plt.title('Actual NDVI vs. Predicted NDVI')\n",
    "plt.show()"
   ]
  },
  {
   "cell_type": "code",
   "execution_count": null,
   "metadata": {},
   "outputs": [],
   "source": [
    "plt.figure(figsize=(8,8), dpi=150)\n",
    "plt.subplot(2,2,1)\n",
    "plt.imshow((rgb / 3000), vmin=0, vmax=1)\n",
    "plt.title('RGB')\n",
    "plt.axis('off')\n",
    "plt.subplot(2,2,2)\n",
    "plt.imshow(ndvi, cmap='RdYlGn', vmin=-0.25, vmax=1)\n",
    "plt.title('NDVI')\n",
    "plt.colorbar()\n",
    "plt.axis('off')\n",
    "plt.subplot(2,2,3)\n",
    "pred_ndvi = model.predict(test / 5000)[:,0].reshape(width, width)\n",
    "plt.imshow(pred_ndvi - ndvi, cmap='RdYlGn', vmin=-1, vmax=1)\n",
    "plt.title('Delta NDVI')\n",
    "plt.colorbar()\n",
    "plt.axis('off')\n",
    "plt.subplot(2,2,4)\n",
    "pred_ndvi = model.predict(test / 5000)[:,0].reshape(width, width)\n",
    "plt.imshow(pred_ndvi, cmap='RdYlGn', vmin=-0.25, vmax=1)\n",
    "plt.title('Pred NDVI')\n",
    "plt.colorbar()\n",
    "plt.axis('off')\n",
    "plt.show()"
   ]
  },
  {
   "cell_type": "code",
   "execution_count": null,
   "metadata": {},
   "outputs": [],
   "source": [
    "plt.figure(figsize=(12,4), dpi=150, facecolor=(1,1,1))\n",
    "plt.subplot(1,3,1)\n",
    "plt.imshow(ndvi, cmap='RdYlGn', vmin=-0.25, vmax=1)\n",
    "plt.title('Actual NDVI')\n",
    "plt.colorbar()\n",
    "plt.axis('off')\n",
    "\n",
    "plt.subplot(1,3,2)\n",
    "pred_ndvi = model.predict(test / 5000)[:,0].reshape(width, width)\n",
    "plt.imshow(pred_ndvi, cmap='RdYlGn', vmin=-0.25, vmax=1)\n",
    "plt.title('Pred NDVI')\n",
    "plt.colorbar()\n",
    "plt.axis('off')\n",
    "plt.subplot(1,3,3)\n",
    "\n",
    "pred_ndvi = model.predict(test / 5000)[:,0].reshape(width, width)\n",
    "plt.imshow(pred_ndvi - ndvi, cmap='RdYlGn', vmin=-1, vmax=1)\n",
    "plt.title('Delta NDVI')\n",
    "plt.colorbar()\n",
    "plt.axis('off')\n",
    "\n",
    "plt.show()"
   ]
  },
  {
   "cell_type": "code",
   "execution_count": null,
   "metadata": {},
   "outputs": [],
   "source": [
    "plt.imshow(ndvi - pred_ndvi)\n",
    "plt.colorbar()\n",
    "plt.show()"
   ]
  },
  {
   "cell_type": "code",
   "execution_count": null,
   "metadata": {},
   "outputs": [],
   "source": []
  }
 ],
 "metadata": {
  "kernelspec": {
   "display_name": "Python 3",
   "language": "python",
   "name": "python3"
  },
  "language_info": {
   "codemirror_mode": {
    "name": "ipython",
    "version": 3
   },
   "file_extension": ".py",
   "mimetype": "text/x-python",
   "name": "python",
   "nbconvert_exporter": "python",
   "pygments_lexer": "ipython3",
   "version": "3.6.5"
  }
 },
 "nbformat": 4,
 "nbformat_minor": 4
}
