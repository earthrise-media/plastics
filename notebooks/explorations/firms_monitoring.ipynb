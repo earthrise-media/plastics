{
 "cells": [
  {
   "cell_type": "code",
   "execution_count": null,
   "metadata": {},
   "outputs": [],
   "source": [
    "%load_ext autoreload\n",
    "%autoreload 2"
   ]
  },
  {
   "cell_type": "code",
   "execution_count": null,
   "metadata": {},
   "outputs": [],
   "source": [
    "import geopandas as gpd\n",
    "# pygeos is required to use geopandas spatial indexing\n",
    "gpd.options.use_pygeos = True\n",
    "\n",
    "from scripts import dl_utils"
   ]
  },
  {
   "cell_type": "code",
   "execution_count": null,
   "metadata": {},
   "outputs": [],
   "source": [
    "fires = gpd.read_file('/Users/ckruse/Downloads/all_indonesia_fires.geojson')\n",
    "fires.head()"
   ]
  },
  {
   "cell_type": "code",
   "execution_count": null,
   "metadata": {},
   "outputs": [],
   "source": [
    "sum(fires['SATELLITE'] != 'Terra')"
   ]
  },
  {
   "cell_type": "code",
   "execution_count": null,
   "metadata": {},
   "outputs": [],
   "source": [
    "fires['CONFIDENCE'][fires['CONFIDENCE'] == 'n'] = '50'\n",
    "fires['CONFIDENCE'][fires['CONFIDENCE'] == 'l'] = '0'\n",
    "fires['CONFIDENCE'][fires['CONFIDENCE'] == 'h'] = '100'\n",
    "fires['CONFIDENCE'] = fires['CONFIDENCE'].astype(int)\n",
    "fires['CONFIDENCE'].unique()"
   ]
  },
  {
   "cell_type": "code",
   "execution_count": null,
   "metadata": {},
   "outputs": [],
   "source": [
    "sites = gpd.read_file('../../data/sampling_locations/gpw_se_asia_01-2019-06-2021_confirmed_positives.geojson')"
   ]
  },
  {
   "cell_type": "code",
   "execution_count": null,
   "metadata": {},
   "outputs": [],
   "source": [
    "fires_index = fires['geometry'].sindex"
   ]
  },
  {
   "cell_type": "code",
   "execution_count": null,
   "metadata": {},
   "outputs": [],
   "source": [
    "site_fires = []\n",
    "for candidate in sites['geometry'].buffer(0.002):\n",
    "    query = fires_index.query(candidate)\n",
    "    site_fires.append(query)"
   ]
  },
  {
   "cell_type": "code",
   "execution_count": null,
   "metadata": {},
   "outputs": [],
   "source": [
    "#sites['fire_index'] = site_fires\n",
    "sites['fire_count'] = [len(index) for index in site_fires]\n",
    "sites.sort_values(by='fire_count', ascending=False)\n",
    "print(sites['fire_count'].sum())\n",
    "sites.to_file('/Users/ckruse/Downloads/site_fires.geojson')"
   ]
  },
  {
   "cell_type": "code",
   "execution_count": null,
   "metadata": {},
   "outputs": [],
   "source": [
    "fire_indices = []\n",
    "for candidate in sites['geometry'].buffer(0.002):\n",
    "    query = fires_index.query(candidate)\n",
    "    if len(query) > 0:\n",
    "        for val in query:\n",
    "            fire_indices.append(val)"
   ]
  },
  {
   "cell_type": "code",
   "execution_count": null,
   "metadata": {},
   "outputs": [],
   "source": [
    "fires['CONFIDENCE'][fire_indices].hist()"
   ]
  },
  {
   "cell_type": "code",
   "execution_count": null,
   "metadata": {},
   "outputs": [],
   "source": [
    "import matplotlib.pyplot as plt\n",
    "import numpy as np\n",
    "from tqdm.notebook import tqdm\n",
    "patches = []\n",
    "locations = []\n",
    "dates = []\n",
    "for index, site in enumerate(tqdm(site_fires)):\n",
    "    if len(site) > 0:\n",
    "        site_location = sites['geometry'][index]\n",
    "        fire_locations = [fires['geometry'][fire_id]for fire_id in site]\n",
    "        fire_dates = [fires['ACQ_DATE'][fire_id]for fire_id in site]\n",
    "        fire_sensors = [fires['INSTRUMENT'][fire_id] for fire_id in site]\n",
    "        for fire_location, fire_date, sensor in zip(tqdm(fire_locations), fire_dates, fire_sensors):\n",
    "            #print(fire_date, fire_location.distance(site_location) * 111.1 * 1000)\n",
    "            start = datetime.date.fromisoformat(fire_date) - relativedelta(days=3)\n",
    "            end = start + relativedelta(days=3)\n",
    "            try:\n",
    "                patch, raster_info = dl_utils.download_patch(dl_utils.rect_from_point([fire_location.x, fire_location.y], 0.05), start.isoformat(), end.isoformat())\n",
    "                patches.append(patch[0])\n",
    "                locations.append(fire_location)\n",
    "                dates.append(fire_date)\n",
    "                plt.figure(figsize=(5,5), dpi=150)\n",
    "                plt.imshow(np.clip(patch[0][:,:,3:0:-1] / 3000, 0, 1))\n",
    "                plt.axis('off')\n",
    "                title = f\"Fire {start}, S2 {raster_info[0]['metadata']['']['id'][15:25]}, {sensor}\"\n",
    "                plt.title(title)\n",
    "                plt.savefig(f'../../figures/fires/{title}-{fire_location.x:.4f}, {fire_location.y:.4f}.png', bbox_inches='tight')\n",
    "                plt.close()\n",
    "            except Exception as e:\n",
    "                if e == KeyboardInterrupt:\n",
    "                    break\n",
    "                else:\n",
    "                    print(f\"No Scene Found\\nDate: {start.isoformat()}-{end.isoformat()}\")\n",
    "        #print(geom.x, geom.y)\n",
    "        #print(fires.iloc[index])\n",
    "        #print(fire_locations)"
   ]
  },
  {
   "cell_type": "code",
   "execution_count": null,
   "metadata": {},
   "outputs": [],
   "source": [
    "sites.sort_values(by='fire_count', ascending=False).head(50)"
   ]
  },
  {
   "cell_type": "code",
   "execution_count": null,
   "metadata": {},
   "outputs": [],
   "source": [
    "dist = gpd.read_file('../../data/site_metadata/se_asia_metadata_2.0.geojson')['waterway distance']\n",
    "sum(dist < 150) / len(dist)"
   ]
  },
  {
   "cell_type": "code",
   "execution_count": null,
   "metadata": {},
   "outputs": [],
   "source": [
    "import datetime\n",
    "from dateutil.relativedelta import relativedelta\n",
    "\n",
    "delta = relativedelta(days=1)\n",
    "start = datetime.date.fromisoformat(fire_date)\n",
    "end = start + delta\n",
    "print(start, end)"
   ]
  },
  {
   "cell_type": "code",
   "execution_count": null,
   "metadata": {},
   "outputs": [],
   "source": []
  },
  {
   "cell_type": "code",
   "execution_count": null,
   "metadata": {},
   "outputs": [],
   "source": [
    "sites.to_file('/Users/ckruse/Downloads/site_fires.geojson')"
   ]
  },
  {
   "cell_type": "code",
   "execution_count": null,
   "metadata": {},
   "outputs": [],
   "source": []
  }
 ],
 "metadata": {
  "interpreter": {
   "hash": "d425afa4a959a86aa036beaa1a58ff3469f38e31f3ec97f5785c695b9108eced"
  },
  "kernelspec": {
   "display_name": "Python 3.9.7 64-bit ('m1-plastics': conda)",
   "language": "python",
   "name": "python3"
  },
  "language_info": {
   "codemirror_mode": {
    "name": "ipython",
    "version": 3
   },
   "file_extension": ".py",
   "mimetype": "text/x-python",
   "name": "python",
   "nbconvert_exporter": "python",
   "pygments_lexer": "ipython3",
   "version": "3.9.7"
  },
  "orig_nbformat": 4
 },
 "nbformat": 4,
 "nbformat_minor": 2
}
