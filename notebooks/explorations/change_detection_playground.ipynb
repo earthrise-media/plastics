{
 "cells": [
  {
   "cell_type": "code",
   "execution_count": null,
   "metadata": {},
   "outputs": [],
   "source": [
    "import os\n",
    "\n",
    "from PIL import Image\n",
    "import numpy as np\n",
    "import matplotlib.pyplot as plt\n",
    "\n",
    "beetle_img = []\n",
    "img_dir = '/Users/ckruse/Downloads/assets'\n",
    "for file in sorted(os.listdir(img_dir)):\n",
    "    print(file)\n",
    "    img = Image.open(os.path.join(img_dir, file)).convert('RGB')\n",
    "    beetle_img.append(np.asarray(img))"
   ]
  },
  {
   "cell_type": "code",
   "execution_count": null,
   "metadata": {
    "scrolled": false
   },
   "outputs": [],
   "source": [
    "for image in beetle_img:\n",
    "    plt.figure(dpi=150)\n",
    "    plt.imshow(np.clip(image, 0, 255))\n",
    "    plt.axis('off')\n",
    "    plt.show()"
   ]
  },
  {
   "cell_type": "code",
   "execution_count": null,
   "metadata": {},
   "outputs": [],
   "source": [
    "patch_before = beetle_img[0][500:600,1000:1100]\n",
    "patch_after = beetle_img[3][500:600,1000:1100]\n",
    "\n",
    "color_before = np.mean(patch_before, axis=(0,1))\n",
    "color_after = np.mean(patch_after, axis=(0,1))\n",
    "print(\"Mean patch color before:\", color_before)\n",
    "print(\"Mean patch color after:\", color_after)\n",
    "\n",
    "plt.subplot(1,2,1)\n",
    "plt.imshow(patch_before)\n",
    "plt.axis('off')\n",
    "plt.subplot(1,2,2)\n",
    "plt.imshow(patch_after)\n",
    "plt.axis('off')\n",
    "plt.show()"
   ]
  },
  {
   "cell_type": "code",
   "execution_count": null,
   "metadata": {},
   "outputs": [],
   "source": [
    "# iterate through all the pixels in the second image.\n",
    "# if the pixel is close to the same starting color and is close to the same ending color\n",
    "# the pixel is now a 1. Otherwise, pixel is a zero\n",
    "\n",
    "from tqdm import tqdm\n",
    "\n",
    "start_img = np.copy(beetle_img[0][500:600,1000:1100])\n",
    "end_img = np.copy(beetle_img[4][500:600,1000:1100])\n",
    "\n",
    "width, height, channels = beetle_img[0][500:600,1000:1100].shape\n",
    "change_array = np.zeros((width, height))\n",
    "\n",
    "window_size = 10\n",
    "\n",
    "for i in tqdm(range(width)):\n",
    "    for j in range(height):\n",
    "        start_pixel = start_img[i,j]\n",
    "        end_pixel = end_img[i,j]\n",
    "        channel_match = []\n",
    "        for channel in range(channels):\n",
    "            if start_pixel[channel] > color_before[channel] - window_size and start_pixel[channel] < color_before[channel] + window_size:\n",
    "                channel_match.append(1)\n",
    "            else:\n",
    "                channel_match.append(0)\n",
    "        if np.array(channel_match).all() == 1:\n",
    "            end_channel_match = []\n",
    "            if end_pixel[channel] > color_after[channel] - window_size and end_pixel[channel] < color_after[channel] + window_size:\n",
    "                end_channel_match.append(1)\n",
    "            else:\n",
    "                end_channel_match.append(0)\n",
    "            \n",
    "            if np.array(end_channel_match).all() == 1:\n",
    "                change_array[i,j] = 1\n",
    "plt.imshow(change_array)\n",
    "plt.axis('off')"
   ]
  },
  {
   "cell_type": "code",
   "execution_count": null,
   "metadata": {},
   "outputs": [],
   "source": [
    "plt.imshow(patch_after)\n",
    "plt.imshow(change_array, vmin=0.99)\n",
    "plt.show()"
   ]
  },
  {
   "cell_type": "code",
   "execution_count": null,
   "metadata": {},
   "outputs": [],
   "source": [
    "color_before"
   ]
  },
  {
   "cell_type": "code",
   "execution_count": null,
   "metadata": {},
   "outputs": [],
   "source": [
    "window_size\n",
    "pixel[0] > color_before[0] - window_size and pixel[0] < color_before[0] + window_size"
   ]
  },
  {
   "cell_type": "code",
   "execution_count": null,
   "metadata": {},
   "outputs": [],
   "source": [
    "window_size = 10\n",
    "\n",
    "masked = np.zeros_like(beetle_img[0])\n",
    "for channel in range(3):\n",
    "    img_channel = np.copy(beetle_img[0][:,:,channel])\n",
    "    img_channel[img_channel < color_before[channel] - window_size] = 0\n",
    "    img_channel[img_channel > color_before[channel] + window_size] = 0\n",
    "    masked[:,:,channel] = img_channel\n",
    "plt.imshow(masked)"
   ]
  },
  {
   "cell_type": "code",
   "execution_count": null,
   "metadata": {},
   "outputs": [],
   "source": [
    "window_size = 20\n",
    "delta_im = beetle_img[6] - beetle_img[0]\n",
    "delta_color = color_after - color_before\n",
    "delta_mask = np.zeros_like(beetle_img[0])\n",
    "for channel in range(3):\n",
    "    delta_channel = np.copy(delta_im[:,:,channel])\n",
    "    delta_channel[delta_channel < delta_color[channel] - window_size] = 0\n",
    "    delta_channel[delta_channel > delta_color[channel] + window_size] = 0\n",
    "    delta_mask[:,:,channel] = delta_channel\n",
    "plt.figure(dpi=150)\n",
    "plt.imshow(delta_mask)\n",
    "plt.axis('off')\n",
    "plt.show()"
   ]
  },
  {
   "cell_type": "code",
   "execution_count": null,
   "metadata": {},
   "outputs": [],
   "source": []
  },
  {
   "cell_type": "code",
   "execution_count": null,
   "metadata": {},
   "outputs": [],
   "source": [
    "complete = np.copy(masked)\n",
    "complete[delta_mask == 0] = 255\n",
    "plt.figure(dpi=150)\n",
    "plt.imshow(complete, vmin=0, vmax=255)\n",
    "plt.axis('off')\n",
    "plt.show()"
   ]
  },
  {
   "cell_type": "code",
   "execution_count": null,
   "metadata": {},
   "outputs": [],
   "source": []
  },
  {
   "cell_type": "code",
   "execution_count": null,
   "metadata": {},
   "outputs": [],
   "source": [
    "window_size = 3\n",
    "\n",
    "masked = np.zeros_like(beetle_img[6])\n",
    "for channel in range(3):\n",
    "    img_channel = np.copy(beetle_img[6][:,:,channel])\n",
    "    img_channel[img_channel < color_after[channel] - window_size] = 0\n",
    "    img_channel[img_channel > color_after[channel] + window_size] = 0\n",
    "    masked[:,:,channel] = img_channel\n",
    "plt.figure(dpi=150)\n",
    "plt.imshow(masked)\n",
    "plt.axis('off')\n",
    "plt.show()"
   ]
  },
  {
   "cell_type": "code",
   "execution_count": null,
   "metadata": {},
   "outputs": [],
   "source": [
    "plt.imshow(beetle_img[0][:,:,0] < )\n",
    "plt.colorbar()\n",
    "plt.show()"
   ]
  },
  {
   "cell_type": "code",
   "execution_count": null,
   "metadata": {},
   "outputs": [],
   "source": [
    "plt.imshow(beetle_img[0][:,:,2])"
   ]
  },
  {
   "cell_type": "code",
   "execution_count": null,
   "metadata": {},
   "outputs": [],
   "source": [
    "plt.imshow(thresholded[500:600,1000:1100])"
   ]
  },
  {
   "cell_type": "code",
   "execution_count": null,
   "metadata": {},
   "outputs": [],
   "source": [
    "window_size = 10\n",
    "t1 = np.ma.masked_inside(beetle_img[0][:,:,0], \n",
    "             color_before[0] - window_size, \n",
    "             color_before[0] + window_size)\n",
    "t2 = np.ma.masked_inside(beetle_img[0][:,:,1], \n",
    "             color_before[1] - window_size, \n",
    "             color_before[1] + window_size)\n",
    "t3 = np.ma.masked_inside(beetle_img[0][:,:,2], \n",
    "             color_before[2] - window_size, \n",
    "             color_before[2] + window_size)\n",
    "thresholded = np.stack((t1,t2,t3), axis=-1).astype('int')\n",
    "#thresholded = np.ma.masked_where((beetle_img[0][:,:,0] > color_before[0] - window_size) & (beetle_img[0][:,:,0] <= color_before[0] + window_size), beetle_img[0][:,:,0])\n",
    "plt.imshow(np.clip(thresholded, 0, 255))\n",
    "plt.show()\n"
   ]
  }
 ],
 "metadata": {
  "kernelspec": {
   "display_name": "Python 3",
   "language": "python",
   "name": "python3"
  },
  "language_info": {
   "codemirror_mode": {
    "name": "ipython",
    "version": 3
   },
   "file_extension": ".py",
   "mimetype": "text/x-python",
   "name": "python",
   "nbconvert_exporter": "python",
   "pygments_lexer": "ipython3",
   "version": "3.6.5"
  }
 },
 "nbformat": 4,
 "nbformat_minor": 4
}
