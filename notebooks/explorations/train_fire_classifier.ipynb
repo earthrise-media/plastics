{
 "cells": [
  {
   "cell_type": "code",
   "execution_count": null,
   "metadata": {},
   "outputs": [],
   "source": [
    "%load_ext autoreload\n",
    "%autoreload 2"
   ]
  },
  {
   "cell_type": "code",
   "execution_count": null,
   "metadata": {},
   "outputs": [],
   "source": [
    "from datetime import date\n",
    "import json\n",
    "import matplotlib.pyplot as plt\n",
    "import numpy as np\n",
    "import os\n",
    "import pickle\n",
    "from sklearn.model_selection import train_test_split\n",
    "from sklearn.metrics import classification_report\n",
    "from sklearn.utils import shuffle\n",
    "from tensorflow import keras\n",
    "from tensorflow.keras import layers\n",
    "from tensorflow.keras.preprocessing.image import ImageDataGenerator\n",
    "from tqdm.notebook import tqdm\n",
    "\n",
    "from scripts import dl_utils\n",
    "from scripts.dl_utils import predict_spectrogram, rect_from_point\n",
    "from scripts.nn_predict import make_predictions, visualize_predictions\n",
    "\n",
    "np.random.seed(1)"
   ]
  },
  {
   "cell_type": "code",
   "execution_count": null,
   "metadata": {},
   "outputs": [],
   "source": [
    "train_data_dir = '../../data/training_data/fires/'\n",
    "data_files = [f for f in os.listdir(train_data_dir) if '.pkl' in f and 'labels' not in f]\n",
    "\n",
    "label_files = [f.split('.pkl')[0] + '_labels.pkl' for f in data_files]\n",
    "\n",
    "patches = []\n",
    "labels = []\n",
    "for data, label in zip(data_files, label_files):\n",
    "    with open(os.path.join(train_data_dir, data), 'rb') as f:\n",
    "        data = pickle.load(f)\n",
    "        for patch in data:\n",
    "            patches.append(dl_utils.pad_patch(patch, 96))\n",
    "    with open(os.path.join(train_data_dir, label), 'rb') as f:\n",
    "        labels += pickle.load(f)\n",
    "patches = np.array(patches)\n",
    "labels = np.array(labels)\n",
    "\n",
    "positive_patches = patches[labels == 1]\n",
    "negative_patches = patches[labels == 0]\n",
    "\n",
    "print(\"Loaded\", len(positive_patches), \"positive patches and\", len(negative_patches), \"negative patches\")"
   ]
  },
  {
   "cell_type": "code",
   "execution_count": null,
   "metadata": {},
   "outputs": [],
   "source": [
    "x = np.concatenate((positive_patches, negative_patches))\n",
    "y = np.concatenate((np.ones(len(positive_patches)), np.zeros(len(negative_patches))))\n",
    "\n",
    "x, y = shuffle(x, y, random_state=42)\n",
    "x = np.array([dl_utils.unit_norm(patch) for patch in x])\n",
    "x_train, x_test, y_train, y_test = train_test_split(x, y, test_size=0.20, random_state=42)\n",
    "#x_train = np.expand_dims(x_train, -1)\n",
    "#x_test = np.expand_dims(x_test, -1)\n",
    "\n",
    "print(\"Num Train Samples:\\t\\t\", len(x_train))\n",
    "print(\"Num Test Samples:\\t\\t\", len(x_test))\n",
    "print(f\"Percent Negative Train:\\t {sum(y_train == 0.0) / len(y_train):.1%}\")\n",
    "print(f\"Percent Negative Test:\\t {sum(y_test == 0.0) / len(y_test):.1%}\")\n",
    "print(f\"Input data shape: {x_train.shape}\")\n",
    "\n",
    "# Note: I am accustomed to assigning two classes for binary classification. \n",
    "# This habit comes from an issue in theano a long time ago, but I'm too superstitious to change it.\n",
    "num_classes = 2\n",
    "y_train = keras.utils.to_categorical(y_train, num_classes)\n",
    "y_test = keras.utils.to_categorical(y_test, num_classes)"
   ]
  },
  {
   "cell_type": "code",
   "execution_count": null,
   "metadata": {},
   "outputs": [],
   "source": [
    "augmentation_parameters = {\n",
    "    'featurewise_center': False,\n",
    "    'rotation_range': 360,\n",
    "    'width_shift_range': [0.9, 1.1],\n",
    "    'height_shift_range': [0.9, 1.1],\n",
    "    'shear_range': 10,\n",
    "    'zoom_range': [0.8, 1.2],\n",
    "    'vertical_flip': True,\n",
    "    'horizontal_flip': True,\n",
    "    # Fill options: \"constant\", \"nearest\", \"reflect\" or \"wrap\"\n",
    "    'fill_mode': 'reflect'\n",
    "}\n",
    "\n",
    "datagen = ImageDataGenerator(**augmentation_parameters)\n",
    "\n",
    "\n",
    "plt.figure(figsize=(12,12), facecolor=(1,1,1), dpi=150)\n",
    "img, labels = datagen.flow(x_train, y_train, batch_size=64).next()\n",
    "for index, (image, label) in enumerate(zip(img, labels)):\n",
    "    rgb = (image[:,:,3:0:-1] + 1) / 4\n",
    "    plt.subplot(8, 8, index+1)\n",
    "    plt.imshow(np.clip(rgb, 0, 1))\n",
    "    if label[1] == 1:\n",
    "        plt.title('Fire')\n",
    "    else:\n",
    "        plt.title('No Fire')\n",
    "    plt.axis('off')\n",
    "plt.suptitle('Data Augmentation Examples')\n",
    "plt.tight_layout()\n",
    "plt.show()\n",
    "    "
   ]
  },
  {
   "cell_type": "code",
   "execution_count": null,
   "metadata": {},
   "outputs": [],
   "source": [
    "input_shape = np.shape(x_train[0])\n",
    "model = keras.Sequential([\n",
    "        keras.Input(shape=input_shape),\n",
    "        layers.Conv2D(16, kernel_size=(3), padding='same', activation=\"relu\"),\n",
    "        layers.MaxPooling2D(pool_size=(2)),\n",
    "        layers.Conv2D(32, kernel_size=(3), padding='same', activation=\"relu\"),\n",
    "        layers.MaxPooling2D(pool_size=(2)),\n",
    "        layers.Flatten(),\n",
    "        layers.Dense(64, activation=\"relu\"),\n",
    "        layers.Dropout(0.6),\n",
    "        layers.Dense(64, activation=\"relu\"),\n",
    "        layers.Dropout(0.6),\n",
    "        layers.Dense(64, activation=\"relu\"),\n",
    "        #layers.Dense(32, activation=\"relu\"),\n",
    "        layers.Dropout(0.6),\n",
    "        #layers.Dense(32, activation=\"relu\"),\n",
    "        layers.Dense(num_classes, activation=\"softmax\")])\n",
    "model.summary()\n",
    "\n",
    "model.compile(loss=\"binary_crossentropy\", \n",
    "              optimizer=\"adam\", \n",
    "              metrics=[\"accuracy\"])\n",
    "\n",
    "train_accuracy = []\n",
    "test_accuracy = []"
   ]
  },
  {
   "cell_type": "code",
   "execution_count": null,
   "metadata": {},
   "outputs": [],
   "source": [
    "batch_size = 32\n",
    "epochs = 128\n",
    "model.fit(datagen.flow(x_train, y_train, batch_size=batch_size), \n",
    "        epochs=epochs, \n",
    "        validation_data = (x_test, y_test),\n",
    "        verbose = 1\n",
    "        )\n",
    "train_accuracy += model.history.history['accuracy']\n",
    "test_accuracy += model.history.history['val_accuracy']"
   ]
  },
  {
   "cell_type": "code",
   "execution_count": null,
   "metadata": {},
   "outputs": [],
   "source": [
    "plt.figure(figsize=(8,5), dpi=100, facecolor=(1,1,1))\n",
    "plt.plot(train_accuracy, label='Train Acc')\n",
    "plt.plot(test_accuracy, c='r', label='Val Acc')\n",
    "percent_negative = (sum(y_train == 0.0) / len(y_train))[1]\n",
    "plt.plot([0, epochs-1], [percent_negative, percent_negative], '--', c='gray', label='Baseline')\n",
    "plt.grid()\n",
    "plt.xlabel('Epoch')\n",
    "plt.ylabel('Accuracy')\n",
    "plt.legend()\n",
    "plt.title('Network Train and Val Accuracy')\n",
    "plt.show()"
   ]
  },
  {
   "cell_type": "markdown",
   "metadata": {},
   "source": [
    "# Test Model"
   ]
  },
  {
   "cell_type": "code",
   "execution_count": null,
   "metadata": {},
   "outputs": [],
   "source": [
    "preds = model.predict(x_test)[:,1]\n",
    "threshold = 0.5\n",
    "binary_preds = (preds > threshold).astype(int)\n",
    "failure_index = np.where(binary_preds != y_test[:,1].astype(int))[0]\n",
    "print(len(failure_index), \"failures\")"
   ]
  },
  {
   "cell_type": "code",
   "execution_count": null,
   "metadata": {},
   "outputs": [],
   "source": [
    "for i in failure_index:\n",
    "    plt.imshow(np.clip((x_test[i] + 1) / 3, 0, 1)[:,:,3:0:-1])\n",
    "    plt.title(f\"Pred: {preds[i]:.2f}. Label {y_test[i,1]}\")\n",
    "    plt.axis('off')\n",
    "    plt.show()"
   ]
  },
  {
   "cell_type": "code",
   "execution_count": null,
   "metadata": {},
   "outputs": [],
   "source": []
  }
 ],
 "metadata": {
  "interpreter": {
   "hash": "d425afa4a959a86aa036beaa1a58ff3469f38e31f3ec97f5785c695b9108eced"
  },
  "kernelspec": {
   "display_name": "Python 3.9.7 64-bit ('m1-plastics': conda)",
   "language": "python",
   "name": "python3"
  },
  "language_info": {
   "codemirror_mode": {
    "name": "ipython",
    "version": 3
   },
   "file_extension": ".py",
   "mimetype": "text/x-python",
   "name": "python",
   "nbconvert_exporter": "python",
   "pygments_lexer": "ipython3",
   "version": "3.9.7"
  },
  "orig_nbformat": 4
 },
 "nbformat": 4,
 "nbformat_minor": 2
}
