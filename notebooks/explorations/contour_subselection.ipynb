{
 "cells": [
  {
   "cell_type": "code",
   "execution_count": 1,
   "source": [
    "import geopandas as gpd\n",
    "import shapely"
   ],
   "outputs": [],
   "metadata": {}
  },
  {
   "cell_type": "code",
   "execution_count": 4,
   "source": [
    "java = gpd.read_file('/Users/ckruse/Downloads/west_java.geojson')\n",
    "java = java['geometry'][0]"
   ],
   "outputs": [],
   "metadata": {}
  },
  {
   "cell_type": "code",
   "execution_count": 6,
   "source": [
    "contours = gpd.read_file('../data/model_outputs/site_contours/v2.1/indonesia_v0_mask_window_8_upsampled_4_contours_model_v0.0.11_ensemble-8-25-21.geojson')"
   ],
   "outputs": [],
   "metadata": {}
  },
  {
   "cell_type": "code",
   "execution_count": 7,
   "source": [
    "contours.head()"
   ],
   "outputs": [
    {
     "output_type": "execute_result",
     "data": {
      "text/html": [
       "<div>\n",
       "<style scoped>\n",
       "    .dataframe tbody tr th:only-of-type {\n",
       "        vertical-align: middle;\n",
       "    }\n",
       "\n",
       "    .dataframe tbody tr th {\n",
       "        vertical-align: top;\n",
       "    }\n",
       "\n",
       "    .dataframe thead th {\n",
       "        text-align: right;\n",
       "    }\n",
       "</style>\n",
       "<table border=\"1\" class=\"dataframe\">\n",
       "  <thead>\n",
       "    <tr style=\"text-align: right;\">\n",
       "      <th></th>\n",
       "      <th>name</th>\n",
       "      <th>date</th>\n",
       "      <th>area (km^2)</th>\n",
       "      <th>geometry</th>\n",
       "    </tr>\n",
       "  </thead>\n",
       "  <tbody>\n",
       "    <tr>\n",
       "      <th>0</th>\n",
       "      <td>java_v0.0.7_2019-01-01_2021-06-01mosaic-median_0</td>\n",
       "      <td>2016-12-01T00:00:00</td>\n",
       "      <td>0.0</td>\n",
       "      <td>None</td>\n",
       "    </tr>\n",
       "    <tr>\n",
       "      <th>1</th>\n",
       "      <td>java_v0.0.7_2019-01-01_2021-06-01mosaic-median_0</td>\n",
       "      <td>2017-06-01T00:00:00</td>\n",
       "      <td>0.0</td>\n",
       "      <td>None</td>\n",
       "    </tr>\n",
       "    <tr>\n",
       "      <th>2</th>\n",
       "      <td>java_v0.0.7_2019-01-01_2021-06-01mosaic-median_0</td>\n",
       "      <td>2017-12-01T00:00:00</td>\n",
       "      <td>0.0</td>\n",
       "      <td>None</td>\n",
       "    </tr>\n",
       "    <tr>\n",
       "      <th>3</th>\n",
       "      <td>java_v0.0.7_2019-01-01_2021-06-01mosaic-median_0</td>\n",
       "      <td>2018-03-01T00:00:00</td>\n",
       "      <td>0.0</td>\n",
       "      <td>None</td>\n",
       "    </tr>\n",
       "    <tr>\n",
       "      <th>4</th>\n",
       "      <td>java_v0.0.7_2019-01-01_2021-06-01mosaic-median_0</td>\n",
       "      <td>2018-06-01T00:00:00</td>\n",
       "      <td>0.0</td>\n",
       "      <td>None</td>\n",
       "    </tr>\n",
       "  </tbody>\n",
       "</table>\n",
       "</div>"
      ],
      "text/plain": [
       "                                               name                 date  \\\n",
       "0  java_v0.0.7_2019-01-01_2021-06-01mosaic-median_0  2016-12-01T00:00:00   \n",
       "1  java_v0.0.7_2019-01-01_2021-06-01mosaic-median_0  2017-06-01T00:00:00   \n",
       "2  java_v0.0.7_2019-01-01_2021-06-01mosaic-median_0  2017-12-01T00:00:00   \n",
       "3  java_v0.0.7_2019-01-01_2021-06-01mosaic-median_0  2018-03-01T00:00:00   \n",
       "4  java_v0.0.7_2019-01-01_2021-06-01mosaic-median_0  2018-06-01T00:00:00   \n",
       "\n",
       "   area (km^2) geometry  \n",
       "0          0.0     None  \n",
       "1          0.0     None  \n",
       "2          0.0     None  \n",
       "3          0.0     None  \n",
       "4          0.0     None  "
      ]
     },
     "metadata": {},
     "execution_count": 7
    }
   ],
   "metadata": {}
  },
  {
   "cell_type": "code",
   "execution_count": 29,
   "source": [
    "index = []\n",
    "for geom in contours['geometry']:\n",
    "    if geom is not None:\n",
    "        if geom.intersects(java):\n",
    "            index.append(True)\n",
    "        else:\n",
    "            index.append(False)\n",
    "    else:\n",
    "        index.append(False)"
   ],
   "outputs": [],
   "metadata": {}
  },
  {
   "cell_type": "code",
   "execution_count": 30,
   "source": [
    "java_contours = contours[index]"
   ],
   "outputs": [],
   "metadata": {}
  },
  {
   "cell_type": "code",
   "execution_count": 32,
   "source": [
    "java_contours.to_file('/Users/ckruse/Downloads/west_java_contours.geojson', driver='GeoJSON')"
   ],
   "outputs": [],
   "metadata": {}
  },
  {
   "cell_type": "code",
   "execution_count": 35,
   "source": [
    "locations = gpd.read_file('../data/sampling_locations/indonesia_v0.geojson')\n",
    "locations"
   ],
   "outputs": [
    {
     "output_type": "execute_result",
     "data": {
      "text/html": [
       "<div>\n",
       "<style scoped>\n",
       "    .dataframe tbody tr th:only-of-type {\n",
       "        vertical-align: middle;\n",
       "    }\n",
       "\n",
       "    .dataframe tbody tr th {\n",
       "        vertical-align: top;\n",
       "    }\n",
       "\n",
       "    .dataframe thead th {\n",
       "        text-align: right;\n",
       "    }\n",
       "</style>\n",
       "<table border=\"1\" class=\"dataframe\">\n",
       "  <thead>\n",
       "    <tr style=\"text-align: right;\">\n",
       "      <th></th>\n",
       "      <th>name</th>\n",
       "      <th>geometry</th>\n",
       "    </tr>\n",
       "  </thead>\n",
       "  <tbody>\n",
       "    <tr>\n",
       "      <th>0</th>\n",
       "      <td>java_v0.0.7_2019-01-01_2021-06-01mosaic-median_0</td>\n",
       "      <td>POINT (106.48171 -6.14845)</td>\n",
       "    </tr>\n",
       "    <tr>\n",
       "      <th>1</th>\n",
       "      <td>java_v0.0.7_2019-01-01_2021-06-01mosaic-median_1</td>\n",
       "      <td>POINT (109.53086 -7.55056)</td>\n",
       "    </tr>\n",
       "    <tr>\n",
       "      <th>2</th>\n",
       "      <td>java_v0.0.7_2019-01-01_2021-06-01mosaic-median_2</td>\n",
       "      <td>POINT (106.99108 -6.34354)</td>\n",
       "    </tr>\n",
       "    <tr>\n",
       "      <th>3</th>\n",
       "      <td>java_v0.0.7_2019-01-01_2021-06-01mosaic-median_3</td>\n",
       "      <td>POINT (110.90891 -6.76578)</td>\n",
       "    </tr>\n",
       "    <tr>\n",
       "      <th>4</th>\n",
       "      <td>java_v0.0.7_2019-01-01_2021-06-01mosaic-median_4</td>\n",
       "      <td>POINT (112.63118 -7.15234)</td>\n",
       "    </tr>\n",
       "    <tr>\n",
       "      <th>...</th>\n",
       "      <td>...</td>\n",
       "      <td>...</td>\n",
       "    </tr>\n",
       "    <tr>\n",
       "      <th>373</th>\n",
       "      <td>w_nusa_tenggara_v1.1_2020_17</td>\n",
       "      <td>POINT (118.78424 -8.50452)</td>\n",
       "    </tr>\n",
       "    <tr>\n",
       "      <th>374</th>\n",
       "      <td>w_nusa_tenggara_v1.1_2020_6</td>\n",
       "      <td>POINT (117.45264 -8.48336)</td>\n",
       "    </tr>\n",
       "    <tr>\n",
       "      <th>375</th>\n",
       "      <td>west_timor_v0.0.7_2019-01-01_2021-06-01mosaic-...</td>\n",
       "      <td>POINT (124.28862 -9.81555)</td>\n",
       "    </tr>\n",
       "    <tr>\n",
       "      <th>376</th>\n",
       "      <td>west_timor_v0.0.7_2019-01-01_2021-06-01mosaic-...</td>\n",
       "      <td>POINT (123.54648 -10.20003)</td>\n",
       "    </tr>\n",
       "    <tr>\n",
       "      <th>377</th>\n",
       "      <td>west_timor_v0.0.7_2019-01-01_2021-06-01mosaic-...</td>\n",
       "      <td>POINT (124.89259 -9.19597)</td>\n",
       "    </tr>\n",
       "  </tbody>\n",
       "</table>\n",
       "<p>378 rows × 2 columns</p>\n",
       "</div>"
      ],
      "text/plain": [
       "                                                  name  \\\n",
       "0     java_v0.0.7_2019-01-01_2021-06-01mosaic-median_0   \n",
       "1     java_v0.0.7_2019-01-01_2021-06-01mosaic-median_1   \n",
       "2     java_v0.0.7_2019-01-01_2021-06-01mosaic-median_2   \n",
       "3     java_v0.0.7_2019-01-01_2021-06-01mosaic-median_3   \n",
       "4     java_v0.0.7_2019-01-01_2021-06-01mosaic-median_4   \n",
       "..                                                 ...   \n",
       "373                       w_nusa_tenggara_v1.1_2020_17   \n",
       "374                        w_nusa_tenggara_v1.1_2020_6   \n",
       "375  west_timor_v0.0.7_2019-01-01_2021-06-01mosaic-...   \n",
       "376  west_timor_v0.0.7_2019-01-01_2021-06-01mosaic-...   \n",
       "377  west_timor_v0.0.7_2019-01-01_2021-06-01mosaic-...   \n",
       "\n",
       "                        geometry  \n",
       "0     POINT (106.48171 -6.14845)  \n",
       "1     POINT (109.53086 -7.55056)  \n",
       "2     POINT (106.99108 -6.34354)  \n",
       "3     POINT (110.90891 -6.76578)  \n",
       "4     POINT (112.63118 -7.15234)  \n",
       "..                           ...  \n",
       "373   POINT (118.78424 -8.50452)  \n",
       "374   POINT (117.45264 -8.48336)  \n",
       "375   POINT (124.28862 -9.81555)  \n",
       "376  POINT (123.54648 -10.20003)  \n",
       "377   POINT (124.89259 -9.19597)  \n",
       "\n",
       "[378 rows x 2 columns]"
      ]
     },
     "metadata": {},
     "execution_count": 35
    }
   ],
   "metadata": {}
  },
  {
   "cell_type": "code",
   "execution_count": 42,
   "source": [
    "locations[locations['name'].isin(java_contours['name'].unique())].to_file('/Users/ckruse/Downloads/west_java_locations.geojson', driver='GeoJSON')"
   ],
   "outputs": [],
   "metadata": {}
  },
  {
   "cell_type": "code",
   "execution_count": null,
   "source": [],
   "outputs": [],
   "metadata": {}
  }
 ],
 "metadata": {
  "orig_nbformat": 4,
  "language_info": {
   "name": "python",
   "version": "3.7.9",
   "mimetype": "text/x-python",
   "codemirror_mode": {
    "name": "ipython",
    "version": 3
   },
   "pygments_lexer": "ipython3",
   "nbconvert_exporter": "python",
   "file_extension": ".py"
  },
  "kernelspec": {
   "name": "python3",
   "display_name": "Python 3.7.9 64-bit ('venv-plastics': pyenv)"
  },
  "interpreter": {
   "hash": "4a01d8cce8e3093998fa99b03bade8c0e7fde9c8096298c7b656f9b435102d6b"
  }
 },
 "nbformat": 4,
 "nbformat_minor": 2
}