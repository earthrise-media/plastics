{
 "cells": [
  {
   "cell_type": "code",
   "execution_count": null,
   "metadata": {},
   "outputs": [],
   "source": [
    "%load_ext autoreload\n",
    "%autoreload 2"
   ]
  },
  {
   "cell_type": "code",
   "execution_count": null,
   "metadata": {},
   "outputs": [],
   "source": [
    "import matplotlib.pyplot as plt\n",
    "import numpy as np\n",
    "from scripts import dl_utils, contour_gen\n",
    "import h3\n",
    "from tensorflow import keras"
   ]
  },
  {
   "cell_type": "code",
   "execution_count": null,
   "metadata": {},
   "outputs": [],
   "source": [
    "rect_width = 0.005\n",
    "start_date = '2021-01-01'\n",
    "end_date = '2022-06-01'\n",
    "mosaic_period = 1\n",
    "spectrogram_interval = 1\n",
    "coords = [66.226048, 56.651030]\n",
    "site_id = h3.geo_to_h3(coords[1], coords[0], 15)\n",
    "rect = dl_utils.rect_from_point(coords, rect_width)"
   ]
  },
  {
   "cell_type": "code",
   "execution_count": null,
   "metadata": {},
   "outputs": [],
   "source": [
    "site = contour_gen.SiteContours(coords, site_id)\n",
    "site.download_composites(start_date, end_date, mosaic_period, spectrogram_interval)\n",
    "site.composites = site.data.composites"
   ]
  },
  {
   "cell_type": "code",
   "execution_count": null,
   "metadata": {},
   "outputs": [],
   "source": [
    "from PIL import Image\n",
    "# rescale image to be of a given size\n",
    "def rescale_image(image, width, height):\n",
    "    channels = image.shape[-1]\n",
    "    rescaled = np.zeros((width, height, channels))\n",
    "    image = (np.clip(image / 5000, 0, 1) * 255).astype(np.uint8)\n",
    "    for i in range(channels):\n",
    "        rescaled[:, :, i] = (np.array(Image.fromarray(image[:, :, i]).resize((height, width), resample=Image.BICUBIC)) / 255) * 5000\n",
    "    return rescaled\n",
    "\n",
    "def tile_image(image, tile_size):\n",
    "    # function to break image into tiles\n",
    "    # image is a 3D array of shape (height, width, channels)\n",
    "    tile_width = tile_size[0]\n",
    "    tile_height = tile_size[1]\n",
    "    channels = image.shape[-1]\n",
    "    tiles = np.zeros((image.shape[0] // tile_height, image.shape[1] // tile_width, tile_height, tile_width, channels))\n",
    "    for i in range(tiles.shape[0]):\n",
    "        for j in range(tiles.shape[1]):\n",
    "            tiles[i, j, :, :, :] = image[i * tile_height:(i + 1) * tile_height, j * tile_width:(j + 1) * tile_width, :]\n",
    "    num_img = tiles.shape[0] * tiles.shape[1]\n",
    "    tiles = np.reshape(tiles, (num_img, tile_height, tile_width, channels))\n",
    "    return tiles\n",
    "\n",
    "def recombine_tiles(tiles):\n",
    "    # function to recombine tiles into image\n",
    "    # tiles is a 4D array of shape (num_tiles, tile_height, tile_width, channels)\n",
    "    num_img = int(np.sqrt(tiles.shape[0]))\n",
    "    tile_width, tile_height, channels = tiles.shape[1:]\n",
    "    image = np.zeros((num_img * tile_height, num_img * tile_width, channels))\n",
    "    counter = 0\n",
    "    for i in range(num_img):\n",
    "        for j in range(num_img):\n",
    "            image[i * tile_height:(i + 1) * tile_height, j * tile_width:(j + 1) * tile_width, :] = tiles[counter, :, :, :]\n",
    "            counter += 1\n",
    "    return image"
   ]
  },
  {
   "cell_type": "code",
   "execution_count": null,
   "metadata": {},
   "outputs": [],
   "source": [
    "model = keras.models.load_model('../../models/unet_48px_v0.1_2022-06-05.h5')\n",
    "preds = []\n",
    "scaled_composites = []\n",
    "for image in site.composites:\n",
    "    resample_scale = 8\n",
    "    mask = rescale_image(image.mask.astype(np.uint8) * 255, 48 * resample_scale, 48 * resample_scale)\n",
    "    mask = mask > 0\n",
    "    image = rescale_image(image, 48 * resample_scale, 48 * resample_scale)\n",
    "    masked_composite = np.ma.array(image, mask=mask.astype('bool'))\n",
    "    scaled_composites.append(masked_composite)\n",
    "    tiles = tile_image(masked_composite, (48, 48))\n",
    "    tile_preds = model.predict(np.array([np.clip(tile / 3000, 0, 1) for tile in tiles]))\n",
    "    recombined_preds = recombine_tiles(tile_preds)[:,:,1]\n",
    "    recombined_preds = np.ma.array(recombined_preds, mask=mask[:,:,0])\n",
    "    preds.append(recombined_preds)\n",
    "    plt.imshow(image[:,:,3:0:-1] / 3000)\n",
    "    plt.show()\n",
    "site.scaled_composites = scaled_composites\n",
    "site.preds = preds"
   ]
  },
  {
   "cell_type": "code",
   "execution_count": null,
   "metadata": {},
   "outputs": [],
   "source": [
    "site.threshold_predictions(threshold=0.1)\n",
    "site.mask_predictions(window_size=2)\n",
    "site.generate_contours(threshold=0.5, scale=1, plot=True)\n",
    "site.generate_polygons(plot=False)"
   ]
  },
  {
   "cell_type": "code",
   "execution_count": null,
   "metadata": {},
   "outputs": [],
   "source": [
    "site.compile_contours()\n",
    "site.contour_gdf"
   ]
  },
  {
   "cell_type": "code",
   "execution_count": null,
   "metadata": {},
   "outputs": [],
   "source": [
    "name = 'test_contours'\n",
    "site.contour_gdf.to_file(f'/Users/ckruse/Downloads/{name}.geojson', driver='GeoJSON')"
   ]
  },
  {
   "cell_type": "code",
   "execution_count": null,
   "metadata": {},
   "outputs": [],
   "source": []
  }
 ],
 "metadata": {
  "interpreter": {
   "hash": "d425afa4a959a86aa036beaa1a58ff3469f38e31f3ec97f5785c695b9108eced"
  },
  "kernelspec": {
   "display_name": "Python 3.9.7 ('m1-plastics')",
   "language": "python",
   "name": "python3"
  },
  "language_info": {
   "codemirror_mode": {
    "name": "ipython",
    "version": 3
   },
   "file_extension": ".py",
   "mimetype": "text/x-python",
   "name": "python",
   "nbconvert_exporter": "python",
   "pygments_lexer": "ipython3",
   "version": "3.9.7"
  },
  "orig_nbformat": 4
 },
 "nbformat": 4,
 "nbformat_minor": 2
}
