{
 "cells": [
  {
   "cell_type": "code",
   "execution_count": null,
   "metadata": {},
   "outputs": [],
   "source": [
    "from scripts import dl_utils\n",
    "from descarteslabs.catalog import Image, properties"
   ]
  },
  {
   "cell_type": "code",
   "execution_count": null,
   "metadata": {},
   "outputs": [],
   "source": [
    "region = 'australia'\n",
    "product_id = f'earthrise:{region}_v0.0.11_2019-01-01_2021-06-01'\n",
    "\n",
    "search = Image.search().filter(properties.product_id == product_id)\n",
    "image_list = [image.id for image in search]\n",
    "image_keys = [k.split(':')[-1].replace('_', ':') for k in image_list]\n",
    "dlkeys = dl_utils.read_dlkeys(f'../../data/boundaries/dlkeys/{region}_pop_0.5_dlkeys.txt')\n",
    "missing_keys = [key for key in dlkeys if key not in image_keys]\n",
    "print(f\"{len(missing_keys)} failed dltiles in {product_id}\")\n",
    "dl_utils.write_dlkeys(missing_keys, f'../../data/boundaries/dlkeys/{region}_missed.txt')"
   ]
  },
  {
   "cell_type": "code",
   "execution_count": null,
   "metadata": {},
   "outputs": [],
   "source": []
  }
 ],
 "metadata": {
  "interpreter": {
   "hash": "d425afa4a959a86aa036beaa1a58ff3469f38e31f3ec97f5785c695b9108eced"
  },
  "kernelspec": {
   "display_name": "Python 3.9.7 ('m1-plastics')",
   "language": "python",
   "name": "python3"
  },
  "language_info": {
   "codemirror_mode": {
    "name": "ipython",
    "version": 3
   },
   "file_extension": ".py",
   "mimetype": "text/x-python",
   "name": "python",
   "nbconvert_exporter": "python",
   "pygments_lexer": "ipython3",
   "version": "3.9.7"
  },
  "orig_nbformat": 4
 },
 "nbformat": 4,
 "nbformat_minor": 2
}
