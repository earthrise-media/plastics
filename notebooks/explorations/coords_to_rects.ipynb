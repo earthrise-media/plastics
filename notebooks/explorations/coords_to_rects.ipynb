{
 "cells": [
  {
   "cell_type": "code",
   "execution_count": 10,
   "metadata": {},
   "outputs": [],
   "source": [
    "import pandas as pd\n",
    "import json\n",
    "from geojson import Point, Feature, FeatureCollection, dump\n",
    "from shapely.geometry import box, shape, Point, Polygon"
   ]
  },
  {
   "cell_type": "code",
   "execution_count": 45,
   "metadata": {},
   "outputs": [],
   "source": [
    "with open('../../data/sampling_locations/v12_java_bali_validated_positives.geojson', 'r') as f:\n",
    "    data = json.load(f)"
   ]
  },
  {
   "cell_type": "code",
   "execution_count": 46,
   "metadata": {},
   "outputs": [],
   "source": [
    "rect_width = 0.006\n",
    "rect_features = []\n",
    "for feature in data['features']:\n",
    "    coords = feature['geometry']['coordinates']\n",
    "    rect = box(coords[0] - rect_width,\n",
    "               coords[1] - rect_width,\n",
    "               coords[0] + rect_width,\n",
    "               coords[1] + rect_width, 0.002)\n",
    "    rect_features.append(Feature(geometry=rect))\n"
   ]
  },
  {
   "cell_type": "code",
   "execution_count": 42,
   "metadata": {},
   "outputs": [],
   "source": [
    "data = pd.read_csv('../../data/model_outputs/candidate_sites/v12_java_candidates_0.4_threshold.csv')\n",
    "rect_width = 0.006\n",
    "rect_features = []\n",
    "for lon, lat in zip(data['lon'], data['lat']):\n",
    "    rect = box(lon - rect_width,\n",
    "               lat - rect_width,\n",
    "               lon + rect_width,\n",
    "               lat + rect_width, 0.002)\n",
    "    rect_features.append(Feature(geometry=rect))"
   ]
  },
  {
   "cell_type": "code",
   "execution_count": 44,
   "metadata": {},
   "outputs": [],
   "source": [
    "with open('../../data/misc/planet_candidate_sites.geojson', 'w') as f:\n",
    "          dump(FeatureCollection(rect_features), f)"
   ]
  },
  {
   "cell_type": "code",
   "execution_count": 16,
   "metadata": {},
   "outputs": [
    {
     "data": {
      "text/plain": [
       "{\"geometry\": null, \"id\": {\"coordinates\": [[[-8.8197, 115.1884], [-8.8197, -8.8117], [115.1804, -8.8117], [115.1804, 115.1884], [-8.8197, 115.1884]]], \"type\": \"Polygon\"}, \"properties\": {}, \"type\": \"Feature\"}"
      ]
     },
     "execution_count": 16,
     "metadata": {},
     "output_type": "execute_result"
    }
   ],
   "source": [
    "Feature(box(coords[0] - rect_width,\n",
    "    coords[0] + rect_width,\n",
    "    coords[1] - rect_width,\n",
    "    coords[1] + rect_width, 0.002))"
   ]
  }
 ],
 "metadata": {
  "kernelspec": {
   "display_name": "Python 3",
   "language": "python",
   "name": "python3"
  },
  "language_info": {
   "codemirror_mode": {
    "name": "ipython",
    "version": 3
   },
   "file_extension": ".py",
   "mimetype": "text/x-python",
   "name": "python",
   "nbconvert_exporter": "python",
   "pygments_lexer": "ipython3",
   "version": "3.6.5"
  }
 },
 "nbformat": 4,
 "nbformat_minor": 4
}
