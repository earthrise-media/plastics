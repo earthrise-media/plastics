{
 "cells": [
  {
   "cell_type": "code",
   "execution_count": null,
   "metadata": {},
   "outputs": [],
   "source": [
    "import requests\n",
    "import geopandas as gpd\n",
    "import numpy as np\n",
    "import shapely\n",
    "import pandas as pd\n",
    "import json"
   ]
  },
  {
   "cell_type": "code",
   "execution_count": null,
   "metadata": {},
   "outputs": [],
   "source": [
    "endpoint = 'https://api.plastic.watch.earthrise.media/sites'\n",
    "response = requests.get(endpoint, params={'limit':1500})\n",
    "data = response.json()"
   ]
  },
  {
   "cell_type": "code",
   "execution_count": null,
   "metadata": {},
   "outputs": [],
   "source": [
    "country_endpoint = 'https://api.dev.plastic.watch.earthrise.media/countries'\n",
    "response = requests.get(country_endpoint, params={'limit':1500})\n",
    "boundaries = response.json()"
   ]
  },
  {
   "cell_type": "code",
   "execution_count": null,
   "metadata": {},
   "outputs": [],
   "source": [
    "gdf = gpd.GeoDataFrame.from_features(data['features'])\n",
    "gdf['country code'] = ['' for _ in range(len(gdf))]\n",
    "gdf.head()"
   ]
  },
  {
   "cell_type": "code",
   "execution_count": null,
   "metadata": {},
   "outputs": [],
   "source": [
    "for feature in data['features']:\n",
    "    site = shapely.geometry.Point(feature['geometry']['coordinates'])\n",
    "    for country in boundaries['features']:\n",
    "        poly = shapely.geometry.shape(country['geometry'])\n",
    "        if poly.contains(site):\n",
    "            gdf.loc[gdf['geometry'] == site, 'country code'] = country['properties']['Code']"
   ]
  },
  {
   "cell_type": "code",
   "execution_count": null,
   "metadata": {},
   "outputs": [],
   "source": [
    "gdf['country']"
   ]
  },
  {
   "cell_type": "code",
   "execution_count": null,
   "metadata": {},
   "outputs": [],
   "source": [
    "code_to_name= {}\n",
    "for country in boundaries['features']:\n",
    "    properties = country['properties']\n",
    "    code_to_name[properties['Code']] = properties['LongName']"
   ]
  },
  {
   "cell_type": "code",
   "execution_count": null,
   "metadata": {},
   "outputs": [],
   "source": [
    "country_stats = {}\n",
    "for country in np.unique(gdf['country code']):\n",
    "    if len(country) > 0:\n",
    "        sites = gdf[gdf['country code'] == country]\n",
    "        country_dict = {\n",
    "            \"totalSites\": len(sites),\n",
    "            \"name\": code_to_name[country],\n",
    "            \"surface\": {\n",
    "                \"total (ha)\": pd.to_numeric(sites['median area'], errors='coerce').sum() * 100,\n",
    "                \"above 1 ha\": sum(pd.to_numeric(sites['median area'], errors='coerce') * 100 > 1),\n",
    "                \"above 2 ha\": sum(pd.to_numeric(sites['median area'], errors='coerce') * 100 > 2),\n",
    "            },\n",
    "            \"water\": {\n",
    "                \"under 0.5 km\": sum(sites['distance to waterway(m)'].astype(float) < 500),\n",
    "                \"under 1.0 km\": sum(sites['distance to waterway(m)'].astype(float) < 1000),\n",
    "                \"under 2.0 km\": sum(sites['distance to waterway(m)'].astype(float) < 2000),\n",
    "            },\n",
    "            \"population\": {\n",
    "                \"within 1 km\": sum(sites['population - 1km'].astype(float)),\n",
    "                \"within 5 km\": sum(sites['population - 5km'].astype(float)),\n",
    "            }\n",
    "        }\n",
    "        country_stats[country] = country_dict\n",
    "        country_stat_endpoint = f'https://api.dev.plastic.watch.earthrise.media/countries/{country}/stats'\n",
    "        # API endpoint is currently read only\n",
    "        #r = requests.put(country_stat_endpoint, country_dict)\n"
   ]
  },
  {
   "cell_type": "code",
   "execution_count": null,
   "metadata": {},
   "outputs": [],
   "source": [
    "with open('../../data/site_metadata/country_stats.geojson', 'w') as f:\n",
    "    json.dump(country_stats, f, indent=4)"
   ]
  },
  {
   "cell_type": "code",
   "execution_count": null,
   "metadata": {},
   "outputs": [],
   "source": []
  }
 ],
 "metadata": {
  "interpreter": {
   "hash": "d425afa4a959a86aa036beaa1a58ff3469f38e31f3ec97f5785c695b9108eced"
  },
  "kernelspec": {
   "display_name": "Python 3.9.7 64-bit ('m1-plastics': conda)",
   "language": "python",
   "name": "python3"
  },
  "language_info": {
   "codemirror_mode": {
    "name": "ipython",
    "version": 3
   },
   "file_extension": ".py",
   "mimetype": "text/x-python",
   "name": "python",
   "nbconvert_exporter": "python",
   "pygments_lexer": "ipython3",
   "version": "3.9.7"
  },
  "orig_nbformat": 4
 },
 "nbformat": 4,
 "nbformat_minor": 2
}
