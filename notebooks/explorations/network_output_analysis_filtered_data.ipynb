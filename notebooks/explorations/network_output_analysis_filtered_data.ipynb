{
 "cells": [
  {
   "cell_type": "code",
   "execution_count": null,
   "metadata": {},
   "outputs": [],
   "source": [
    "import matplotlib.pyplot as plt\n",
    "from matplotlib.lines import Line2D\n",
    "import numpy as np\n",
    "import os\n",
    "import pickle\n",
    "from sklearn.model_selection import train_test_split\n",
    "from sklearn.preprocessing import normalize as sklearn_normalize\n",
    "from sklearn.utils import shuffle\n",
    "from tensorflow import keras\n",
    "\n",
    "np.random.seed(1)"
   ]
  },
  {
   "cell_type": "code",
   "execution_count": null,
   "metadata": {},
   "outputs": [],
   "source": [
    "def normalize(x):\n",
    "    return (np.array(x) - 0) / (3000 - 0)"
   ]
  },
  {
   "cell_type": "markdown",
   "metadata": {},
   "source": [
    "## Load data and make predictions"
   ]
  },
  {
   "cell_type": "code",
   "execution_count": null,
   "metadata": {},
   "outputs": [],
   "source": [
    "train_data_dir = '../data/training_sites'\n",
    "\n",
    "with open(os.path.join(train_data_dir, \"negative_data.pkl\"), 'rb') as file:\n",
    "    x_negative = np.array(pickle.load(file))\n",
    "file.close()\n",
    "y_negative = np.zeros(len(x_negative))\n",
    "\n",
    "with open(os.path.join(train_data_dir, \"positive_data.pkl\"), 'rb') as file:\n",
    "    x_positive = np.array(pickle.load(file))\n",
    "file.close()\n",
    "\n",
    "with open(os.path.join(train_data_dir, \"positive_data_test.pkl\"), 'rb') as file:\n",
    "    x_positive_test = np.array(pickle.load(file))\n",
    "file.close()"
   ]
  },
  {
   "cell_type": "code",
   "execution_count": null,
   "metadata": {},
   "outputs": [],
   "source": [
    "ndvi_train = (x_positive[:,7] - x_positive[:,3]) / (x_positive[:,7] + x_positive[:,3])\n",
    "ndvi_test = (x_positive_test[:,7] - x_positive_test[:,3]) / (x_positive_test[:,7] + x_positive_test[:,3])\n",
    "\n",
    "lower_bound = -0.1\n",
    "upper_bound = 0.5\n",
    "index_train = np.logical_and(ndvi_train > lower_bound, ndvi_train < upper_bound)\n",
    "index_test = np.logical_and(ndvi_test > lower_bound, ndvi_test < upper_bound)\n",
    "\n",
    "x_positive = x_positive[index_train]\n",
    "y_positive = np.ones(len(x_positive))\n",
    "x_positive_test = x_positive_test[index_test]\n",
    "y_positive_test = np.ones(len(x_positive_test))"
   ]
  },
  {
   "cell_type": "code",
   "execution_count": null,
   "metadata": {},
   "outputs": [],
   "source": [
    "x = np.concatenate((x_positive, x_negative))\n",
    "y = np.concatenate((y_positive, y_negative))\n",
    "\n",
    "x, y = shuffle(x, y, random_state=42)\n",
    "x = normalize(x)\n",
    "x_positive_test = normalize(x_positive_test)"
   ]
  },
  {
   "cell_type": "code",
   "execution_count": null,
   "metadata": {},
   "outputs": [],
   "source": [
    "x_train, x_test, y_train, y_test = train_test_split(x, y, test_size=0.20, random_state=42)\n",
    "print(\"Num Train:\\t\\t\", len(x_train))\n",
    "print(\"Num Test:\\t\\t\", len(x_test))\n",
    "print(f\"Percent Negative Train:\\t {100 * sum(y_train == 0.0) / len(y_train):.1f}\")\n",
    "print(f\"Percent Negative Test:\\t {100 * sum(y_test == 0.0) / len(y_test):.1f}\")\n",
    "\n",
    "x_train = np.expand_dims(x_train, -1)\n",
    "x_test = np.expand_dims(x_test, -1)\n",
    "x_positive_test = np.expand_dims(x_positive_test, -1)\n",
    "\n",
    "num_classes = 2\n",
    "y_train = keras.utils.to_categorical(y_train, num_classes)\n",
    "y_test = keras.utils.to_categorical(y_test, num_classes)\n",
    "y_positive_test = keras.utils.to_categorical(y_positive_test, num_classes)"
   ]
  },
  {
   "cell_type": "code",
   "execution_count": null,
   "metadata": {},
   "outputs": [],
   "source": [
    "model = keras.models.load_model('../models/model_filtered-12-07-2020.h5')"
   ]
  },
  {
   "cell_type": "code",
   "execution_count": null,
   "metadata": {},
   "outputs": [],
   "source": [
    "num_test_set_samples = 5000\n",
    "random_test_indices = np.random.choice(len(x_test), num_test_set_samples)\n",
    "\n",
    "inputs = np.concatenate((x_positive_test, x_test[random_test_indices]))\n",
    "preds = model.predict(inputs)\n",
    "labels = np.concatenate((y_positive_test, y_test[random_test_indices]))"
   ]
  },
  {
   "cell_type": "code",
   "execution_count": null,
   "metadata": {},
   "outputs": [],
   "source": [
    "rgb = []\n",
    "for sample in inputs:\n",
    "    sample_rgb = np.zeros((1,1,3))\n",
    "    sample_rgb[0,0,:] = [sample[3], sample[2], sample[1]]\n",
    "    rgb.append(sample_rgb)\n",
    "rgb_min = np.array(rgb).min()\n",
    "rgb_max = np.array(rgb).max()\n",
    "rgb = np.array([(np.array(element) - rgb_min) / (rgb_max - rgb_min) for element in rgb])"
   ]
  },
  {
   "cell_type": "code",
   "execution_count": null,
   "metadata": {},
   "outputs": [],
   "source": [
    "def plot_rgb_hist(rgb, gamma, title):\n",
    "    colors = ['C0', 'red', 'green']\n",
    "    plt.figure(figsize=(8,5), dpi=100, facecolor=(1,1,1))\n",
    "    for channel in range(3):\n",
    "        plt.hist((np.array(rgb)[:,0,0, 2 - channel]) ** gamma, \n",
    "                 bins=len(rgb) // 100, \n",
    "                 facecolor=colors[channel], \n",
    "                 alpha=0.55)\n",
    "    plt.title(title + ' - Gamma ' + str(gamma))\n",
    "    plt.show()"
   ]
  },
  {
   "cell_type": "code",
   "execution_count": null,
   "metadata": {},
   "outputs": [],
   "source": [
    "plot_rgb_hist(rgb, 0.5, 'RGB Histogram for Test Set')"
   ]
  },
  {
   "cell_type": "markdown",
   "metadata": {},
   "source": [
    "## Compile TP, FP, TN, FN classes"
   ]
  },
  {
   "cell_type": "code",
   "execution_count": null,
   "metadata": {},
   "outputs": [],
   "source": [
    "THRESHOLD = 0.90"
   ]
  },
  {
   "cell_type": "code",
   "execution_count": null,
   "metadata": {},
   "outputs": [],
   "source": [
    "def isolate_category(labels, preds, label_class, pred_class):\n",
    "    class_index = []\n",
    "    for label, pred in zip(labels, preds):\n",
    "        binary_pred = pred[1] > THRESHOLD\n",
    "        label = label[1]\n",
    "        if label == label_class and binary_pred == pred_class:\n",
    "            class_index.append(1)\n",
    "        else:\n",
    "            class_index.append(0)\n",
    "    return np.array(class_index).astype('bool')"
   ]
  },
  {
   "cell_type": "code",
   "execution_count": null,
   "metadata": {},
   "outputs": [],
   "source": [
    "tp_index = isolate_category(labels, preds, 1, 1)\n",
    "tn_index = isolate_category(labels, preds, 0, 0)\n",
    "fp_index = isolate_category(labels, preds, 0, 1)\n",
    "fn_index = isolate_category(labels, preds, 1, 0)\n",
    "\n",
    "print(f\"True Positive Rate: {100 * sum(tp_index) / sum(labels[:,1] == 1):.1f}%\")\n",
    "print(f\"True Negative Rate: {100 * sum(tn_index) / sum(labels[:,1] == 0):.1f}%\")"
   ]
  },
  {
   "cell_type": "markdown",
   "metadata": {},
   "source": [
    "## Evaluate spectral profiles of classification categories"
   ]
  },
  {
   "cell_type": "code",
   "execution_count": null,
   "metadata": {},
   "outputs": [],
   "source": [
    "# Sentinel 2 band descriptions\n",
    "band_descriptions = {\n",
    "    'B1': 'Aerosols, 442nm',\n",
    "    'B2': 'Blue, 492nm',\n",
    "    'B3': 'Green, 559nm',\n",
    "    'B4': 'Red, 665nm',\n",
    "    'B5': 'Red Edge 1, 704nm',\n",
    "    'B6': 'Red Edge 2, 739nm',\n",
    "    'B7': 'Red Edge 3, 779nm',\n",
    "    'B8': 'NIR, 833nm',\n",
    "    'B8A': 'Red Edge 4, 864nm',\n",
    "    'B9': 'Water Vapor, 943nm',\n",
    "    'B11': 'SWIR 1, 1610nm',\n",
    "    'B12': 'SWIR 2, 2186nm'\n",
    "}\n",
    "\n",
    "band_wavelengths = [442, 492, 559, 665, 704, 739, 779, 833, 864, 943, 1610, 2186]"
   ]
  },
  {
   "cell_type": "code",
   "execution_count": null,
   "metadata": {
    "scrolled": false
   },
   "outputs": [],
   "source": [
    "num_samples = 1000\n",
    "\n",
    "plt.figure(figsize=(10,4), dpi=150)\n",
    "\n",
    "for reflectance in inputs[labels[:,1] == 1][:num_samples]:\n",
    "    plt.plot(band_wavelengths, reflectance, c='r', alpha=0.01)\n",
    "\n",
    "for reflectance in inputs[labels[:,1] == 0][:num_samples]:\n",
    "    plt.plot(band_wavelengths, reflectance, c='C0', alpha=0.01)\n",
    "\n",
    "plt.xticks(band_wavelengths, band_descriptions.keys(), ha='right', rotation=45, size=8)\n",
    "plt.xlabel('Band Name')\n",
    "plt.ylabel('Normalized Reflectance')\n",
    "plt.ylim([-0.1, 2.0])\n",
    "    \n",
    "legend_lines = [Line2D([0], [0], color='r', lw=2),\n",
    "                Line2D([0], [0], color='C0', lw=2)]\n",
    "plt.legend(legend_lines, ['Dump Sites', 'Non-Dump Sites'], loc='upper left')\n",
    "\n",
    "plt.title('Spectral Profiles of Positive and Negative Classes')\n",
    "plt.show()"
   ]
  },
  {
   "cell_type": "code",
   "execution_count": null,
   "metadata": {},
   "outputs": [],
   "source": [
    "num_samples = 3000\n",
    "pca_inputs = np.squeeze(np.concatenate((inputs[labels[:,1] == 0][:num_samples], inputs[labels[:,1] == 1][:num_samples])))\n",
    "pca = TSNE(n_components=2)\n",
    "pca_out = pca.fit_transform(pca_inputs)\n",
    "plt.figure(figsize=(8,8), dpi=150)\n",
    "plt.scatter(pca_out[num_samples:,0], pca_out[num_samples:,1], color='r', s=2, label='Dump Sites', alpha=0.25)\n",
    "plt.scatter(pca_out[:num_samples,0], pca_out[:num_samples,1], s=2, label='Non-Dump Sites', alpha=0.25)\n",
    "plt.xticks([])\n",
    "plt.yticks([])\n",
    "#plt.ylim([-2, 1.5])\n",
    "#plt.xlim([-2.5, 2])\n",
    "legend = plt.legend(markerscale=3)\n",
    "for element in legend.legendHandles:\n",
    "    element.set_alpha(1)\n",
    "plt.title('tSNE Dimensionality Reduction of Hyperspectral Pixels by Class', size=12)\n",
    "plt.show()"
   ]
  },
  {
   "cell_type": "code",
   "execution_count": null,
   "metadata": {},
   "outputs": [],
   "source": [
    "num_samples = 1000\n",
    "\n",
    "plt.figure(figsize=(10,4), dpi=150, facecolor=(1,1,1))\n",
    "\n",
    "for reflectance in inputs[fn_index][:num_samples]:\n",
    "    plt.plot(band_wavelengths, reflectance, c='r', alpha=0.01)\n",
    "\n",
    "for reflectance in inputs[tp_index][:num_samples]:\n",
    "    plt.plot(band_wavelengths, reflectance, c='C0', alpha=0.01)\n",
    "\n",
    "plt.xticks(band_wavelengths, band_descriptions.keys(), ha='right', rotation=45, size=8)\n",
    "plt.xlabel('Band Name')\n",
    "plt.ylabel('Normalized Reflectance')\n",
    "    \n",
    "legend_lines = [Line2D([0], [0], color='C0', lw=2),\n",
    "                Line2D([0], [0], color='r', lw=2)]\n",
    "plt.legend(legend_lines, ['True Positives', 'False Negatives'], loc='upper left')\n",
    "\n",
    "plt.title('Spectral Profiles of True Positive and False Negative Samples')\n",
    "plt.show()"
   ]
  },
  {
   "cell_type": "code",
   "execution_count": null,
   "metadata": {},
   "outputs": [],
   "source": [
    "num_samples = 1000\n",
    "\n",
    "plt.figure(figsize=(10,4), dpi=150, facecolor=(1,1,1))\n",
    "\n",
    "for reflectance in inputs[tn_index][:num_samples]:\n",
    "    plt.plot(band_wavelengths, reflectance, c='C0', alpha=0.01)\n",
    "    \n",
    "for reflectance in inputs[fn_index][:num_samples]:\n",
    "    plt.plot(band_wavelengths, reflectance, c='r', alpha=0.01)\n",
    "\n",
    "plt.xticks(band_wavelengths, band_descriptions.keys(), ha='right', rotation=45, size=8)\n",
    "plt.xlabel('Band Name')\n",
    "plt.ylabel('Normalized Reflectance')\n",
    "    \n",
    "legend_lines = [Line2D([0], [0], color='C0', lw=2),\n",
    "                Line2D([0], [0], color='r', lw=2)]\n",
    "plt.legend(legend_lines, ['True Negatives', 'False Negatives'], loc='upper left')\n",
    "\n",
    "plt.title('Spectral Profiles of True Negative and False Negative Samples')\n",
    "plt.show()"
   ]
  },
  {
   "cell_type": "code",
   "execution_count": null,
   "metadata": {},
   "outputs": [],
   "source": [
    "num_samples = 1000\n",
    "\n",
    "plt.figure(figsize=(10,4), dpi=150, facecolor=(1,1,1))\n",
    "\n",
    "for reflectance in inputs[tp_index][:num_samples]:\n",
    "    plt.plot(band_wavelengths, reflectance, c='C0', alpha=0.01)\n",
    "    \n",
    "for reflectance in inputs[fp_index]:\n",
    "    plt.plot(band_wavelengths, reflectance, c='r', alpha=0.05)\n",
    "\n",
    "plt.xticks(band_wavelengths, band_descriptions.keys(), ha='right', rotation=45, size=8)\n",
    "plt.xlabel('Band Name')\n",
    "plt.ylabel('Normalized Reflectance')\n",
    "    \n",
    "legend_lines = [Line2D([0], [0], color='C0', lw=2),\n",
    "                Line2D([0], [0], color='r', lw=2)]\n",
    "plt.legend(legend_lines, ['True Positives', 'False Positives'], loc='upper left')\n",
    "\n",
    "plt.title('Spectral Profiles of True Positive and False Positive Samples')\n",
    "plt.show()"
   ]
  },
  {
   "cell_type": "markdown",
   "metadata": {},
   "source": [
    "## What do correctly and incorrectly classified pixels look like?"
   ]
  },
  {
   "cell_type": "markdown",
   "metadata": {},
   "source": [
    "### Scatterplot representation of category pixel colors"
   ]
  },
  {
   "cell_type": "code",
   "execution_count": null,
   "metadata": {},
   "outputs": [],
   "source": [
    "from sklearn.decomposition import PCA\n",
    "\n",
    "point_size = 5\n",
    "gamma = 0.65\n",
    "\n",
    "plt.figure(figsize=(12,12), dpi=200, facecolor=(1,1,1))\n",
    "plt.subplot(2,2,1)\n",
    "pca = PCA(n_components=2)\n",
    "pca_out = pca.fit_transform(np.squeeze(inputs[tp_index]))\n",
    "plt.scatter(pca_out[:,0], pca_out[:,1], c=rgb[tp_index][:,0,0,:] ** gamma, s=point_size)\n",
    "plt.xticks([])\n",
    "plt.yticks([])\n",
    "plt.title('True Positive Samples', size=10)\n",
    "\n",
    "plt.subplot(2,2,2)\n",
    "pca = PCA(n_components=2)\n",
    "pca_out = pca.fit_transform(np.squeeze(inputs[fn_index]))\n",
    "plt.scatter(pca_out[:,0], pca_out[:,1], c=rgb[fn_index][:,0,0,:] ** gamma, s=point_size)\n",
    "plt.xticks([])\n",
    "plt.yticks([])\n",
    "plt.title('False Negative Samples', size=10)\n",
    "\n",
    "plt.subplot(2,2,3)\n",
    "pca = PCA(n_components=2)\n",
    "pca_out = pca.fit_transform(np.squeeze(inputs[fp_index]))\n",
    "plt.scatter(pca_out[:,0], pca_out[:,1], c=rgb[fp_index][:,0,0,:] ** gamma, s=point_size)\n",
    "plt.xticks([])\n",
    "plt.yticks([])\n",
    "plt.title('False Positive Samples', size=10)\n",
    "\n",
    "\n",
    "plt.subplot(2,2,4)\n",
    "pca = PCA(n_components=2)\n",
    "pca_out = pca.fit_transform(np.squeeze(inputs[tn_index]))\n",
    "plt.scatter(pca_out[:,0], pca_out[:,1], c=rgb[tn_index][:,0,0,:] ** gamma, s=point_size)\n",
    "plt.xticks([])\n",
    "plt.yticks([])\n",
    "plt.title('True Negative Samples', size=10)\n",
    "\n",
    "plt.suptitle('PCA Dimensionality Reduction of Pixel Vectors Colored by RGB Values', size=16)\n",
    "plt.tight_layout()\n",
    "plt.show()"
   ]
  },
  {
   "cell_type": "code",
   "execution_count": null,
   "metadata": {},
   "outputs": [],
   "source": [
    "from sklearn.manifold import TSNE\n",
    "\n",
    "plt.figure(figsize=(12,12), dpi=200, facecolor=(1,1,1))\n",
    "plt.subplot(2,2,1)\n",
    "tsne = TSNE(n_components=2)\n",
    "tsne_out = tsne.fit_transform(np.squeeze(inputs[tp_index]))\n",
    "plt.scatter(tsne_out[:,0], tsne_out[:,1], c=rgb[tp_index][:,0,0,:] ** gamma, s=point_size)\n",
    "plt.xticks([])\n",
    "plt.yticks([])\n",
    "plt.title('True Positive Samples', size=10)\n",
    "\n",
    "plt.subplot(2,2,2)\n",
    "tsne = TSNE(n_components=2)\n",
    "tsne_out = tsne.fit_transform(np.squeeze(inputs[fn_index]))\n",
    "plt.scatter(tsne_out[:,0], tsne_out[:,1], c=rgb[fn_index][:,0,0,:] ** gamma, s=point_size)\n",
    "plt.xticks([])\n",
    "plt.yticks([])\n",
    "plt.title('False Negative Samples', size=10)\n",
    "\n",
    "plt.subplot(2,2,3)\n",
    "tsne = TSNE(n_components=2)\n",
    "tsne_out = tsne.fit_transform(np.squeeze(inputs[fp_index]))\n",
    "plt.scatter(tsne_out[:,0], tsne_out[:,1], c=rgb[fp_index][:,0,0,:] ** gamma, s=point_size)\n",
    "plt.xticks([])\n",
    "plt.yticks([])\n",
    "plt.title('False Positive Samples', size=10)\n",
    "\n",
    "\n",
    "plt.subplot(2,2,4)\n",
    "tsne = TSNE(n_components=2)\n",
    "tsne_out = tsne.fit_transform(np.squeeze(inputs[tn_index]))\n",
    "plt.scatter(tsne_out[:,0], tsne_out[:,1], c=rgb[tn_index][:,0,0,:] ** gamma, s=point_size)\n",
    "plt.xticks([])\n",
    "plt.yticks([])\n",
    "plt.title('True Negative Samples', size=10)\n",
    "\n",
    "plt.suptitle('tSNE Dimensionality Reduction of Pixel Vectors Colored by RGB Values', size=16)\n",
    "plt.tight_layout()\n",
    "plt.show()"
   ]
  },
  {
   "cell_type": "markdown",
   "metadata": {},
   "source": [
    "### Visualize pixel colors directly"
   ]
  },
  {
   "cell_type": "code",
   "execution_count": null,
   "metadata": {},
   "outputs": [],
   "source": [
    "def plot_pixel_grid(preds, colors, title):\n",
    "    plt.figure(figsize=(20,20), dpi=50, facecolor=(1,1,1))\n",
    "    num_samples = np.min([len(preds), 100])\n",
    "    indices = np.random.choice(len(preds), num_samples)\n",
    "    for i in range(num_samples):\n",
    "        index = indices[i]\n",
    "        pred = preds[index]\n",
    "        rgb = colors[index] ** gamma\n",
    "        plt.subplot(10,10,i + 1)\n",
    "        plt.imshow(rgb)\n",
    "        plt.axis('off')\n",
    "        plt.title(f\"{pred[1]:.2f}\")\n",
    "    plt.suptitle(title, size=40, y=1.01)\n",
    "    plt.tight_layout()\n",
    "    plt.show()"
   ]
  },
  {
   "cell_type": "code",
   "execution_count": null,
   "metadata": {},
   "outputs": [],
   "source": [
    "plot_pixel_grid(preds[tp_index], rgb[tp_index], 'Colors of Randomly Selected True Positives and Prediction Values')"
   ]
  },
  {
   "cell_type": "code",
   "execution_count": null,
   "metadata": {},
   "outputs": [],
   "source": [
    "plot_pixel_grid(preds[tn_index], rgb[tn_index], 'Colors of Randomly Selected True Negatives and Prediction Values')"
   ]
  },
  {
   "cell_type": "code",
   "execution_count": null,
   "metadata": {},
   "outputs": [],
   "source": [
    "plot_pixel_grid(preds[fp_index], rgb[fp_index], 'Colors of Randomly Selected False Positives and Prediction Values')"
   ]
  },
  {
   "cell_type": "code",
   "execution_count": null,
   "metadata": {},
   "outputs": [],
   "source": [
    "plot_pixel_grid(preds[fn_index], rgb[fn_index], 'Colors of Randomly Selected False Negatives and Prediction Values')"
   ]
  }
 ],
 "metadata": {
  "kernelspec": {
   "display_name": "Python 3",
   "language": "python",
   "name": "python3"
  },
  "language_info": {
   "codemirror_mode": {
    "name": "ipython",
    "version": 3
   },
   "file_extension": ".py",
   "mimetype": "text/x-python",
   "name": "python",
   "nbconvert_exporter": "python",
   "pygments_lexer": "ipython3",
   "version": "3.6.5"
  }
 },
 "nbformat": 4,
 "nbformat_minor": 4
}
