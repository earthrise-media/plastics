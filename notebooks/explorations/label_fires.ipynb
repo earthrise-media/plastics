{
 "cells": [
  {
   "cell_type": "code",
   "execution_count": null,
   "metadata": {},
   "outputs": [],
   "source": [
    "%load_ext autoreload\n",
    "%autoreload 2"
   ]
  },
  {
   "cell_type": "code",
   "execution_count": null,
   "metadata": {},
   "outputs": [],
   "source": [
    "import numpy as np\n",
    "import matplotlib.pyplot as plt\n",
    "from superintendent import ClassLabeller\n",
    "import pickle\n",
    "from tqdm.notebook import tqdm\n",
    "\n",
    "from scripts import dl_utils\n",
    "from scripts.viz_tools import plot_image_grid"
   ]
  },
  {
   "cell_type": "code",
   "execution_count": null,
   "metadata": {},
   "outputs": [],
   "source": [
    "def compute_sahm(p):\n",
    "    p = p.astype(int)\n",
    "    sahm = (p[:,:,11] - p[:,:,10]) / (p[:,:,11] + p[:,:,10])\n",
    "    sahm[p.mask[:,:,0]] = np.nan\n",
    "    return sahm"
   ]
  },
  {
   "cell_type": "code",
   "execution_count": null,
   "metadata": {},
   "outputs": [],
   "source": [
    "rect_width = 0.01\n",
    "coords = [107.97332905436846,-6.787530131094053]\n",
    "start_date = '2016-06-01'\n",
    "end_date = '2022-01-01'\n",
    "patches, raster_info = dl_utils.download_patch(dl_utils.rect_from_point(coords, rect_width), start_date, end_date)\n",
    "cloud_free = [index for index, p in enumerate(patches) if np.sum(p.mask) / np.size(p) < 0.50]\n",
    "patches = [patches[i] for i in cloud_free]\n",
    "raster_info = [raster_info[i] for i in cloud_free]\n",
    "dates = [r['metadata']['']['id'][15:25] for r in raster_info]"
   ]
  },
  {
   "cell_type": "code",
   "execution_count": null,
   "metadata": {},
   "outputs": [],
   "source": [
    "sahm = np.array([compute_sahm(patch) for patch in patches])\n",
    "candidates = [i for i, patch in enumerate(sahm) if np.nansum(patch > 0.0) > 0]\n",
    "num_img = int(np.ceil(np.sqrt(len(candidates))))\n",
    "rgb_img = []\n",
    "for i in candidates:\n",
    "    img = np.clip(patches[i][:,:,3:0:-1] / 3000, 0, 1)\n",
    "    sahm = compute_sahm(patches[i])\n",
    "    sahm_img = np.copy(img)\n",
    "    sahm_img[sahm > 0.0] = 1\n",
    "    rgb_img.append(np.concatenate((img, sahm_img), 1))\n",
    "#rgb_img = [np.clip(patches[i][:,:,3:0:-1] / 3000, 0, 1) for i in candidates]\n",
    "print(len(candidates))"
   ]
  },
  {
   "cell_type": "code",
   "execution_count": null,
   "metadata": {},
   "outputs": [],
   "source": [
    "widget = ClassLabeller.from_images(\n",
    "    features=rgb_img,\n",
    "    canvas_size=(1000, 500),\n",
    "    options=['Fire', 'uncertain', 'No Fire']\n",
    ")\n",
    "widget"
   ]
  },
  {
   "cell_type": "code",
   "execution_count": null,
   "metadata": {},
   "outputs": [],
   "source": [
    "labels = np.array(widget.new_labels)"
   ]
  },
  {
   "cell_type": "code",
   "execution_count": null,
   "metadata": {},
   "outputs": [],
   "source": [
    "label_class = 1\n",
    "fn = f\"{coords[0]:.3f}-{coords[1]:.3f}_class-{label_class}\"\n",
    "data_index = np.array(candidates)[np.where(labels == 'Fire')[0]]\n",
    "if len(data_index) > 1:\n",
    "    data_to_dump = np.array(patches)[data_index]\n",
    "    with open(f'../../data/training_data/fires/{fn}.pkl', 'wb') as f:\n",
    "        pickle.dump(data_to_dump, f)\n",
    "    with open(f'../../data/training_data/fires/{fn}_labels.pkl', 'wb') as f:\n",
    "        pickle.dump([label_class] * len(data_to_dump), f)\n",
    "    # View all images\n",
    "    figure_file_path = f'../../data/training_data/fires/{fn}.png'\n",
    "    plot_image_grid(data_to_dump, file_path=figure_file_path)"
   ]
  },
  {
   "cell_type": "code",
   "execution_count": null,
   "metadata": {},
   "outputs": [],
   "source": [
    "label_class = 0\n",
    "fn = f\"{coords[0]:.3f}-{coords[1]:.3f}_class-{label_class}\"\n",
    "data_index = np.array(candidates)[np.where(labels == 'No Fire')[0]]\n",
    "data_to_dump = np.array(patches)[data_index]\n",
    "with open(f'../../data/training_data/fires/{fn}.pkl', 'wb') as f:\n",
    "    pickle.dump(data_to_dump, f)\n",
    "with open(f'../../data/training_data/fires/{fn}_labels.pkl', 'wb') as f:\n",
    "    pickle.dump([label_class] * len(data_to_dump), f)\n",
    "# View all images\n",
    "figure_file_path = f'../../data/training_data/fires/{fn}.png'\n",
    "plot_image_grid(data_to_dump, file_path=figure_file_path)"
   ]
  },
  {
   "cell_type": "code",
   "execution_count": null,
   "metadata": {},
   "outputs": [],
   "source": []
  }
 ],
 "metadata": {
  "interpreter": {
   "hash": "d425afa4a959a86aa036beaa1a58ff3469f38e31f3ec97f5785c695b9108eced"
  },
  "kernelspec": {
   "display_name": "Python 3.9.7 64-bit ('m1-plastics': conda)",
   "language": "python",
   "name": "python3"
  },
  "language_info": {
   "codemirror_mode": {
    "name": "ipython",
    "version": 3
   },
   "file_extension": ".py",
   "mimetype": "text/x-python",
   "name": "python",
   "nbconvert_exporter": "python",
   "pygments_lexer": "ipython3",
   "version": "3.9.7"
  },
  "orig_nbformat": 4
 },
 "nbformat": 4,
 "nbformat_minor": 2
}
