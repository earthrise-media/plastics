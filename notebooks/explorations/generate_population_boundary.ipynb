{
 "cells": [
  {
   "cell_type": "code",
   "execution_count": null,
   "metadata": {},
   "outputs": [],
   "source": [
    "import geopandas as gpd\n",
    "import json\n",
    "import shapely\n",
    "import pandas as pd\n",
    "import ee\n",
    "import matplotlib.pyplot as plt\n"
   ]
  },
  {
   "cell_type": "code",
   "execution_count": null,
   "metadata": {},
   "outputs": [],
   "source": [
    "def get_country_roi(country_name, pop_threshold=0.25, plot=True):\n",
    "    ee.Initialize()\n",
    "\n",
    "    dataset = ee.ImageCollection(\"WorldPop/GP/100m/pop\");\n",
    "\n",
    "    country = ee.FeatureCollection('USDOS/LSIB_SIMPLE/2017').filter(ee.Filter.eq('country_na', country_name));\n",
    "    country_bounds = gpd.GeoDataFrame.from_features(country.getInfo()['features'], crs='WGS84')\n",
    "\n",
    "    data = ee.Image(dataset.select('population').reduce(ee.Reducer.median())).clipToCollection(country);\n",
    "    zones = data.gt(pop_threshold);\n",
    "    zones = zones.updateMask(zones.neq(0));\n",
    "\n",
    "    vectors = zones.addBands(data).reduceToVectors(\n",
    "        geometry = country,\n",
    "        crs = data.projection(),\n",
    "        scale = 2000,\n",
    "        geometryType = 'polygon',\n",
    "        eightConnected = True,\n",
    "        labelProperty = 'zone',\n",
    "        reducer = ee.Reducer.mean())\n",
    "\n",
    "    url = vectors.getDownloadURL()\n",
    "    df = pd.read_csv(url)\n",
    "    geoms = [shapely.geometry.Polygon(json.loads(g)['coordinates'][0]) for g in df['.geo']]\n",
    "    polygons = gpd.GeoDataFrame(geometry=geoms, crs='EPSG:4326')\n",
    "\n",
    "    area = polygons.to_crs('epsg:3857')['geometry'].area.sum() / 10 ** 6\n",
    "    country_area = (country_bounds.to_crs('epsg:3857')['geometry'].area / 10 ** 6).values[0]\n",
    "    print(f\"{area / country_area:.3%}\")\n",
    "    print(f\"Approx DL Tiles: {area / 1000 * 15:.0f}\")\n",
    "    print(f\"Approx DL Time: {(area / 1000 * 15) / 500:.2f}\")\n",
    "\n",
    "    if plot:\n",
    "        fig, ax = plt.subplots(figsize=(8,5), dpi=150)\n",
    "        country_bounds.plot(ax=ax)\n",
    "        polygons.plot(ax=ax, color='r')\n",
    "        plt.xticks([])\n",
    "        plt.yticks([])\n",
    "        plt.title(f\"{country_name}, Pop Threshold {pop_threshold}\\nApprox DL Tiles: {area / 1000 * 15:.0f}\\nApprox DL Time: {(area / 1000 * 15) / 500:.2f}\")\n",
    "        plt.show()\n",
    "    \n",
    "    polygons.to_file(f'../../data/boundaries/{country_name.lower()}_pop_{pop_threshold}.geojson', driver='GeoJSON')\n",
    "    return polygons"
   ]
  },
  {
   "cell_type": "code",
   "execution_count": null,
   "metadata": {},
   "outputs": [],
   "source": [
    "polygons = get_country_roi('Indonesia', 0.5)"
   ]
  },
  {
   "cell_type": "code",
   "execution_count": null,
   "metadata": {},
   "outputs": [],
   "source": []
  }
 ],
 "metadata": {
  "interpreter": {
   "hash": "d425afa4a959a86aa036beaa1a58ff3469f38e31f3ec97f5785c695b9108eced"
  },
  "kernelspec": {
   "display_name": "Python 3.9.7 ('m1-plastics')",
   "language": "python",
   "name": "python3"
  },
  "language_info": {
   "codemirror_mode": {
    "name": "ipython",
    "version": 3
   },
   "file_extension": ".py",
   "mimetype": "text/x-python",
   "name": "python",
   "nbconvert_exporter": "python",
   "pygments_lexer": "ipython3",
   "version": "3.9.7"
  },
  "orig_nbformat": 4
 },
 "nbformat": 4,
 "nbformat_minor": 2
}
