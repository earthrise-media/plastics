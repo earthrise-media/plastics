{
 "cells": [
  {
   "cell_type": "code",
   "execution_count": 12,
   "source": [
    "import geopandas as gpd\n",
    "import numpy as np\n",
    "import matplotlib.pyplot as plt\n",
    "import pandas as pd\n",
    "import shapely"
   ],
   "outputs": [],
   "metadata": {}
  },
  {
   "cell_type": "code",
   "execution_count": 35,
   "source": [
    "tpa = gpd.read_file('../data/sampling_locations/tpa_points.geojson')\n",
    "tpa.head()"
   ],
   "outputs": [
    {
     "output_type": "execute_result",
     "data": {
      "text/html": [
       "<div>\n",
       "<style scoped>\n",
       "    .dataframe tbody tr th:only-of-type {\n",
       "        vertical-align: middle;\n",
       "    }\n",
       "\n",
       "    .dataframe tbody tr th {\n",
       "        vertical-align: top;\n",
       "    }\n",
       "\n",
       "    .dataframe thead th {\n",
       "        text-align: right;\n",
       "    }\n",
       "</style>\n",
       "<table border=\"1\" class=\"dataframe\">\n",
       "  <thead>\n",
       "    <tr style=\"text-align: right;\">\n",
       "      <th></th>\n",
       "      <th>id</th>\n",
       "      <th>From Kab</th>\n",
       "      <th>From_#KEC</th>\n",
       "      <th>ID</th>\n",
       "      <th>Kab</th>\n",
       "      <th>Kecamatan</th>\n",
       "      <th>Name</th>\n",
       "      <th>Surface_Ha</th>\n",
       "      <th>TOT_Kg/Day</th>\n",
       "      <th>geometry</th>\n",
       "    </tr>\n",
       "  </thead>\n",
       "  <tbody>\n",
       "    <tr>\n",
       "      <th>0</th>\n",
       "      <td>00000000000000000004</td>\n",
       "      <td>NaN</td>\n",
       "      <td>NaN</td>\n",
       "      <td>5</td>\n",
       "      <td>Klungkung</td>\n",
       "      <td>Nusa Penida</td>\n",
       "      <td>TPA Jungut Batu</td>\n",
       "      <td>1.20</td>\n",
       "      <td>NaN</td>\n",
       "      <td>POINT (115.45941 -8.67096)</td>\n",
       "    </tr>\n",
       "    <tr>\n",
       "      <th>1</th>\n",
       "      <td>00000000000000000005</td>\n",
       "      <td>1.0</td>\n",
       "      <td>1.0</td>\n",
       "      <td>6</td>\n",
       "      <td>Klungkung</td>\n",
       "      <td>Nusa Penida</td>\n",
       "      <td>TPA Biaung</td>\n",
       "      <td>1.85</td>\n",
       "      <td>9433.0</td>\n",
       "      <td>POINT (115.49802 -8.67993)</td>\n",
       "    </tr>\n",
       "    <tr>\n",
       "      <th>2</th>\n",
       "      <td>00000000000000000003</td>\n",
       "      <td>1.0</td>\n",
       "      <td>3.0</td>\n",
       "      <td>4</td>\n",
       "      <td>Klungkung</td>\n",
       "      <td>Dawan</td>\n",
       "      <td>TPA Sente</td>\n",
       "      <td>1.00</td>\n",
       "      <td>43219.0</td>\n",
       "      <td>POINT (115.45446 -8.53037)</td>\n",
       "    </tr>\n",
       "    <tr>\n",
       "      <th>3</th>\n",
       "      <td>00000000000000000006</td>\n",
       "      <td>1.0</td>\n",
       "      <td>4.0</td>\n",
       "      <td>7</td>\n",
       "      <td>Bangli</td>\n",
       "      <td>Bangli</td>\n",
       "      <td>TPA Regional Bangli</td>\n",
       "      <td>0.99</td>\n",
       "      <td>47350.0</td>\n",
       "      <td>POINT (115.36793 -8.35354)</td>\n",
       "    </tr>\n",
       "    <tr>\n",
       "      <th>4</th>\n",
       "      <td>00000000000000000008</td>\n",
       "      <td>1.0</td>\n",
       "      <td>5.0</td>\n",
       "      <td>9</td>\n",
       "      <td>Jembrana</td>\n",
       "      <td>Negara</td>\n",
       "      <td>TPA Peh</td>\n",
       "      <td>2.00</td>\n",
       "      <td>38130.0</td>\n",
       "      <td>POINT (114.58329 -8.32794)</td>\n",
       "    </tr>\n",
       "  </tbody>\n",
       "</table>\n",
       "</div>"
      ],
      "text/plain": [
       "                     id  From Kab  From_#KEC  ID        Kab    Kecamatan  \\\n",
       "0  00000000000000000004       NaN        NaN   5  Klungkung  Nusa Penida   \n",
       "1  00000000000000000005       1.0        1.0   6  Klungkung  Nusa Penida   \n",
       "2  00000000000000000003       1.0        3.0   4  Klungkung        Dawan   \n",
       "3  00000000000000000006       1.0        4.0   7     Bangli       Bangli   \n",
       "4  00000000000000000008       1.0        5.0   9   Jembrana       Negara   \n",
       "\n",
       "                  Name  Surface_Ha  TOT_Kg/Day                    geometry  \n",
       "0      TPA Jungut Batu        1.20         NaN  POINT (115.45941 -8.67096)  \n",
       "1           TPA Biaung        1.85      9433.0  POINT (115.49802 -8.67993)  \n",
       "2            TPA Sente        1.00     43219.0  POINT (115.45446 -8.53037)  \n",
       "3  TPA Regional Bangli        0.99     47350.0  POINT (115.36793 -8.35354)  \n",
       "4              TPA Peh        2.00     38130.0  POINT (114.58329 -8.32794)  "
      ]
     },
     "metadata": {},
     "execution_count": 35
    }
   ],
   "metadata": {}
  },
  {
   "cell_type": "code",
   "execution_count": 39,
   "source": [
    "plt.scatter(tpa['Surface_Ha'], tpa['TOT_Kg/Day'])\n",
    "plt.xlabel('Surface Area (Ha)')\n",
    "plt.ylabel('Waste Flow (kg/day)')\n",
    "plt.show()"
   ],
   "outputs": [
    {
     "output_type": "display_data",
     "data": {
      "image/png": "[encoded data removed]",
      "text/plain": [
       "<Figure size 432x288 with 1 Axes>"
      ]
     },
     "metadata": {
      "needs_background": "light"
     }
    }
   ],
   "metadata": {}
  },
  {
   "cell_type": "code",
   "execution_count": 6,
   "source": [
    "contours = gpd.read_file('../data/model_outputs/site_contours/v2.1/indonesia_v0_mask_window_8_upsampled_4_contours_model_v0.0.11_ensemble-8-25-21.geojson')"
   ],
   "outputs": [],
   "metadata": {}
  },
  {
   "cell_type": "code",
   "execution_count": 11,
   "source": [
    "index = []\n",
    "for elem in contours['name']:\n",
    "    if 'bali' in elem:\n",
    "        index.append(True)\n",
    "    else:\n",
    "        index.append(False)\n",
    "bali = contours[index]"
   ],
   "outputs": [],
   "metadata": {}
  },
  {
   "cell_type": "code",
   "execution_count": 31,
   "source": [
    "a.within()"
   ],
   "outputs": [
    {
     "output_type": "execute_result",
     "data": {
      "text/html": [
       "<div>\n",
       "<style scoped>\n",
       "    .dataframe tbody tr th:only-of-type {\n",
       "        vertical-align: middle;\n",
       "    }\n",
       "\n",
       "    .dataframe tbody tr th {\n",
       "        vertical-align: top;\n",
       "    }\n",
       "\n",
       "    .dataframe thead th {\n",
       "        text-align: right;\n",
       "    }\n",
       "</style>\n",
       "<table border=\"1\" class=\"dataframe\">\n",
       "  <thead>\n",
       "    <tr style=\"text-align: right;\">\n",
       "      <th></th>\n",
       "      <th>name</th>\n",
       "      <th>date</th>\n",
       "      <th>area (km^2)</th>\n",
       "      <th>geometry</th>\n",
       "    </tr>\n",
       "  </thead>\n",
       "  <tbody>\n",
       "    <tr>\n",
       "      <th>3816</th>\n",
       "      <td>bali_v0.0.7_2019-01-01_2021-06-01mosaic-median_1</td>\n",
       "      <td>2016-12-01T00:00:00</td>\n",
       "      <td>0.000000</td>\n",
       "      <td>None</td>\n",
       "    </tr>\n",
       "    <tr>\n",
       "      <th>3817</th>\n",
       "      <td>bali_v0.0.7_2019-01-01_2021-06-01mosaic-median_1</td>\n",
       "      <td>2017-03-01T00:00:00</td>\n",
       "      <td>0.001076</td>\n",
       "      <td>MULTIPOLYGON (((114.58369 -8.32736, 114.58359 ...</td>\n",
       "    </tr>\n",
       "    <tr>\n",
       "      <th>3818</th>\n",
       "      <td>bali_v0.0.7_2019-01-01_2021-06-01mosaic-median_1</td>\n",
       "      <td>2017-06-01T00:00:00</td>\n",
       "      <td>0.000000</td>\n",
       "      <td>None</td>\n",
       "    </tr>\n",
       "    <tr>\n",
       "      <th>3819</th>\n",
       "      <td>bali_v0.0.7_2019-01-01_2021-06-01mosaic-median_1</td>\n",
       "      <td>2017-12-01T00:00:00</td>\n",
       "      <td>0.000000</td>\n",
       "      <td>None</td>\n",
       "    </tr>\n",
       "    <tr>\n",
       "      <th>3820</th>\n",
       "      <td>bali_v0.0.7_2019-01-01_2021-06-01mosaic-median_1</td>\n",
       "      <td>2018-03-01T00:00:00</td>\n",
       "      <td>0.000000</td>\n",
       "      <td>None</td>\n",
       "    </tr>\n",
       "  </tbody>\n",
       "</table>\n",
       "</div>"
      ],
      "text/plain": [
       "                                                  name                 date  \\\n",
       "3816  bali_v0.0.7_2019-01-01_2021-06-01mosaic-median_1  2016-12-01T00:00:00   \n",
       "3817  bali_v0.0.7_2019-01-01_2021-06-01mosaic-median_1  2017-03-01T00:00:00   \n",
       "3818  bali_v0.0.7_2019-01-01_2021-06-01mosaic-median_1  2017-06-01T00:00:00   \n",
       "3819  bali_v0.0.7_2019-01-01_2021-06-01mosaic-median_1  2017-12-01T00:00:00   \n",
       "3820  bali_v0.0.7_2019-01-01_2021-06-01mosaic-median_1  2018-03-01T00:00:00   \n",
       "\n",
       "      area (km^2)                                           geometry  \n",
       "3816     0.000000                                               None  \n",
       "3817     0.001076  MULTIPOLYGON (((114.58369 -8.32736, 114.58359 ...  \n",
       "3818     0.000000                                               None  \n",
       "3819     0.000000                                               None  \n",
       "3820     0.000000                                               None  "
      ]
     },
     "metadata": {},
     "execution_count": 31
    }
   ],
   "metadata": {}
  },
  {
   "cell_type": "code",
   "execution_count": 65,
   "source": [
    "site_info = {}\n",
    "for tpa_index in range(len(tpa)):\n",
    "    tpa_row = tpa.iloc[tpa_index]\n",
    "    tpa_name = tpa_row['Name']\n",
    "    tpa_volume = tpa_row['TOT_Kg/Day']\n",
    "    tpa_area = tpa_row['Surface_Ha']\n",
    "    tpa_location = tpa_row['geometry']\n",
    "    site_info[tpa_name] = {\n",
    "        'volume': tpa_volume,\n",
    "        'area': tpa_area,\n",
    "        'contour_areas': []\n",
    "    }\n",
    "    for idx in range(len(bali)): \n",
    "        row = bali.iloc[idx]\n",
    "        contour = row['geometry']\n",
    "        area = row['area (km^2)']\n",
    "        if contour != None:\n",
    "            display(contour.buffer(0.002).area)\n",
    "            if contour.buffer(0.002).contains(tpa_location):\n",
    "                site_info[tpa_name]['contour_areas'].append(area)"
   ],
   "outputs": [],
   "metadata": {}
  },
  {
   "cell_type": "code",
   "execution_count": 73,
   "source": [
    "contour.buffer(0.002).area"
   ],
   "outputs": [
    {
     "output_type": "execute_result",
     "data": {
      "text/plain": [
       "1.4836260298342139e-05"
      ]
     },
     "metadata": {},
     "execution_count": 73
    }
   ],
   "metadata": {}
  },
  {
   "cell_type": "code",
   "execution_count": 70,
   "source": [
    "for site in site_info:\n",
    "    print(site, site_info[site]['contour_areas'])\n",
    "    print(site, np.mean(site_info[site]['contour_areas']))"
   ],
   "outputs": [
    {
     "output_type": "stream",
     "name": "stdout",
     "text": [
      "TPA Jungut Batu [0.00507041151491781, 0.007152729104620065, 0.008287367830792137, 0.005927837077229959, 0.0077748487117872845, 0.0013860635103113733]\n",
      "TPA Jungut Batu 0.005933209624943105\n",
      "TPA Biaung [0.017452789496286262, 0.009295266153621867, 0.009330720683809161, 0.006736167350536228, 0.00750002940444229, 0.00848950513430433, 0.008766687104779805, 0.012476412436908986, 0.01199940181521849, 0.01180601924726822, 0.01220567677493906, 0.012034855419062353, 0.012882516949871388, 0.01186725729063375]\n",
      "TPA Biaung 0.010917378947263015\n",
      "TPA Sente []\n",
      "TPA Sente nan\n",
      "TPA Regional Bangli [0.0012551505524068648, 0.0026486919358798128, 0.007350679414943383, 0.0018891644475783533, 0.0018891644475783533, 0.0033470685855543835, 0.00567070489048847, 0.009867415281625408, 0.006851834922581601, 0.00568035995268577, 0.0016220416828548953]\n",
      "TPA Regional Bangli 0.004370206919470663\n",
      "TPA Peh [0.0010755124077217399, 0.0012245289187785523]\n",
      "TPA Peh 0.001150020663250146\n",
      "TPA Temesi [0.009674730111218683, 0.0011408562769917056, 0.002565320427976901, 0.007473593088815914, 0.0037351836877750903, 0.011901668417803792, 0.01088005081504869, 0.01856313399302667, 0.0156980982806821]\n",
      "TPA Temesi 0.009070292788815503\n",
      "TPA Bengkala [0.01960001312977856, 0.02477414715003126, 0.0024311125510252905, 0.0011383798028893617, 0.002784846258122825, 0.0011255164973791776, 0.005839819269741279, 0.010293660355898262, 0.014956486984885083, 0.018355536085130277, 0.023147020124698933, 0.015384184231612936, 0.014303701618780364, 0.010325799764079104, 0.01581510623549677]\n",
      "TPA Bengkala 0.0120183553373033\n",
      "TPA Bebandem [0.011332545517581522, 0.008727005569778252, 0.006864513829971858, 0.0055617352547266295, 0.0047543354946794425, 0.0047543354946794425, 0.004484129574100536, 0.004976290508505846, 0.005336563707625251, 0.005272229463051048, 0.010862880006055007, 0.010193790947298631, 0.01360351687541073, 0.011361449078358383, 0.01216884552896755, 0.011667036180096723]\n",
      "TPA Bebandem 0.008245075189430427\n",
      "TPA Mandung [0.010824592081665635, 0.009647305254222032, 0.006560571182936074, 0.006634739908832299, 0.006473467407121799, 0.0024739153812054493, 0.004386604244220101, 0.006302518087315271, 0.009540864872757905, 0.009621499651846825, 0.006744402764319766, 0.004083411603715783, 0.009876308628319985, 0.010282716173596846, 0.004915575384413054, 0.010595584594061085]\n",
      "TPA Mandung 0.00743525482628437\n",
      "TPA Regional Suwung [0.07326551866174799, 0.2720570194352335, 0.026699531438743266, 0.02397535992748644, 0.1327491224351591, 0.08332001336542168, 0.08310041601997553, 0.06576447786179988, 0.0757187469585063, 0.08862000637525218, 0.083630015483266, 0.08787769074981269, 0.07579966929637084, 0.06175908133907101, 0.06415081477680434]\n",
      "TPA Regional Suwung 0.08656583227497673\n"
     ]
    }
   ],
   "metadata": {}
  },
  {
   "cell_type": "code",
   "execution_count": 66,
   "source": [
    "x = [site_info[site]['volume'] for site in site_info]\n",
    "y = [np.mean(site_info[site]['contour_areas']) for site in site_info]\n",
    "plt.scatter(x,y)\n",
    "plt.xlabel('Measured Volume')\n",
    "plt.ylabel('Computed Area')\n",
    "plt.xlim([0, 350000])\n",
    "plt.ylim([0, 0.02])\n",
    "plt.show()"
   ],
   "outputs": [
    {
     "output_type": "stream",
     "name": "stderr",
     "text": [
      "/Users/ckruse/.pyenv/versions/3.7.9/envs/venv-plastics/lib/python3.7/site-packages/numpy/core/fromnumeric.py:3441: RuntimeWarning: Mean of empty slice.\n",
      "  out=out, **kwargs)\n",
      "/Users/ckruse/.pyenv/versions/3.7.9/envs/venv-plastics/lib/python3.7/site-packages/numpy/core/_methods.py:189: RuntimeWarning: invalid value encountered in double_scalars\n",
      "  ret = ret.dtype.type(ret / rcount)\n"
     ]
    },
    {
     "output_type": "display_data",
     "data": {
      "image/png": "[encoded data removed]",
      "text/plain": [
       "<Figure size 432x288 with 1 Axes>"
      ]
     },
     "metadata": {
      "needs_background": "light"
     }
    }
   ],
   "metadata": {}
  },
  {
   "cell_type": "code",
   "execution_count": 58,
   "source": [
    "for name, mass in zip(tpa['Name'], tpa['TOT_Kg/Day']):\n",
    "    print(f'{name}: {mass:,.0f}')"
   ],
   "outputs": [
    {
     "output_type": "stream",
     "name": "stdout",
     "text": [
      "TPA Jungut Batu: nan\n",
      "TPA Biaung: 9,433\n",
      "TPA Sente: 43,219\n",
      "TPA Regional Bangli: 47,350\n",
      "TPA Peh: 38,130\n",
      "TPA Temesi: 209,560\n",
      "TPA Bengkala: 125,350\n",
      "TPA Bebandem: 43,860\n",
      "TPA Mandung: 64,580\n",
      "TPA Regional Suwung: 1,358,533\n"
     ]
    }
   ],
   "metadata": {}
  }
 ],
 "metadata": {
  "orig_nbformat": 4,
  "language_info": {
   "name": "python",
   "version": "3.7.9",
   "mimetype": "text/x-python",
   "codemirror_mode": {
    "name": "ipython",
    "version": 3
   },
   "pygments_lexer": "ipython3",
   "nbconvert_exporter": "python",
   "file_extension": ".py"
  },
  "kernelspec": {
   "name": "python3",
   "display_name": "Python 3.7.9 64-bit ('venv-plastics': pyenv)"
  },
  "interpreter": {
   "hash": "4a01d8cce8e3093998fa99b03bade8c0e7fde9c8096298c7b656f9b435102d6b"
  }
 },
 "nbformat": 4,
 "nbformat_minor": 2
}