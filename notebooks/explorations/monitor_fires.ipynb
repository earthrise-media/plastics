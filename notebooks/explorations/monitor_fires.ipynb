{
 "cells": [
  {
   "cell_type": "markdown",
   "metadata": {},
   "source": [
    "# Detect fires at a location\n",
    "A simplified version of Krishna's `s2_fires_exploration` notebook"
   ]
  },
  {
   "cell_type": "code",
   "execution_count": null,
   "metadata": {},
   "outputs": [],
   "source": [
    "import numpy as np\n",
    "import matplotlib.pyplot as plt\n",
    "import cv2\n",
    "\n",
    "from scripts import dl_utils"
   ]
  },
  {
   "cell_type": "code",
   "execution_count": null,
   "metadata": {},
   "outputs": [],
   "source": [
    "def fire_detection(img):\n",
    "    '''\n",
    "    run fire detection on an L8/S2 image. \n",
    "    assumes stack has been rasterized with raw unscaled values\n",
    "    assumes band ordering:\n",
    "        bands = [\n",
    "            'coastal-aerosol',\n",
    "            'blue',\n",
    "            'green',\n",
    "            'red',\n",
    "            'nir',\n",
    "            'swir1',\n",
    "            'swir2',\n",
    "            'cloud-mask'\n",
    "        ]\n",
    "    \n",
    "    Algorithm adapted from paper:\n",
    "        Active fire detection using Landsat-8/OLI data\n",
    "        Schroeder 2015\n",
    "    '''\n",
    "    img = img.astype(int)\n",
    "    cond1 = (img[:, :,11] / img[:, :, 7]) > 2.5\n",
    "    cond2 = (img[:, :,11] - img[:, :, 7]) > 0.3\n",
    "    cond3 = (img[:, :,11] > 0.5)\n",
    "    \n",
    "    check1 = (cond1 & cond2 & cond3)\n",
    "    \n",
    "    cond4 = (img[:, :, 10] > 0.8)\n",
    "    cond5 = (img[:, :, 0] < 0.2)\n",
    "    cond6 = (img[: ,:, 7] > 0.4)\n",
    "    cond7 = (img[:, :, 11] < 0.1)\n",
    "    \n",
    "    check2 = (cond4 & cond5 & (cond6 | cond7))\n",
    "    \n",
    "    fire_pix = np.logical_or(check1, check2)\n",
    "    fire_pix[img.mask[:,:,0]] = 0\n",
    "    \n",
    "    # NOT FROM PAPER: throw on a light dilation of fire pixels\n",
    "    fire_pix = cv2.dilate(fire_pix.astype(np.uint8), np.ones((3, 3), np.uint8), iterations=1)\n",
    "        \n",
    "    return fire_pix"
   ]
  },
  {
   "cell_type": "code",
   "execution_count": null,
   "metadata": {},
   "outputs": [],
   "source": [
    "def new_fire_algo(p):\n",
    "    p = p.astype(int)\n",
    "    # Check red/SWIR2 ratio\n",
    "    condition_1 = p[:,:,3] <= 1.045 * p[:,:,11] - 0.071 * 3000\n",
    "    # Check SWIR2/SWIR1 ratio\n",
    "    condition_2 = p[:,:,11] / p[:,:, 10] > 1\n",
    "    fire_pixels = np.logical_and(condition_1, condition_2)\n",
    "    fire_pixels[p.mask[:,:,0]] = 0\n",
    "    return fire_pixels"
   ]
  },
  {
   "cell_type": "code",
   "execution_count": null,
   "metadata": {},
   "outputs": [],
   "source": [
    "from scripts import viz_tools\n",
    "viz_tools.band_descriptions"
   ]
  },
  {
   "cell_type": "code",
   "execution_count": null,
   "metadata": {},
   "outputs": [],
   "source": [
    "threshold = 0.1\n",
    "for p in patches:\n",
    "    p = p.astype(int)\n",
    "    sahm = (p[:,:,11] - p[:,:,10]) / (p[:,:,11] + p[:,:,10])\n",
    "    sahm = p[:,:,11] > 3000\n",
    "    sahm[p.mask[:,:,0]] = 0\n",
    "    if np.sum(sahm > threshold) > 0:\n",
    "        plt.figure(figsize=(8,5), dpi=150)\n",
    "        plt.subplot(1,2,1)\n",
    "        plt.title(f'RGB')\n",
    "        rgb = np.clip(p[:,:,3:0:-1] / 3000, 0, 1)\n",
    "        plt.imshow(rgb)\n",
    "        plt.axis('off')\n",
    "        plt.subplot(1,2,2)\n",
    "        fire_pix = sahm > threshold\n",
    "        fire_rgb = rgb.copy()\n",
    "        fire_rgb[fire_pix > 0,0] = 1\n",
    "        fire_rgb[fire_pix > 0,1] = .2\n",
    "        fire_rgb[fire_pix > 0,2] = .2\n",
    "        plt.title(f'Fire - {np.sum(fire_pix)}')\n",
    "        plt.imshow(fire_rgb)\n",
    "        plt.axis('off')\n",
    "        plt.show()"
   ]
  },
  {
   "cell_type": "code",
   "execution_count": null,
   "metadata": {},
   "outputs": [],
   "source": [
    "p = p.astype(int)"
   ]
  },
  {
   "cell_type": "code",
   "execution_count": null,
   "metadata": {},
   "outputs": [],
   "source": [
    "def fire_sentinel_hub(p):\n",
    "    NGDR = (p[:,:,1] - p[:,:,2]) / (p[:,:,1] + p[:,:,2])\n",
    "    inverse = (p[:,:,1] - 0.2 * np.ma.max(p[:,:,1])) / (0.5 - 0.2)\n",
    "    SAHM_index = (p[:,:,11] - p[:,:,10]) / (p[:,:,11] + p[:,:,10])\n",
    "\n",
    "    if inverse > 1:\n",
    "        return 0.5 * p[:,:,]\n",
    "\n",
    "var NGDR = index(B02, B03);\n",
    "var Inverse = (B02 - 0.2) / (0.5 - 0.2);\n",
    "//Fire indicator\n",
    "var SAHM_INDEX= ((B12 - B11) / (B12 + B11));\n",
    "\n",
    "if (Inverse > 1) { \n",
    "    return [0.5 * B04, 0.5 * B03, 20 * B02 ];\n",
    "}\n",
    "\n",
    "if (Inverse > 0 && NGDR>0) { \n",
    "    return [0.5 * B04  , 0.5 * B03, 20 * B02];\n",
    "}\n",
    "\n",
    "if((SAHM_INDEX>0.4)||(B12>1)){\n",
    "  return[20*B04, 1*B03, 1*B02];\n",
    "}\n",
    "\n",
    "else {\n",
    " return [B04,B04,B04]\n",
    "}\n",
    "\n",
    "//Red color indicates active fire areas and points\n",
    "//The blue range is a cloud mask"
   ]
  },
  {
   "cell_type": "code",
   "execution_count": null,
   "metadata": {},
   "outputs": [],
   "source": [
    "rect_width = 0.01\n",
    "#coords = [115.2206873996286, -8.72220352727478]\n",
    "coords = [115.16999128605232, -8.090578007584227]\n",
    "start_date = '2016-06-01'\n",
    "end_date = '2021-12-01'\n",
    "patches, raster_info = dl_utils.download_patch(dl_utils.rect_from_point(coords, rect_width), start_date, end_date)"
   ]
  },
  {
   "cell_type": "code",
   "execution_count": null,
   "metadata": {},
   "outputs": [],
   "source": [
    "threshold = 0.3\n",
    "for p in patches:\n",
    "    p = p.astype(int)\n",
    "    sahm = (p[:,:,11] - p[:,:,10]) / (p[:,:,11] + p[:,:,10])\n",
    "    #sahm = p[:,:,11] > 3000\n",
    "    sahm[p.mask[:,:,0]] = 0\n",
    "    if np.sum(sahm > threshold) > 0:\n",
    "        plt.figure(figsize=(8,5), dpi=150)\n",
    "        plt.subplot(1,2,1)\n",
    "        plt.title(f'RGB')\n",
    "        rgb = np.clip(p[:,:,3:0:-1] / 3000, 0, 1)\n",
    "        plt.imshow(rgb)\n",
    "        plt.axis('off')\n",
    "        plt.subplot(1,2,2)\n",
    "        fire_pix = sahm > threshold\n",
    "        fire_rgb = rgb.copy()\n",
    "        fire_rgb[fire_pix > 0,0] = 1\n",
    "        fire_rgb[fire_pix > 0,1] = .2\n",
    "        fire_rgb[fire_pix > 0,2] = .2\n",
    "        plt.title(f'Fire - {np.sum(fire_pix)}')\n",
    "        plt.imshow(fire_rgb)\n",
    "        plt.axis('off')\n",
    "        plt.show()"
   ]
  },
  {
   "cell_type": "code",
   "execution_count": null,
   "metadata": {},
   "outputs": [],
   "source": [
    "fire_index = []\n",
    "for index, p in enumerate(patches):\n",
    "    fire_pix_new = new_fire_algo(p)\n",
    "    fire_pix_old = fire_detection(p)\n",
    "    fire_pixels = np.logical_and(fire_pix_new > 0, fire_pix_old > 0)\n",
    "    if np.sum(fire_pixels):\n",
    "        print(index, np.sum(fire_pixels))\n",
    "        fire_index.append(index)"
   ]
  },
  {
   "cell_type": "code",
   "execution_count": null,
   "metadata": {},
   "outputs": [],
   "source": [
    "#fire_pixels = np.array([np.sum(fire_detection(p)) for p in patches])\n",
    "fire_index = []\n",
    "for index, p in enumerate(patches):\n",
    "    fire_pix_new = new_fire_algo(p)\n",
    "    fire_pix_old = fire_detection(p)\n",
    "    if np.sum(np.logical_and(fire_pix_new > 0, fire_pix_old > 0)):\n",
    "        fire_index.append(index)\n",
    "for index in fire_index:\n",
    "    plt.figure(figsize=(8,5), dpi=150)\n",
    "    plt.subplot(1,2,1)\n",
    "    plt.title(f'RGB - {index}')\n",
    "    rgb = np.clip(patches[index][:,:,3:0:-1] / 3000, 0, 1)\n",
    "    plt.imshow(rgb)\n",
    "    plt.axis('off')\n",
    "    plt.subplot(1,2,2)\n",
    "    fire_pix_new = new_fire_algo(patches[index])\n",
    "    fire_pix_old = fire_detection(patches[index])\n",
    "    fire_pix = np.logical_and(fire_pix_new > 0, fire_pix_old > 0)\n",
    "    fire_rgb = rgb.copy()\n",
    "    fire_rgb[fire_pix > 0,0] = 1\n",
    "    fire_rgb[fire_pix > 0,1] = .2\n",
    "    fire_rgb[fire_pix > 0,2] = .2\n",
    "    plt.title(f'Fire - {np.sum(fire_pix)}')\n",
    "    plt.imshow(fire_rgb)\n",
    "    plt.axis('off')\n",
    "    plt.show()"
   ]
  },
  {
   "cell_type": "code",
   "execution_count": null,
   "metadata": {},
   "outputs": [],
   "source": [
    "plt.imshow(patches[173][:,:,11])"
   ]
  },
  {
   "cell_type": "code",
   "execution_count": null,
   "metadata": {},
   "outputs": [],
   "source": [
    "np.sum(fire_detection(p))"
   ]
  },
  {
   "cell_type": "code",
   "execution_count": null,
   "metadata": {},
   "outputs": [],
   "source": [
    "np.sum(fire_detection(p))"
   ]
  },
  {
   "cell_type": "code",
   "execution_count": null,
   "metadata": {},
   "outputs": [],
   "source": [
    "for p in patches:\n",
    "    plt.subplot(1,2,1)\n",
    "    plt.title('RGB')\n",
    "    plt.imshow(np.clip(p[:,:,3:0:-1] / 3000, 0, 1))\n",
    "    plt.axis('off')\n",
    "    plt.subplot(1,2,2)\n",
    "    fire_pix = fire_detection(p)\n",
    "    plt.title(f'Fire - {np.sum(fire_pix)}')\n",
    "    plt.imshow(fire_pix)\n",
    "    plt.axis('off')\n",
    "    plt.show()"
   ]
  },
  {
   "cell_type": "code",
   "execution_count": null,
   "metadata": {},
   "outputs": [],
   "source": []
  }
 ],
 "metadata": {
  "interpreter": {
   "hash": "d425afa4a959a86aa036beaa1a58ff3469f38e31f3ec97f5785c695b9108eced"
  },
  "kernelspec": {
   "display_name": "Python 3.9.7 64-bit ('m1-plastics': conda)",
   "language": "python",
   "name": "python3"
  },
  "language_info": {
   "codemirror_mode": {
    "name": "ipython",
    "version": 3
   },
   "file_extension": ".py",
   "mimetype": "text/x-python",
   "name": "python",
   "nbconvert_exporter": "python",
   "pygments_lexer": "ipython3",
   "version": "3.9.7"
  },
  "orig_nbformat": 4
 },
 "nbformat": 4,
 "nbformat_minor": 2
}
