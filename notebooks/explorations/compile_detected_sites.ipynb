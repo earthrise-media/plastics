{
 "cells": [
  {
   "cell_type": "code",
   "execution_count": 1,
   "metadata": {},
   "outputs": [
    {
     "name": "stderr",
     "output_type": "stream",
     "text": [
      "/Users/ckruse/miniforge3/envs/m1-plastics/lib/python3.9/site-packages/geopandas/io/file.py:362: FutureWarning: pandas.Int64Index is deprecated and will be removed from pandas in a future version. Use pandas.Index with the appropriate dtype instead.\n",
      "  pd.Int64Index,\n"
     ]
    },
    {
     "name": "stdout",
     "output_type": "stream",
     "text": [
      "We have detected and confirmed 4,137 sites in 112 countries\n",
      "There are 1095 sites within 250m of a waterway (26.5%)\n",
      "There are 515 sites within 100m of a waterway (12.4%)\n",
      "On average, 5,457 people live within 1 km of a site and 127,671 people live within 5 km\n"
     ]
    }
   ],
   "source": [
    "import requests\n",
    "import geopandas as gpd\n",
    "\n",
    "endpoint = 'http://api.globalplasticwatch.org/sites?limit=10000'\n",
    "auth = requests.auth.HTTPBasicAuth('admin', 'plastics')\n",
    "params = {'apikey': 'jahsdbvjahsdvaulhsdvoauysdg82973bq', 'limit': '10000'}\n",
    "response = requests.get(endpoint, auth=auth, params=params)\n",
    "data = response.json()\n",
    "data = gpd.GeoDataFrame.from_features(data['features'])\n",
    "\n",
    "for c in data.columns:\n",
    "    try:\n",
    "        data[c] = data[c].astype(float)\n",
    "    except:\n",
    "        pass\n",
    "data['area (ha)'] = data['area (km^2)'] * 100\n",
    "\n",
    "data.to_file('../../data/site_metadata/compiled_sites.geojson')\n",
    "\n",
    "print(f\"We have detected and confirmed {len(data):,} sites in {len(data['country'].unique())} countries\")\n",
    "print(f\"There are {sum(data['Distance to Waterway (m)'] < 250)} sites within 250m of a waterway ({sum(data['Distance to Waterway (m)'] < 250) / len(data):.1%})\")\n",
    "print(f\"There are {sum(data['Distance to Waterway (m)'] < 100)} sites within 100m of a waterway ({sum(data['Distance to Waterway (m)'] < 100) / len(data):.1%})\")\n",
    "print(f\"On average, {data['Population - 1 km'].mean():,.0f} people live within 1 km of a site and {data['Population - 5 km'].mean():,.0f} people live within 5 km\")"
   ]
  },
  {
   "cell_type": "code",
   "execution_count": null,
   "metadata": {},
   "outputs": [],
   "source": []
  }
 ],
 "metadata": {
  "interpreter": {
   "hash": "d425afa4a959a86aa036beaa1a58ff3469f38e31f3ec97f5785c695b9108eced"
  },
  "kernelspec": {
   "display_name": "Python 3.9.7 64-bit ('m1-plastics': conda)",
   "language": "python",
   "name": "python3"
  },
  "language_info": {
   "codemirror_mode": {
    "name": "ipython",
    "version": 3
   },
   "file_extension": ".py",
   "mimetype": "text/x-python",
   "name": "python",
   "nbconvert_exporter": "python",
   "pygments_lexer": "ipython3",
   "version": "3.9.7"
  },
  "orig_nbformat": 4
 },
 "nbformat": 4,
 "nbformat_minor": 2
}
