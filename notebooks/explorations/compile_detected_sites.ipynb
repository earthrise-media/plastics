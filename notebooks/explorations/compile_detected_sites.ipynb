{
 "cells": [
  {
   "cell_type": "code",
   "execution_count": null,
   "metadata": {},
   "outputs": [],
   "source": [
    "import geopandas as gpd"
   ]
  },
  {
   "cell_type": "code",
   "execution_count": null,
   "metadata": {},
   "outputs": [],
   "source": [
    "file_list = [\n",
    "    'vietnam_intersection_v0.0.11_confirmed_positives.geojson',\n",
    "    'thailand_intersection_v0.0.11_v1.2_thresh_0.8_confirmed_positives.geojson',\n",
    "    'philippines_confirmed_v0.0.7_3.5_0.6_blob_detect_v0.1_classifier.geojson',\n",
    "    'myanmar_intersection_v0.0.11_v1.2_thresh_0.5_confirmed_positives.geojson',\n",
    "    'malaysia_intersection_v0.0.11_v1.2_thresh_0.8_confirmed_positives.geojson',\n",
    "    'laos_intersection_v0.0.11_v1.2_thresh_0.4_confirmed_positives.geojson',\n",
    "    'cambodia_intersection_v0.0.11_confirmed_positives.geojson',\n",
    "    'brunei_intersection_v0.0.11_v1.2_thresh_0.4_confirmed_positives.geojson',\n",
    "    'indonesia_v0_condensed.geojson',\n",
    "    'lagos_intersection_v0.0.11_confirmed_positives.geojson',\n",
    "    'singapore_intersection_v0.0.11_v3.0_thresh_0.4_confirmed_positives.geojson',\n",
    "    'sri_lanka_intersection_v0.0.11_confirmed_positives.geojson',\n",
    "    'east_timor_intersection_v0.0.11_v3.0.0_confirmed_positives.geojson'\n",
    "]"
   ]
  },
  {
   "cell_type": "code",
   "execution_count": null,
   "metadata": {},
   "outputs": [],
   "source": [
    "all_data = gpd.read_file(f'../../data/sampling_locations/{file_list[0]}')\n",
    "for f in file_list[1:]:\n",
    "    data = gpd.read_file(f'../../data/sampling_locations/{f}')\n",
    "    all_data = all_data.append(data)\n",
    "    print(len(data), \"sites found in\", f + '.', len(all_data), \"sites found in total\")\n",
    "#print(all_data.columns)\n",
    "all_data = all_data.drop(['lon', 'lat', 'mean', 'min', 'max', 'std', 'count', 'id'], axis=1)\n",
    "all_data = all_data.reset_index(drop=True)\n",
    "all_data['id'] = [i for i in range(len(all_data))]\n",
    "all_data.to_file('../../data/sampling_locations/compiled_sites.geojson')"
   ]
  },
  {
   "cell_type": "code",
   "execution_count": null,
   "metadata": {},
   "outputs": [],
   "source": [
    "import requests\n",
    "import geopandas as gpd\n",
    "endpoint = 'http://api.plastic.watch.earthrise.media/sites?limit=5000'\n",
    "response = requests.get(endpoint)\n",
    "data = response.json()\n",
    "gdf = gpd.GeoDataFrame.from_features(data['features'])\n",
    "print(len(gdf))\n",
    "gdf.to_file('../../data/site_metadata/compiled_sites.geojson')"
   ]
  },
  {
   "cell_type": "code",
   "execution_count": null,
   "metadata": {},
   "outputs": [],
   "source": []
  }
 ],
 "metadata": {
  "interpreter": {
   "hash": "d425afa4a959a86aa036beaa1a58ff3469f38e31f3ec97f5785c695b9108eced"
  },
  "kernelspec": {
   "display_name": "Python 3.9.7 64-bit ('m1-plastics': conda)",
   "language": "python",
   "name": "python3"
  },
  "language_info": {
   "codemirror_mode": {
    "name": "ipython",
    "version": 3
   },
   "file_extension": ".py",
   "mimetype": "text/x-python",
   "name": "python",
   "nbconvert_exporter": "python",
   "pygments_lexer": "ipython3",
   "version": "3.9.7"
  },
  "orig_nbformat": 4
 },
 "nbformat": 4,
 "nbformat_minor": 2
}
