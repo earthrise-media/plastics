{
 "cells": [
  {
   "cell_type": "code",
   "execution_count": 1,
   "metadata": {},
   "outputs": [],
   "source": [
    "import os\n",
    "import pickle\n",
    "import numpy as np\n",
    "from scripts import dl_utils"
   ]
  },
  {
   "cell_type": "code",
   "execution_count": 20,
   "metadata": {},
   "outputs": [],
   "source": [
    "patch_dir = '../../data/training_data/spectrogram_patches_3mo-mosaics_2x-int'\n",
    "files = [f for f in os.listdir(patch_dir) if '.pkl' in f and 'negative' in f and 'labels' not in f]\n",
    "\n",
    "# load all patches\n",
    "patches = []\n",
    "for f in files:\n",
    "    with open(os.path.join(patch_dir, f), 'rb') as pkl:\n",
    "        data = pickle.load(pkl)\n",
    "        for pair in data:\n",
    "            patches.append(dl_utils.pad_patch(pair[0], 48, 48))\n",
    "            patches.append(dl_utils.pad_patch(pair[1], 48, 48))\n",
    "patches = np.array(patches)"
   ]
  },
  {
   "cell_type": "code",
   "execution_count": 24,
   "metadata": {},
   "outputs": [],
   "source": [
    "import matplotlib.pyplot as plt\n",
    "rgb = [np.clip(p[:,:,3:0:-1] / 3000, 0, 1) for p in patches]\n",
    "rgb = [np.zeros((48, 48, 3)) for _ in rgb]"
   ]
  },
  {
   "cell_type": "code",
   "execution_count": 25,
   "metadata": {},
   "outputs": [],
   "source": [
    "export_dir = '../../data/training_data/segmentation_masks'\n",
    "\n",
    "for i, (data, img) in enumerate(zip(patches[:], rgb[:])):\n",
    "    # save img as jpg\n",
    "    plt.imsave(os.path.join(export_dir, f'neg_{i}_mask.png'), img)\n",
    "    # save data as pkl\n",
    "    with open(os.path.join(export_dir, f'neg_{i}_data.pkl'), 'wb') as pkl:\n",
    "        pickle.dump(data, pkl)"
   ]
  },
  {
   "cell_type": "code",
   "execution_count": null,
   "metadata": {},
   "outputs": [],
   "source": []
  }
 ],
 "metadata": {
  "interpreter": {
   "hash": "d425afa4a959a86aa036beaa1a58ff3469f38e31f3ec97f5785c695b9108eced"
  },
  "kernelspec": {
   "display_name": "Python 3.9.7 ('m1-plastics')",
   "language": "python",
   "name": "python3"
  },
  "language_info": {
   "codemirror_mode": {
    "name": "ipython",
    "version": 3
   },
   "file_extension": ".py",
   "mimetype": "text/x-python",
   "name": "python",
   "nbconvert_exporter": "python",
   "pygments_lexer": "ipython3",
   "version": "3.9.7"
  },
  "orig_nbformat": 4
 },
 "nbformat": 4,
 "nbformat_minor": 2
}
