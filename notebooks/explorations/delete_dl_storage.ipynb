{
 "cells": [
  {
   "cell_type": "code",
   "execution_count": null,
   "metadata": {},
   "outputs": [],
   "source": [
    "import descarteslabs as dl\n",
    "from descarteslabs.catalog import Image, Search, properties, Product"
   ]
  },
  {
   "cell_type": "code",
   "execution_count": null,
   "metadata": {},
   "outputs": [],
   "source": [
    "product_id = 'earthrise'\n",
    "search = Search(Product).filter(properties.owners == 'org:earthrise')\n",
    "img_search = Image.search().filter(properties.owners == 'org:earthrise')\n",
    "img_search.summary()"
   ]
  },
  {
   "cell_type": "code",
   "execution_count": null,
   "metadata": {},
   "outputs": [],
   "source": [
    "product_ids = [p.id for p in search]\n",
    "len(product_ids)"
   ]
  },
  {
   "cell_type": "code",
   "execution_count": null,
   "metadata": {},
   "outputs": [],
   "source": [
    "delete_ids = ['earthrise:Bali_spectrogramV0.0.7_2020-06-01_2021-04-01', 'earthrise:Bali_v1.1.5_2019-2020', 'earthrise:Bali_v1.1.8_2019-2020']"
   ]
  },
  {
   "cell_type": "code",
   "execution_count": null,
   "metadata": {},
   "outputs": [],
   "source": [
    "deletions = []\n",
    "for name in delete_ids:\n",
    "    p = Product.get(name)\n",
    "    try:\n",
    "        deletions.append(p.delete_related_objects())\n",
    "    except Exception as e:\n",
    "        print(e)\n",
    "        print(f'Failed to delete {name}')"
   ]
  },
  {
   "cell_type": "code",
   "execution_count": null,
   "metadata": {},
   "outputs": [],
   "source": [
    "# after deletion of related objects is complete, delete the product itself\n",
    "deletions = []\n",
    "for name in delete_ids:\n",
    "    p = Product.get(name)\n",
    "    try:\n",
    "        deletions.append(p.delete())\n",
    "    except Exception as e:\n",
    "        print(e)\n",
    "        print(f'Failed to delete {name}')"
   ]
  },
  {
   "cell_type": "code",
   "execution_count": null,
   "metadata": {},
   "outputs": [],
   "source": []
  }
 ],
 "metadata": {
  "interpreter": {
   "hash": "d425afa4a959a86aa036beaa1a58ff3469f38e31f3ec97f5785c695b9108eced"
  },
  "kernelspec": {
   "display_name": "Python 3.9.7 ('m1-plastics')",
   "language": "python",
   "name": "python3"
  },
  "language_info": {
   "codemirror_mode": {
    "name": "ipython",
    "version": 3
   },
   "file_extension": ".py",
   "mimetype": "text/x-python",
   "name": "python",
   "nbconvert_exporter": "python",
   "pygments_lexer": "ipython3",
   "version": "3.9.7"
  },
  "orig_nbformat": 4
 },
 "nbformat": 4,
 "nbformat_minor": 2
}
