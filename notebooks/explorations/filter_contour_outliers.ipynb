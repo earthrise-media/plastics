{
 "cells": [
  {
   "cell_type": "code",
   "execution_count": null,
   "metadata": {},
   "outputs": [],
   "source": [
    "%load_ext autoreload\n",
    "%autoreload 2"
   ]
  },
  {
   "cell_type": "code",
   "execution_count": null,
   "metadata": {},
   "outputs": [],
   "source": [
    "import requests\n",
    "import numpy as np\n",
    "import geopandas as gpd\n",
    "from tqdm.notebook import tqdm\n",
    "from scripts import contour_gen"
   ]
  },
  {
   "cell_type": "code",
   "execution_count": null,
   "metadata": {},
   "outputs": [],
   "source": [
    "endpoint = 'http://api.plastic.watch.earthrise.media/sites?limit=10000'\n",
    "response = requests.get(endpoint)\n",
    "data = response.json()\n",
    "data = gpd.GeoDataFrame.from_features(data['features'])\n",
    "for c in data.columns:\n",
    "    try:\n",
    "        data[c] = data[c].astype(float)\n",
    "    except:\n",
    "        pass"
   ]
  },
  {
   "cell_type": "code",
   "execution_count": null,
   "metadata": {},
   "outputs": [],
   "source": [
    "threshold = 18\n",
    "auth = requests.auth.HTTPBasicAuth('admin', 'plastics')\n",
    "for site_id in tqdm(data['id']):\n",
    "    endpoint = f'http://api.plastic.watch.earthrise.media/sites/{site_id}/contours'\n",
    "    response = requests.get(endpoint)\n",
    "    response = response.json()\n",
    "    gdf = gpd.GeoDataFrame.from_features(response['features'])\n",
    "    if len(gdf) > 1:\n",
    "        areas = gdf['area (km^2)'].astype(float)\n",
    "        std, mean = np.std(areas) / np.sqrt(len(areas)), np.mean(areas)\n",
    "        # calculate number of stdevs from mean for each value in areas\n",
    "        stdevs = [(area - mean) / std for area in areas]\n",
    "        if np.max(stdevs) > threshold:\n",
    "            print(\"Outliers detected at site\", site_id)\n",
    "        while np.max(stdevs) > threshold:\n",
    "            response = requests.get(endpoint)\n",
    "            response = response.json()\n",
    "            gdf = gpd.GeoDataFrame.from_features(response['features'])\n",
    "            areas = gdf['area (km^2)'].astype(float)\n",
    "            std, mean = np.std(areas) / np.sqrt(len(areas)), np.mean(areas)\n",
    "            stdevs = [(area - mean) / std for area in areas]\n",
    "            outlier_indices = np.where(np.abs(stdevs) > threshold)[0]\n",
    "            outlier_ids = [response['features'][index]['id'] for index in outlier_indices]\n",
    "            for contour_id in outlier_ids:\n",
    "                contour_endpoint = f'http://api.plastic.watch.earthrise.media/sites/{site_id}/contours/{contour_id}'\n",
    "                response = requests.delete(contour_endpoint, auth=auth)\n",
    "                #print(site_id, contour_id, response.status_code)"
   ]
  }
 ],
 "metadata": {
  "interpreter": {
   "hash": "d425afa4a959a86aa036beaa1a58ff3469f38e31f3ec97f5785c695b9108eced"
  },
  "kernelspec": {
   "display_name": "Python 3.9.7 ('m1-plastics')",
   "language": "python",
   "name": "python3"
  },
  "language_info": {
   "codemirror_mode": {
    "name": "ipython",
    "version": 3
   },
   "file_extension": ".py",
   "mimetype": "text/x-python",
   "name": "python",
   "nbconvert_exporter": "python",
   "pygments_lexer": "ipython3",
   "version": "3.9.7"
  },
  "orig_nbformat": 4
 },
 "nbformat": 4,
 "nbformat_minor": 2
}
