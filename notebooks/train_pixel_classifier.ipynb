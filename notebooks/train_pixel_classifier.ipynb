{
 "cells": [
  {
   "cell_type": "markdown",
   "metadata": {},
   "source": [
    "# Train Pixel Classifier"
   ]
  },
  {
   "cell_type": "code",
   "execution_count": null,
   "metadata": {},
   "outputs": [],
   "source": [
    "%load_ext autoreload\n",
    "%autoreload 2"
   ]
  },
  {
   "cell_type": "code",
   "execution_count": null,
   "metadata": {},
   "outputs": [],
   "source": [
    "from datetime import date\n",
    "import json\n",
    "import matplotlib.pyplot as plt\n",
    "import numpy as np\n",
    "import os\n",
    "import pandas as pd\n",
    "import pickle\n",
    "import seaborn as sns\n",
    "from sklearn.model_selection import train_test_split\n",
    "from sklearn.metrics import classification_report\n",
    "from sklearn.utils import shuffle\n",
    "from tensorflow import keras\n",
    "from tensorflow.keras import layers\n",
    "from tqdm.notebook import tqdm\n",
    "\n",
    "import sys\n",
    "sys.path.append('../')\n",
    "from scripts.get_s2_data_ee import band_descriptions\n",
    "from scripts.viz_tools import stretch_histogram, normalize\n",
    "\n",
    "from scripts.dl_utils import download_patch, rect_from_point\n",
    "from scripts.nn_predict_dl import make_predictions, visualize_predictions\n",
    "\n",
    "np.random.seed(1)"
   ]
  },
  {
   "cell_type": "markdown",
   "metadata": {},
   "source": [
    "## Create a Training Dataset\n",
    "Outputs will be: `x_train`, `y_train`, `x_test`, `y_test`, `x_holdout`, `y_holdout`. Holdout data is only positive"
   ]
  },
  {
   "cell_type": "code",
   "execution_count": null,
   "metadata": {},
   "outputs": [],
   "source": [
    "train_data_dir = '../data/training_data/pixel_vectors/'\n",
    "\n",
    "data_files = ['city_points_30_raw_24_months_2016-01-01_pixel_vectors.pkl',\n",
    "              'adjacent_north_0.015_raw_24_months_2016-01-01_pixel_vectors.pkl',\n",
    "              'bali_bootstrap_raw_24_months_2019-01-01_pixel_vectors.pkl',\n",
    "              #'tpa_train_raw_60_months_2016-01-01_pixel_vectors.pkl', \n",
    "              'java_v12_negatives_raw_24_months_2016-01-01_pixel_vectors.pkl',\n",
    "              #'java_v12_positives_raw_24_months_2016-01-01_pixel_vectors.pkl',\n",
    "              'w_nusa_tenggara_v1.1_negatives_raw_12_months_2020-01-01_pixel_vectors.pkl',\n",
    "              #'w_nusa_tenggara_v1.1_positives_raw_24_months_2019-01-01_pixel_vectors.pkl'\n",
    "              'bali_tpa_sites_2020-01-01_2020-12-31_pixel_vectors.pkl',\n",
    "              'sri_lanka_sites_2020-01-01_2020-12-31_pixel_vectors.pkl',\n",
    "              'v_1.1.5_negatives_2020-04-01_2020-05-31_pixel_vectors.pkl',\n",
    "              'java_v1.0_positive_polygons_2017-01-01_2020-12-31_pixel_vectors.pkl',\n",
    "              'lombok_v_1.1.5_negatives_2019-01-01_2020-12-31_pixel_vectors.pkl'\n",
    "             ]\n",
    "\n",
    "label_files = ['city_points_30_raw_24_months_2016-01-01_pixel_vector_labels.pkl',\n",
    "               'adjacent_north_0.015_raw_24_months_2016-01-01_pixel_vector_labels.pkl',\n",
    "               'bali_bootstrap_raw_24_months_2019-01-01_pixel_vector_labels.pkl',\n",
    "               #'tpa_train_raw_60_months_2016-01-01_pixel_vector_labels.pkl', \n",
    "               'java_v12_negatives_raw_24_months_2016-01-01_pixel_vector_labels.pkl',\n",
    "               #'java_v12_positives_raw_24_months_2016-01-01_pixel_vector_labels.pkl',\n",
    "               'w_nusa_tenggara_v1.1_negatives_raw_12_months_2020-01-01_pixel_vector_labels.pkl',\n",
    "               #'w_nusa_tenggara_v1.1_positives_raw_24_months_2019-01-01_pixel_vector_labels.pkl'\n",
    "               'bali_tpa_sites_2020-01-01_2020-12-31_pixel_vector_labels.pkl',\n",
    "               'sri_lanka_sites_2020-01-01_2020-12-31_pixel_vector_labels.pkl',\n",
    "               'v_1.1.5_negatives_2020-04-01_2020-05-31_pixel_vector_labels.pkl',\n",
    "               'java_v1.0_positive_polygons_2017-01-01_2020-12-31_pixel_vector_labels.pkl',\n",
    "               'lombok_v_1.1.5_negatives_2019-01-01_2020-12-31_pixel_vector_labels.pkl'\n",
    "             ]\n",
    "\n",
    "pixel_vectors = []\n",
    "labels = []\n",
    "for data, label in tqdm(zip(data_files, label_files), total=len(data_files)):\n",
    "    with open(os.path.join(train_data_dir, data), 'rb') as f:\n",
    "        pixel_vectors += pickle.load(f)\n",
    "    with open(os.path.join(train_data_dir, label), 'rb') as f:\n",
    "        labels += pickle.load(f)\n",
    "pixel_vectors = np.array(pixel_vectors)\n",
    "labels = np.array(labels)\n",
    "\n",
    "positive_vectors = pixel_vectors[labels == 1]\n",
    "negative_vectors = pixel_vectors[labels == 0]\n",
    "\n",
    "print(f\"Loaded {len(positive_vectors):,} positive pixel vectors and {len(negative_vectors):,} negative pixel vectors\")"
   ]
  },
  {
   "cell_type": "code",
   "execution_count": null,
   "metadata": {},
   "outputs": [],
   "source": [
    "holdout_data_files = ['tpa_holdout_raw_60_months_2016-01-01_pixel_vectors.pkl']\n",
    "holdout_label_files = ['tpa_holdout_raw_60_months_2016-01-01_pixel_vector_labels.pkl']\n",
    "holdout_pixel_vectors = []\n",
    "holdout_labels = []\n",
    "\n",
    "for data, label in zip(holdout_data_files, holdout_label_files):\n",
    "    with open(os.path.join(train_data_dir, data), 'rb') as f:\n",
    "        holdout_pixel_vectors += pickle.load(f)\n",
    "    with open(os.path.join(train_data_dir, label), 'rb') as f:\n",
    "        holdout_labels += pickle.load(f)\n",
    "holdout_pixel_vectors = np.array(holdout_pixel_vectors)\n",
    "holdout_labels = np.array(holdout_labels)"
   ]
  },
  {
   "cell_type": "markdown",
   "metadata": {},
   "source": [
    "### Filter positive samples such that NDVI is within a range\n",
    "This is useful since the positive patches can include surrounding vegetation"
   ]
  },
  {
   "cell_type": "code",
   "execution_count": null,
   "metadata": {},
   "outputs": [],
   "source": [
    "def compute_ndvi(pixel_vectors):\n",
    "    return (pixel_vectors[:,7] - pixel_vectors[:,3]) / (pixel_vectors[:,7] + pixel_vectors[:,3])\n",
    "\n",
    "def filter_ndvi(data, lower_bound=0, upper_bound=0.4):\n",
    "    ndvi = compute_ndvi(data)\n",
    "    index = np.logical_and(ndvi > lower_bound, ndvi < upper_bound)\n",
    "    filtered_data = np.array(data)[index]\n",
    "    print(f\"{np.sum(index) / len(data):.1%} of samples within NDVI range\")\n",
    "    return filtered_data\n",
    "\n",
    "\n",
    "def filter_bright(data, brightness_threshold=2500):\n",
    "    filtered_data = data[np.mean(data, axis=1) < brightness_threshold]\n",
    "    filtered_data.shape\n",
    "    print(f\"{len(filtered_data) / len(data) :.1%} of data below brightness limit\")\n",
    "    return filtered_data"
   ]
  },
  {
   "cell_type": "code",
   "execution_count": null,
   "metadata": {},
   "outputs": [],
   "source": [
    "filtered_positive_vectors = filter_ndvi(positive_vectors)\n",
    "filtered_positive_vectors = filter_bright(filtered_positive_vectors)\n",
    "filtered_holdout_vectors = filter_ndvi(holdout_pixel_vectors)\n",
    "filtered_holdout_vectors = filter_bright(filtered_holdout_vectors)"
   ]
  },
  {
   "cell_type": "markdown",
   "metadata": {},
   "source": [
    "### Combine data and create train test split\n",
    "Also expand dimensions to account for batches"
   ]
  },
  {
   "cell_type": "code",
   "execution_count": null,
   "metadata": {},
   "outputs": [],
   "source": [
    "x = np.concatenate((filtered_positive_vectors, negative_vectors))\n",
    "y = np.concatenate((np.ones(len(filtered_positive_vectors)), np.zeros(len(negative_vectors))))\n",
    "\n",
    "x, y = shuffle(x, y, random_state=42)\n",
    "x = normalize(x)\n",
    "x_holdout = normalize(filtered_holdout_vectors)\n",
    "\n",
    "x_train, x_test, y_train, y_test = train_test_split(x, y, test_size=0.20, random_state=42)\n",
    "print(\"Num Train Samples:\\t\\t\", len(x_train))\n",
    "print(\"Num Test Samples:\\t\\t\", len(x_test))\n",
    "print(\"Num Holdout Samples:\\t\\t\", len(x_holdout))\n",
    "print(f\"Percent Negative Train:\\t {sum(y_train == 0.0) / len(y_train):.1%}\")\n",
    "print(f\"Percent Negative Test:\\t {sum(y_test == 0.0) / len(y_test):.1%}\")\n",
    "\n",
    "x_train = np.expand_dims(x_train, -1)\n",
    "x_test = np.expand_dims(x_test, -1)\n",
    "x_holdout = np.expand_dims(x_holdout, -1)\n",
    "\n",
    "# Note: I am accustomed to assigning two classes for binary classification. \n",
    "# This habit comes from an issue in theano a long time ago, but I'm too superstitious to change it.\n",
    "num_classes = 2\n",
    "y_train = keras.utils.to_categorical(y_train, num_classes)\n",
    "y_test = keras.utils.to_categorical(y_test, num_classes)\n",
    "y_holdout = keras.utils.to_categorical(np.ones(len(filtered_holdout_vectors)), num_classes)"
   ]
  },
  {
   "cell_type": "markdown",
   "metadata": {},
   "source": [
    "## Create and Train a Model"
   ]
  },
  {
   "cell_type": "code",
   "execution_count": null,
   "metadata": {},
   "outputs": [],
   "source": [
    "input_shape = np.shape(x_train[0])\n",
    "model = keras.Sequential(\n",
    "    [\n",
    "        keras.Input(shape=input_shape),\n",
    "        layers.Conv1D(16, kernel_size=(3), activation=\"relu\"),\n",
    "        #layers.MaxPooling2D(pool_size=(2)),\n",
    "        layers.Conv1D(32, kernel_size=(3), activation=\"relu\"),\n",
    "        #layers.MaxPooling2D(pool_size=(2)),\n",
    "        layers.Flatten(),\n",
    "        layers.Dense(32, activation=\"relu\"),\n",
    "        layers.Dense(32, activation=\"relu\"),\n",
    "        layers.Dropout(0.1),\n",
    "        layers.Dense(32, activation=\"relu\"),\n",
    "        #layers.Dense(64, activation=\"relu\"),\n",
    "        #layers.Dense(64, activation=\"relu\"),\n",
    "        #layers.Dense(64, activation=\"relu\"),\n",
    "        layers.Dense(num_classes, activation=\"softmax\"),\n",
    "    ]\n",
    ")\n",
    "model.summary()"
   ]
  },
  {
   "cell_type": "markdown",
   "metadata": {},
   "source": [
    "### Optional Class Weighting\n",
    "Over experimental testing, I found that weighting classes seemed to degrade performance. This could use further investigation"
   ]
  },
  {
   "cell_type": "code",
   "execution_count": null,
   "metadata": {},
   "outputs": [],
   "source": [
    "from sklearn.utils import class_weight\n",
    "negative_weight, positive_weight = class_weight.compute_class_weight('balanced', \n",
    "                                                                     classes = np.unique(y_train),\n",
    "                                                                     y = y_train[:,1])\n",
    "print(f\"Negative Weight: {negative_weight:.2f}\")\n",
    "print(f\"Positive Weight: {positive_weight:.2f}\")"
   ]
  },
  {
   "cell_type": "code",
   "execution_count": null,
   "metadata": {},
   "outputs": [],
   "source": [
    "# Compile model. Note that many of these metrics are extraneous. \n",
    "# Can be useful to track during training at times though\n",
    "model.compile(loss=\"binary_crossentropy\", \n",
    "              optimizer=\"adam\", \n",
    "              metrics=[keras.metrics.Recall(thresholds=(0.7), name='precision'), \n",
    "                       keras.metrics.Precision(thresholds=(0.7), name='recall'),\n",
    "                       keras.metrics.AUC(curve='PR', name='auc'),\n",
    "                       \"accuracy\"],\n",
    "              #loss_weights = sum(y_train) / len(y_train),\n",
    "              #weighted_metrics = ['accuracy']\n",
    "             )\n",
    "\n",
    "train_accuracy = []\n",
    "test_accuracy = []"
   ]
  },
  {
   "cell_type": "markdown",
   "metadata": {},
   "source": [
    "### Train the Model"
   ]
  },
  {
   "cell_type": "code",
   "execution_count": null,
   "metadata": {
    "scrolled": true
   },
   "outputs": [],
   "source": [
    "batch_size = 128\n",
    "epochs = 15\n",
    "\n",
    "model.fit(x_train, \n",
    "          y_train, \n",
    "          batch_size=batch_size, \n",
    "          epochs=epochs, \n",
    "          validation_data=(x_test, y_test),\n",
    "          #validation_split=0.1,\n",
    "          #class_weight = {0: negative_weight, 1: positive_weight}\n",
    "         )"
   ]
  },
  {
   "cell_type": "code",
   "execution_count": null,
   "metadata": {},
   "outputs": [],
   "source": [
    "train_accuracy += model.history.history['accuracy']\n",
    "test_accuracy += model.history.history['val_accuracy']\n",
    "plt.figure(figsize=(8,5), dpi=100, facecolor=(1,1,1))\n",
    "plt.plot(train_accuracy, label='Train Acc')\n",
    "plt.plot(test_accuracy, c='r', label='Val Acc')\n",
    "percent_negative = (sum(y_train == 0.0) / len(y_train))[1]\n",
    "plt.plot([0, epochs-1], [percent_negative, percent_negative], '--', c='gray', label='Baseline')\n",
    "plt.grid()\n",
    "plt.xlabel('Epoch')\n",
    "plt.ylabel('Accuracy')\n",
    "plt.legend()\n",
    "plt.title('Network Train and Val Accuracy')\n",
    "plt.show()"
   ]
  },
  {
   "cell_type": "code",
   "execution_count": null,
   "metadata": {},
   "outputs": [],
   "source": [
    "threshold = 0.8\n",
    "print(\"Test Set Metrics:\")\n",
    "print(classification_report(y_test[:,1], model.predict(x_test)[:,1] > threshold, \n",
    "                            target_names=['No TPA', 'TPA']))\n",
    "\n",
    "print(\"\\nHoldout Positive Set Metrics:\")\n",
    "print(classification_report(y_holdout[:,1], model.predict(x_holdout)[:,1] > threshold, \n",
    "                            target_names=['No TPA', 'TPA']))"
   ]
  },
  {
   "cell_type": "markdown",
   "metadata": {},
   "source": [
    "## Save Model"
   ]
  },
  {
   "cell_type": "code",
   "execution_count": null,
   "metadata": {},
   "outputs": [],
   "source": [
    "version_number = '1.1.8'\n",
    "\n",
    "current_date = date.today()\n",
    "model_name = f\"model_v{version_number}_{current_date.month}-{current_date.day}-{current_date.year}\"\n",
    "assert not os.path.exists('../models/' + model_name + '.h5'), f\"Model of name {model_name} already exists\"\n",
    "\n",
    "with open('../models/' + model_name + '_config.txt', 'w') as f:\n",
    "    f.write('Input Data:\\n')\n",
    "    [f.write(file + '\\n') for file in data_files]\n",
    "    f.write(f\"\\nBatch Size: {batch_size}\")\n",
    "    f.write(f\"\\nTraining Epochs: {len(train_accuracy)}\")\n",
    "    f.write('\\n\\nClassification Report\\n')\n",
    "    f.write(classification_report(y_test[:,1], model.predict(x_test)[:,1] > threshold, \n",
    "                            target_names=['No TPA', 'TPA']))\n",
    "model.save('../models/' + model_name + '.h5')"
   ]
  },
  {
   "cell_type": "markdown",
   "metadata": {},
   "source": [
    "## Visualize Network Predictions"
   ]
  },
  {
   "cell_type": "code",
   "execution_count": null,
   "metadata": {},
   "outputs": [],
   "source": [
    "rect_width = 0.02\n",
    "coords = [116.0908,-8.6451]\n",
    "start_date = '2020-05-01'\n",
    "end_date = '2020-06-01'\n",
    "patches = download_patch(rect_from_point(coords, rect_width), start_date, end_date)"
   ]
  },
  {
   "cell_type": "code",
   "execution_count": null,
   "metadata": {},
   "outputs": [],
   "source": [
    "pred_stack = make_predictions(patches, model)\n",
    "visualize_predictions(patches, pred_stack, threshold=0.8)"
   ]
  },
  {
   "cell_type": "code",
   "execution_count": null,
   "metadata": {},
   "outputs": [],
   "source": [
    "# Compare to a baseline model\n",
    "baseline_model = keras.models.load_model('../models/65_mo_tpa_bootstrap_toa-12-20-2020.h5')\n",
    "pred_stack_baseline = make_predictions(patches, baseline_model)\n",
    "visualize_predictions(patches, pred_stack_baseline, threshold=0.8)"
   ]
  },
  {
   "cell_type": "markdown",
   "metadata": {},
   "source": [
    "### Show timeseries predictions"
   ]
  },
  {
   "cell_type": "code",
   "execution_count": null,
   "metadata": {
    "scrolled": false
   },
   "outputs": [],
   "source": [
    "threshold = 0.8\n",
    "num_img = int(np.ceil(np.sqrt(len(patches))))\n",
    "\n",
    "plt.figure(figsize=(num_img,num_img), dpi=250, facecolor=(1,1,1))\n",
    "for i, (img, pred) in enumerate(zip(patches, pred_stack)):\n",
    "    rgb = normalize(img[:,:,3:0:-1])\n",
    "    rgb[pred > threshold, 0] = 0.9\n",
    "    rgb[pred > threshold, 1] = 0\n",
    "    rgb[pred > threshold, 2] = 0.1\n",
    "    \n",
    "    plt.subplot(num_img, num_img, i + 1)\n",
    "    plt.imshow(np.clip(rgb, 0, 1))\n",
    "    plt.axis('off')\n",
    "plt.show()"
   ]
  },
  {
   "cell_type": "markdown",
   "metadata": {},
   "source": [
    "## Evaluate Failures"
   ]
  },
  {
   "cell_type": "code",
   "execution_count": null,
   "metadata": {},
   "outputs": [],
   "source": [
    "test_preds = model.predict(x_test)[:,1]"
   ]
  },
  {
   "cell_type": "code",
   "execution_count": null,
   "metadata": {},
   "outputs": [],
   "source": [
    "threshold = 0.8\n",
    "tp = x_test[(test_preds > threshold) & (y_test[:,1] == 1)].squeeze()\n",
    "tn = x_test[(test_preds <= threshold) & (y_test[:,1] == 0)].squeeze()\n",
    "fp = x_test[(test_preds > threshold) & (y_test[:,1] == 0)].squeeze()\n",
    "fn = x_test[(test_preds <= threshold) & (y_test[:,1] == 1)].squeeze()"
   ]
  },
  {
   "cell_type": "code",
   "execution_count": null,
   "metadata": {},
   "outputs": [],
   "source": [
    "def plot_pixel_colors(pixels, plot=True):\n",
    "    \"\"\"\n",
    "    Function takes an array of pixels of shape (num_samples, 12)\n",
    "    Outputs a square array of RGB color values for each input pixel sorted by brightness\n",
    "    \"\"\"\n",
    "    num_samples = int(np.ceil(np.sqrt(len(pixels))))\n",
    "    padding_len = num_samples ** 2 - len(pixels)\n",
    "    padded = np.concatenate((pixels, np.zeros((padding_len, 12))))[:,1:4]\n",
    "    brightness = [np.linalg.norm(pixel) for pixel in padded]\n",
    "    padded = padded[np.argsort(brightness)[::-1]]\n",
    "    colors = np.reshape(padded, (num_samples, num_samples, 3)).astype(np.float)\n",
    "    colors = np.flip(colors,2)\n",
    "    if plot:\n",
    "        plt.figure(figsize=(8,8), dpi=150)\n",
    "        plt.imshow(np.clip(colors, 0, 1))\n",
    "        plt.xticks([])\n",
    "        plt.yticks([])\n",
    "        plt.show()\n",
    "    return(colors)"
   ]
  },
  {
   "cell_type": "code",
   "execution_count": null,
   "metadata": {
    "scrolled": false
   },
   "outputs": [],
   "source": [
    "plt.figure(figsize=(8,8), dpi=150)\n",
    "for index, (data, name) in enumerate(zip([tp, tn, fp, fn], ['True Positives', 'True Negatives', 'False Positives', 'False Negatives'])):\n",
    "    color_array = plot_pixel_colors(data, plot=False)\n",
    "    plt.subplot(2,2,index + 1)\n",
    "    plt.title(name)\n",
    "    plt.imshow(np.clip(color_array, 0, 1))\n",
    "    plt.xticks([])\n",
    "    plt.yticks([])\n",
    "plt.tight_layout()\n",
    "plt.show()"
   ]
  },
  {
   "cell_type": "code",
   "execution_count": null,
   "metadata": {},
   "outputs": [],
   "source": [
    "# Plot the mean pixel spectra of the different predicted classes\n",
    "tp_df = pd.DataFrame(tp, columns=band_descriptions.keys()).melt(var_name='band', value_name='value')\n",
    "fp_df = pd.DataFrame(fp, columns=band_descriptions.keys()).melt(var_name='band', value_name='value')\n",
    "plt.figure(figsize=(12,4), dpi=150, facecolor=(1,1,1))\n",
    "plt.subplot(1,2,1)\n",
    "sns.lineplot(x='band', y='value', data=fp_df, ci=\"sd\", color='r', label='False Positives')\n",
    "sns.lineplot(x='band', y='value', data=tp_df, ci=\"sd\", label='True Positives')\n",
    "plt.legend()\n",
    "plt.title('Mean Value +/- SD')\n",
    "\n",
    "plt.subplot(1,2,2)\n",
    "tn_df = pd.DataFrame(tn, columns=band_descriptions.keys()).melt(var_name='band', value_name='value')\n",
    "fn_df = pd.DataFrame(fn, columns=band_descriptions.keys()).melt(var_name='band', value_name='value')\n",
    "sns.lineplot(x='band', y='value', data=fn_df, ci=\"sd\", color='r', label='False Negatives')\n",
    "sns.lineplot(x='band', y='value', data=tn_df, ci=\"sd\", label='True Negatives')\n",
    "plt.legend()\n",
    "plt.title('Mean Value +/- SD')\n",
    "plt.show()"
   ]
  },
  {
   "cell_type": "markdown",
   "metadata": {},
   "source": [
    "### Inspect Data"
   ]
  },
  {
   "cell_type": "code",
   "execution_count": null,
   "metadata": {},
   "outputs": [],
   "source": [
    "# Plot the mean pixel spectra of the extracted dataset\n",
    "positive_df = pd.DataFrame(positive_vectors, columns=band_descriptions.keys()).melt(var_name='band', value_name='value')\n",
    "negative_df = pd.DataFrame(negative_vectors, columns=band_descriptions.keys()).melt(var_name='band', value_name='value')\n",
    "plt.figure(figsize=(6,4), dpi=150, facecolor=(1,1,1))\n",
    "sns.lineplot(x='band', y='value', data=negative_df, ci=\"sd\", color='r', label='Negative')\n",
    "sns.lineplot(x='band', y='value', data=positive_df, ci=\"sd\", label='Positive')\n",
    "plt.legend()\n",
    "plt.title('Mean Value +/- SD')\n",
    "plt.show()"
   ]
  },
  {
   "cell_type": "code",
   "execution_count": null,
   "metadata": {},
   "outputs": [],
   "source": []
  }
 ],
 "metadata": {
  "kernelspec": {
   "display_name": "Python 3",
   "language": "python",
   "name": "python3"
  },
  "language_info": {
   "codemirror_mode": {
    "name": "ipython",
    "version": 3
   },
   "file_extension": ".py",
   "mimetype": "text/x-python",
   "name": "python",
   "nbconvert_exporter": "python",
   "pygments_lexer": "ipython3",
   "version": "3.6.5"
  }
 },
 "nbformat": 4,
 "nbformat_minor": 4
}
