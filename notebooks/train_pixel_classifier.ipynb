{
 "cells": [
  {
   "cell_type": "markdown",
   "metadata": {},
   "source": [
    "# Train Pixel Classifier"
   ]
  },
  {
   "cell_type": "code",
   "execution_count": null,
   "metadata": {},
   "outputs": [],
   "source": [
    "import os\n",
    "import pickle\n",
    "\n",
    "import matplotlib.pyplot as plt\n",
    "import numpy as np\n",
    "from sklearn.model_selection import train_test_split\n",
    "from sklearn.metrics import classification_report\n",
    "from sklearn.utils import shuffle\n",
    "from tensorflow import keras\n",
    "from tensorflow.keras import layers\n",
    "from tqdm import tqdm\n",
    "\n",
    "import sys\n",
    "sys.path.append('../')\n",
    "from scripts.get_s2_data_ee import get_history, get_pixel_vectors\n",
    "from scripts.viz_tools import stretch_histogram\n",
    "\n",
    "np.random.seed(1)"
   ]
  },
  {
   "cell_type": "code",
   "execution_count": null,
   "metadata": {},
   "outputs": [],
   "source": [
    "# Sentinel 2 band descriptions\n",
    "band_descriptions = {\n",
    "    'B1': 'Aerosols, 442nm',\n",
    "    'B2': 'Blue, 492nm',\n",
    "    'B3': 'Green, 559nm',\n",
    "    'B4': 'Red, 665nm',\n",
    "    'B5': 'Red Edge 1, 704nm',\n",
    "    'B6': 'Red Edge 2, 739nm',\n",
    "    'B7': 'Red Edge 3, 779nm',\n",
    "    'B8': 'NIR, 833nm',\n",
    "    'B8A': 'Red Edge 4, 864nm',\n",
    "    'B9': 'Water Vapor, 943nm',\n",
    "    'B11': 'SWIR 1, 1610nm',\n",
    "    'B12': 'SWIR 2, 2186nm'\n",
    "}"
   ]
  },
  {
   "cell_type": "code",
   "execution_count": null,
   "metadata": {},
   "outputs": [],
   "source": [
    "def normalize(x):\n",
    "    return (np.array(x)) / (3000)\n",
    "\n",
    "def compute_ndvi(pixel_vectors):\n",
    "    return (pixel_vectors[:,7] - pixel_vectors[:,3]) / (pixel_vectors[:,7] + pixel_vectors[:,3])"
   ]
  },
  {
   "cell_type": "markdown",
   "metadata": {},
   "source": [
    "## Create a Training Dataset\n",
    "Outputs will be: `x_train`, `y_train`, `x_test`, `y_test`, `x_holdout`, `y_holdout`. Holdout data is only positive"
   ]
  },
  {
   "cell_type": "code",
   "execution_count": null,
   "metadata": {},
   "outputs": [],
   "source": [
    "train_data_dir = '../data/training_data/pixel_vectors/'\n",
    "\n",
    "with open(os.path.join(train_data_dir, \"negative_pixel_vectors_toa_12_2019-01-01.pkl\"), 'rb') as file:\n",
    "    x_negative = np.array(pickle.load(file))\n",
    "\n",
    "\n",
    "# Bootstrap data is an example for now of adding data to classifier\n",
    "with open(os.path.join(train_data_dir, \"bootstrap_data_toa.pkl\"), 'rb') as file:\n",
    "    x_negative_bootstrap = np.array(pickle.load(file))\n",
    "    \n",
    "x_negative = np.concatenate((x_negative, x_negative_bootstrap))\n",
    "\n",
    "y_negative = np.zeros(len(x_negative))\n",
    "\n",
    "with open(os.path.join(train_data_dir, \"positive_pixel_vectors_toa_36_2018-01-01.pkl\"), 'rb') as file:\n",
    "    x_positive = np.array(pickle.load(file))\n",
    "\n",
    "with open(os.path.join(train_data_dir, \"positive_holdout_pixel_vectors_toa_3_2018-01-01.pkl\"), 'rb') as file:\n",
    "    x_holdout = np.array(pickle.load(file))"
   ]
  },
  {
   "cell_type": "markdown",
   "metadata": {},
   "source": [
    "### Filter positive samples such that NDVI is within a range\n",
    "This is useful since the positive patches can include surrounding vegetation"
   ]
  },
  {
   "cell_type": "code",
   "execution_count": null,
   "metadata": {},
   "outputs": [],
   "source": [
    "ndvi_train = compute_ndvi(x_positive)\n",
    "ndvi_holdout = compute_ndvi(x_holdout)\n",
    "\n",
    "lower_ndvi_bound = 0\n",
    "upper_ndvi_bound = 0.4\n",
    "index_train = np.logical_and(ndvi_train > lower_ndvi_bound, ndvi_train < upper_ndvi_bound)\n",
    "index_holdout = np.logical_and(ndvi_holdout > lower_ndvi_bound, ndvi_holdout < upper_ndvi_bound)\n",
    "\n",
    "x_positive = x_positive[index_train]\n",
    "y_positive = np.ones(len(x_positive))\n",
    "x_holdout = x_holdout[index_holdout]\n",
    "y_holdout = np.ones(len(x_holdout))\n",
    "\n",
    "plt.figure(figsize=(10,3), dpi=100, facecolor=(1,1,1))\n",
    "plt.subplot(1,2,1)\n",
    "edges, bins, patches = plt.hist(ndvi_train, bins=300, label='Original NDVI')\n",
    "plt.hist(ndvi_train[index_train], bins=bins, color='r', label='Clipped NDVI')\n",
    "plt.title('Distribution of NDVI in the Train Set')\n",
    "plt.legend()\n",
    "\n",
    "plt.subplot(1,2,2)\n",
    "edges, bins, patches = plt.hist(ndvi_holdout, bins=300, label='Original NDVI')\n",
    "plt.hist(ndvi_holdout[index_holdout], bins=bins, color='r', label='Clipped NDVI')\n",
    "plt.title('Distribution of NDVI in the Holdout Set')\n",
    "plt.legend()\n",
    "\n",
    "plt.show()"
   ]
  },
  {
   "cell_type": "markdown",
   "metadata": {},
   "source": [
    "### Create train test split\n",
    "Also expand dimensions to account for batches"
   ]
  },
  {
   "cell_type": "code",
   "execution_count": null,
   "metadata": {},
   "outputs": [],
   "source": [
    "x = np.concatenate((x_positive, x_negative))\n",
    "y = np.concatenate((y_positive, y_negative))\n",
    "\n",
    "x, y = shuffle(x, y, random_state=42)\n",
    "x = normalize(x)\n",
    "x_holdout = normalize(x_holdout)\n",
    "\n",
    "x_train, x_test, y_train, y_test = train_test_split(x, y, test_size=0.20, random_state=42)\n",
    "print(\"Num Train Samples:\\t\\t\", len(x_train))\n",
    "print(\"Num Test Samples:\\t\\t\", len(x_test))\n",
    "print(f\"Percent Negative Train:\\t {100 * sum(y_train == 0.0) / len(y_train):.1f}\")\n",
    "print(f\"Percent Negative Test:\\t {100 * sum(y_test == 0.0) / len(y_test):.1f}\")\n",
    "\n",
    "x_train = np.expand_dims(x_train, -1)\n",
    "x_test = np.expand_dims(x_test, -1)\n",
    "x_holdout = np.expand_dims(x_holdout, -1)\n",
    "\n",
    "# Note: I am accustomed to assigning two classes for binary classification. \n",
    "# This habit comes from an issue in theano a long time ago, but I'm too superstitious to change it.\n",
    "num_classes = 2\n",
    "y_train = keras.utils.to_categorical(y_train, num_classes)\n",
    "y_test = keras.utils.to_categorical(y_test, num_classes)\n",
    "y_holdout = keras.utils.to_categorical(y_holdout, num_classes)"
   ]
  },
  {
   "cell_type": "markdown",
   "metadata": {},
   "source": [
    "## Create and Train a Model"
   ]
  },
  {
   "cell_type": "code",
   "execution_count": null,
   "metadata": {},
   "outputs": [],
   "source": [
    "input_shape = np.shape(x_train[0])\n",
    "model = keras.Sequential(\n",
    "    [\n",
    "        keras.Input(shape=input_shape),\n",
    "        layers.Conv1D(16, kernel_size=(3), activation=\"relu\"),\n",
    "        #layers.MaxPooling2D(pool_size=(2)),\n",
    "        layers.Conv1D(32, kernel_size=(3), activation=\"relu\"),\n",
    "        #layers.MaxPooling2D(pool_size=(2)),\n",
    "        layers.Flatten(),\n",
    "        layers.Dense(32, activation=\"relu\"),\n",
    "        layers.Dense(32, activation=\"relu\"),\n",
    "        layers.Dense(32, activation=\"relu\"),\n",
    "        layers.Dropout(0.2),\n",
    "        layers.Dense(num_classes, activation=\"softmax\"),\n",
    "    ]\n",
    ")\n",
    "model.summary()"
   ]
  },
  {
   "cell_type": "markdown",
   "metadata": {},
   "source": [
    "### Optional Class Weighting\n",
    "Over experimental testing, I found that weighting classes seemed to degrade performance. This could use further investigation"
   ]
  },
  {
   "cell_type": "code",
   "execution_count": null,
   "metadata": {},
   "outputs": [],
   "source": [
    "from sklearn.utils import class_weight\n",
    "negative_weight, positive_weight = class_weight.compute_class_weight('balanced', \n",
    "                                                                     classes = np.unique(y_train),\n",
    "                                                                     y = y_train[:,1])\n",
    "print(f\"Negative Weight: {negative_weight:.2f}\")\n",
    "print(f\"Positive Weight: {positive_weight:.2f}\")"
   ]
  },
  {
   "cell_type": "code",
   "execution_count": null,
   "metadata": {},
   "outputs": [],
   "source": [
    "# Compile model. Note that many of these metrics are extraneous. \n",
    "# Can be useful to track during training at times though\n",
    "model.compile(loss=\"binary_crossentropy\", \n",
    "              optimizer=\"adam\", \n",
    "              metrics=[keras.metrics.Recall(thresholds=(0.9), name='precision'), \n",
    "                       keras.metrics.Precision(thresholds=(0.9), name='recall'),\n",
    "                       keras.metrics.AUC(curve='PR', name='auc'),\n",
    "                       \"accuracy\"],\n",
    "              #loss_weights = sum(y_train) / len(y_train),\n",
    "              #weighted_metrics = ['accuracy']\n",
    "             )"
   ]
  },
  {
   "cell_type": "markdown",
   "metadata": {},
   "source": [
    "### Train the Model"
   ]
  },
  {
   "cell_type": "code",
   "execution_count": null,
   "metadata": {
    "scrolled": true
   },
   "outputs": [],
   "source": [
    "batch_size = 256\n",
    "epochs = 20\n",
    "\n",
    "model.fit(x_train, \n",
    "          y_train, \n",
    "          batch_size=batch_size, \n",
    "          epochs=epochs, \n",
    "          validation_data = (x_test, y_test),\n",
    "          #validation_split=0.1,\n",
    "          #class_weight = {0: negative_weight, 1: positive_weight}\n",
    "         )"
   ]
  },
  {
   "cell_type": "code",
   "execution_count": null,
   "metadata": {},
   "outputs": [],
   "source": [
    "train_accuracy = model.history.history['accuracy']\n",
    "test_accuracy = model.history.history['val_accuracy']\n",
    "plt.figure(figsize=(8,5), dpi=100, facecolor=(1,1,1))\n",
    "plt.plot(train_accuracy, label='Train Acc')\n",
    "plt.plot(test_accuracy, c='r', label='Val Acc')\n",
    "percent_negative = (sum(y_train == 0.0) / len(y_train))[1]\n",
    "plt.plot([0, epochs], [percent_negative, percent_negative], '--', c='gray', label='Baseline')\n",
    "plt.xlabel('Epoch')\n",
    "plt.ylabel('Accuracy')\n",
    "plt.legend()\n",
    "plt.title('Network Train and Val Accuracy')\n",
    "plt.show()"
   ]
  },
  {
   "cell_type": "code",
   "execution_count": null,
   "metadata": {},
   "outputs": [],
   "source": [
    "threshold = 0.6\n",
    "print(\"Test Set Metrics:\")\n",
    "print(classification_report(y_test[:,1], model.predict(x_test)[:,1] > threshold, \n",
    "                            target_names=['No TPA', 'TPA']))\n",
    "\n",
    "print(\"\\nHoldout Positive Set Metrics:\")\n",
    "print(classification_report(y_holdout[:,1], model.predict(x_holdout)[:,1] > threshold, \n",
    "                            target_names=['No TPA', 'TPA']))"
   ]
  },
  {
   "cell_type": "code",
   "execution_count": null,
   "metadata": {},
   "outputs": [],
   "source": [
    "model_name = 'pipeline_validation_model_3-15-21.h5'\n",
    "model.save('../models/' + model_name)"
   ]
  },
  {
   "cell_type": "markdown",
   "metadata": {},
   "source": [
    "## Visualize Network Predictions"
   ]
  },
  {
   "cell_type": "code",
   "execution_count": null,
   "metadata": {},
   "outputs": [],
   "source": [
    "def make_predictions(model_path, data, site_name, threshold):\n",
    "    test_image = data\n",
    "    model = keras.models.load_model(model_path)\n",
    "\n",
    "    rgb_stack = []\n",
    "    preds_stack = []\n",
    "    threshold_stack = []\n",
    "    print(\"Making Predictions\")\n",
    "    for month in list(test_image.keys()):\n",
    "        test_pixel_vectors, width, height = get_pixel_vectors(test_image, month)\n",
    "        if width > 0:\n",
    "            test_pixel_vectors = normalize(test_pixel_vectors)\n",
    "\n",
    "            r = np.reshape(np.array(test_pixel_vectors)[:,3], (width, height))\n",
    "            g = np.reshape(np.array(test_pixel_vectors)[:,2], (width, height))\n",
    "            b = np.reshape(np.array(test_pixel_vectors)[:,1], (width, height))\n",
    "            rgb = np.stack((r,g,b), axis=-1)\n",
    "            rgb_stack.append(rgb)\n",
    "\n",
    "            preds = model.predict(np.expand_dims(test_pixel_vectors, axis=-1))\n",
    "            preds_img = np.reshape(preds, (width, height, 2))[:,:,1]\n",
    "            preds_stack.append(preds_img)\n",
    "\n",
    "            thresh_img = np.clip(preds_img, threshold, 1)\n",
    "            threshold_stack.append(thresh_img)\n",
    "            \n",
    "    rgb_median = np.median(rgb_stack, axis=0)\n",
    "    preds_median = np.median(preds_stack, axis=0)\n",
    "    threshold_median = np.median(threshold_stack, axis=0)\n",
    "\n",
    "    plt.figure(dpi=150, facecolor=(1,1,1), figsize=(15,5))\n",
    "\n",
    "    plt.subplot(1,3,1)\n",
    "    \n",
    "    adjusted_image = stretch_histogram(rgb_median)\n",
    "    plt.imshow(adjusted_image)\n",
    "    plt.title(f'{site_name} Median', size=8)\n",
    "    plt.axis('off')\n",
    "\n",
    "    plt.subplot(1,3,2)\n",
    "    plt.imshow(preds_median, vmin=0, vmax=1, cmap='seismic')\n",
    "    plt.title('Classification Median', size=8)\n",
    "    plt.axis('off')\n",
    "\n",
    "    plt.subplot(1,3,3)\n",
    "    plt.imshow(threshold_median, cmap='gray')\n",
    "    plt.title(f\"Positive Pixels Median: Threshold {threshold}\", size=8)\n",
    "    plt.axis('off')\n",
    "\n",
    "    title = f\"{site_name} - Median Values - Neural Network Classification - Threshold {threshold}\"\n",
    "    plt.suptitle(title, y=1.01)\n",
    "    plt.tight_layout()\n",
    "    #plt.savefig(os.path.join(output_dir, title + '.png'), bbox_inches='tight')\n",
    "    plt.show()\n",
    "    \n",
    "    return rgb_stack, preds_stack, threshold_stack"
   ]
  },
  {
   "cell_type": "markdown",
   "metadata": {},
   "source": [
    "### Download a test patch"
   ]
  },
  {
   "cell_type": "code",
   "execution_count": null,
   "metadata": {},
   "outputs": [],
   "source": [
    "rect_width = 0.008\n",
    "coords = [115.16987454393899, -8.091076190191433]\n",
    "num_months = 6\n",
    "start_date = '2020-01-01'\n",
    "name = 'TPA Bengkala'\n",
    "patch_history = get_history([coords], \n",
    "                            [name], \n",
    "                            rect_width,\n",
    "                            num_months=num_months,\n",
    "                            start_date=start_date,\n",
    "                            cloud_mask=True)"
   ]
  },
  {
   "cell_type": "markdown",
   "metadata": {},
   "source": [
    "### Show composite predictions"
   ]
  },
  {
   "cell_type": "code",
   "execution_count": null,
   "metadata": {},
   "outputs": [],
   "source": [
    "threshold = 0.6\n",
    "model_path = '../models/pipeline_validation_model_3-15-21.h5'\n",
    "rgb_stack, pred_stack, threshold_stack = make_predictions(model_path, patch_history, name, threshold)"
   ]
  },
  {
   "cell_type": "markdown",
   "metadata": {},
   "source": [
    "### Show timeseries predictions"
   ]
  },
  {
   "cell_type": "code",
   "execution_count": null,
   "metadata": {},
   "outputs": [],
   "source": [
    "threshold = 0.8\n",
    "\n",
    "for image, pred, date in zip(rgb_stack, pred_stack, list(patch_history.keys())):\n",
    "    plt.figure(figsize=(9,3), facecolor=(1,1,1), dpi=100)\n",
    "    plt.subplot(1,3,1)\n",
    "    plt.imshow(np.clip(stretch_histogram(image), 0, 1))\n",
    "    plt.axis('off')\n",
    "    plt.title('RGB')\n",
    "    \n",
    "    plt.subplot(1,3,2)\n",
    "    combo = stretch_histogram(np.copy(image))\n",
    "    combo[:,:,0][np.ma.masked_greater(pred, threshold).mask] = 1\n",
    "    combo[:,:,1][np.ma.masked_greater(pred, threshold).mask] = 0\n",
    "    combo[:,:,2][np.ma.masked_greater(pred, threshold).mask] = 0\n",
    "    plt.imshow(combo)\n",
    "    plt.axis('off')\n",
    "    plt.title(f'Composite - Thresh {threshold}')\n",
    "    \n",
    "    plt.subplot(1,3,3)\n",
    "    plt.imshow(pred, cmap='seismic')\n",
    "    plt.title('Prediction')\n",
    "    plt.axis('off')\n",
    "    \n",
    "    plt.suptitle(date, size=14)\n",
    "    plt.tight_layout()\n",
    "    plt.show()"
   ]
  },
  {
   "cell_type": "code",
   "execution_count": null,
   "metadata": {},
   "outputs": [],
   "source": []
  }
 ],
 "metadata": {
  "kernelspec": {
   "display_name": "Python 3",
   "language": "python",
   "name": "python3"
  },
  "language_info": {
   "codemirror_mode": {
    "name": "ipython",
    "version": 3
   },
   "file_extension": ".py",
   "mimetype": "text/x-python",
   "name": "python",
   "nbconvert_exporter": "python",
   "pygments_lexer": "ipython3",
   "version": "3.6.5"
  }
 },
 "nbformat": 4,
 "nbformat_minor": 4
}
