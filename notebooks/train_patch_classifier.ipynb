{
 "cells": [
  {
   "cell_type": "markdown",
   "metadata": {},
   "source": [
    "# Train Patch Classifier\n",
    "This notebook loads inputs created in `create_patch_dataset` to train a spatial classifier\n"
   ]
  },
  {
   "cell_type": "code",
   "execution_count": null,
   "metadata": {},
   "outputs": [],
   "source": [
    "%load_ext autoreload\n",
    "%autoreload 2"
   ]
  },
  {
   "cell_type": "code",
   "execution_count": null,
   "metadata": {},
   "outputs": [],
   "source": [
    "import json\n",
    "import os\n",
    "import pickle\n",
    "\n",
    "import cv2\n",
    "import matplotlib.pyplot as plt\n",
    "from matplotlib import animation\n",
    "import numpy as np\n",
    "from sklearn.model_selection import train_test_split\n",
    "from sklearn.utils import shuffle\n",
    "from tensorflow import keras\n",
    "from tensorflow.keras import layers\n",
    "from tensorflow.keras.preprocessing.image import ImageDataGenerator\n",
    "from tqdm import tqdm\n",
    "\n",
    "from scripts.get_s2_data_ee import get_history, get_history_polygon, get_pixel_vectors\n",
    "from scripts.viz_tools import stretch_histogram, create_img_stack, normalize, band_descriptions"
   ]
  },
  {
   "cell_type": "markdown",
   "metadata": {},
   "source": [
    "## Load Data\n",
    "Data is generated in the `create_spatial_patches` notebook"
   ]
  },
  {
   "cell_type": "code",
   "execution_count": null,
   "metadata": {},
   "outputs": [],
   "source": [
    "train_data_dir = '../data/training_data/patches/'\n",
    "\n",
    "data_files = ['positive_patches_12_months_2019-01-01_45px_patches.pkl', \n",
    "              'negative_patches_6_months_2019-03-01_45px_patches.pkl',\n",
    "              'w_nusa_tenggara_v1.1_positives_patches_12_months_2020-01-01_45px_patches.pkl',\n",
    "              'w_nusa_tenggara_v1.1_negatives_patches_12_months_2020-01-01_45px_patches.pkl'\n",
    "             ]\n",
    "\n",
    "label_files = ['positive_patches_12_months_2019-01-01_45px_patch_labels.pkl', \n",
    "               'negative_patches_6_months_2019-03-01_45px_patch_labels.pkl',\n",
    "               'w_nusa_tenggara_v1.1_positives_patches_12_months_2020-01-01_45px_patch_labels.pkl',\n",
    "               'w_nusa_tenggara_v1.1_negatives_patches_12_months_2020-01-01_45px_patch_labels.pkl'\n",
    "             ]\n",
    "\n",
    "patches = []\n",
    "labels = []\n",
    "for data, label in zip(data_files, label_files):\n",
    "    with open(os.path.join(train_data_dir, data), 'rb') as f:\n",
    "        patches += pickle.load(f)\n",
    "    with open(os.path.join(train_data_dir, label), 'rb') as f:\n",
    "        labels += pickle.load(f)\n",
    "patches = np.array(patches)\n",
    "labels = np.array(labels)\n",
    "\n",
    "positive_patches = patches[labels == 1]\n",
    "negative_patches = patches[labels == 0]\n",
    "\n",
    "print(\"Loaded\", len(positive_patches), \"positive patches and\", len(negative_patches), \"negative patches\")"
   ]
  },
  {
   "cell_type": "markdown",
   "metadata": {},
   "source": [
    "## Prepare training dataset"
   ]
  },
  {
   "cell_type": "code",
   "execution_count": null,
   "metadata": {},
   "outputs": [],
   "source": [
    "x = normalize(patches)\n",
    "y = labels\n",
    "x, y = shuffle(x, y, random_state=42)"
   ]
  },
  {
   "cell_type": "code",
   "execution_count": null,
   "metadata": {},
   "outputs": [],
   "source": [
    "x_train, x_test, y_train, y_test = train_test_split(x, y, test_size=0.10, random_state=42)\n",
    "print(\"Num Train:\\t\\t\", len(x_train))\n",
    "print(\"Num Test:\\t\\t\", len(x_test))\n",
    "print(f\"Percent Negative Train:\\t {100 * sum(y_train == 0.0) / len(y_train):.1f}\")\n",
    "print(f\"Percent Negative Test:\\t {100 * sum(y_test == 0.0) / len(y_test):.1f}\")\n",
    "\n",
    "num_classes = 2\n",
    "y_train = keras.utils.to_categorical(y_train, num_classes)\n",
    "y_test = keras.utils.to_categorical(y_test, num_classes)"
   ]
  },
  {
   "cell_type": "code",
   "execution_count": null,
   "metadata": {
    "scrolled": false
   },
   "outputs": [],
   "source": [
    "# Visualize data with no augmentation\n",
    "datagen = ImageDataGenerator(\n",
    "    rotation_range=0\n",
    ")\n",
    "\n",
    "plt.figure(figsize=(12,12), facecolor=(1,1,1))\n",
    "images, labels = datagen.flow(x_train, y_train, batch_size=36).next()\n",
    "for index, (image, label) in enumerate(zip(images, labels)):\n",
    "\n",
    "    rgb = np.stack((image[:,:,3],\n",
    "                    image[:,:,2], \n",
    "                    image[:,:,1]), axis=-1)\n",
    "    rgb_stretch = stretch_histogram(rgb, max_val = 1)\n",
    "    plt.subplot(6,6,index+1)\n",
    "    plt.imshow(np.clip(rgb_stretch, 0, 1))\n",
    "    if label[1] == 1:\n",
    "        plt.title('Waste')\n",
    "    else:\n",
    "        plt.title('No Waste')\n",
    "    plt.axis('off')\n",
    "plt.suptitle('Dataset Examples - No Augmentation', size=16)\n",
    "plt.tight_layout()\n",
    "plt.show()"
   ]
  },
  {
   "cell_type": "code",
   "execution_count": null,
   "metadata": {
    "scrolled": false
   },
   "outputs": [],
   "source": [
    "datagen = ImageDataGenerator(\n",
    "    rotation_range=360,\n",
    "    width_shift_range=[0.8, 1.2],\n",
    "    height_shift_range=[0.8, 1.2],\n",
    "    #shear_range=10,\n",
    "    zoom_range=[0.8, 1.5],\n",
    "    vertical_flip=True,\n",
    "    horizontal_flip=True,\n",
    "    fill_mode='reflect'\n",
    ")\n",
    "\n",
    "\n",
    "plt.figure(figsize=(12,12), facecolor=(1,1,1))\n",
    "images, labels = datagen.flow(x_train, y_train, batch_size=36).next()\n",
    "for index, (image, label) in enumerate(zip(images, labels)):\n",
    "\n",
    "    rgb = np.stack((image[:,:,3],\n",
    "                    image[:,:,2], \n",
    "                    image[:,:,1]), axis=-1)\n",
    "    rgb_stretch = stretch_histogram(rgb, max_val = .8)\n",
    "    plt.subplot(6,6,index+1)\n",
    "    plt.imshow(np.clip(rgb_stretch, 0, 1))\n",
    "    if label[1] == 1:\n",
    "        plt.title('Waste')\n",
    "    else:\n",
    "        plt.title('No Waste')\n",
    "    plt.axis('off')\n",
    "plt.suptitle('Data Augmentation Examples', size=16)\n",
    "plt.tight_layout()\n",
    "plt.show()\n",
    "    "
   ]
  },
  {
   "cell_type": "markdown",
   "metadata": {},
   "source": [
    "## Train Network"
   ]
  },
  {
   "cell_type": "code",
   "execution_count": null,
   "metadata": {},
   "outputs": [],
   "source": [
    "input_shape = np.shape(x_train[0])\n",
    "print(\"Input Shape:\", input_shape)"
   ]
  },
  {
   "cell_type": "code",
   "execution_count": null,
   "metadata": {},
   "outputs": [],
   "source": [
    "model = keras.Sequential([\n",
    "        keras.Input(shape=input_shape),\n",
    "        layers.Conv2D(16, kernel_size=(3), activation=\"relu\"),\n",
    "        layers.MaxPooling2D(pool_size=(2)),\n",
    "        layers.Conv2D(32, kernel_size=(3), activation=\"relu\"),\n",
    "        layers.MaxPooling2D(pool_size=(2)),\n",
    "        layers.Conv2D(64, kernel_size=(3), activation=\"relu\"),\n",
    "        layers.MaxPooling2D(pool_size=(2)),\n",
    "        layers.Flatten(),\n",
    "        layers.Dense(32, activation=\"relu\"),\n",
    "        layers.Dropout(0.1),\n",
    "        layers.Dense(32, activation=\"relu\"),\n",
    "        layers.Dropout(0.1),\n",
    "        #layers.Dense(32, activation=\"relu\"),\n",
    "        #layers.Dropout(0.1),\n",
    "        layers.Dense(num_classes, activation=\"softmax\")])\n",
    "model.summary()"
   ]
  },
  {
   "cell_type": "code",
   "execution_count": null,
   "metadata": {},
   "outputs": [],
   "source": [
    "model.compile(loss=\"binary_crossentropy\", \n",
    "              optimizer=\"adam\", \n",
    "              metrics=[\"accuracy\"])\n",
    "train_accuracy = []\n",
    "test_accuracy = []"
   ]
  },
  {
   "cell_type": "code",
   "execution_count": null,
   "metadata": {
    "scrolled": true
   },
   "outputs": [],
   "source": [
    "batch_size = 32\n",
    "epochs = 200\n",
    "model.fit(datagen.flow(x_train, y_train, batch_size=batch_size), \n",
    "          epochs=epochs, \n",
    "          validation_data = (x_test, y_test),\n",
    "          verbose = 1\n",
    "         )"
   ]
  },
  {
   "cell_type": "code",
   "execution_count": null,
   "metadata": {},
   "outputs": [],
   "source": [
    "train_accuracy += model.history.history['accuracy']\n",
    "test_accuracy += model.history.history['val_accuracy']\n",
    "plt.figure(figsize=(8,5), dpi=100, facecolor=(1,1,1))\n",
    "plt.plot(train_accuracy, label='Train Acc')\n",
    "plt.plot(test_accuracy, c='r', label='Val Acc')\n",
    "percent_negative = (sum(y_train == 0.0) / len(y_train))[1]\n",
    "plt.plot([0, epochs], [percent_negative, percent_negative], '--', c='gray', label='Baseline')\n",
    "plt.grid()\n",
    "plt.xlabel('Epoch')\n",
    "plt.ylabel('Accuracy')\n",
    "plt.legend()\n",
    "plt.title('Network Train and Val Accuracy')\n",
    "plt.show()"
   ]
  },
  {
   "cell_type": "code",
   "execution_count": null,
   "metadata": {},
   "outputs": [],
   "source": [
    "model_name = 'v1.1.0_200_4-23-21'\n",
    "model_path = f'../models/{model_name}_patch_classifier_{patches.shape[1]}px_patch.h5'\n",
    "print('Saving model to', model_path)\n",
    "model.save(model_path)"
   ]
  },
  {
   "cell_type": "code",
   "execution_count": null,
   "metadata": {},
   "outputs": [],
   "source": []
  }
 ],
 "metadata": {
  "kernelspec": {
   "display_name": "Python 3",
   "language": "python",
   "name": "python3"
  },
  "language_info": {
   "codemirror_mode": {
    "name": "ipython",
    "version": 3
   },
   "file_extension": ".py",
   "mimetype": "text/x-python",
   "name": "python",
   "nbconvert_exporter": "python",
   "pygments_lexer": "ipython3",
   "version": "3.7.4"
  }
 },
 "nbformat": 4,
 "nbformat_minor": 4
}
