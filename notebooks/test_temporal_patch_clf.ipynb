{
 "cells": [
  {
   "cell_type": "code",
   "execution_count": null,
   "metadata": {},
   "outputs": [],
   "source": [
    "%load_ext autoreload\n",
    "%autoreload 2"
   ]
  },
  {
   "cell_type": "code",
   "execution_count": null,
   "metadata": {},
   "outputs": [],
   "source": [
    "import descarteslabs as dl\n",
    "import json\n",
    "import matplotlib.pyplot as plt\n",
    "import numpy as np\n",
    "import os\n",
    "import pickle\n",
    "import pandas as pd\n",
    "import seaborn as sns\n",
    "from tensorflow.keras.models import load_model\n",
    "from tensorflow import keras\n",
    "from tqdm.notebook import tqdm\n",
    "\n",
    "from scripts import dl_utils\n",
    "from scripts.viz_tools import band_descriptions, plot_image_grid"
   ]
  },
  {
   "cell_type": "code",
   "execution_count": null,
   "metadata": {},
   "outputs": [],
   "source": [
    "def unit_norm(samples):\n",
    "    means = [1298.7330617049158, 1046.728074661139, 968.1679384402669, 805.7169469984433, 1001.5350089770019, 1721.8117738966116, 2074.660173162641, 1906.273653848785, 2253.9860009889144, 295.4803929281597, 1544.334239964913, 900.2133779561017]\n",
    "    deviations = [366.08860308693147, 378.157880474536, 389.7569162648193, 478.7348213604553, 435.20976171883257, 631.4499370533496, 798.0576089639353, 766.4725319841734, 892.286826414747, 131.88545750591763, 726.3113441205015, 601.8741576997301]\n",
    "    normalized_samples = np.zeros_like(samples).astype('float32')\n",
    "    for i in range(0, 12):\n",
    "        #normalize each channel to global unit norm\n",
    "        normalized_samples[:,:,:,:,i] = (np.array(samples)[:,:,:,:,i] - means[i]) / deviations[i]\n",
    "    return normalized_samples"
   ]
  },
  {
   "cell_type": "code",
   "execution_count": null,
   "metadata": {},
   "outputs": [],
   "source": [
    "model = load_model('../models/3DConv_2x48x48x12_temporal_patch.h5', custom_objects={'LeakyReLU': keras.layers.LeakyReLU,\n",
    "                                                                                    'ELU': keras.layers.ELU,\n",
    "                                                                                    'ReLU': keras.layers.ReLU\n",
    "                                                                                   })"
   ]
  },
  {
   "cell_type": "code",
   "execution_count": null,
   "metadata": {},
   "outputs": [],
   "source": [
    "START_DATE = '2020-01-01'\n",
    "END_DATE = '2021-01-01'\n",
    "MOSAIC_PERIOD = 3  # the period over which to mosaic image data in months\n",
    "SPECTROGRAM_INTERVAL = 2  # For spectrogram analysis, the time from the start of one mosaic to the start of the next,\n",
    " # in number of mosaic periods\n",
    "    \n",
    "# Set rect width in pixels. Only required for point samples\n",
    "num_pixels = 48\n",
    "# Convert pixels to degrees. Heuristic, not geographically sound\n",
    "# Better to go with slightly bigger patches that can then be cropped\n",
    "rect_width = (num_pixels / 100) / 111.32"
   ]
  },
  {
   "cell_type": "code",
   "execution_count": null,
   "metadata": {},
   "outputs": [],
   "source": [
    "coords = [116.60519642387457, -8.641674779337336]\n",
    "coords = [-10.200799, 123.546910 ][::-1]\n",
    "polygon = dl_utils.rect_from_point(coords, rect_width)"
   ]
  },
  {
   "cell_type": "code",
   "execution_count": null,
   "metadata": {},
   "outputs": [],
   "source": [
    "pairs = []\n",
    "try:\n",
    "    mosaics, _ = dl_utils.download_mosaics(polygon, START_DATE, END_DATE, MOSAIC_PERIOD, method='min')\n",
    "    new_pairs = dl_utils.pair(mosaics, SPECTROGRAM_INTERVAL)\n",
    "    pairs += [p for p in new_pairs if dl_utils.masks_match(p)]\n",
    "except:\n",
    "    print('Failure', polygon)\n",
    "print(len(pairs), \"pairs of images extracted\")"
   ]
  },
  {
   "cell_type": "code",
   "execution_count": null,
   "metadata": {},
   "outputs": [],
   "source": [
    "resolution = model.input_shape[3]\n",
    "cropped_pairs = []\n",
    "for pair in pairs:\n",
    "    a = []\n",
    "    for image in pair:\n",
    "        cropped = dl_utils.pad_patch(image.filled(0), resolution)\n",
    "        a.append(cropped)\n",
    "        #print(cropped.shape)\n",
    "    cropped_pairs.append(a)"
   ]
  },
  {
   "cell_type": "code",
   "execution_count": null,
   "metadata": {
    "scrolled": false
   },
   "outputs": [],
   "source": [
    "plt.figure(figsize=(6, 3), dpi=150)\n",
    "plt.subplot(1,2,1)\n",
    "plt.title('Time 1')\n",
    "plt.imshow(np.clip((unit_norm(cropped_pairs)[0][0][:,:,3:0:-1] + 1) / 2, 0,1))\n",
    "plt.axis('off')\n",
    "plt.subplot(1,2,2)\n",
    "plt.title('Time 2')\n",
    "plt.axis('off')\n",
    "plt.imshow(np.clip((unit_norm(cropped_pairs)[0][1][:,:,3:0:-1] + 1) / 2, 0,1))\n",
    "plt.show()"
   ]
  },
  {
   "cell_type": "code",
   "execution_count": null,
   "metadata": {},
   "outputs": [],
   "source": [
    "print(\"Predictions:\")\n",
    "for pred in model.predict(unit_norm(cropped_pairs))[:,1]:\n",
    "    print(f\"{pred:.4f}\")"
   ]
  },
  {
   "cell_type": "code",
   "execution_count": null,
   "metadata": {},
   "outputs": [],
   "source": []
  }
 ],
 "metadata": {
  "kernelspec": {
   "display_name": "Python 3",
   "language": "python",
   "name": "python3"
  },
  "language_info": {
   "codemirror_mode": {
    "name": "ipython",
    "version": 3
   },
   "file_extension": ".py",
   "mimetype": "text/x-python",
   "name": "python",
   "nbconvert_exporter": "python",
   "pygments_lexer": "ipython3",
   "version": "3.7.9"
  }
 },
 "nbformat": 4,
 "nbformat_minor": 4
}
