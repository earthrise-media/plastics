{
 "cells": [
  {
   "cell_type": "code",
   "execution_count": null,
   "metadata": {},
   "outputs": [],
   "source": [
    "%load_ext autoreload\n",
    "%autoreload 2"
   ]
  },
  {
   "cell_type": "code",
   "execution_count": null,
   "metadata": {},
   "outputs": [],
   "source": [
    "import os\n",
    "import shutil\n",
    "\n",
    "import descarteslabs as dl\n",
    "from descarteslabs.catalog import Image, properties\n",
    "import geopandas as gpd\n",
    "import rasterio as rs\n",
    "from rasterio.merge import merge\n",
    "from tensorflow.keras.models import load_model\n",
    "from tensorflow import keras\n",
    "from tqdm.notebook import tqdm\n",
    "\n",
    "from scripts import deploy_nn_v1\n",
    "from scripts import dl_utils"
   ]
  },
  {
   "cell_type": "code",
   "execution_count": null,
   "metadata": {},
   "outputs": [],
   "source": [
    "# User inputs\n",
    "\n",
    "model_version = '0.0.7'\n",
    "model_name = 'spectrogram_v0.0.7_2021-05-20'\n",
    "model_file = '../models/' + model_name + '.h5'\n",
    "\n",
    "patch_model_version = '0.1_2x28'\n",
    "patch_model_name = '2x28x28x12_plastic_patch'\n",
    "patch_model_file = '../models/' + patch_model_name + '.h5'\n",
    "patch_model = load_model(patch_model_file, custom_objects={'LeakyReLU': keras.layers.LeakyReLU,\n",
    "                                                                         'ELU': keras.layers.ELU,\n",
    "                                                                         'ReLU': keras.layers.ReLU\n",
    "                                                                         })\n",
    "patch_input_shape = patch_model.input_shape[2]\n",
    "\n",
    "roi = 'bali_foot'\n",
    "roi_file = f'../data/boundaries/{roi}.geojson'\n",
    "\n",
    "# Note on dates: The date range should be longer than the spectrogram length.\n",
    "# Starting on successive mosaic periods (typically: monthly), as many\n",
    "# spectrograms are created as fit in the date range.\n",
    "start_date = '2019-01-01'\n",
    "end_date = '2020-01-01'\n",
    "\n",
    "mosaic_period = 2\n",
    "mosaic_method = 'min'\n",
    "spectrogram_interval = 3\n",
    "\n",
    "product_id = f'earthrise:{roi}_v{model_version}_{start_date}_{end_date}' \n",
    "patch_product_id = f'earthrise:{roi}_patch_v{patch_model_version}_{start_date}_{end_date}' \n",
    "product_name = product_id.split(':')[-1]  # Arbitrary string - optionally set this to something more human readable.\n",
    "run_local = True # If False, the model prediction tasks are async queued and sent to DL for processing."
   ]
  },
  {
   "cell_type": "code",
   "execution_count": null,
   "metadata": {},
   "outputs": [],
   "source": [
    "# If running locally, get results faster by setting smalle tilesize (100?)\n",
    "# If running on Descartes, use tilesize 900\n",
    "tilesize = 100\n",
    "\n",
    "# Generally leave padding at 0\n",
    "padding = 0\n",
    "\n",
    "args = [\n",
    "    '--roi_file',\n",
    "    roi_file,\n",
    "    '--product_id',\n",
    "    product_id,\n",
    "    '--patch_product_id',\n",
    "    patch_product_id,\n",
    "    '--product_name',\n",
    "    product_name,\n",
    "    '--model_file',\n",
    "    model_file,\n",
    "    '--model_name',\n",
    "    model_name,\n",
    "    '--patch_model_name',\n",
    "    patch_model_name,\n",
    "    '--patch_model_file',\n",
    "    patch_model_file,\n",
    "    '--mosaic_period',\n",
    "    str(mosaic_period),\n",
    "    '--mosaic_method',\n",
    "    mosaic_method,\n",
    "    '--spectrogram_interval',\n",
    "    str(spectrogram_interval),\n",
    "    '--start_date',\n",
    "    start_date,\n",
    "    '--end_date',\n",
    "    end_date,\n",
    "    '--pad',\n",
    "    str(padding),\n",
    "    '--tilesize',\n",
    "    str((tilesize // patch_input_shape) * patch_input_shape - padding)\n",
    "]\n",
    "if run_local:\n",
    "    args.append('--run_local')"
   ]
  },
  {
   "cell_type": "markdown",
   "metadata": {},
   "source": [
    "Launch Descartes job. Monitor at https://monitor.descarteslabs.com/"
   ]
  },
  {
   "cell_type": "code",
   "execution_count": null,
   "metadata": {},
   "outputs": [],
   "source": [
    "# Because of the way DL uploads modules when queuing async tasks, we need to launch from the scripts/ folder\n",
    "%cd ../scripts\n",
    "%pwd"
   ]
  },
  {
   "cell_type": "code",
   "execution_count": null,
   "metadata": {},
   "outputs": [],
   "source": [
    "# Check if patch feature collection exists. If it does, delete the FC\n",
    "fc_ids = [fc.id for fc in dl.vectors.FeatureCollection.list() if patch_product_id in fc.id]\n",
    "if len(fc_ids) > 0:\n",
    "    fc_id = fc_ids[0]\n",
    "    print(\"Existing product found.\\nDeleting\", fc_id)\n",
    "    dl.vectors.FeatureCollection(fc_id).delete()"
   ]
  },
  {
   "cell_type": "code",
   "execution_count": null,
   "metadata": {
    "scrolled": true
   },
   "outputs": [],
   "source": [
    "deploy_nn_v1.main(args)"
   ]
  },
  {
   "cell_type": "markdown",
   "metadata": {},
   "source": [
    "# Download Data"
   ]
  },
  {
   "cell_type": "code",
   "execution_count": null,
   "metadata": {},
   "outputs": [],
   "source": [
    "# Alternatively, input a known product_id to download for an earlier model run: \n",
    "# product_id = 'earthrise:Bali_spectrogramV0.0.7_2020-06-01_2021-04-01'"
   ]
  },
  {
   "cell_type": "markdown",
   "metadata": {},
   "source": [
    "### Download Patch Classifier FC"
   ]
  },
  {
   "cell_type": "code",
   "execution_count": null,
   "metadata": {},
   "outputs": [],
   "source": [
    "print(\"Downloading\", patch_product_id)\n",
    "fc_id = [fc.id for fc in dl.vectors.FeatureCollection.list() if patch_product_id in fc.id][0]\n",
    "fc = dl.vectors.FeatureCollection(fc_id)\n",
    "region = gpd.read_file(roi_file)['geometry']\n",
    "    \n",
    "features = []\n",
    "for elem in tqdm(fc.filter(region).features()):\n",
    "    features.append(elem.geojson)\n",
    "results = gpd.GeoDataFrame.from_features(features)\n",
    "results.to_file(f\"../data/model_outputs/patch_classifier/{patch_product_id.split(':')[-1]}.geojson\", driver='GeoJSON')\n",
    "print(len(features), 'features found')"
   ]
  },
  {
   "cell_type": "markdown",
   "metadata": {},
   "source": [
    "### Download pixel classifier raster"
   ]
  },
  {
   "cell_type": "markdown",
   "metadata": {},
   "source": [
    "After the job is complete (only signaled by looking at the console), use this script to download the files. Because Descartes throws a 502 error when trying to download too many tiles. This process downloads each file individually, and then stitches them into a single geotiff"
   ]
  },
  {
   "cell_type": "code",
   "execution_count": null,
   "metadata": {},
   "outputs": [],
   "source": [
    "search = Image.search().filter(properties.product_id == product_id)\n",
    "search.summary()"
   ]
  },
  {
   "cell_type": "code",
   "execution_count": null,
   "metadata": {},
   "outputs": [],
   "source": [
    "# Select one of these available bands\n",
    "product = dl.catalog.Product.get(product_id)\n",
    "for b in product.bands():\n",
    "    print(b.id)"
   ]
  },
  {
   "cell_type": "code",
   "execution_count": null,
   "metadata": {},
   "outputs": [],
   "source": [
    "band = 'median'"
   ]
  },
  {
   "cell_type": "code",
   "execution_count": null,
   "metadata": {},
   "outputs": [],
   "source": [
    "basepath = os.path.join('../data/model_outputs/heatmaps', model_version, product_id.split(':')[-1] + f'mosaic-{band}')\n",
    "if not os.path.exists(basepath):\n",
    "    os.makedirs(basepath)"
   ]
  },
  {
   "cell_type": "code",
   "execution_count": null,
   "metadata": {
    "scrolled": true
   },
   "outputs": [],
   "source": [
    "image_list = [image.id for image in search]\n",
    "raster_client = dl.Raster()\n",
    "for image in tqdm(image_list[71:]):\n",
    "    try:\n",
    "        raster_client.raster(inputs = image,\n",
    "                             bands = [band],\n",
    "                             save=True,\n",
    "                             outfile_basename = os.path.join(basepath, image),\n",
    "                             srs='WGS84')\n",
    "    except dl.client.exceptions.BadRequestError as e:\n",
    "        print(f'Warning: {repr(e)}\\nContinuing...')\n",
    "    except dl.client.exceptions.ServerError as e:\n",
    "        print(f'Warning: {repr(e)}\\nContinuing...')"
   ]
  },
  {
   "cell_type": "code",
   "execution_count": null,
   "metadata": {},
   "outputs": [],
   "source": [
    "files_to_mosaic = []\n",
    "for file in os.listdir(basepath):\n",
    "    src = rs.open(os.path.join(basepath, file))\n",
    "    files_to_mosaic.append(src)\n",
    "mosaic, out_trans = merge(files_to_mosaic)"
   ]
  },
  {
   "cell_type": "code",
   "execution_count": null,
   "metadata": {},
   "outputs": [],
   "source": [
    "output_metadata = src.meta.copy()\n",
    "\n",
    "output_metadata.update({\"height\": mosaic.shape[1],\n",
    "                        \"width\": mosaic.shape[2],\n",
    "                        \"transform\": out_trans\n",
    "                 }\n",
    "                )\n",
    "output_metadata\n",
    "with rs.open(basepath + '.tif', 'w', **output_metadata) as f:\n",
    "    f.write(mosaic)"
   ]
  },
  {
   "cell_type": "code",
   "execution_count": null,
   "metadata": {},
   "outputs": [],
   "source": [
    "# Delete individual files and folder\n",
    "shutil.rmtree(basepath)"
   ]
  },
  {
   "cell_type": "code",
   "execution_count": null,
   "metadata": {},
   "outputs": [],
   "source": []
  }
 ],
 "metadata": {
  "kernelspec": {
   "display_name": "Python 3",
   "language": "python",
   "name": "python3"
  },
  "language_info": {
   "codemirror_mode": {
    "name": "ipython",
    "version": 3
   },
   "file_extension": ".py",
   "mimetype": "text/x-python",
   "name": "python",
   "nbconvert_exporter": "python",
   "pygments_lexer": "ipython3",
   "version": "3.7.9"
  }
 },
 "nbformat": 4,
 "nbformat_minor": 4
}
