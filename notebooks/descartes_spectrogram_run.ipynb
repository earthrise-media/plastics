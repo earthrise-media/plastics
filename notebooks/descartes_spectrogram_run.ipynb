{
 "cells": [
  {
   "cell_type": "code",
   "execution_count": null,
   "metadata": {},
   "outputs": [],
   "source": [
    "%load_ext autoreload\n",
    "%autoreload 2"
   ]
  },
  {
   "cell_type": "code",
   "execution_count": null,
   "metadata": {},
   "outputs": [],
   "source": [
    "import os\n",
    "import shutil\n",
    "import subprocess\n",
    "\n",
    "import descarteslabs as dl\n",
    "from descarteslabs.catalog import Image, properties\n",
    "import matplotlib.pyplot as plt\n",
    "import rasterio as rs\n",
    "from rasterio.merge import merge\n",
    "from tqdm import tqdm\n",
    "\n",
    "from scripts import deploy_nn_v1\n",
    "from scripts import dl_utils"
   ]
  },
  {
   "cell_type": "code",
   "execution_count": null,
   "metadata": {},
   "outputs": [],
   "source": [
    "model_name = 'spectrogram_v0.0.7_2021-05-20'\n",
    "model_file = '../models/' + model_name + '.h5'"
   ]
  },
  {
   "cell_type": "code",
   "execution_count": null,
   "metadata": {},
   "outputs": [],
   "source": [
    "roi_file = '../data/boundaries/nusa_tenggara.geojson'\n",
    "start_date = '2020-06-01'\n",
    "end_date = '2021-03-01'\n",
    "product_id = f'earthrise:Nusa_TenggaraV0.0.7_{start_date}_{end_date}' \n",
    "product_name = f'Nusa Tenggara - V0.0.7 - {start_date}_{end_date}' "
   ]
  },
  {
   "cell_type": "code",
   "execution_count": null,
   "metadata": {},
   "outputs": [],
   "source": [
    "args = [\n",
    "    '--roi_file',\n",
    "    roi_file,\n",
    "    '--product_id',\n",
    "    product_id,\n",
    "    '--product_name',\n",
    "    product_name, \n",
    "    '--model_file',\n",
    "    model_file,\n",
    "    '--model_name',\n",
    "    model_name,\n",
    "    '--start_date',\n",
    "    start_date,\n",
    "    '--end_date',\n",
    "    end_date,\n",
    "    #'--run_local'\n",
    "]"
   ]
  },
  {
   "cell_type": "markdown",
   "metadata": {},
   "source": [
    "Launch Descartes job. Monitor at https://monitor.descarteslabs.com/"
   ]
  },
  {
   "cell_type": "code",
   "execution_count": null,
   "metadata": {},
   "outputs": [],
   "source": [
    "deploy_nn_v1.main(args)"
   ]
  },
  {
   "cell_type": "markdown",
   "metadata": {},
   "source": [
    "After the job is complete (only signaled by looking at the console), use this script to download the files. Because Descartes throws a 502 error when trying to download too many tiles. This process downloads each file individually, and then stitches them into a single geotiff"
   ]
  },
  {
   "cell_type": "code",
   "execution_count": null,
   "metadata": {},
   "outputs": [],
   "source": [
    "# Alternatively, input a known product_id to download for an earlier model run: \n",
    "# product_id = 'earthrise:Bali_spectrogramV0.0.7_2020-06-01_2021-04-01'"
   ]
  },
  {
   "cell_type": "code",
   "execution_count": null,
   "metadata": {},
   "outputs": [],
   "source": [
    "search = Image.search().filter(properties.product_id == product_id)\n",
    "search.summary()"
   ]
  },
  {
   "cell_type": "code",
   "execution_count": null,
   "metadata": {},
   "outputs": [],
   "source": [
    "# Select one of these available bands\n",
    "product = dl.catalog.Product.get(product_id)\n",
    "for b in product.bands():\n",
    "    print(b.id)"
   ]
  },
  {
   "cell_type": "code",
   "execution_count": null,
   "metadata": {},
   "outputs": [],
   "source": [
    "band = '2020-06-01'"
   ]
  },
  {
   "cell_type": "code",
   "execution_count": null,
   "metadata": {},
   "outputs": [],
   "source": [
    "basepath = os.path.join('../data/model_outputs/heatmaps', product_id + f'mosaic-{band}')\n",
    "if not os.path.exists(basepath):\n",
    "    os.mkdir(basepath)"
   ]
  },
  {
   "cell_type": "code",
   "execution_count": null,
   "metadata": {},
   "outputs": [],
   "source": [
    "image_list = [image.id for image in search]\n",
    "raster_client = dl.Raster()\n",
    "for image in tqdm(image_list):\n",
    "    raster_client.raster(inputs = image,\n",
    "                         bands = [band],\n",
    "                         save=True,\n",
    "                         outfile_basename = os.path.join(basepath, image),\n",
    "                         srs='WGS84')"
   ]
  },
  {
   "cell_type": "code",
   "execution_count": null,
   "metadata": {},
   "outputs": [],
   "source": [
    "files_to_mosaic = []\n",
    "for file in os.listdir(basepath):\n",
    "    src = rs.open(os.path.join(basepath, file))\n",
    "    files_to_mosaic.append(src)\n",
    "mosaic, out_trans = merge(files_to_mosaic)"
   ]
  },
  {
   "cell_type": "code",
   "execution_count": null,
   "metadata": {},
   "outputs": [],
   "source": [
    "output_metadata = src.meta.copy()\n",
    "\n",
    "output_metadata.update({\"height\": mosaic.shape[1],\n",
    "                        \"width\": mosaic.shape[2],\n",
    "                        \"transform\": out_trans\n",
    "                 }\n",
    "                )\n",
    "output_metadata\n",
    "with rs.open(basepath + '.tif', 'w', **output_metadata) as f:\n",
    "    f.write(mosaic)"
   ]
  },
  {
   "cell_type": "code",
   "execution_count": null,
   "metadata": {},
   "outputs": [],
   "source": [
    "# Delete individual files and folder\n",
    "shutil.rmtree(basepath)"
   ]
  },
  {
   "cell_type": "code",
   "execution_count": null,
   "metadata": {},
   "outputs": [],
   "source": []
  }
 ],
 "metadata": {
  "kernelspec": {
   "display_name": "Python 3",
   "language": "python",
   "name": "python3"
  },
  "language_info": {
   "codemirror_mode": {
    "name": "ipython",
    "version": 3
   },
   "file_extension": ".py",
   "mimetype": "text/x-python",
   "name": "python",
   "nbconvert_exporter": "python",
   "pygments_lexer": "ipython3",
   "version": "3.7.4"
  }
 },
 "nbformat": 4,
 "nbformat_minor": 4
}
