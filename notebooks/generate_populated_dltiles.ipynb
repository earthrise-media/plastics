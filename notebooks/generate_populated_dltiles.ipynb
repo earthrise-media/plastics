{
 "cells": [
  {
   "cell_type": "code",
   "execution_count": null,
   "metadata": {},
   "outputs": [],
   "source": [
    "%load_ext autoreload\n",
    "%autoreload 2"
   ]
  },
  {
   "cell_type": "code",
   "execution_count": null,
   "metadata": {},
   "outputs": [],
   "source": [
    "import descarteslabs as dl\n",
    "import ee\n",
    "import geopandas as gpd\n",
    "import json\n",
    "import matplotlib.pyplot as plt\n",
    "import numpy as np\n",
    "import pandas as pd\n",
    "import shapely\n",
    "import shapely.geometry\n",
    "\n",
    "from scripts import dl_utils\n",
    "\n",
    "import warnings\n",
    "warnings.filterwarnings('ignore')"
   ]
  },
  {
   "cell_type": "code",
   "execution_count": null,
   "metadata": {},
   "outputs": [],
   "source": [
    "class GetROI(object):\n",
    "    def __init__(self, name, region=False, pop_threshold=0.25, plot=True, save_polygons=True):\n",
    "        self.location_name = name\n",
    "        self.region = region\n",
    "        self.pop_threshold = pop_threshold\n",
    "        self.plot = plot\n",
    "        self.save_polygons = save_polygons\n",
    "        ee.Initialize()\n",
    "    \n",
    "    def get_country_boundary(self):\n",
    "        if self.region:\n",
    "            self.bounds_fc = ee.FeatureCollection('USDOS/LSIB_SIMPLE/2017').filter(ee.Filter.eq('wld_rgn', self.location_name))\n",
    "        else:\n",
    "            self.bounds_fc = ee.FeatureCollection('USDOS/LSIB_SIMPLE/2017').filter(ee.Filter.eq('country_na', self.location_name))\n",
    "        region_bounds = gpd.GeoDataFrame.from_features(self.bounds_fc.getInfo()['features'], crs='WGS84')\n",
    "        if len(region_bounds) > 0:\n",
    "            self.region_bounds = gpd.GeoDataFrame.from_features(self.bounds_fc.getInfo()['features'], crs='WGS84')\n",
    "            self.region_bounds.to_file(f'../data/boundaries/{self.location_name.lower()}.geojson')\n",
    "        else: self.region_bounds = False\n",
    "\n",
    "\n",
    "    def get_dlkeys(self, tilesize=900, pad=20, resolution=10.0):\n",
    "        tiles = dl.scenes.DLTile.from_shape(self.region_bounds, resolution, tilesize, pad)\n",
    "        dlkey_features = list()\n",
    "        for tile in tiles:\n",
    "            dlkey_feature = dict()\n",
    "            dlkey_feature['geometry'] = shapely.geometry.mapping(tile.geometry)\n",
    "            dlkey_feature['properties'] = dict()\n",
    "            dlkey_feature['properties']['key'] = tile.key\n",
    "            dlkey_features.append(dlkey_feature)\n",
    "        self.dlkey_features = gpd.GeoDataFrame.from_features(dlkey_features)\n",
    "        self.dlkey_index = self.dlkey_features['geometry'].sindex\n",
    "\n",
    "    def get_country_roi(self):\n",
    "        dataset = ee.ImageCollection(\"WorldPop/GP/100m/pop\");\n",
    "        data = ee.Image(dataset.select('population').reduce(ee.Reducer.median())).clipToCollection(self.bounds_fc)\n",
    "        zones = data.gt(self.pop_threshold)\n",
    "        zones = zones.updateMask(zones.neq(0));\n",
    "\n",
    "        vectors = zones.addBands(data).reduceToVectors(\n",
    "            geometry = self.bounds_fc,\n",
    "            crs = data.projection(),\n",
    "            scale = 2000,\n",
    "            geometryType = 'polygon',\n",
    "            eightConnected = True,\n",
    "            labelProperty = 'zone',\n",
    "            reducer = ee.Reducer.mean())\n",
    "\n",
    "        url = vectors.getDownloadURL()\n",
    "        df = pd.read_csv(url)\n",
    "        geoms = [shapely.geometry.Polygon(json.loads(g)['coordinates'][0]) for g in df['.geo']]\n",
    "        self.pop_polygons = gpd.GeoDataFrame(geometry=geoms, crs='EPSG:4326')\n",
    "\n",
    "        if self.plot:\n",
    "            fig, ax = plt.subplots(figsize=(8,5), dpi=150)\n",
    "            self.region_bounds.plot(ax=ax)\n",
    "            self.pop_polygons.plot(ax=ax, color='r')\n",
    "            plt.xticks([])\n",
    "            plt.yticks([])\n",
    "            plt.title(f\"{self.location_name}, Pop Threshold {self.pop_threshold}\")\n",
    "            plt.show()\n",
    "        if self.save_polygons:\n",
    "            self.pop_polygons.to_file(f'../data/boundaries/{self.location_name.lower()}_pop_{self.pop_threshold}.geojson', driver='GeoJSON')\n",
    "\n",
    "    def intersect_roi(self):\n",
    "        overlap = []\n",
    "        for candidate in self.pop_polygons['geometry']:\n",
    "            indices = self.dlkey_index.query(candidate, predicate='intersects')\n",
    "            overlap += list(indices)\n",
    "        union = self.dlkey_features.iloc[np.unique(overlap)]\n",
    "        print(f\"Approx DL Time: {len(union) / 500:.2f} hours\")\n",
    "        print(f\"Number of DL Tiles to process: {len(union)}\")\n",
    "        self.tile_count = len(union)\n",
    "\n",
    "        if self.plot:\n",
    "            fig, ax = plt.subplots(figsize=(8,5), dpi=150)\n",
    "            union.plot(ax=ax)\n",
    "            plt.axis('equal')\n",
    "            plt.title(f\"{len(union):,} tiles ({len(union) / len(self.dlkey_features):.1%}) in {self.location_name} are populated at a threshold of {self.pop_threshold}\")\n",
    "            plt.xticks([])\n",
    "            plt.yticks([])\n",
    "            plt.show()\n",
    "\n",
    "        dl_utils.write_dlkeys(union['key'], f'../data/boundaries/dlkeys/{self.location_name.lower()}_pop_{self.pop_threshold}_dlkeys.txt')\n",
    "        self.dl_union = union[['geometry', 'key']]\n",
    "        self.dl_union.to_file(f'../data/boundaries/{self.location_name.lower()}_pop_{self.pop_threshold}_dltiles.geojson', driver='GeoJSON')\n",
    "            \n",
    "    def run(self):\n",
    "        self.get_country_boundary()\n",
    "        if type(self.region_bounds) == gpd.geodataframe.GeoDataFrame:\n",
    "            self.get_dlkeys()\n",
    "            self.get_country_roi()\n",
    "            self.intersect_roi()\n",
    "        else:\n",
    "            print(f\"No boundaries found for {self.location_name}\")"
   ]
  },
  {
   "cell_type": "code",
   "execution_count": null,
   "metadata": {},
   "outputs": [],
   "source": [
    "roi = GetROI('Iran', region=False, pop_threshold=0.25, plot=True, save_polygons=True)\n",
    "roi.run()"
   ]
  },
  {
   "cell_type": "markdown",
   "metadata": {},
   "source": [
    "## Batched run"
   ]
  },
  {
   "cell_type": "code",
   "execution_count": null,
   "metadata": {},
   "outputs": [],
   "source": [
    "countries = ['Fiji', 'Papua New Guinea', 'Solomon Islands', 'Marshall Islands', 'Micronesia', 'New Zealand', 'Vanuatu', 'Samoa', 'Palau', 'Kiribati', 'Tuvalu', 'Nauru', 'Tonga', 'Cyprus', 'Lebanon', 'Iran', 'Jordan', 'Saudi Arabia', 'Kuwait', 'Qatar', 'Bahrain', 'United Arab Emirates', 'Oman', 'Yemen', 'Bangladesh', 'Nepal', 'Bhutan', 'Pakistan', 'Afghanistan', 'Armenia', 'Azerbaijan', 'Georgia']\n",
    "boundaries = []\n",
    "tile_count = []\n",
    "rois = []\n",
    "for name in countries:\n",
    "    try:\n",
    "        print(\"Getting boundaries for\", name)\n",
    "        roi = GetROI(name, region=False, pop_threshold=0.25, plot=False, save_polygons=True)\n",
    "        roi.run()\n",
    "        boundaries.append(roi.region_bounds)\n",
    "        tile_count.append(roi.tile_count)\n",
    "        rois.append(roi)\n",
    "    except Exception as e:\n",
    "        print(name, \"failed\")\n",
    "        print(e)\n",
    "        countries.remove(name)"
   ]
  },
  {
   "cell_type": "code",
   "execution_count": null,
   "metadata": {},
   "outputs": [],
   "source": [
    "np.sum(tile_count)"
   ]
  },
  {
   "cell_type": "code",
   "execution_count": null,
   "metadata": {},
   "outputs": [],
   "source": [
    "bounds = []\n",
    "for r in rois:\n",
    "    for region in r.region_bounds['geometry']:\n",
    "        bounds.append(region)\n",
    "full_bounds = gpd.GeoDataFrame(geometry=bounds)\n",
    "all_keys = [r.dl_union for r in rois]"
   ]
  }
 ],
 "metadata": {
  "interpreter": {
   "hash": "d425afa4a959a86aa036beaa1a58ff3469f38e31f3ec97f5785c695b9108eced"
  },
  "kernelspec": {
   "display_name": "mldev",
   "language": "python",
   "name": "python3"
  },
  "language_info": {
   "codemirror_mode": {
    "name": "ipython",
    "version": 3
   },
   "file_extension": ".py",
   "mimetype": "text/x-python",
   "name": "python",
   "nbconvert_exporter": "python",
   "pygments_lexer": "ipython3",
   "version": "3.9.7"
  }
 },
 "nbformat": 4,
 "nbformat_minor": 4
}
