{
 "cells": [
  {
   "cell_type": "code",
   "execution_count": null,
   "metadata": {},
   "outputs": [],
   "source": [
    "%load_ext autoreload\n",
    "%autoreload 2"
   ]
  },
  {
   "cell_type": "code",
   "execution_count": null,
   "metadata": {},
   "outputs": [],
   "source": [
    "import descarteslabs as dl\n",
    "import ee\n",
    "import geopandas as gpd\n",
    "import json\n",
    "import matplotlib.pyplot as plt\n",
    "import numpy as np\n",
    "import pandas as pd\n",
    "import shapely\n",
    "import shapely.geometry\n",
    "\n",
    "from scripts import dl_utils"
   ]
  },
  {
   "cell_type": "code",
   "execution_count": null,
   "metadata": {},
   "outputs": [],
   "source": [
    "def get_country_boundary(country_name):\n",
    "    ee.Initialize()\n",
    "    country = ee.FeatureCollection('USDOS/LSIB_SIMPLE/2017').filter(ee.Filter.eq('country_na', country_name));\n",
    "    country_bounds = gpd.GeoDataFrame.from_features(country.getInfo()['features'], crs='WGS84')\n",
    "    country_bounds.to_file(f'../data/boundaries/{country_name.lower()}.geojson')\n",
    "    return country_bounds\n",
    "\n",
    "def get_country_roi(country_name, pop_threshold=0.25, save=True, plot=True):\n",
    "    ee.Initialize()\n",
    "\n",
    "    dataset = ee.ImageCollection(\"WorldPop/GP/100m/pop\");\n",
    "\n",
    "    country = ee.FeatureCollection('USDOS/LSIB_SIMPLE/2017').filter(ee.Filter.eq('country_na', country_name));\n",
    "    country_bounds = gpd.GeoDataFrame.from_features(country.getInfo()['features'], crs='WGS84')\n",
    "\n",
    "    data = ee.Image(dataset.select('population').reduce(ee.Reducer.median())).clipToCollection(country);\n",
    "    zones = data.gt(pop_threshold);\n",
    "    zones = zones.updateMask(zones.neq(0));\n",
    "\n",
    "    vectors = zones.addBands(data).reduceToVectors(\n",
    "        geometry = country,\n",
    "        crs = data.projection(),\n",
    "        scale = 2000,\n",
    "        geometryType = 'polygon',\n",
    "        eightConnected = True,\n",
    "        labelProperty = 'zone',\n",
    "        reducer = ee.Reducer.mean())\n",
    "\n",
    "    url = vectors.getDownloadURL()\n",
    "    df = pd.read_csv(url)\n",
    "    geoms = [shapely.geometry.Polygon(json.loads(g)['coordinates'][0]) for g in df['.geo']]\n",
    "    polygons = gpd.GeoDataFrame(geometry=geoms, crs='EPSG:4326')\n",
    "\n",
    "    area = polygons.to_crs('epsg:3857')['geometry'].area.sum() / 10 ** 6\n",
    "    country_area = (country_bounds.to_crs('epsg:3857')['geometry'].area / 10 ** 6).values[0]\n",
    "    print(f\"{area / country_area:.3%}\")\n",
    "\n",
    "    if plot:\n",
    "        fig, ax = plt.subplots(figsize=(8,5), dpi=150)\n",
    "        country_bounds.plot(ax=ax)\n",
    "        polygons.plot(ax=ax, color='r')\n",
    "        plt.xticks([])\n",
    "        plt.yticks([])\n",
    "        plt.title(f\"{country_name}, Pop Threshold {pop_threshold}\")\n",
    "        plt.show()\n",
    "    if save:\n",
    "        polygons.to_file(f'../data/boundaries/{country_name.lower()}_pop_{pop_threshold}.geojson', driver='GeoJSON')\n",
    "    return polygons"
   ]
  },
  {
   "cell_type": "code",
   "execution_count": null,
   "metadata": {},
   "outputs": [],
   "source": [
    "# Country name must be capitalized\n",
    "country_name = 'Philippines'"
   ]
  },
  {
   "cell_type": "code",
   "execution_count": null,
   "metadata": {},
   "outputs": [],
   "source": [
    "tilesize = 900\n",
    "pad = 20\n",
    "resolution = 10.0\n",
    "boundary = get_country_boundary(country_name).dissolve()\n",
    "tiles = dl.scenes.DLTile.from_shape(boundary, resolution, tilesize, pad)"
   ]
  },
  {
   "cell_type": "code",
   "execution_count": null,
   "metadata": {},
   "outputs": [],
   "source": [
    "dlkey_features = list()\n",
    "for tile in tiles:\n",
    "    dlkey_feature = dict()\n",
    "    dlkey_feature['geometry'] = shapely.geometry.mapping(tile.geometry)\n",
    "    dlkey_feature['properties'] = dict()\n",
    "    dlkey_feature['properties']['key'] = tile.key\n",
    "    dlkey_features.append(dlkey_feature)"
   ]
  },
  {
   "cell_type": "code",
   "execution_count": null,
   "metadata": {},
   "outputs": [],
   "source": [
    "dlkey_features = gpd.GeoDataFrame.from_features(dlkey_features)\n",
    "dlkey_index = dlkey_features['geometry'].sindex"
   ]
  },
  {
   "cell_type": "code",
   "execution_count": null,
   "metadata": {},
   "outputs": [],
   "source": [
    "pop_threshold = 0.5\n",
    "polygons = get_country_roi(country_name, pop_threshold, save=False)"
   ]
  },
  {
   "cell_type": "code",
   "execution_count": null,
   "metadata": {},
   "outputs": [],
   "source": [
    "overlap = []\n",
    "for candidate in polygons['geometry']:\n",
    "    indices = dlkey_index.query(candidate, predicate='intersects')\n",
    "    overlap += list(indices)\n",
    "   \n",
    "union = dlkey_features.iloc[np.unique(overlap)]\n",
    "# compute total area of union\n",
    "union_area = (union.set_crs('epsg:4326').to_crs('epsg:3857')['geometry'].area / 10 ** 6).sum()\n",
    "print(f\"Total area of DLTiles (km^2): {union_area:,.0f}\")\n",
    "fig, ax = plt.subplots(figsize=(8,5), dpi=150)\n",
    "union.plot(ax=ax)\n",
    "plt.axis('equal')\n",
    "plt.title(f\"{len(union):,} tiles ({len(union) / len(dlkey_features):.1%}) in {country_name} are populated at a threshold of {pop_threshold}\")\n",
    "plt.xticks([])\n",
    "plt.yticks([])\n",
    "print(f\"Approx DL Time: {len(union) / 500:.2f} hours\")\n",
    "print(f\"Number of DL Tiles to process: {len(union)}\")\n",
    "plt.show()\n",
    "\n",
    "dl_utils.write_dlkeys(union['key'], f'../data/boundaries/dlkeys/{country_name.lower()}_pop_{pop_threshold}_dlkeys.txt')\n",
    "dl_union = union[['geometry', 'key']]\n",
    "dl_union.to_file(f'../data/boundaries/{country_name.lower()}_pop_{pop_threshold}_dltiles.geojson', driver='GeoJSON')"
   ]
  },
  {
   "cell_type": "code",
   "execution_count": null,
   "metadata": {},
   "outputs": [],
   "source": []
  }
 ],
 "metadata": {
  "interpreter": {
   "hash": "d425afa4a959a86aa036beaa1a58ff3469f38e31f3ec97f5785c695b9108eced"
  },
  "kernelspec": {
   "display_name": "mldev",
   "language": "python",
   "name": "python3"
  },
  "language_info": {
   "codemirror_mode": {
    "name": "ipython",
    "version": 3
   },
   "file_extension": ".py",
   "mimetype": "text/x-python",
   "name": "python",
   "nbconvert_exporter": "python",
   "pygments_lexer": "ipython3",
   "version": "3.9.7"
  }
 },
 "nbformat": 4,
 "nbformat_minor": 4
}
