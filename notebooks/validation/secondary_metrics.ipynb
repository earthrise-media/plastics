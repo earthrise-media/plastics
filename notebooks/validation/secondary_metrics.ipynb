{
 "cells": [
  {
   "cell_type": "code",
   "execution_count": null,
   "metadata": {},
   "outputs": [],
   "source": [
    "%load_ext autoreload\n",
    "%autoreload 2"
   ]
  },
  {
   "cell_type": "code",
   "execution_count": null,
   "metadata": {},
   "outputs": [],
   "source": [
    "import geopandas as gpd\n",
    "import pandas as pd\n",
    "import matplotlib.pyplot as plt\n",
    "import numpy as np \n",
    "import pickle\n",
    "import shapely\n",
    "from sklearn import metrics\n",
    "from tensorflow import keras\n",
    "from tqdm.notebook import tqdm\n",
    "\n",
    "from scripts import dl_utils"
   ]
  },
  {
   "cell_type": "markdown",
   "metadata": {},
   "source": [
    "# Compute Trends in Landfill Area"
   ]
  },
  {
   "cell_type": "code",
   "execution_count": null,
   "metadata": {},
   "outputs": [],
   "source": [
    "input_file = 'indonesia_v0_mask_window_8_upsampled_4_contours_model_v0.0.11_ensemble-8-25-21'\n",
    "contours = gpd.read_file(f'../../data/model_outputs/site_contours/v2.1/{input_file}.geojson')"
   ]
  },
  {
   "cell_type": "code",
   "execution_count": null,
   "metadata": {},
   "outputs": [],
   "source": [
    "contours['area (km^2)'].hist(bins=100)"
   ]
  },
  {
   "cell_type": "code",
   "execution_count": null,
   "metadata": {},
   "outputs": [],
   "source": [
    "site_names = contours['name'].unique()\n",
    "contours.loc[contours['area (km^2)'] < 0.005, 'area (km^2)'] = None\n",
    "#contours.loc[contours['area (km^2)'] > 0.05, 'area (km^2)'] = None"
   ]
  },
  {
   "cell_type": "code",
   "execution_count": null,
   "metadata": {},
   "outputs": [],
   "source": [
    "contours.groupby('date').count()"
   ]
  },
  {
   "cell_type": "code",
   "execution_count": null,
   "metadata": {},
   "outputs": [],
   "source": [
    "plt.figure(figsize=(8,5), dpi=100, facecolor=(1,1,1))\n",
    "contours.groupby('date').count()['geometry'].plot()\n",
    "plt.xticks(range(0,len(dates), 2), dates[::2], rotation=45, ha='right')\n",
    "plt.title('Number of Sites with Contours Detected Through Time - Indonesia')\n",
    "plt.ylabel('Number of Sites')\n",
    "plt.grid()\n",
    "plt.savefig('../../figures/Number of Sites with Contours Detected Through Time - Indonesia', bbox_inches='tight')\n",
    "plt.show()"
   ]
  },
  {
   "cell_type": "markdown",
   "metadata": {},
   "source": [
    "## Aggregate mean/median area across all sites"
   ]
  },
  {
   "cell_type": "code",
   "execution_count": null,
   "metadata": {},
   "outputs": [],
   "source": [
    "plt.figure(figsize=(8,5), dpi=100, facecolor=(1,1,1))\n",
    "areas = contours.groupby('date').median()['area (km^2)'] * 1000000\n",
    "dates = [elem[:10] for elem in contours.groupby('date').mean().index]\n",
    "plt.plot(dates, areas)\n",
    "plt.xticks(range(0,len(dates), 2), dates[::2], rotation=45, ha='right')\n",
    "plt.title('Median Value of Contour Areas in Indonesia')\n",
    "plt.ylabel('Site Footprint ($m^2$)')\n",
    "plt.savefig('../../figures/median_contour_area_indonesia.png', bbox_inches='tight')\n",
    "plt.show()\n",
    "\n",
    "plt.figure(figsize=(8,5), dpi=100)\n",
    "areas = contours.groupby('date').mean()['area (km^2)']\n",
    "dates = [elem[:10] for elem in contours.groupby('date').mean().index]\n",
    "plt.plot(dates, areas)\n",
    "plt.xticks(range(0,len(dates), 2), dates[::2], rotation=45, ha='right')\n",
    "plt.title('Mean Value of Contour Areas in Indonesia')\n",
    "plt.show()"
   ]
  },
  {
   "cell_type": "code",
   "execution_count": null,
   "metadata": {},
   "outputs": [],
   "source": [
    "plt.figure(figsize=(8,5), dpi=150)\n",
    "stdev = contours.groupby('date').std()['area (km^2)'].values\n",
    "dates = [elem[:10] for elem in contours.groupby('date').mean().index]\n",
    "plt.errorbar(dates, contours.groupby('date').mean()['area (km^2)'].values, stdev)\n",
    "plt.xticks(range(0,len(dates), 2), dates[::2], rotation=45, ha='right')\n",
    "plt.title('Mean and STDev of Contour Areas in Indonesia')\n",
    "plt.show()"
   ]
  },
  {
   "cell_type": "markdown",
   "metadata": {},
   "source": [
    "## Aggregate total landfill areas in Indonesia\n",
    "Not really a valid metric because fewer contours are present in later years"
   ]
  },
  {
   "cell_type": "code",
   "execution_count": null,
   "metadata": {},
   "outputs": [],
   "source": [
    "plt.figure(figsize=(8,5), dpi=100)\n",
    "areas = contours.groupby('date').sum()['area (km^2)']\n",
    "dates = [elem[:10] for elem in contours.groupby('date').mean().index]\n",
    "plt.plot(dates, areas)\n",
    "plt.xticks(range(0,len(dates), 2), dates[::2], rotation=45, ha='right')\n",
    "plt.title('Sum of Contour Areas in Indonesia')\n",
    "plt.ylabel('Total Landfill Area (km^2)')\n",
    "plt.show()\n",
    "\n",
    "plt.figure(figsize=(8,5), dpi=100)\n",
    "areas = contours.groupby('date').count()['area (km^2)']\n",
    "dates = [elem[:10] for elem in contours.groupby('date').mean().index]\n",
    "plt.plot(dates, areas)\n",
    "plt.xticks(range(0,len(dates), 2), dates[::2], rotation=45, ha='right')\n",
    "plt.title('Count of Contour Areas in Indonesia')\n",
    "plt.ylabel('Total Landfill Area (km^2)')\n",
    "plt.show()"
   ]
  },
  {
   "cell_type": "markdown",
   "metadata": {},
   "source": [
    "## Average relative change in site area"
   ]
  },
  {
   "cell_type": "code",
   "execution_count": null,
   "metadata": {},
   "outputs": [],
   "source": [
    "for site in site_names:\n",
    "    coi = contours[contours['name'] == site]\n",
    "    median = coi['area (km^2)'].median()\n",
    "    contours.loc[contours[contours['name'] == site].index, 'change'] = (coi['area (km^2)'] / median) - 1\n",
    "contours"
   ]
  },
  {
   "cell_type": "code",
   "execution_count": null,
   "metadata": {},
   "outputs": [],
   "source": [
    "plt.figure(figsize=(8,5), dpi=100)\n",
    "areas = contours.groupby('date').median()['change']\n",
    "dates = [elem[:10] for elem in contours.groupby('date').mean().index]\n",
    "plt.plot(dates, areas)\n",
    "plt.xticks(range(0,len(dates), 2), dates[::2], rotation=45, ha='right')\n",
    "plt.title(' of Contour Areas in Indonesia')\n",
    "plt.ylabel('Total Landfill Area (km^2)')\n",
    "plt.show()"
   ]
  },
  {
   "cell_type": "code",
   "execution_count": null,
   "metadata": {},
   "outputs": [],
   "source": [
    "contours.groupby('date').median()['change']\n"
   ]
  },
  {
   "cell_type": "code",
   "execution_count": null,
   "metadata": {},
   "outputs": [],
   "source": [
    "contours.groupby('date').count()"
   ]
  },
  {
   "cell_type": "code",
   "execution_count": null,
   "metadata": {},
   "outputs": [],
   "source": [
    "plt.figure(figsize=(8,5), dpi=150)\n",
    "stdev = contours.groupby('date').std()['change'].values\n",
    "dates = [elem[:10] for elem in contours.groupby('date').mean().index]\n",
    "plt.errorbar(dates, contours.groupby('date').mean()['area (km^2)'].values, stdev)\n",
    "plt.xticks(range(0,len(dates), 2), dates[::2], rotation=45, ha='right')\n",
    "plt.title('Mean and STDev of Contour Areas in Indonesia')\n",
    "plt.show()"
   ]
  },
  {
   "cell_type": "code",
   "execution_count": null,
   "metadata": {},
   "outputs": [],
   "source": [
    "contours.groupby('date').std()"
   ]
  },
  {
   "cell_type": "markdown",
   "metadata": {},
   "source": [
    "# Compute Distance to Waterway"
   ]
  },
  {
   "cell_type": "code",
   "execution_count": null,
   "metadata": {},
   "outputs": [],
   "source": [
    "metadata = pd.read_csv('../../data/site_metadata/SE_ASIA_METADATA.csv')"
   ]
  },
  {
   "cell_type": "code",
   "execution_count": null,
   "metadata": {},
   "outputs": [],
   "source": [
    "metadata_gdf = gpd.GeoDataFrame(geometry = [shapely.geometry.Point([lon, lat]) for lon, lat in zip(metadata['lon'], metadata['lat'])])\n",
    "for col in metadata.columns[4:]:\n",
    "    metadata_gdf[col] = metadata[col]\n",
    "metadata_gdf\n"
   ]
  },
  {
   "cell_type": "code",
   "execution_count": null,
   "metadata": {},
   "outputs": [],
   "source": [
    "indonesia = gpd.read_file('../../data/sampling_locations/indonesia_v0_condensed.geojson')\n",
    "indonesia"
   ]
  },
  {
   "cell_type": "code",
   "execution_count": null,
   "metadata": {},
   "outputs": [],
   "source": [
    "buffered_geom = [point.buffer(0.02) for point in metadata_gdf['geometry']]"
   ]
  },
  {
   "cell_type": "code",
   "execution_count": null,
   "metadata": {},
   "outputs": [],
   "source": [
    "distance = []\n",
    "for data_site in tqdm(indonesia['geometry']):\n",
    "    distance.append(np.mean(metadata_gdf[[site.buffer(0.001).contains(data_site) for site in metadata_gdf['geometry']]])['distance to waterway(m)'])"
   ]
  },
  {
   "cell_type": "code",
   "execution_count": null,
   "metadata": {},
   "outputs": [],
   "source": [
    "plt.hist(distance, bins=25)\n",
    "plt.show()"
   ]
  },
  {
   "cell_type": "code",
   "execution_count": null,
   "metadata": {},
   "outputs": [],
   "source": []
  },
  {
   "cell_type": "code",
   "execution_count": null,
   "metadata": {},
   "outputs": [],
   "source": [
    "plt.figure(figsize=(8,5), dpi=100, facecolor=(1,1,1))\n",
    "plt.hist(distance, cumulative=True, histtype='step', bins=1000, density=True)\n",
    "plt.grid()\n",
    "plt.xlim(0, sorted(distance)[-1] - 1)\n",
    "plt.ylim(0,1)\n",
    "plt.title('Cumulative Fraction of Waste Sites by Distance to Nearest Waterway')\n",
    "plt.xlabel('Distance to Waterway (m)')\n",
    "plt.ylabel('Fraction of Detected Sites in Indonesia')\n",
    "plt.savefig('../../figures/Indonesia Distance to Waterway.png')\n",
    "plt.show()"
   ]
  },
  {
   "cell_type": "code",
   "execution_count": null,
   "metadata": {},
   "outputs": [],
   "source": []
  }
 ],
 "metadata": {
  "interpreter": {
   "hash": "5449280da88087bfd38190fcaab9940b2d5c81d9d2575a498a2489a8a7c73f86"
  },
  "kernelspec": {
   "display_name": "Python 3.7.9 64-bit ('venv-plastics': pyenv)",
   "name": "python3"
  },
  "language_info": {
   "codemirror_mode": {
    "name": "ipython",
    "version": 3
   },
   "file_extension": ".py",
   "mimetype": "text/x-python",
   "name": "python",
   "nbconvert_exporter": "python",
   "pygments_lexer": "ipython3",
   "version": "3.7.9"
  },
  "orig_nbformat": 4
 },
 "nbformat": 4,
 "nbformat_minor": 2
}
