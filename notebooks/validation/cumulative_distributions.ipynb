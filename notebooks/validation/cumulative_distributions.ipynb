{
 "cells": [
  {
   "cell_type": "code",
   "execution_count": null,
   "metadata": {},
   "outputs": [],
   "source": [
    "%load_ext autoreload\n",
    "%autoreload 2"
   ]
  },
  {
   "cell_type": "code",
   "execution_count": null,
   "metadata": {},
   "outputs": [],
   "source": [
    "import geopandas as gpd\n",
    "import requests\n",
    "import matplotlib.pyplot as plt\n",
    "import seaborn as sns\n",
    "import numpy as np"
   ]
  },
  {
   "cell_type": "code",
   "execution_count": null,
   "metadata": {},
   "outputs": [],
   "source": [
    "endpoint = 'http://api.plastic.watch.earthrise.media/sites?limit=10000'\n",
    "response = requests.get(endpoint)\n",
    "data = response.json()\n",
    "data = gpd.GeoDataFrame.from_features(data['features'])\n",
    "\n",
    "for c in data.columns:\n",
    "    try:\n",
    "        data[c] = data[c].astype(float)\n",
    "    except:\n",
    "        pass\n",
    "data['area (ha)'] = data['area (km^2)'] * 100"
   ]
  },
  {
   "cell_type": "code",
   "execution_count": null,
   "metadata": {},
   "outputs": [],
   "source": [
    "data.loc[data['Distance to Waterway (m)'] == -1, 'Distance to Waterway (m)'] = 10000"
   ]
  },
  {
   "cell_type": "markdown",
   "metadata": {},
   "source": [
    "# Statistics for All Sites"
   ]
  },
  {
   "cell_type": "code",
   "execution_count": null,
   "metadata": {},
   "outputs": [],
   "source": [
    "plt.figure(figsize=(10,4), dpi=150)\n",
    "plt.subplot(1,2,1)\n",
    "sns.set_theme()\n",
    "sns.set_style(\"darkgrid\", {\"axes.facecolor\": \".9\"})\n",
    "fig = sns.histplot(data, \n",
    "        x='Distance to Waterway (m)',\n",
    "        cumulative=True,\n",
    "        stat='density',\n",
    "        fill=False,\n",
    "        element='step',\n",
    "        bins=1000)\n",
    "#plt.grid()\n",
    "plt.ylim([0,1])\n",
    "plt.xticks([100, 500, 1000, 2000, 3000, 4000, 5000], ha='right', rotation=45)\n",
    "plt.yticks([0, 0.1, 0.2, 0.4, 0.6, 0.8, 1.0])\n",
    "plt.xlim([0, 5000])\n",
    "title = 'Cumulative Distribution of Waste Site\\nDistances to Nearest Waterway'\n",
    "plt.title(title)\n",
    "plt.subplot(1,2,2)\n",
    "# bar plot the Nearest Water Type column\n",
    "water_types = data.groupby('Nearest Water Type').count().sort_values('Distance to Waterway (m)', ascending=False).index\n",
    "sns.countplot(x='Nearest Water Type', data=data, order=water_types, color='C0', edgecolor=\"0.1\", linewidth=0.75)\n",
    "x_labels = [name.capitalize() for name in water_types]\n",
    "x_labels = [name if name != 'Water' else 'Unspecified' for name in x_labels]\n",
    "plt.xticks(range(0, len(x_labels)), x_labels, rotation=45, ha='right')\n",
    "plt.tick_params(axis='x', pad=-4)\n",
    "bar_title = 'Count of Nearest Water Type for All Detected Sites'\n",
    "plt.title(bar_title)\n",
    "plt.ylabel('Count')\n",
    "plt.subplots_adjust(wspace = 0.3)\n",
    "plt.savefig(f'../../figures/{title}.png', bbox_inches='tight')\n",
    "plt.show()"
   ]
  },
  {
   "cell_type": "code",
   "execution_count": null,
   "metadata": {},
   "outputs": [],
   "source": [
    "print(f\"We have detected and confirmed {len(data):,} sites in {len(data['country'].unique())} countries\")\n",
    "print(f\"There are {sum(data['Distance to Waterway (m)'] < 250)} sites within 250m of a waterway ({sum(data['Distance to Waterway (m)'] < 250) / len(data):.1%})\")\n",
    "print(f\"There are {sum(data['Distance to Waterway (m)'] < 100)} sites within 100m of a waterway ({sum(data['Distance to Waterway (m)'] < 100) / len(data):.1%})\")\n",
    "print(f\"On average, {data['Population - 1 km'].mean():,.0f} people live within 1 km of a site and {data['Population - 5 km'].mean():,.0f} people live within 5 km\")"
   ]
  },
  {
   "cell_type": "code",
   "execution_count": null,
   "metadata": {},
   "outputs": [],
   "source": [
    "# make a barplot of number of sites per country\n",
    "plt.figure(figsize=(10,4), dpi=150)\n",
    "sns.set_theme()\n",
    "sns.set_style(\"darkgrid\", {\"axes.facecolor\": \".9\"})\n",
    "countries = data.groupby('country').count().sort_values('Distance to Waterway (m)', ascending=False).index\n",
    "sns.countplot(x='country', data=data, order=countries, color='C0', edgecolor=\"0.1\", linewidth=0.75)\n",
    "x_labels = [name.capitalize() for name in countries]\n",
    "plt.xticks(range(0, len(x_labels)), x_labels, rotation=45, ha='right')\n",
    "plt.tick_params(axis='x', pad=-4)\n",
    "bar_title = 'Count of Waste Sites per Country'\n",
    "plt.title(bar_title)\n",
    "plt.ylabel('Count')\n",
    "plt.xlabel('')\n",
    "plt.subplots_adjust(wspace = 0.3)\n",
    "plt.savefig(f'../../figures/{bar_title}.png', bbox_inches='tight', facecolor=(1,1,1))\n",
    "plt.show()"
   ]
  },
  {
   "cell_type": "code",
   "execution_count": null,
   "metadata": {},
   "outputs": [],
   "source": [
    "plt.figure(figsize=(4,4), dpi=150)\n",
    "sns.set_theme()\n",
    "sns.set_style(\"darkgrid\", {\"axes.facecolor\": \".9\"})\n",
    "text_labels = {\n",
    "        'Peh': 0.51,\n",
    "        'Jungut Batu': 1.24,\n",
    "        'Temesi': 3.85,\n",
    "        'Suwung': 4.47\n",
    "}\n",
    "for key, value in zip(text_labels.keys(), text_labels.values()):\n",
    "        plt.axvline(x=value, color='gray', alpha=0.5, linestyle='--', linewidth=1)\n",
    "        plt.text(value, 0.5, key, rotation=90, fontsize=10, ha='center', va='center', bbox={'facecolor': '#E6E6E6', 'alpha': 1, 'pad': 1.75, 'edgecolor': 'none'})\n",
    "\n",
    "fig = sns.histplot(data, \n",
    "        x='area (ha)',\n",
    "        cumulative=True,\n",
    "        stat='density',\n",
    "        fill=False,\n",
    "        element='step',\n",
    "        bins=10000)\n",
    "plt.ylim([0,1])\n",
    "plt.xlim([0, 5])\n",
    "plt.xticks([0.1, 1, 2, 3, 4], labels=['0.1', '1', '2', '3', '4'], ha='center', rotation=0)\n",
    "plt.xlabel('Area (ha)')\n",
    "title = 'Cumulative Distribution of Waste Site Areas for All Detected Sites'\n",
    "plt.title(title)\n",
    "plt.savefig(f'../../figures/{title}.png', bbox_inches='tight')\n",
    "plt.show()"
   ]
  },
  {
   "cell_type": "code",
   "execution_count": null,
   "metadata": {},
   "outputs": [],
   "source": [
    "asia_data = data[data['country'] != 'Nigeria']\n",
    "print(len(asia_data))\n",
    "# set all elements with a Distance to Waterway (m) value of -1 to 10000\n",
    "asia_data.loc[asia_data['Distance to Waterway (m)'] == -1, 'Distance to Waterway (m)'] = 10000\n",
    "# replace values of -1 in the nearest water type column with None\n",
    "asia_data.loc[asia_data['Nearest Water Type'] == -1, 'Nearest Water Type'] = None"
   ]
  },
  {
   "cell_type": "code",
   "execution_count": null,
   "metadata": {},
   "outputs": [],
   "source": [
    "plt.figure(figsize=(10,4), dpi=150)\n",
    "plt.subplot(1,2,1)\n",
    "sns.set_theme()\n",
    "sns.set_style(\"darkgrid\", {\"axes.facecolor\": \".9\"})\n",
    "fig = sns.histplot(asia_data, \n",
    "        x='Distance to Waterway (m)',\n",
    "        cumulative=True,\n",
    "        stat='density',\n",
    "        fill=False,\n",
    "        element='step',\n",
    "        bins=1000)\n",
    "#plt.grid()\n",
    "plt.ylim([0,1])\n",
    "plt.xticks([100, 500, 1000, 2000, 3000, 4000, 5000], ha='right', rotation=45)\n",
    "plt.yticks([0, 0.1, 0.2, 0.4, 0.6, 0.8, 1.0])\n",
    "plt.xlim([0, 5000])\n",
    "title = 'Cumulative Distribution of Waste Site\\nDistances to Nearest Waterway'\n",
    "plt.title(title)\n",
    "plt.subplot(1,2,2)\n",
    "# bar plot the Nearest Water Type column\n",
    "water_types = asia_data.groupby('Nearest Water Type').count().sort_values('Distance to Waterway (m)', ascending=False).index\n",
    "sns.countplot(x='Nearest Water Type', data=asia_data, order=water_types, color='C0', edgecolor=\"0.1\", linewidth=0.75)\n",
    "x_labels = [name.capitalize() for name in water_types]\n",
    "x_labels = [name if name != 'Water' else 'Unspecified' for name in x_labels]\n",
    "plt.xticks(range(0, len(x_labels)), x_labels, rotation=45, ha='right')\n",
    "plt.tick_params(axis='x', pad=-4)\n",
    "bar_title = 'Count of Nearest Water Type for Detected Sites'\n",
    "plt.title(bar_title)\n",
    "plt.ylabel('Count')\n",
    "plt.subplots_adjust(wspace = 0.3)\n",
    "plt.savefig(f'../../figures/{title}.png', bbox_inches='tight')\n",
    "plt.show()"
   ]
  },
  {
   "cell_type": "code",
   "execution_count": null,
   "metadata": {},
   "outputs": [],
   "source": [
    "tpa = gpd.read_file('../../data/sampling_locations/tpa_polygons.geojson')\n",
    "tpa = tpa.to_crs(\"epsg:3857\")\n",
    "tpa['area'] = [poly.area * 0.0001 for poly in tpa['geometry']]\n",
    "for name, area in zip(tpa['Name'], tpa['area']):\n",
    "    print(f\"{name}: {area:.2f} ha\")"
   ]
  },
  {
   "cell_type": "code",
   "execution_count": null,
   "metadata": {},
   "outputs": [],
   "source": [
    "plt.figure(figsize=(4,4), dpi=150)\n",
    "sns.set_theme()\n",
    "sns.set_style(\"darkgrid\", {\"axes.facecolor\": \".9\"})\n",
    "text_labels = {\n",
    "        'Peh': 0.51,\n",
    "        'Jungut Batu': 1.24,\n",
    "        'Temesi': 3.85,\n",
    "        'Suwung': 4.47\n",
    "}\n",
    "for key, value in zip(text_labels.keys(), text_labels.values()):\n",
    "        plt.axvline(x=value, color='gray', alpha=0.5, linestyle='--', linewidth=1)\n",
    "        plt.text(value, 0.5, key, rotation=90, fontsize=10, ha='center', va='center', bbox={'facecolor': '#E6E6E6', 'alpha': 1, 'pad': 1.75, 'edgecolor': 'none'})\n",
    "\n",
    "fig = sns.histplot(asia_data, \n",
    "        x='area (ha)',\n",
    "        cumulative=True,\n",
    "        stat='density',\n",
    "        fill=False,\n",
    "        element='step',\n",
    "        bins=10000)\n",
    "plt.ylim([0,1])\n",
    "plt.xlim([0, 5])\n",
    "plt.xticks([0.1, 1, 2, 3, 4], labels=['0.1', '1', '2', '3', '4'], ha='center', rotation=0)\n",
    "plt.xlabel('Area (ha)')\n",
    "title = 'Cumulative Distribution of Waste Site Areas - 2'\n",
    "plt.title(title)\n",
    "#plt.savefig(f'../../figures/{title}.png', bbox_inches='tight')\n",
    "plt.show()"
   ]
  },
  {
   "cell_type": "code",
   "execution_count": null,
   "metadata": {},
   "outputs": [],
   "source": [
    "# read image from file to numpy array\n",
    "import cv2\n",
    "site_names = ['peh', 'jungut batu', 'temesi', 'suwung']\n",
    "plt.figure(figsize=(4,4), dpi=150)\n",
    "for index, name in enumerate(site_names):\n",
    "    plt.subplot(2,2,index+1)\n",
    "    img = cv2.imread(f'/Users/ckruse/Downloads/{name}.jpg')\n",
    "    img = cv2.cvtColor(img, cv2.COLOR_BGR2RGB)\n",
    "    img = np.array(img)\n",
    "    plt.imshow(img)\n",
    "    plt.axis('off')\n",
    "    plt.title(name.title())\n",
    "plt.tight_layout()\n",
    "plt.subplots_adjust(wspace = -0.2, hspace = .2)\n",
    "plt.savefig(f'../../figures/area_site_images.png', bbox_inches='tight')\n",
    "plt.show()"
   ]
  }
 ],
 "metadata": {
  "interpreter": {
   "hash": "d425afa4a959a86aa036beaa1a58ff3469f38e31f3ec97f5785c695b9108eced"
  },
  "kernelspec": {
   "display_name": "Python 3.9.7 64-bit ('m1-plastics': conda)",
   "language": "python",
   "name": "python3"
  },
  "language_info": {
   "codemirror_mode": {
    "name": "ipython",
    "version": 3
   },
   "file_extension": ".py",
   "mimetype": "text/x-python",
   "name": "python",
   "nbconvert_exporter": "python",
   "pygments_lexer": "ipython3",
   "version": "3.9.7"
  },
  "orig_nbformat": 4
 },
 "nbformat": 4,
 "nbformat_minor": 2
}
