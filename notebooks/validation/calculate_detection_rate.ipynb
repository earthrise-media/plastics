{
 "cells": [
  {
   "cell_type": "markdown",
   "metadata": {},
   "source": [
    "# Calculate Detection Rate\n",
    "Compute what fraction of the detected sites are found in the Indonesia known sites validation set"
   ]
  },
  {
   "cell_type": "code",
   "execution_count": null,
   "metadata": {},
   "outputs": [],
   "source": [
    "import geopandas as gpd"
   ]
  },
  {
   "cell_type": "code",
   "execution_count": null,
   "metadata": {},
   "outputs": [],
   "source": [
    "known_sites = gpd.read_file('../../data/sampling_locations/known_sites_indonesia_2020.geojson')"
   ]
  },
  {
   "cell_type": "code",
   "execution_count": null,
   "metadata": {},
   "outputs": [],
   "source": [
    "detection_fn = 'indonesia_v0_condensed'\n",
    "detected_sites = gpd.read_file(f'../../data/sampling_locations/{detection_fn}.geojson')\n",
    "buffer = 0.01\n",
    "detected_sites['buffered'] = [site.buffer(buffer) for site in detected_sites['geometry']]"
   ]
  },
  {
   "cell_type": "code",
   "execution_count": null,
   "metadata": {},
   "outputs": [],
   "source": [
    "found = []\n",
    "for site in known_sites['geometry']:\n",
    "    detected = False\n",
    "    for detection in detected_sites['buffered']:\n",
    "        if detection.contains(site):\n",
    "            detected = True\n",
    "    found.append(detected)\n",
    "print(f\"{len(found)} known sites\")\n",
    "print(f\"{sum(found)} sites found ({sum(found) / len(found):.1%})\")"
   ]
  },
  {
   "cell_type": "code",
   "execution_count": null,
   "metadata": {},
   "outputs": [],
   "source": [
    "known_sites['detected'] = found\n",
    "known_sites[known_sites['detected'] == True].to_file(f'../../data/validation/{detection_fn}_detected_known_sites.geojson', driver='GeoJSON')\n",
    "known_sites[known_sites['detected'] == False].to_file(f'../../data/validation/{detection_fn}_missed_known_sites.geojson', driver='GeoJSON')"
   ]
  },
  {
   "cell_type": "code",
   "execution_count": null,
   "metadata": {},
   "outputs": [],
   "source": []
  }
 ],
 "metadata": {
  "interpreter": {
   "hash": "5449280da88087bfd38190fcaab9940b2d5c81d9d2575a498a2489a8a7c73f86"
  },
  "kernelspec": {
   "display_name": "Python 3.7.9 64-bit ('venv-plastics': pyenv)",
   "name": "python3"
  },
  "language_info": {
   "codemirror_mode": {
    "name": "ipython",
    "version": 3
   },
   "file_extension": ".py",
   "mimetype": "text/x-python",
   "name": "python",
   "nbconvert_exporter": "python",
   "pygments_lexer": "ipython3",
   "version": "3.9.7"
  },
  "orig_nbformat": 4
 },
 "nbformat": 4,
 "nbformat_minor": 2
}
