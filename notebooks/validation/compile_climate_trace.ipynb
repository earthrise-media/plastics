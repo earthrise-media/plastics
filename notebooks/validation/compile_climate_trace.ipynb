{
 "cells": [
  {
   "cell_type": "code",
   "execution_count": null,
   "metadata": {},
   "outputs": [],
   "source": [
    "import geopandas as gpd\n",
    "import requests\n",
    "import pandas as pd\n",
    "import country_converter"
   ]
  },
  {
   "cell_type": "code",
   "execution_count": null,
   "metadata": {},
   "outputs": [],
   "source": [
    "endpoint = 'http://api.plastic.watch.earthrise.media/sites?limit=10000'\n",
    "response = requests.get(endpoint, params={'apikey': 'jahsdbvjahsdvaulhsdvoauysdg82973bq'})\n",
    "data = response.json()\n",
    "data = gpd.GeoDataFrame.from_features(data['features'])\n",
    "\n",
    "for c in data.columns:\n",
    "    try:\n",
    "        data[c] = data[c].astype(float)\n",
    "    except:\n",
    "        pass"
   ]
  },
  {
   "cell_type": "code",
   "execution_count": null,
   "metadata": {},
   "outputs": [],
   "source": [
    "# convert country names to ISO3\n",
    "iso_dict = {country: country_converter.convert(country, to='ISO3') for country in data['country'].unique()}\n",
    "data['iso'] = data['country'].map(iso_dict)\n",
    "# create a lat lon column\n",
    "data['coords'] = [[site.y, site.x] for site in data['geometry']]\n",
    "\n",
    "# export to a csv\n",
    "trace = pd.DataFrame({'iso': data['iso'], 'coords': data['coords'], 'id': data['id']})\n",
    "trace.to_csv('../../data/site_metadata/trace_waste_sites.csv')"
   ]
  }
 ],
 "metadata": {
  "interpreter": {
   "hash": "d425afa4a959a86aa036beaa1a58ff3469f38e31f3ec97f5785c695b9108eced"
  },
  "kernelspec": {
   "display_name": "Python 3.9.7 ('m1-plastics')",
   "language": "python",
   "name": "python3"
  },
  "language_info": {
   "codemirror_mode": {
    "name": "ipython",
    "version": 3
   },
   "file_extension": ".py",
   "mimetype": "text/x-python",
   "name": "python",
   "nbconvert_exporter": "python",
   "pygments_lexer": "ipython3",
   "version": "3.9.7"
  },
  "orig_nbformat": 4
 },
 "nbformat": 4,
 "nbformat_minor": 2
}
