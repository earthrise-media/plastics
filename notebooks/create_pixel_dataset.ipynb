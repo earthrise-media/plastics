{
 "cells": [
  {
   "cell_type": "markdown",
   "metadata": {},
   "source": [
    "# Create Pixel Dataset\n",
    "This notebook is the source for downloading Sentinel data to produce inputs to the spectral classifier.\n",
    "\n",
    "## Inputs\n",
    "The notebook operates by loading a set of sampling sites from a geojson. If the geojson contains `Point` features, a bounding rect is constructed. If the geojson contains `Polygon` or `MultiPolygon` features, only pixels within the polygon will be extracted.\n",
    "\n",
    "The `download_patch` script attempts to mask clouds. However, cloudy pixels and patches can still come through.\n",
    "\n",
    "Pixels that fall outside of a polygon are also masked using a numpy masked array. These vectors are not stored in the pixel vector list.\n",
    "\n",
    "## Outputs\n",
    "\n",
    "### Pixel Vectors:\n",
    "The output is a list of vectors saved as a pickle. The vectors are not normalized. The dimensionality is `[num_pixel_vectors][bands]`\n",
    "### Image Plot:\n",
    "To log the data in a pixel vector dataset, a grid of input images is exported along with the datset."
   ]
  },
  {
   "cell_type": "code",
   "execution_count": null,
   "metadata": {},
   "outputs": [],
   "source": [
    "%load_ext autoreload\n",
    "%autoreload 2"
   ]
  },
  {
   "cell_type": "code",
   "execution_count": null,
   "metadata": {},
   "outputs": [],
   "source": [
    "import descarteslabs as dl\n",
    "import json\n",
    "import matplotlib.pyplot as plt\n",
    "import numpy as np\n",
    "import os\n",
    "import pickle\n",
    "import pandas as pd\n",
    "import seaborn as sns\n",
    "import sys\n",
    "from tqdm.notebook import tqdm\n",
    "\n",
    "sys.path.append('../')\n",
    "from scripts.viz_tools import normalize, band_descriptions, plot_image_grid\n",
    "from scripts.dl_utils import download_patch, rect_from_point"
   ]
  },
  {
   "cell_type": "code",
   "execution_count": null,
   "metadata": {},
   "outputs": [],
   "source": [
    "def save_pixel_vectors(data, name, label_class):\n",
    "    file_name = f\"{name}_{START_DATE}_{END_DATE}\"\n",
    "    with open(os.path.join(OUTPUT_DIR, f\"{file_name}_pixel_vectors.pkl\"),\"wb\") as f:\n",
    "        pickle.dump(data, f)\n",
    "    with open(os.path.join(OUTPUT_DIR, f\"{file_name}_pixel_vector_labels.pkl\"),\"wb\") as f:\n",
    "        pickle.dump([label_class] * len(data), f)"
   ]
  },
  {
   "cell_type": "code",
   "execution_count": null,
   "metadata": {},
   "outputs": [],
   "source": [
    "# Define Parameters for data extraction\n",
    "START_DATE = '2019-01-01'\n",
    "END_DATE = '2019-02-01'\n",
    "\n",
    "OUTPUT_DIR = '../data/training_data/pixel_vectors'\n",
    "if not os.path.exists(OUTPUT_DIR):\n",
    "    os.mkdir(OUTPUT_DIR)"
   ]
  },
  {
   "cell_type": "code",
   "execution_count": null,
   "metadata": {},
   "outputs": [],
   "source": [
    "# Create or extract polygons from a sampling location\n",
    "sampling_file = 'tpa_polygons'\n",
    "data_dir = '../data/sampling_locations/'\n",
    "with open(os.path.join(data_dir, sampling_file + '.geojson'), 'r') as f:\n",
    "    data = json.load(f)['features'] \n",
    "    \n",
    "# Set rect width in pixels. Only required for point samples\n",
    "num_pixels = 48\n",
    "# Convert pixels to degrees. Heuristic, not geographically sound\n",
    "# Better to go with slightly bigger patches that can then be cropped\n",
    "rect_width = np.round((num_pixels / 100) / 111.32, 4)    \n",
    "\n",
    "polygons = []\n",
    "for feature in data:\n",
    "    if feature['geometry']['type'] == 'Point':\n",
    "        polygons.append(rect_from_point(feature['geometry']['coordinates'], rect_width))\n",
    "    if feature['geometry']['type'] == 'MultiPolygon' or feature['geometry']['type'] == 'Polygon':\n",
    "        polygons.append(feature['geometry'])"
   ]
  },
  {
   "cell_type": "code",
   "execution_count": null,
   "metadata": {},
   "outputs": [],
   "source": [
    "# Download Sentinel Data\n",
    "img_stack = []\n",
    "for polygon in tqdm(polygons):\n",
    "    patches = download_patch(polygon, START_DATE, END_DATE)\n",
    "    for patch in patches:\n",
    "        img_stack.append(patch)\n",
    "print(len(img_stack), \"cloud masked patches extracted\")"
   ]
  },
  {
   "cell_type": "code",
   "execution_count": null,
   "metadata": {},
   "outputs": [],
   "source": [
    "label_class = 0\n",
    "name = sampling_file\n",
    "\n",
    "figure_file_path = os.path.join(OUTPUT_DIR, f\"{name} - Class {label_class}\")\n",
    "plot_image_grid(img_stack, file_path=figure_file_path)"
   ]
  },
  {
   "cell_type": "markdown",
   "metadata": {},
   "source": [
    "## Make sure to set appropriate label class!\n",
    "Negative sites = 0, Positive sites = 1"
   ]
  },
  {
   "cell_type": "code",
   "execution_count": null,
   "metadata": {},
   "outputs": [],
   "source": [
    "# Create pixel vectors\n",
    "pixel_vectors = []\n",
    "for img in tqdm(img_stack):\n",
    "    height, width, channels = img.shape\n",
    "    vectors = img.reshape(height * width, channels)\n",
    "    [pixel_vectors.append(vector) for vector in vectors if np.mean(vector) > 0]\n",
    "print(f\"{np.shape(pixel_vectors)[0]:,} pixel vectors extracted\")\n",
    "\n",
    "# Save pixel vectors\n",
    "save_pixel_vectors(data=pixel_vectors, name=name, label_class=label_class)"
   ]
  },
  {
   "cell_type": "code",
   "execution_count": null,
   "metadata": {},
   "outputs": [],
   "source": [
    "# Plot the mean pixel spectra of the extracted dataset.\n",
    "# Optional process that can take time with many samples\n",
    "data = pd.DataFrame(pixel_vectors, columns=band_descriptions.keys()).melt(var_name='band', value_name='value')\n",
    "plt.figure(figsize=(6,4), dpi=150, facecolor=(1,1,1))\n",
    "sns.lineplot(x='band', y='value', data=data, ci=\"sd\")\n",
    "plt.title('Mean Value +/- SD')\n",
    "plt.show()"
   ]
  },
  {
   "cell_type": "code",
   "execution_count": null,
   "metadata": {},
   "outputs": [],
   "source": []
  }
 ],
 "metadata": {
  "kernelspec": {
   "display_name": "Python 3",
   "language": "python",
   "name": "python3"
  },
  "language_info": {
   "codemirror_mode": {
    "name": "ipython",
    "version": 3
   },
   "file_extension": ".py",
   "mimetype": "text/x-python",
   "name": "python",
   "nbconvert_exporter": "python",
   "pygments_lexer": "ipython3",
   "version": "3.6.5"
  }
 },
 "nbformat": 4,
 "nbformat_minor": 4
}
