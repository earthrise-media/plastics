{
 "cells": [
  {
   "cell_type": "markdown",
   "source": [
    "# Run Pixel Spectrogram Classifier on a Test Sites"
   ],
   "metadata": {}
  },
  {
   "cell_type": "code",
   "execution_count": null,
   "source": [
    "%load_ext autoreload\n",
    "%autoreload 2"
   ],
   "outputs": [],
   "metadata": {}
  },
  {
   "cell_type": "code",
   "execution_count": null,
   "source": [
    "import matplotlib.pyplot as plt\n",
    "import numpy as np \n",
    "from tqdm.notebook import tqdm\n",
    "\n",
    "from scripts import dl_utils"
   ],
   "outputs": [],
   "metadata": {}
  },
  {
   "cell_type": "code",
   "execution_count": null,
   "source": [
    "def visualize_time_series(pairs, preds, dates, threshold=0.6, title=None, path=None):\n",
    "    num_img = int(np.ceil(np.sqrt(len(pairs)))) + 1\n",
    "    patches = [np.mean(pair, axis=0) for pair in pairs]\n",
    "    plt.figure(figsize=(num_img,num_img), dpi=250, facecolor=(1,1,1))\n",
    "    for i, (img, pred, date) in enumerate(zip(patches, preds, dates)):\n",
    "        rgb = img[:,:,3:0:-1] / 3000\n",
    "        rgb[pred > threshold, 0] = 0.9\n",
    "        rgb[pred > threshold, 1] = 0\n",
    "        rgb[pred > threshold, 2] = 0.1\n",
    "        plt.subplot(num_img, num_img, i + 1)\n",
    "        plt.title(date[:7], size=5, y=0.9)\n",
    "        plt.imshow(np.clip(rgb, 0, 1))\n",
    "        plt.axis('off')\n",
    "    mean_patch = np.ma.mean([pair[0] for pair in pairs], axis=0)\n",
    "    mean_pred = np.ma.mean(preds, axis=0)\n",
    "    mean_patch = mean_patch[:,:,3:0:-1] / 3000\n",
    "    mean_patch[mean_pred > threshold, 0] = 0.9\n",
    "    mean_patch[mean_pred > threshold, 1] = 0\n",
    "    mean_patch[mean_pred > threshold, 2] = 0.1\n",
    "    plt.subplot(num_img, num_img, i + 2)\n",
    "    plt.title('Mean', size=5)\n",
    "    plt.imshow(np.clip(mean_patch, 0, 1))\n",
    "    plt.axis('off')\n",
    "    if title:\n",
    "        plt.suptitle(title, size=num_img * 2, y=0.93)\n",
    "    plt.tight_layout()\n",
    "    if path:\n",
    "        plt.savefig(path + '.png', bbox_inches='tight')\n",
    "        plt.close()\n",
    "    else:\n",
    "        plt.show()"
   ],
   "outputs": [],
   "metadata": {}
  },
  {
   "cell_type": "code",
   "execution_count": null,
   "source": [
    "RECT_WIDTH = 0.004\n",
    "START_DATE = '2019-06-01'\n",
    "END_DATE = '2021-09-01'\n",
    "MOSAIC_PERIOD = 3\n",
    "SPECTROGRAM_INTERVAL = 2"
   ],
   "outputs": [],
   "metadata": {}
  },
  {
   "cell_type": "code",
   "execution_count": null,
   "source": [
    "ensemble_name = 'v0.0.11_ensemble-8-25-21'\n",
    "model_list = dl_utils.load_ensemble(f'../models/{ensemble_name}')"
   ],
   "outputs": [],
   "metadata": {}
  },
  {
   "cell_type": "code",
   "execution_count": null,
   "source": [
    "coord = [113.39, -1.82]"
   ],
   "outputs": [],
   "metadata": {}
  },
  {
   "cell_type": "code",
   "execution_count": null,
   "source": [
    "mosaics, metadata = dl_utils.download_mosaics(\n",
    "                        dl_utils.rect_from_point(coord, RECT_WIDTH), \n",
    "                        START_DATE, \n",
    "                        END_DATE, \n",
    "                        MOSAIC_PERIOD, \n",
    "                        method='min')\n",
    "dates = [m['metadata']['']['id'][15:25] for m in metadata]\n",
    "pairs, pair_dates = dl_utils.pair(mosaics, SPECTROGRAM_INTERVAL, dates=dates)\n",
    "preds = dl_utils.predict_ensemble(pairs, model_list, method='median')\n",
    "patches = [np.mean(pair, axis=0) for pair in pairs]\n",
    "title = f'{coord[0]:.2f}, {coord[1]:.2f}'\n",
    "path = f'../figures/{title}'\n",
    "visualize_time_series(pairs, preds, pair_dates, threshold=0.6, title=title, path=path)"
   ],
   "outputs": [],
   "metadata": {}
  },
  {
   "cell_type": "code",
   "execution_count": null,
   "source": [],
   "outputs": [],
   "metadata": {}
  }
 ],
 "metadata": {
  "kernelspec": {
   "name": "python3",
   "display_name": "Python 3.7.9 64-bit ('venv-plastics': pyenv)"
  },
  "language_info": {
   "codemirror_mode": {
    "name": "ipython",
    "version": 3
   },
   "file_extension": ".py",
   "mimetype": "text/x-python",
   "name": "python",
   "nbconvert_exporter": "python",
   "pygments_lexer": "ipython3",
   "version": "3.7.9"
  },
  "interpreter": {
   "hash": "4a01d8cce8e3093998fa99b03bade8c0e7fde9c8096298c7b656f9b435102d6b"
  }
 },
 "nbformat": 4,
 "nbformat_minor": 4
}