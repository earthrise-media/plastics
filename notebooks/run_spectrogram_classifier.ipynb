{
 "cells": [
  {
   "cell_type": "markdown",
   "metadata": {},
   "source": [
    "# Run Pixel and Patch Classifier on a Test Site\n",
    "Option to run a single pixel classifier or an ensemble of pixel classifiers"
   ]
  },
  {
   "cell_type": "code",
   "execution_count": null,
   "metadata": {},
   "outputs": [],
   "source": [
    "%load_ext autoreload\n",
    "%autoreload 2"
   ]
  },
  {
   "cell_type": "code",
   "execution_count": null,
   "metadata": {},
   "outputs": [],
   "source": [
    "import matplotlib.pyplot as plt\n",
    "import numpy as np\n",
    "from tensorflow import keras\n",
    "from tqdm.notebook import tqdm\n",
    "\n",
    "from scripts import dl_utils"
   ]
  },
  {
   "cell_type": "code",
   "execution_count": null,
   "metadata": {},
   "outputs": [],
   "source": [
    "def visualize_time_series(pairs, preds, dates, threshold=0.6, title=None, path=None):\n",
    "    num_img = int(np.ceil(np.sqrt(len(pairs)))) + 1\n",
    "    patches = [np.mean(pair, axis=0) for pair in pairs]\n",
    "    plt.figure(figsize=(num_img,num_img), dpi=250, facecolor=(1,1,1))\n",
    "    for i, (img, pred, date) in enumerate(zip(patches, preds, dates)):\n",
    "        rgb = img[:,:,3:0:-1] / 3000\n",
    "        rgb[pred > threshold, 0] = 0.9\n",
    "        rgb[pred > threshold, 1] = 0\n",
    "        rgb[pred > threshold, 2] = 0.1\n",
    "        plt.subplot(num_img, num_img, i + 1)\n",
    "        plt.title(date, size=5, y=0.9)\n",
    "        plt.imshow(np.clip(rgb, 0, 1))\n",
    "        plt.axis('off')\n",
    "    \n",
    "    # Only aggregate predictions from sufficiently cloud-free patches\n",
    "    cloud_free_patches = []\n",
    "    for pair in pairs:\n",
    "        img_1_cloud = np.sum(pair[0].mask) / np.size(pair[0].mask)\n",
    "        img_2_cloud = np.sum(pair[1].mask) / np.size(pair[1].mask)\n",
    "        cloud_threshold = 0.25\n",
    "        if img_1_cloud < cloud_threshold and img_2_cloud < cloud_threshold:\n",
    "            cloud_free_patches.append(True)\n",
    "        else:\n",
    "            cloud_free_patches.append(False)\n",
    "    mean_patch = np.ma.mean([pair[0] for pair in pairs], axis=0)\n",
    "    mean_patch = mean_patch[:,:,3:0:-1] / 3000\n",
    "    if sum(cloud_free_patches) > 0:\n",
    "        aggregate_pred = np.ma.median(np.array(preds)[cloud_free_patches], axis=0)\n",
    "        mean_patch[aggregate_pred > threshold, 0] = 0.9\n",
    "        mean_patch[aggregate_pred > threshold, 1] = 0\n",
    "        mean_patch[aggregate_pred > threshold, 2] = 0.1\n",
    "    plt.subplot(num_img, num_img, i + 2)\n",
    "    plt.title('Median', size=5, y=0.9)\n",
    "    plt.imshow(np.clip(mean_patch, 0, 1))\n",
    "    plt.axis('off')\n",
    "    if title:\n",
    "        plt.suptitle(title, size=num_img * 2, y=0.93)\n",
    "    plt.tight_layout()\n",
    "    if path:\n",
    "        plt.savefig(path + '.png', bbox_inches='tight')\n",
    "        plt.close()\n",
    "    else:\n",
    "        plt.show()"
   ]
  },
  {
   "cell_type": "code",
   "execution_count": null,
   "metadata": {},
   "outputs": [],
   "source": [
    "RECT_WIDTH = 0.004\n",
    "START_DATE = '2019-01-01'\n",
    "END_DATE = '2021-06-01'\n",
    "MOSAIC_PERIOD = 3\n",
    "SPECTROGRAM_INTERVAL = 2"
   ]
  },
  {
   "cell_type": "code",
   "execution_count": null,
   "metadata": {},
   "outputs": [],
   "source": [
    "ensemble_name = 'v0.0.11_ensemble-8-25-21'\n",
    "model_list = dl_utils.load_ensemble(f'../models/{ensemble_name}')\n",
    "\n",
    "model = keras.models.load_model('../models/spectrogram_v0.0.11_2021-07-13.h5')\n",
    "\n",
    "patch_model = keras.models.load_model('../models/v2.0_weak_labels_28x28x24.h5', custom_objects={'LeakyReLU': keras.layers.LeakyReLU,\n",
    "                                                'ELU': keras.layers.ELU,\n",
    "                                                'ReLU': keras.layers.ReLU\n",
    "                                               }) "
   ]
  },
  {
   "cell_type": "code",
   "execution_count": null,
   "metadata": {},
   "outputs": [],
   "source": [
    "coord = [108.060, -6.323]"
   ]
  },
  {
   "cell_type": "code",
   "execution_count": null,
   "metadata": {},
   "outputs": [],
   "source": [
    "mosaics, metadata = dl_utils.download_mosaics(\n",
    "                        dl_utils.rect_from_point(coord, RECT_WIDTH), \n",
    "                        START_DATE, \n",
    "                        END_DATE, \n",
    "                        MOSAIC_PERIOD, \n",
    "                        method='min')\n",
    "dates = [m['metadata']['']['id'][15:25] for m in metadata]\n",
    "pairs, pair_dates = dl_utils.pair(mosaics, SPECTROGRAM_INTERVAL, dates=dates)\n",
    "#preds = [dl_utils.predict_spectrogram(pair, model) for pair in pairs] # if predicting single model\n",
    "preds = dl_utils.predict_ensemble(pairs, model_list)\n",
    "patch_stack = []\n",
    "for pair in pairs:\n",
    "    model_input = np.zeros((28,28,24))\n",
    "    model_input[:,:,:12] = dl_utils.unit_norm(dl_utils.pad_patch(pair[0][9:,9:].filled(0), 28))\n",
    "    model_input[:,:,12:] = dl_utils.unit_norm(dl_utils.pad_patch(pair[1][9:,9:].filled(0), 28))\n",
    "    patch_stack.append(model_input)\n",
    "patch_preds = patch_model.predict(np.array(patch_stack))[:,1]\n",
    "subtitles = [f\"{date[:7]} - {patch_pred:.2f}\" for date, patch_pred in zip(pair_dates, patch_preds)]\n",
    "patches = [np.mean(pair, axis=0) for pair in pairs]\n",
    "title = f'{coord[0]:.3f}, {coord[1]:.3f}'\n",
    "path = f'../figures/neural_network/{title}'\n",
    "visualize_time_series(pairs, preds, subtitles, threshold=0.8, title=title, path=path)"
   ]
  },
  {
   "cell_type": "markdown",
   "metadata": {},
   "source": [
    "## Visualize Classifier Outputs for a List of Sites"
   ]
  },
  {
   "cell_type": "code",
   "execution_count": null,
   "metadata": {},
   "outputs": [],
   "source": [
    "import geopandas as gpd\n",
    "site_file = gpd.read_file('/Users/ckruse/Downloads/detections.geojson')"
   ]
  },
  {
   "cell_type": "code",
   "execution_count": null,
   "metadata": {},
   "outputs": [],
   "source": [
    "for site in tqdm(site_file['geometry']):\n",
    "    coords = [site.x, site.y]\n",
    "    mosaics, metadata = dl_utils.download_mosaics(\n",
    "                        dl_utils.rect_from_point(coords, RECT_WIDTH), \n",
    "                        START_DATE, \n",
    "                        END_DATE, \n",
    "                        MOSAIC_PERIOD, \n",
    "                        method='min')\n",
    "    dates = [m['metadata']['']['id'][15:25] for m in metadata]\n",
    "    pairs, pair_dates = dl_utils.pair(mosaics, SPECTROGRAM_INTERVAL, dates=dates)\n",
    "    preds = [dl_utils.predict_spectrogram(pair, model) for pair in pairs]\n",
    "    patch_stack = []\n",
    "    for pair in pairs:\n",
    "        model_input = np.zeros((28,28,24))\n",
    "        model_input[:,:,:12] = dl_utils.unit_norm(dl_utils.pad_patch(pair[0][9:,9:].filled(0), 28))\n",
    "        model_input[:,:,12:] = dl_utils.unit_norm(dl_utils.pad_patch(pair[1][9:,9:].filled(0), 28))\n",
    "        patch_stack.append(model_input)\n",
    "    patch_preds = patch_model.predict(np.array(patch_stack))[:,1]\n",
    "    subtitles = [f\"{date[:7]} - {patch_pred:.2f}\" for date, patch_pred in zip(pair_dates, patch_preds)]\n",
    "    patches = [np.mean(pair, axis=0) for pair in pairs]\n",
    "    title = f'{coords[0]:.3f}, {coords[1]:.3f}'\n",
    "    path = f'../figures/found_sites/clf-2.0-{title}'\n",
    "    visualize_time_series(pairs, preds, subtitles, threshold=0.6, title=title, path=path)"
   ]
  },
  {
   "cell_type": "code",
   "execution_count": null,
   "metadata": {},
   "outputs": [],
   "source": []
  }
 ],
 "metadata": {
  "interpreter": {
   "hash": "5449280da88087bfd38190fcaab9940b2d5c81d9d2575a498a2489a8a7c73f86"
  },
  "kernelspec": {
   "display_name": "Python 3.7.9 64-bit ('venv-plastics': pyenv)",
   "name": "python3"
  },
  "language_info": {
   "codemirror_mode": {
    "name": "ipython",
    "version": 3
   },
   "file_extension": ".py",
   "mimetype": "text/x-python",
   "name": "python",
   "nbconvert_exporter": "python",
   "pygments_lexer": "ipython3",
   "version": "3.9.7"
  }
 },
 "nbformat": 4,
 "nbformat_minor": 4
}
