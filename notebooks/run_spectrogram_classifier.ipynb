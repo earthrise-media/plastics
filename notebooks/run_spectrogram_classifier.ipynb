{
 "cells": [
  {
   "cell_type": "markdown",
   "metadata": {},
   "source": [
    "# Run Pixel Spectrogram Classifier on a Test Sites"
   ]
  },
  {
   "cell_type": "code",
   "execution_count": null,
   "metadata": {},
   "outputs": [],
   "source": [
    "%load_ext autoreload\n",
    "%autoreload 2"
   ]
  },
  {
   "cell_type": "code",
   "execution_count": null,
   "metadata": {},
   "outputs": [],
   "source": [
    "import matplotlib.pyplot as plt\n",
    "import numpy as np \n",
    "from tqdm.notebook import tqdm\n",
    "import os\n",
    "import sys\n",
    "\n",
    "parent_dir = os.path.split(os.getcwd())[0]\n",
    "if parent_dir not in sys.path:\n",
    "    sys.path.insert(0, parent_dir)\n",
    "\n",
    "from scripts import dl_utils"
   ]
  },
  {
   "cell_type": "code",
   "execution_count": null,
   "metadata": {},
   "outputs": [],
   "source": [
    "def visualize_time_series(pairs, preds, dates, threshold=0.6, title=None, path=None):\n",
    "    patches = [np.mean(pair, axis=0) for pair in pairs]\n",
    "    plt.figure(figsize=(len(pairs), 1), dpi=250, facecolor=(1,1,1))\n",
    "    for i, (img, pred, date) in enumerate(zip(patches, preds, dates)):\n",
    "        rgb = img[:,:,3:0:-1] / 3000\n",
    "        rgb[pred > threshold, 0] = 0.9\n",
    "        rgb[pred > threshold, 1] = 0\n",
    "        rgb[pred > threshold, 2] = 0.1\n",
    "        plt.subplot(1, len(pairs) + 1, i + 1)\n",
    "        plt.title(date[:7], size=5, y=0.9)\n",
    "        plt.imshow(np.clip(rgb, 0, 1))\n",
    "        plt.axis('off')\n",
    "    mean_patch = np.ma.mean([pair[0] for pair in pairs], axis=0)\n",
    "    mean_pred = np.ma.mean(preds, axis=0)\n",
    "    mean_patch = mean_patch[:,:,3:0:-1] / 3000\n",
    "    mean_patch[mean_pred > threshold, 0] = 0.9\n",
    "    mean_patch[mean_pred > threshold, 1] = 0\n",
    "    mean_patch[mean_pred > threshold, 2] = 0.1\n",
    "    plt.subplot(1, len(pairs) + 1, i + 2)\n",
    "    plt.title('Mean', size=5)\n",
    "    plt.imshow(np.clip(mean_patch, 0, 1))\n",
    "    plt.axis('off')\n",
    "    if title:\n",
    "        plt.suptitle(title, size=len(pairs) * 2, y=0.93)\n",
    "    plt.tight_layout()\n",
    "    if path:\n",
    "        plt.savefig(path + '.png', bbox_inches='tight')\n",
    "        plt.close()\n",
    "    else:\n",
    "        plt.show()"
   ]
  },
  {
   "cell_type": "code",
   "execution_count": null,
   "metadata": {},
   "outputs": [],
   "source": [
    "RECT_WIDTH = 0.004\n",
    "START_DATE = '2021-01-01'\n",
    "END_DATE = '2022-03-01'\n",
    "MOSAIC_PERIOD = 3\n",
    "SPECTROGRAM_INTERVAL = 2"
   ]
  },
  {
   "cell_type": "code",
   "execution_count": null,
   "metadata": {},
   "outputs": [],
   "source": [
    "ensemble_name = 'v0.0.11_ensemble-8-25-21'\n",
    "model_list = dl_utils.load_ensemble(f'../models/{ensemble_name}')\n",
    "\n",
    "model_name = 'spectrogram_v0.0.11_2021-07-13'\n",
    "model_file = '../models/' + model_name + '.h5'\n",
    "from tensorflow import keras\n",
    "model = keras.models.load_model(model_file)"
   ]
  },
  {
   "cell_type": "code",
   "execution_count": null,
   "metadata": {},
   "outputs": [],
   "source": [
    "coord = [2.051444,43.780970]"
   ]
  },
  {
   "cell_type": "code",
   "execution_count": null,
   "metadata": {},
   "outputs": [],
   "source": [
    "data = dl_utils.SentinelData(\n",
    "    dl_utils.rect_from_point(coord, RECT_WIDTH),\n",
    "    START_DATE,\n",
    "    END_DATE,\n",
    "    MOSAIC_PERIOD,\n",
    "    SPECTROGRAM_INTERVAL,\n",
    "    'min'\n",
    "    )\n",
    "\n",
    "data.search_scenes()\n",
    "data.download_scenes()\n",
    "data.create_composites()\n",
    "data.create_pairs()\n",
    "pairs = data.pairs\n",
    "patches = [np.mean(pair, axis=0) for pair in pairs]\n",
    "dates = data.pair_starts\n",
    "bounds = data.metadata[0][\"wgs84Extent\"][\"coordinates\"][0][:-1]"
   ]
  },
  {
   "cell_type": "code",
   "execution_count": null,
   "metadata": {},
   "outputs": [],
   "source": [
    "threshold = 0.2\n",
    "\n",
    "ensemble_method = 'mean'\n",
    "ensemble_preds = dl_utils.predict_ensemble(pairs, model_list, method=ensemble_method)\n",
    "title = f'{coord[0]:.2f}, {coord[1]:.2f} - {ensemble_method} ensemble composite - threshold {threshold} - {START_DATE} - {END_DATE}'\n",
    "path = f'../figures/{title}'\n",
    "visualize_time_series(pairs, ensemble_preds, dates, threshold=threshold, title=title, path=path)\n",
    "\n",
    "title = f'{coord[0]:.2f}, {coord[1]:.2f} - single prediction - threshold {threshold} - {START_DATE} - {END_DATE}'\n",
    "path = f'../figures/{title}'\n",
    "preds = [dl_utils.predict_spectrogram(pair, model) for pair in pairs]\n",
    "visualize_time_series(pairs, preds, dates, threshold=threshold, title=title, path=path)"
   ]
  },
  {
   "cell_type": "code",
   "execution_count": null,
   "metadata": {},
   "outputs": [],
   "source": []
  },
  {
   "cell_type": "code",
   "execution_count": null,
   "metadata": {},
   "outputs": [],
   "source": []
  }
 ],
 "metadata": {
  "kernelspec": {
   "display_name": "Python 3.9.7 ('m1-plastics')",
   "language": "python",
   "name": "python3"
  },
  "language_info": {
   "codemirror_mode": {
    "name": "ipython",
    "version": 3
   },
   "file_extension": ".py",
   "mimetype": "text/x-python",
   "name": "python",
   "nbconvert_exporter": "python",
   "pygments_lexer": "ipython3",
   "version": "3.9.7"
  },
  "vscode": {
   "interpreter": {
    "hash": "d425afa4a959a86aa036beaa1a58ff3469f38e31f3ec97f5785c695b9108eced"
   }
  }
 },
 "nbformat": 4,
 "nbformat_minor": 4
}
