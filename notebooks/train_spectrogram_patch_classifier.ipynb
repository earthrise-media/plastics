{
 "cells": [
  {
   "cell_type": "markdown",
   "metadata": {},
   "source": [
    "# Train Spectrogram Classifier"
   ]
  },
  {
   "cell_type": "code",
   "execution_count": null,
   "metadata": {},
   "outputs": [],
   "source": [
    "%load_ext autoreload\n",
    "%autoreload 2"
   ]
  },
  {
   "cell_type": "code",
   "execution_count": null,
   "metadata": {},
   "outputs": [],
   "source": [
    "import albumentations as A\n",
    "from datetime import date\n",
    "import json\n",
    "import matplotlib.pyplot as plt\n",
    "import numpy as np\n",
    "import os\n",
    "import pickle\n",
    "from sklearn.model_selection import train_test_split\n",
    "from sklearn.metrics import classification_report\n",
    "from sklearn.utils import shuffle\n",
    "from tensorflow import keras\n",
    "from tensorflow.keras import layers\n",
    "from tensorflow.keras.preprocessing.image import ImageDataGenerator\n",
    "from tqdm.notebook import tqdm\n",
    "\n",
    "from scripts.viz_tools import stretch_histogram, normalize\n",
    "\n",
    "from scripts import dl_utils\n",
    "from scripts.dl_utils import predict_spectrogram, rect_from_point\n",
    "from scripts.nn_predict import make_predictions, visualize_predictions\n",
    "\n",
    "np.random.seed(1)"
   ]
  },
  {
   "cell_type": "markdown",
   "metadata": {},
   "source": [
    "## Create a Training Dataset\n",
    "Outputs will be: `x_train`, `y_train`, `x_test`, `y_test`, and optionally, `x_holdout`, `y_holdout`. Holdout data is only positive."
   ]
  },
  {
   "cell_type": "code",
   "execution_count": null,
   "metadata": {},
   "outputs": [],
   "source": [
    "train_data_dir = '../data/training_data/spectrogram_patches_3mo-mosaics_2x-int/'\n",
    "MOSAIC_PERIOD = 3\n",
    "SPECTROGRAM_INTERVAL = 2\n",
    "SPECTROGRAM_STEPS = 2 # WIP: Currently this is fixed - only pairs of mosaics are supported.\n",
    "resolution = 32\n",
    "\n",
    "data_files = [f for f in os.listdir(train_data_dir) if f.endswith('.pkl') and 'labels' not in f and 'polygons' not in f]\n",
    "label_files = [f.split('s.pkl')[0] + '_labels.pkl' for f in data_files]\n",
    "    "
   ]
  },
  {
   "cell_type": "code",
   "execution_count": null,
   "metadata": {},
   "outputs": [],
   "source": [
    "patches = []\n",
    "labels = []\n",
    "for data, label in zip(data_files, label_files):\n",
    "    with open(os.path.join(train_data_dir, data), 'rb') as f:\n",
    "        file_data = pickle.load(f)\n",
    "        patches += [[dl_utils.pad_patch(p[0], resolution), \n",
    "                     dl_utils.pad_patch(p[1], resolution)] for p in file_data if len(p) == 2]\n",
    "        print(data)\n",
    "    with open(os.path.join(train_data_dir, label), 'rb') as f:\n",
    "        label_data = pickle.load(f)\n",
    "        print(f\"class {label_data[-1]}. {len(label_data)} samples\")\n",
    "        labels += label_data\n",
    "patches = np.array(patches)\n",
    "labels = np.array(labels)\n",
    "\n",
    "print(\"Loaded\", sum(labels == 1), \"positive patches and\", sum(labels == 0), \"negative patches\")"
   ]
  },
  {
   "cell_type": "markdown",
   "metadata": {},
   "source": [
    "### Combine data and create train test split\n",
    "Also expand dimensions to account for batches"
   ]
  },
  {
   "cell_type": "code",
   "execution_count": null,
   "metadata": {},
   "outputs": [],
   "source": [
    "x = np.copy(patches)\n",
    "y = np.copy(labels)\n",
    "\n",
    "x, y = shuffle(x, y, random_state=42)\n",
    "x = np.array([[dl_utils.unit_norm(p[0]), dl_utils.unit_norm(p[1])] for p in x])\n",
    "x_train, x_test, y_train, y_test = train_test_split(x, y, test_size=0.20, random_state=42)\n",
    "\n",
    "print(\"Num Train Samples:\\t\\t\", len(x_train))\n",
    "print(\"Num Test Samples:\\t\\t\", len(x_test))\n",
    "print(f\"Percent Negative Train:\\t {sum(y_train == 0.0) / len(y_train):.1%}\")\n",
    "print(f\"Percent Negative Test:\\t {sum(y_test == 0.0) / len(y_test):.1%}\")\n",
    "print(f\"Input data shape: {x_train.shape}\")\n",
    "\n",
    "# Note: I am accustomed to assigning two classes for binary classification. \n",
    "# This habit comes from an issue in theano a long time ago, but I'm too superstitious to change it.\n",
    "num_classes = 2\n",
    "y_train = keras.utils.to_categorical(y_train, num_classes)\n",
    "y_test = keras.utils.to_categorical(y_test, num_classes)"
   ]
  },
  {
   "cell_type": "code",
   "execution_count": null,
   "metadata": {},
   "outputs": [],
   "source": [
    "def augment_pairs(x, y, iterations=10, resolution=32):\n",
    "    # create albumentations augmentation set\n",
    "    # Play with params here: https://albumentations-demo.herokuapp.com/\n",
    "    interpolation_mode = 1\n",
    "    border_mode = 2\n",
    "    aug = A.Compose([\n",
    "        #A.RandomSizedCrop(min_max_height=(28, 30), height=resolution, width=resolution, p=1),\n",
    "        A.HorizontalFlip(p=0.5),\n",
    "        A.VerticalFlip(p=0.5),\n",
    "        A.ShiftScaleRotate(shift_limit=0.15, \n",
    "                           scale_limit=0.15, \n",
    "                           rotate_limit=180, \n",
    "                           interpolation=interpolation_mode, \n",
    "                           border_mode=4, \n",
    "                           p=1),\n",
    "        A.OneOf([\n",
    "            #A.ElasticTransform(alpha=1, sigma=8, alpha_affine=20, interpolation=interpolation_mode, border_mode=border_mode), \n",
    "            A.GridDistortion(distort_limit=0.3, interpolation=interpolation_mode, border_mode=border_mode),\n",
    "            A.OpticalDistortion(shift_limit=0.3, interpolation=interpolation_mode, border_mode=border_mode)\n",
    "            ], p=0.8),\n",
    "    ],\n",
    "    additional_targets={'image_0': 'image', 'image_1': 'image'}\n",
    "    )\n",
    "\n",
    "    # It would be nice to have this as a generator passed to the train function\n",
    "    # This was challenging though. Instead, I'm pregenerating a large dataset\n",
    "    # and then training on it\n",
    "    aug_x = []\n",
    "    aug_y = []\n",
    "    for i in range(iterations):\n",
    "        print(\"iteration\", i+1, \"of\", iterations)\n",
    "        for pair, label in zip(x, y):\n",
    "            pair_1, pair_2 = pair[0], pair[1]\n",
    "            augmented = aug(image=pair_1, image_0=pair_1, image_1=pair_2)\n",
    "            aug_x.append([augmented['image_0'], augmented['image_1']])\n",
    "            aug_y.append(label)\n",
    "        print(\"Augmented dataset now contains\", len(aug_x), \"pairs\")\n",
    "    aug_x = np.array(aug_x)\n",
    "    aug_y = np.array(aug_y)\n",
    "    \n",
    "    return aug_x, aug_y"
   ]
  },
  {
   "cell_type": "code",
   "execution_count": null,
   "metadata": {},
   "outputs": [],
   "source": [
    "x_aug, y_aug = augment_pairs(x_train, y_train, iterations=4, resolution=resolution)"
   ]
  },
  {
   "cell_type": "code",
   "execution_count": null,
   "metadata": {},
   "outputs": [],
   "source": [
    "# Sanity check to confirm that pairs are augmented together\n",
    "index = np.random.randint(0, len(x_train))\n",
    "plt.figure(figsize=(3,3), dpi=150)\n",
    "plt.subplot(2,2,1)\n",
    "plt.title('Original 1')\n",
    "plt.imshow(np.clip((x_train[index,0,:,:,3:0:-1] + 1) / 4, 0, 1))\n",
    "plt.axis('off')\n",
    "plt.subplot(2,2,2)\n",
    "plt.title('Original 2')\n",
    "plt.imshow(np.clip((x_train[index,1,:,:,3:0:-1] + 1) / 4, 0, 1))\n",
    "plt.axis('off')\n",
    "plt.subplot(2,2,3)\n",
    "plt.title('Augmented 1')\n",
    "plt.imshow(np.clip((x_aug[index,0,:,:,3:0:-1] + 1) / 4, 0, 1))\n",
    "plt.axis('off')\n",
    "plt.subplot(2,2,4)\n",
    "plt.title('Augmented 2')\n",
    "plt.imshow(np.clip((x_aug[index,1,:,:,3:0:-1] + 1) / 4, 0, 1))\n",
    "plt.axis('off')\n",
    "plt.tight_layout()\n",
    "plt.show()\n",
    "\n",
    "plt.figure(figsize=(12,12), facecolor=(1,1,1), dpi=150)\n",
    "rand_indices = np.random.randint(0, len(x_train), size=64)\n",
    "for index, (image, label) in enumerate(zip(x_aug[rand_indices], y_aug[rand_indices])):\n",
    "    rgb = (image[0,:,:,3:0:-1] + 1) / 4\n",
    "    plt.subplot(8, 8, index+1)\n",
    "    plt.imshow(np.clip(rgb, 0, 1))\n",
    "    if label[1] == 1:\n",
    "        plt.title('Waste')\n",
    "    else:\n",
    "        plt.title('No Waste')\n",
    "    plt.axis('off')\n",
    "plt.suptitle('Data Augmentation Examples')\n",
    "plt.tight_layout()\n",
    "plt.show()"
   ]
  },
  {
   "cell_type": "code",
   "execution_count": null,
   "metadata": {},
   "outputs": [],
   "source": [
    "x_train = np.concatenate((x_aug[:, 0, :, :, :], x_aug[:, 1, :, :, :]), 3)\n",
    "x_test = np.concatenate((x_test[:, 0, :, :, :], x_test[:, 1, :, :, :]), 3)\n",
    "print(x_train.shape)"
   ]
  },
  {
   "cell_type": "markdown",
   "metadata": {},
   "source": [
    "## Create and Train a Model"
   ]
  },
  {
   "cell_type": "code",
   "execution_count": null,
   "metadata": {},
   "outputs": [],
   "source": [
    "input_shape = x_train.shape[1:]\n",
    "print(\"Input Shape:\", input_shape)\n",
    "input_img = keras.Input(input_shape)\n",
    "x = layers.Conv2D(32, (5, 5), padding='same')(input_img)\n",
    "x = layers.LeakyReLU()(x)\n",
    "x = layers.Conv2D(32, (5, 5), padding='same')(x)\n",
    "x = layers.LeakyReLU()(x)\n",
    "x = layers.Conv2D(32, (5, 5), padding='same')(x)\n",
    "x = layers.LeakyReLU()(x)\n",
    "x = layers.MaxPooling2D(2)(x)\n",
    "\n",
    "x = layers.Conv2D(32, (4, 4), padding='same')(x)\n",
    "x = layers.LeakyReLU()(x)\n",
    "x = layers.Conv2D(32, (4, 4), padding='same')(x)\n",
    "x = layers.LeakyReLU()(x)\n",
    "x = layers.Conv2D(32, (4, 4), padding='same')(x)\n",
    "x = layers.LeakyReLU()(x)\n",
    "x = layers.MaxPooling2D(2)(x)\n",
    "\n",
    "x = layers.Conv2D(32, (3, 3), padding='same')(x)\n",
    "x = layers.LeakyReLU()(x)\n",
    "x = layers.Conv2D(32, (3, 3), padding='same')(x)\n",
    "x = layers.LeakyReLU()(x)\n",
    "x = layers.Conv2D(32, (3, 3), padding='same')(x)\n",
    "x = layers.LeakyReLU()(x)\n",
    "x = layers.MaxPooling2D(2)(x)\n",
    "\n",
    "x = layers.Flatten()(x)\n",
    "x = layers.Dropout(0.5)(x)\n",
    "x = layers.Dense(512, activation=layers.ELU())(x)\n",
    "x = layers.Dropout(0.5)(x)\n",
    "x = layers.Dense(512, activation=layers.ELU())(x)\n",
    "x = layers.Dropout(0.5)(x)\n",
    "out = layers.Dense(2, activation=\"softmax\")(x)\n",
    "\n",
    "model = keras.Model(input_img, out, name=\"classifier\")\n",
    "\n",
    "model.compile(loss=\"binary_crossentropy\", #binary_crossentropy is default for two classes\n",
    "                optimizer=keras.optimizers.Adam(epsilon=0.001), #haven't tried other optimizers, might be a good idea, but Adam is quite good usually\n",
    "                metrics=[\"accuracy\"])\n",
    "\n",
    "version_number = '0.0.4'\n",
    "\n",
    "current_date = date.today()\n",
    "model_name = f\"spectrogram_v{version_number}_{current_date.isoformat()}\"\n",
    "\n",
    "mcp_save = keras.callbacks.ModelCheckpoint(f\"../models/{model_name}.hdf5\", \n",
    "                                        save_best_only=True, monitor='accuracy', verbose=1, mode='max')\n",
    "\n",
    "reduce_lr_loss = keras.callbacks.ReduceLROnPlateau(monitor='loss', factor=0.1, patience=7, verbose=1, min_delta=1e-4, mode='min')\n",
    "\n",
    "train_accuracy = []\n",
    "test_accuracy = []\n",
    "\n",
    "model.summary()"
   ]
  },
  {
   "cell_type": "code",
   "execution_count": null,
   "metadata": {},
   "outputs": [],
   "source": [
    "#train the model\n",
    "EPOCHS = 32\n",
    "BATCH_SIZE = 64\n",
    "\n",
    "model.fit(x_train, \n",
    "    y_aug,\n",
    "    validation_data=(x_test, y_test),\n",
    "    epochs=EPOCHS,\n",
    "    batch_size=BATCH_SIZE,\n",
    "    #callbacks=[mcp_save],\n",
    "    verbose = 1,\n",
    "    shuffle=True\n",
    "    )\n",
    "#model.save(\"patch_ensemble/model_\" + str(i) + \".hdf5\")"
   ]
  },
  {
   "cell_type": "code",
   "execution_count": null,
   "metadata": {},
   "outputs": [],
   "source": [
    "train_accuracy += model.history.history['accuracy']\n",
    "test_accuracy += model.history.history['val_accuracy']\n",
    "plt.figure(figsize=(8,5), dpi=100, facecolor=(1,1,1))\n",
    "plt.plot(train_accuracy, label='Train Acc')\n",
    "plt.plot(test_accuracy, c='r', label='Val Acc')\n",
    "percent_negative = (sum(y_train == 0.0) / len(y_train))[1]\n",
    "plt.plot([0, EPOCHS-1], [percent_negative, percent_negative], '--', c='gray', label='Baseline')\n",
    "plt.grid()\n",
    "plt.xlabel('Epoch')\n",
    "plt.ylabel('Accuracy')\n",
    "plt.legend()\n",
    "plt.title('Network Train and Val Accuracy')\n",
    "plt.show()"
   ]
  },
  {
   "cell_type": "code",
   "execution_count": null,
   "metadata": {},
   "outputs": [],
   "source": [
    "threshold = 0.8\n",
    "print(\"Test Set Metrics:\")\n",
    "print(classification_report(y_test[:,1], model.predict(x_test)[:,1] > threshold, \n",
    "                            target_names=['No Waste', 'Waste']))\n",
    "\n"
   ]
  },
  {
   "cell_type": "code",
   "execution_count": null,
   "metadata": {},
   "outputs": [],
   "source": [
    "threshold = 0.3\n",
    "preds = model.predict(x_test)\n",
    "preds_binary = preds[:,1] > threshold\n",
    "# find missed examples\n",
    "missed = np.where(preds_binary != y_test[:,1])[0]\n",
    "print(f\"{len(missed)} missed examples out of {len(y_test)} total test samples ({len(missed)/ len(y_test):.2%}) at a threshold of {threshold}\")"
   ]
  },
  {
   "cell_type": "code",
   "execution_count": null,
   "metadata": {},
   "outputs": [],
   "source": [
    "plt.figure(figsize=(12,12), facecolor=(1,1,1), dpi=150)\n",
    "rand_indices = np.random.randint(0, len(missed), size=64)\n",
    "for index, (image, pred, label) in enumerate(zip(x_test[missed[rand_indices]], preds[missed[rand_indices]], y_test[missed[rand_indices]])):\n",
    "    rgb = (image[:,:,3:0:-1] + 1) / 4\n",
    "    plt.subplot(8, 8, index+1)\n",
    "    plt.imshow(np.clip(rgb, 0, 1))\n",
    "    plt.title(f\"{pred[1]:.3f}, {int(label[1])}\")\n",
    "    plt.axis('off')\n",
    "plt.suptitle('Misclassified Samples')\n",
    "plt.tight_layout()\n",
    "plt.show()"
   ]
  },
  {
   "cell_type": "markdown",
   "metadata": {},
   "source": [
    "## Save Model"
   ]
  },
  {
   "cell_type": "code",
   "execution_count": null,
   "metadata": {},
   "outputs": [],
   "source": [
    "version_number = 'supervised-v2.0.0'\n",
    "\n",
    "current_date = date.today()\n",
    "model_name = f\"patch_spectrogram_{version_number}_{current_date.isoformat()}\"\n",
    "assert not os.path.exists('../models/' + model_name + '.h5'), f\"Model of name {model_name} already exists\"\n",
    "\n",
    "with open('../models/' + model_name + '_config.txt', 'w') as f:\n",
    "    f.write(f'Image mosaic period: {MOSAIC_PERIOD}\\n')\n",
    "    f.write(f'Spectrogram interval, steps: {SPECTROGRAM_INTERVAL}, {SPECTROGRAM_STEPS}\\n')\n",
    "    f.write('Input Data:\\n')\n",
    "    [f.write(file + '\\n') for file in data_files]\n",
    "    f.write(f\"\\nBatch Size: {BATCH_SIZE}\")\n",
    "    f.write(f\"\\nTraining Epochs: {len(train_accuracy)}\")\n",
    "    f.write('\\n\\nClassification Report\\n')\n",
    "    f.write(classification_report(y_test[:,1], model.predict(x_test)[:,1] > threshold, \n",
    "                            target_names=['No Waste', 'Waste']))\n",
    "model.save('../models/' + model_name + '.h5')"
   ]
  },
  {
   "cell_type": "code",
   "execution_count": null,
   "metadata": {},
   "outputs": [],
   "source": []
  }
 ],
 "metadata": {
  "kernelspec": {
   "display_name": "Python 3.9.7 ('m1-plastics')",
   "language": "python",
   "name": "python3"
  },
  "language_info": {
   "codemirror_mode": {
    "name": "ipython",
    "version": 3
   },
   "file_extension": ".py",
   "mimetype": "text/x-python",
   "name": "python",
   "nbconvert_exporter": "python",
   "pygments_lexer": "ipython3",
   "version": "3.9.7"
  },
  "vscode": {
   "interpreter": {
    "hash": "d425afa4a959a86aa036beaa1a58ff3469f38e31f3ec97f5785c695b9108eced"
   }
  }
 },
 "nbformat": 4,
 "nbformat_minor": 4
}
