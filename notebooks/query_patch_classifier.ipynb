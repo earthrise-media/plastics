{
 "cells": [
  {
   "cell_type": "markdown",
   "metadata": {},
   "source": [
    "# Patch Classifier Query\n",
    "We are now running both a pixel and patch classifier on Descartes. This notebook takes in a set of patch classifier outputs along with a set of pixel classifier candidates. This notebook finds the intersection between candidate points and patch classifier predictions above a given threshold."
   ]
  },
  {
   "cell_type": "code",
   "execution_count": null,
   "metadata": {},
   "outputs": [],
   "source": [
    "import geopandas as gpd\n",
    "# pygeos is required to use geopandas spatial indexing\n",
    "gpd.options.use_pygeos = True"
   ]
  },
  {
   "cell_type": "code",
   "execution_count": null,
   "metadata": {},
   "outputs": [],
   "source": [
    "region_name = 'central_america'\n",
    "start = '2020-01-01'\n",
    "end = '2022-06-01'"
   ]
  },
  {
   "cell_type": "code",
   "execution_count": null,
   "metadata": {},
   "outputs": [],
   "source": [
    "patch_model_version = '3.0'\n",
    "patch_classifier_fname= f'{region_name}_patch_weak_labels_3.0_{start}_{end}_stride_8'\n",
    "patch = gpd.read_file(f'../data/model_outputs/patch_classifier/{patch_classifier_fname}.geojson')"
   ]
  },
  {
   "cell_type": "code",
   "execution_count": null,
   "metadata": {},
   "outputs": [],
   "source": [
    "pixel_model_version = '0.0.11'\n",
    "threshold = 0.6\n",
    "min_sigma = 3.5\n",
    "pixel_classifier_fname = f'{region_name}_v0.0.11_{start}_{end}_blobs_thresh_{threshold}_min-sigma_{min_sigma}_area-thresh_0.0025_band-median'\n",
    "pixel = gpd.read_file(f'../data/model_outputs/candidate_sites/{pixel_model_version}/{pixel_classifier_fname}.geojson')"
   ]
  },
  {
   "cell_type": "code",
   "execution_count": null,
   "metadata": {},
   "outputs": [],
   "source": [
    "threshold = 0.3\n",
    "patch_threshold = patch[patch['mean'] > threshold]\n",
    "patch_index = patch_threshold['geometry'].sindex"
   ]
  },
  {
   "cell_type": "code",
   "execution_count": null,
   "metadata": {},
   "outputs": [],
   "source": [
    "overlap = []\n",
    "for candidate in pixel['geometry']:\n",
    "    if len(patch_index.query(candidate)) > 0:\n",
    "        overlap.append(True)\n",
    "    else:\n",
    "        overlap.append(False)\n",
    "union = pixel[overlap]\n",
    "print(f\"{len(union)} ({len(union) / len(pixel):.0%}) candidate points intersect with patch classifier predictions greater than {threshold}\")\n",
    "union"
   ]
  },
  {
   "cell_type": "code",
   "execution_count": null,
   "metadata": {},
   "outputs": [],
   "source": [
    "file_path = f'../data/model_outputs/candidate_sites/{pixel_model_version}/{pixel_classifier_fname}_patch_v{patch_model_version}_threshold_{threshold}_intersection.geojson'\n",
    "union.to_file(file_path, driver='GeoJSON')\n",
    "print(\"Saved to\", file_path)"
   ]
  },
  {
   "cell_type": "markdown",
   "metadata": {},
   "source": [
    "# Batched run"
   ]
  },
  {
   "cell_type": "code",
   "execution_count": null,
   "metadata": {},
   "outputs": [],
   "source": [
    "roi_list = ['cambodia', 'laos', 'vietnam']\n",
    "date_list = [['2016-09-01', '2018-01-01'], ['2018-09-01', '2020-01-01']]\n",
    "\n",
    "pixel_model_version = '0.0.11'\n",
    "threshold = 0.6\n",
    "min_sigma = 5.0\n",
    "\n",
    "pred_threshold = 0.6\n",
    "min_sigma = 5.0\n",
    "band = 'median'\n",
    "patch_model_version = '3.0'\n",
    "patch_threshold = 0.3\n",
    "\n",
    "for roi in roi_list:\n",
    "    for dates in date_list:\n",
    "        start = dates[0]\n",
    "        end = dates[1]\n",
    "        product_name = f'{roi}_v{pixel_model_version}_{start}_{end}'\n",
    "        product_id = f\"{product_name}_blobs_thresh_{pred_threshold}_min-sigma_{min_sigma}_area-thresh_0.0025_band-{band}\"\n",
    "        \n",
    "        patch_classifier_fname= f'{roi}_patch_weak_labels_3.0_{start}_{end}_stride_8'\n",
    "        patch = gpd.read_file(f'../data/model_outputs/patch_classifier/{patch_classifier_fname}.geojson')\n",
    "        patch_threshold = patch[patch['mean'] > patch_threshold]\n",
    "        patch_index = patch_threshold['geometry'].sindex\n",
    "        \n",
    "        pixel_classifier_fname = f'{roi}_v0.0.11_{start}_{end}_blobs_thresh_{threshold}_min-sigma_{min_sigma}_area-thresh_0.0025_band-median'\n",
    "        pixel = gpd.read_file(f'../data/model_outputs/candidate_sites/{pixel_model_version}/{pixel_classifier_fname}.geojson')\n",
    "\n",
    "        overlap = []\n",
    "        for candidate in pixel['geometry']:\n",
    "            if len(patch_index.query(candidate)) > 0:\n",
    "                overlap.append(True)\n",
    "            else:\n",
    "                overlap.append(False)\n",
    "        union = pixel[overlap]\n",
    "\n",
    "        print(f\"{len(union)} ({len(union) / len(pixel):.0%}) candidate points intersect with patch classifier predictions greater than {patch_threshold}\")\n",
    "        file_path = f'../data/model_outputs/candidate_sites/{pixel_model_version}/{pixel_classifier_fname}_patch_v{patch_model_version}_threshold_{patch_threshold}_intersection.geojson'\n",
    "        union.to_file(file_path, driver='GeoJSON')\n",
    "        print(\"Saved to\", file_path)"
   ]
  },
  {
   "cell_type": "code",
   "execution_count": null,
   "metadata": {},
   "outputs": [],
   "source": []
  }
 ],
 "metadata": {
  "interpreter": {
   "hash": "d425afa4a959a86aa036beaa1a58ff3469f38e31f3ec97f5785c695b9108eced"
  },
  "kernelspec": {
   "display_name": "Python 3.9.7 ('m1-plastics')",
   "language": "python",
   "name": "python3"
  },
  "language_info": {
   "codemirror_mode": {
    "name": "ipython",
    "version": 3
   },
   "file_extension": ".py",
   "mimetype": "text/x-python",
   "name": "python",
   "nbconvert_exporter": "python",
   "pygments_lexer": "ipython3",
   "version": "3.9.7"
  }
 },
 "nbformat": 4,
 "nbformat_minor": 4
}
