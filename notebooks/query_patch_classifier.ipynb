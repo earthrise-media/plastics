{
 "cells": [
  {
   "cell_type": "markdown",
   "metadata": {},
   "source": [
    "# Patch Classifier Query\n",
    "We are now running both a pixel and patch classifier on Descartes. This notebook takes in a set of patch classifier outputs along with a set of pixel classifier candidates. This notebook finds the intersection between candidate points and patch classifier predictions above a given threshold."
   ]
  },
  {
   "cell_type": "code",
   "execution_count": null,
   "metadata": {},
   "outputs": [],
   "source": [
    "import geopandas as gpd\n",
    "# pygeos is required to use geopandas spatial indexing\n",
    "gpd.options.use_pygeos = True"
   ]
  },
  {
   "cell_type": "code",
   "execution_count": null,
   "metadata": {},
   "outputs": [],
   "source": [
    "patch_model_version = '0.4'\n",
    "patch_classifier_fname= 'malaysia_patch_weak_labels_0.4_2019-01-01_2021-06-01_stride_8'\n",
    "patch = gpd.read_file(f'../data/model_outputs/patch_classifier/{patch_classifier_fname}.geojson')"
   ]
  },
  {
   "cell_type": "code",
   "execution_count": null,
   "metadata": {},
   "outputs": [],
   "source": [
    "pixel_model_version = '0.0.11'\n",
    "pixel_classifier_fname = 'malaysia_v0.0.11_unit_norm_2019-01-01_2021-06-01mosaic-median_blobs_thresh_0.6_min-sigma_3.5_area-thresh_0.00025'\n",
    "pixel = gpd.read_file(f'../data/model_outputs/candidate_sites/0.0.11/{pixel_classifier_fname}.geojson')"
   ]
  },
  {
   "cell_type": "code",
   "execution_count": null,
   "metadata": {},
   "outputs": [],
   "source": [
    "threshold = 0.3\n",
    "patch_threshold = patch[patch['mean'] > threshold]\n",
    "patch_index = patch_threshold['geometry'].sindex"
   ]
  },
  {
   "cell_type": "code",
   "execution_count": null,
   "metadata": {},
   "outputs": [],
   "source": [
    "overlap = []\n",
    "for candidate in pixel['geometry']:\n",
    "    if len(patch_index.query(candidate)) > 0:\n",
    "        overlap.append(True)\n",
    "    else:\n",
    "        overlap.append(False)\n",
    "union = pixel[overlap]\n",
    "print(f\"{len(union)} candidate points intersect with patch classifier predictions greater than {threshold}\")\n",
    "union"
   ]
  },
  {
   "cell_type": "code",
   "execution_count": null,
   "metadata": {},
   "outputs": [],
   "source": [
    "filename = 'malaysia_intersection'\n",
    "union.to_file(f'../data/model_outputs/candidate_sites/{pixel_model_version}/{filename}_patch_v{patch_model_version}_threshold_{threshold}.geojson', driver='GeoJSON')"
   ]
  },
  {
   "cell_type": "code",
   "execution_count": null,
   "metadata": {},
   "outputs": [],
   "source": []
  }
 ],
 "metadata": {
  "kernelspec": {
   "display_name": "Python 3",
   "language": "python",
   "name": "python3"
  },
  "language_info": {
   "codemirror_mode": {
    "name": "ipython",
    "version": 3
   },
   "file_extension": ".py",
   "mimetype": "text/x-python",
   "name": "python",
   "nbconvert_exporter": "python",
   "pygments_lexer": "ipython3",
   "version": "3.7.9"
  }
 },
 "nbformat": 4,
 "nbformat_minor": 4
}
