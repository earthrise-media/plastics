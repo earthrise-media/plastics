{
 "cells": [
  {
   "cell_type": "markdown",
   "metadata": {},
   "source": [
    "# Patch Classifier Query\n",
    "We are now running both a pixel and patch classifier on Descartes. This notebook takes in a set of patch classifier outputs along with a set of pixel classifier candidates. This notebook finds the intersection between candidate points and patch classifier predictions above a given threshold."
   ]
  },
  {
   "cell_type": "code",
   "execution_count": null,
   "metadata": {},
   "outputs": [],
   "source": [
    "import geopandas as gpd\n",
    "# pygeos is required to use geopandas spatial indexing\n",
    "gpd.options.use_pygeos = True"
   ]
  },
  {
   "cell_type": "code",
   "execution_count": null,
   "metadata": {},
   "outputs": [],
   "source": [
    "region_name = 'nigeria'"
   ]
  },
  {
   "cell_type": "code",
   "execution_count": null,
   "metadata": {},
   "outputs": [],
   "source": [
    "patch_model_version = '3.0'\n",
    "patch_classifier_fname= f'{region_name}_patch_weak_labels_3.0_2019-01-01_2021-06-01_stride_8'\n",
    "patch = gpd.read_file(f'../data/model_outputs/patch_classifier/{patch_classifier_fname}.geojson')"
   ]
  },
  {
   "cell_type": "code",
   "execution_count": null,
   "metadata": {},
   "outputs": [],
   "source": [
    "pixel_model_version = '0.0.11'\n",
    "threshold = 0.6\n",
    "min_sigma = 5.0\n",
    "pixel_classifier_fname = f'{region_name}_v0.0.11_2019-01-01_2021-06-01mosaic-median_blobs_thresh_{threshold}_min-sigma_{min_sigma}}_area-thresh_0.0025'\n",
    "pixel = gpd.read_file(f'../data/model_outputs/candidate_sites/{pixel_model_version}/{pixel_classifier_fname}.geojson')"
   ]
  },
  {
   "cell_type": "code",
   "execution_count": 55,
   "metadata": {},
   "outputs": [],
   "source": [
    "threshold = 0.3\n",
    "patch_threshold = patch[patch['mean'] > threshold]\n",
    "patch_index = patch_threshold['geometry'].sindex"
   ]
  },
  {
   "cell_type": "code",
   "execution_count": 56,
   "metadata": {},
   "outputs": [
    {
     "name": "stdout",
     "output_type": "stream",
     "text": [
      "1003 (28%) candidate points intersect with patch classifier predictions greater than 0.3\n"
     ]
    },
    {
     "data": {
      "text/html": [
       "<div>\n",
       "<style scoped>\n",
       "    .dataframe tbody tr th:only-of-type {\n",
       "        vertical-align: middle;\n",
       "    }\n",
       "\n",
       "    .dataframe tbody tr th {\n",
       "        vertical-align: top;\n",
       "    }\n",
       "\n",
       "    .dataframe thead th {\n",
       "        text-align: right;\n",
       "    }\n",
       "</style>\n",
       "<table border=\"1\" class=\"dataframe\">\n",
       "  <thead>\n",
       "    <tr style=\"text-align: right;\">\n",
       "      <th></th>\n",
       "      <th>lon</th>\n",
       "      <th>lat</th>\n",
       "      <th>name</th>\n",
       "      <th>geometry</th>\n",
       "    </tr>\n",
       "  </thead>\n",
       "  <tbody>\n",
       "    <tr>\n",
       "      <th>2</th>\n",
       "      <td>8.245198</td>\n",
       "      <td>4.631247</td>\n",
       "      <td>nigeria_v0.0.11_2019-01-01_2021-06-01mosaic-me...</td>\n",
       "      <td>POINT (8.24520 4.63125)</td>\n",
       "    </tr>\n",
       "    <tr>\n",
       "      <th>4</th>\n",
       "      <td>3.461528</td>\n",
       "      <td>7.314770</td>\n",
       "      <td>nigeria_v0.0.11_2019-01-01_2021-06-01mosaic-me...</td>\n",
       "      <td>POINT (3.46153 7.31477)</td>\n",
       "    </tr>\n",
       "    <tr>\n",
       "      <th>8</th>\n",
       "      <td>7.555160</td>\n",
       "      <td>5.893330</td>\n",
       "      <td>nigeria_v0.0.11_2019-01-01_2021-06-01mosaic-me...</td>\n",
       "      <td>POINT (7.55516 5.89333)</td>\n",
       "    </tr>\n",
       "    <tr>\n",
       "      <th>14</th>\n",
       "      <td>6.027849</td>\n",
       "      <td>5.517585</td>\n",
       "      <td>nigeria_v0.0.11_2019-01-01_2021-06-01mosaic-me...</td>\n",
       "      <td>POINT (6.02785 5.51759)</td>\n",
       "    </tr>\n",
       "    <tr>\n",
       "      <th>15</th>\n",
       "      <td>8.155129</td>\n",
       "      <td>6.190998</td>\n",
       "      <td>nigeria_v0.0.11_2019-01-01_2021-06-01mosaic-me...</td>\n",
       "      <td>POINT (8.15513 6.19100)</td>\n",
       "    </tr>\n",
       "    <tr>\n",
       "      <th>...</th>\n",
       "      <td>...</td>\n",
       "      <td>...</td>\n",
       "      <td>...</td>\n",
       "      <td>...</td>\n",
       "    </tr>\n",
       "    <tr>\n",
       "      <th>3510</th>\n",
       "      <td>7.664289</td>\n",
       "      <td>5.969319</td>\n",
       "      <td>nigeria_v0.0.11_2019-01-01_2021-06-01mosaic-me...</td>\n",
       "      <td>POINT (7.66429 5.96932)</td>\n",
       "    </tr>\n",
       "    <tr>\n",
       "      <th>3512</th>\n",
       "      <td>8.520512</td>\n",
       "      <td>7.210007</td>\n",
       "      <td>nigeria_v0.0.11_2019-01-01_2021-06-01mosaic-me...</td>\n",
       "      <td>POINT (8.52051 7.21001)</td>\n",
       "    </tr>\n",
       "    <tr>\n",
       "      <th>3521</th>\n",
       "      <td>7.923548</td>\n",
       "      <td>6.401040</td>\n",
       "      <td>nigeria_v0.0.11_2019-01-01_2021-06-01mosaic-me...</td>\n",
       "      <td>POINT (7.92355 6.40104)</td>\n",
       "    </tr>\n",
       "    <tr>\n",
       "      <th>3522</th>\n",
       "      <td>3.854631</td>\n",
       "      <td>7.263169</td>\n",
       "      <td>nigeria_v0.0.11_2019-01-01_2021-06-01mosaic-me...</td>\n",
       "      <td>POINT (3.85463 7.26317)</td>\n",
       "    </tr>\n",
       "    <tr>\n",
       "      <th>3524</th>\n",
       "      <td>8.311447</td>\n",
       "      <td>6.656719</td>\n",
       "      <td>nigeria_v0.0.11_2019-01-01_2021-06-01mosaic-me...</td>\n",
       "      <td>POINT (8.31145 6.65672)</td>\n",
       "    </tr>\n",
       "  </tbody>\n",
       "</table>\n",
       "<p>1003 rows × 4 columns</p>\n",
       "</div>"
      ],
      "text/plain": [
       "           lon       lat                                               name  \\\n",
       "2     8.245198  4.631247  nigeria_v0.0.11_2019-01-01_2021-06-01mosaic-me...   \n",
       "4     3.461528  7.314770  nigeria_v0.0.11_2019-01-01_2021-06-01mosaic-me...   \n",
       "8     7.555160  5.893330  nigeria_v0.0.11_2019-01-01_2021-06-01mosaic-me...   \n",
       "14    6.027849  5.517585  nigeria_v0.0.11_2019-01-01_2021-06-01mosaic-me...   \n",
       "15    8.155129  6.190998  nigeria_v0.0.11_2019-01-01_2021-06-01mosaic-me...   \n",
       "...        ...       ...                                                ...   \n",
       "3510  7.664289  5.969319  nigeria_v0.0.11_2019-01-01_2021-06-01mosaic-me...   \n",
       "3512  8.520512  7.210007  nigeria_v0.0.11_2019-01-01_2021-06-01mosaic-me...   \n",
       "3521  7.923548  6.401040  nigeria_v0.0.11_2019-01-01_2021-06-01mosaic-me...   \n",
       "3522  3.854631  7.263169  nigeria_v0.0.11_2019-01-01_2021-06-01mosaic-me...   \n",
       "3524  8.311447  6.656719  nigeria_v0.0.11_2019-01-01_2021-06-01mosaic-me...   \n",
       "\n",
       "                     geometry  \n",
       "2     POINT (8.24520 4.63125)  \n",
       "4     POINT (3.46153 7.31477)  \n",
       "8     POINT (7.55516 5.89333)  \n",
       "14    POINT (6.02785 5.51759)  \n",
       "15    POINT (8.15513 6.19100)  \n",
       "...                       ...  \n",
       "3510  POINT (7.66429 5.96932)  \n",
       "3512  POINT (8.52051 7.21001)  \n",
       "3521  POINT (7.92355 6.40104)  \n",
       "3522  POINT (3.85463 7.26317)  \n",
       "3524  POINT (8.31145 6.65672)  \n",
       "\n",
       "[1003 rows x 4 columns]"
      ]
     },
     "execution_count": 56,
     "metadata": {},
     "output_type": "execute_result"
    }
   ],
   "source": [
    "overlap = []\n",
    "for candidate in pixel['geometry']:\n",
    "    if len(patch_index.query(candidate)) > 0:\n",
    "        overlap.append(True)\n",
    "    else:\n",
    "        overlap.append(False)\n",
    "union = pixel[overlap]\n",
    "print(f\"{len(union)} ({len(union) / len(pixel):.0%}) candidate points intersect with patch classifier predictions greater than {threshold}\")\n",
    "union"
   ]
  },
  {
   "cell_type": "code",
   "execution_count": 57,
   "metadata": {},
   "outputs": [
    {
     "name": "stdout",
     "output_type": "stream",
     "text": [
      "Saved to ../data/model_outputs/candidate_sites/0.0.11/nigeria_v0.0.11_2019-01-01_2021-06-01mosaic-median_blobs_thresh_0.6_min-sigma_3.5_area-thresh_0.0025_patch_v3.0_threshold_0.3_intersection.geojson\n"
     ]
    }
   ],
   "source": [
    "file_path = f'../data/model_outputs/candidate_sites/{pixel_model_version}/{pixel_classifier_fname}_patch_v{patch_model_version}_threshold_{threshold}_intersection.geojson'\n",
    "union.to_file(file_path, driver='GeoJSON')\n",
    "print(\"Saved to\", file_path)"
   ]
  }
 ],
 "metadata": {
  "kernelspec": {
   "display_name": "Python 3",
   "language": "python",
   "name": "python3"
  },
  "language_info": {
   "codemirror_mode": {
    "name": "ipython",
    "version": 3
   },
   "file_extension": ".py",
   "mimetype": "text/x-python",
   "name": "python",
   "nbconvert_exporter": "python",
   "pygments_lexer": "ipython3",
   "version": "3.9.7"
  }
 },
 "nbformat": 4,
 "nbformat_minor": 4
}
