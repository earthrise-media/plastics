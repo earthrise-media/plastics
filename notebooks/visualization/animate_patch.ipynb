{
 "cells": [
  {
   "cell_type": "code",
   "execution_count": null,
   "source": [
    "%load_ext autoreload\n",
    "%autoreload 2"
   ],
   "outputs": [],
   "metadata": {}
  },
  {
   "cell_type": "code",
   "execution_count": null,
   "source": [
    "import os\n",
    "import pickle\n",
    "\n",
    "import sys\n",
    "sys.path.append('../../')\n",
    "from scripts.viz_tools import animate_patch\n",
    "from scripts.dl_utils import download_patch, rect_from_point"
   ],
   "outputs": [],
   "metadata": {}
  },
  {
   "cell_type": "code",
   "execution_count": null,
   "source": [
    "# This function takes a while to run as it is extracting data from GEE\n",
    "\n",
    "rect_width = 0.002\n",
    "coords = [-104.40007446321363, 38.94994987109655]\n",
    "start_date = '2016-01-01'\n",
    "end_date = '2021-09-01'\n",
    "patches, raster_info = download_patch(rect_from_point(coords, rect_width), start_date, end_date)\n",
    "print(len(patches))"
   ],
   "outputs": [],
   "metadata": {}
  },
  {
   "cell_type": "code",
   "execution_count": null,
   "source": [
    "name = \"CO_field\"\n",
    "cloud_threshold = .2\n",
    "file_name = f\"../../figures/videos/{name} {coords[1]:.2f}, {coords[0]:.2f} - thresh {cloud_threshold} - {start_date}-{end_date}.mp4\"\n",
    "animate_patch(patches, file_name, cloud_threshold=cloud_threshold, interval=50, size=8)"
   ],
   "outputs": [],
   "metadata": {}
  },
  {
   "cell_type": "markdown",
   "source": [
    "## Export Frames as Images"
   ],
   "metadata": {}
  },
  {
   "cell_type": "code",
   "execution_count": null,
   "source": [
    "from scripts import viz_tools\n",
    "import numpy as np\n",
    "import matplotlib.pyplot as plt\n",
    "import os\n",
    "from PIL import Image\n",
    "\n",
    "images = []\n",
    "stretch = True\n",
    "folder_name = file_name = f\"../../figures/frames/{name} {coords[1]:.2f}, {coords[0]:.2f} - thresh {cloud_threshold} - {start_date}-{end_date}\"\n",
    "if not os.path.exists(folder_name):\n",
    "    os.mkdirs(folder_name)\n",
    "for index, img in enumerate(patches):\n",
    "    if np.sum(img.mask) / np.size(img.mask) < cloud_threshold:\n",
    "        rgb = viz_tools.normalize(img[:,:,3:0:-1])\n",
    "        if stretch:\n",
    "            rgb = viz_tools.stretch_histogram(rgb, 0.1, 1.0, gamma=1.2)\n",
    "        im = Image.fromarray(np.uint8((np.clip(rgb, 0, 1) * 255)))\n",
    "        im.save(f'{folder_name}/frame_{index}.png')"
   ],
   "outputs": [],
   "metadata": {}
  },
  {
   "cell_type": "code",
   "execution_count": null,
   "source": [],
   "outputs": [],
   "metadata": {}
  }
 ],
 "metadata": {
  "kernelspec": {
   "name": "python3",
   "display_name": "Python 3.7.9 64-bit ('venv-plastics': pyenv)"
  },
  "language_info": {
   "codemirror_mode": {
    "name": "ipython",
    "version": 3
   },
   "file_extension": ".py",
   "mimetype": "text/x-python",
   "name": "python",
   "nbconvert_exporter": "python",
   "pygments_lexer": "ipython3",
   "version": "3.7.9"
  },
  "interpreter": {
   "hash": "4a01d8cce8e3093998fa99b03bade8c0e7fde9c8096298c7b656f9b435102d6b"
  }
 },
 "nbformat": 4,
 "nbformat_minor": 4
}