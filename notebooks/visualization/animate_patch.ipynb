{
 "cells": [
  {
   "cell_type": "code",
   "execution_count": null,
   "metadata": {},
   "outputs": [],
   "source": [
    "%load_ext autoreload\n",
    "%autoreload 2"
   ]
  },
  {
   "cell_type": "code",
   "execution_count": null,
   "metadata": {},
   "outputs": [],
   "source": [
    "import os\n",
    "\n",
    "import sys\n",
    "sys.path.append('../../')\n",
    "from scripts.viz_tools import animate_patch\n",
    "from scripts.dl_utils import download_patch, rect_from_point"
   ]
  },
  {
   "cell_type": "code",
   "execution_count": null,
   "metadata": {},
   "outputs": [],
   "source": [
    "# This function takes a while to run as it is extracting data from GEE\n",
    "\n",
    "rect_width = 0.02\n",
    "coords = [95.34799821290295, 5.606381719776017]\n",
    "start_date = '2016-01-01'\n",
    "end_date = '2021-11-01'\n",
    "patches, raster_info = download_patch(rect_from_point(coords, rect_width), start_date, end_date)\n",
    "print(len(patches))"
   ]
  },
  {
   "cell_type": "code",
   "execution_count": null,
   "metadata": {},
   "outputs": [],
   "source": [
    "name = \"pantai_beach\"\n",
    "cloud_threshold = .2\n",
    "file_name = f\"../../figures/videos/{name} {coords[1]:.2f}, {coords[0]:.2f} - thresh {cloud_threshold} - {start_date}-{end_date}.mp4\"\n",
    "animate_patch(patches, file_name, cloud_threshold=cloud_threshold, interval=100, size=8)"
   ]
  },
  {
   "cell_type": "markdown",
   "metadata": {},
   "source": [
    "## Export Frames as Images"
   ]
  },
  {
   "cell_type": "code",
   "execution_count": null,
   "metadata": {},
   "outputs": [],
   "source": [
    "from scripts import viz_tools\n",
    "import numpy as np\n",
    "import matplotlib.pyplot as plt\n",
    "import os\n",
    "from PIL import Image\n",
    "\n",
    "images = []\n",
    "stretch = True\n",
    "folder_name = file_name = f\"../../figures/frames/{name} {coords[1]:.2f}, {coords[0]:.2f} - thresh {cloud_threshold} - {start_date}-{end_date}\"\n",
    "dates = [m['metadata']['']['id'][15:25] for m in raster_info]\n",
    "if not os.path.exists(folder_name):\n",
    "    os.makedirs(folder_name)\n",
    "for date, img in zip(dates, patches):\n",
    "    if np.sum(img.mask) / np.size(img.mask) < cloud_threshold:\n",
    "        rgb = viz_tools.normalize(img[:,:,3:0:-1])\n",
    "        if stretch:\n",
    "            rgb = viz_tools.stretch_histogram(rgb, 0.1, 1.0, gamma=1.2)\n",
    "        im = Image.fromarray(np.uint8((np.clip(rgb, 0, 1) * 255)))\n",
    "        im.save(f'{folder_name}/frame_{date}.png')"
   ]
  },
  {
   "cell_type": "code",
   "execution_count": null,
   "metadata": {},
   "outputs": [],
   "source": []
  }
 ],
 "metadata": {
  "interpreter": {
   "hash": "4a01d8cce8e3093998fa99b03bade8c0e7fde9c8096298c7b656f9b435102d6b"
  },
  "kernelspec": {
   "display_name": "Python 3.7.9 64-bit ('venv-plastics': pyenv)",
   "name": "python3"
  },
  "language_info": {
   "codemirror_mode": {
    "name": "ipython",
    "version": 3
   },
   "file_extension": ".py",
   "mimetype": "text/x-python",
   "name": "python",
   "nbconvert_exporter": "python",
   "pygments_lexer": "ipython3",
   "version": "3.7.9"
  }
 },
 "nbformat": 4,
 "nbformat_minor": 4
}
