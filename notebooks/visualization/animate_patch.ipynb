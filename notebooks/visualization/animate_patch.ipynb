{
 "cells": [
  {
   "cell_type": "code",
   "execution_count": null,
   "metadata": {},
   "outputs": [],
   "source": [
    "%load_ext autoreload\n",
    "%autoreload 2"
   ]
  },
  {
   "cell_type": "code",
   "execution_count": null,
   "metadata": {},
   "outputs": [],
   "source": [
    "import os\n",
    "import pickle\n",
    "\n",
    "import sys\n",
    "sys.path.append('../../')\n",
    "from scripts.viz_tools import animate_patch\n",
    "from scripts.dl_utils import download_patch, rect_from_point"
   ]
  },
  {
   "cell_type": "code",
   "execution_count": null,
   "metadata": {
    "scrolled": true
   },
   "outputs": [],
   "source": [
    "# This function takes a while to run as it is extracting data from GEE\n",
    "\n",
    "rect_width = 0.0075\n",
    "coords = [116.09064833699657, -8.64548776888652]\n",
    "start_date = '2016-01-01'\n",
    "end_date = '2021-05-01'\n",
    "patches = download_patch(rect_from_point(coords, rect_width), start_date, end_date)\n",
    "print(len(patches))"
   ]
  },
  {
   "cell_type": "code",
   "execution_count": null,
   "metadata": {},
   "outputs": [],
   "source": [
    "name = \"Lombok Kebon Kongkok\"\n",
    "file_name = f\"../../figures/videos/{name} {coords[1]:.2f}, {coords[0]:.2f} - {rect_width}.mp4\"\n",
    "animate_patch(patches, file_name)"
   ]
  },
  {
   "cell_type": "code",
   "execution_count": null,
   "metadata": {},
   "outputs": [],
   "source": []
  }
 ],
 "metadata": {
  "kernelspec": {
   "display_name": "Python 3",
   "language": "python",
   "name": "python3"
  },
  "language_info": {
   "codemirror_mode": {
    "name": "ipython",
    "version": 3
   },
   "file_extension": ".py",
   "mimetype": "text/x-python",
   "name": "python",
   "nbconvert_exporter": "python",
   "pygments_lexer": "ipython3",
   "version": "3.6.5"
  }
 },
 "nbformat": 4,
 "nbformat_minor": 4
}
