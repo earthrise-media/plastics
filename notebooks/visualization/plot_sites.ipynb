{
 "cells": [
  {
   "cell_type": "code",
   "execution_count": null,
   "metadata": {},
   "outputs": [],
   "source": [
    "import geopandas as gpd\n",
    "import matplotlib.pyplot as plt"
   ]
  },
  {
   "cell_type": "markdown",
   "metadata": {},
   "source": [
    "## Plot Sites in Indonesia"
   ]
  },
  {
   "cell_type": "code",
   "execution_count": null,
   "metadata": {},
   "outputs": [],
   "source": [
    "data = gpd.read_file('../../data/site_metadata/compiled_sites.geojson')\n",
    "data = data[data['country'] == 'Indonesia']\n",
    "data = data\n",
    "x = [d.x for d in data['geometry']]\n",
    "y = [d.y for d in data['geometry']]\n",
    "boundary = gpd.read_file('../../data/boundaries/indonesia.geojson')\n",
    "\n",
    "boundary.plot(edgecolor='gray', facecolor=\"None\", linewidth=.5, figsize=(8,5))\n",
    "plt.scatter(x,y, s=1.5)\n",
    "(min_x, min_y, max_x, max_y) = data.total_bounds\n",
    "buffer = 0.9\n",
    "plt.xlim([min_x - buffer, max_x + buffer])\n",
    "plt.ylim([min_y - buffer, max_y + buffer])\n",
    "plt.xticks([100, 110, 120, 130, 140],['100°','110°','120°','130°','140°'])\n",
    "plt.yticks([-10, -5.0, 0, 5.0],['-10°', '-5°', '0°', '5°'])\n",
    "title = 'Detected Waste Site Locations in Indonesia'\n",
    "plt.title(title)\n",
    "plt.savefig(f'../../figures/{title}.png', dpi=250, facecolor=(1,1,1), bbox_inches='tight')\n",
    "plt.show()"
   ]
  },
  {
   "cell_type": "markdown",
   "metadata": {},
   "source": [
    "## Plot SE Asia Sites"
   ]
  },
  {
   "cell_type": "code",
   "execution_count": null,
   "metadata": {},
   "outputs": [],
   "source": [
    "# select data from dataframe from Indonesia, Thailand, malaysia, cambodia, sri lanka, laos, brunei, timor leste, philippines, and singapore\n",
    "data = gpd.read_file('../../data/site_metadata/compiled_sites.geojson')\n",
    "data = data[data['country'].isin(['Indonesia', 'Thailand', 'Malaysia', 'Cambodia', 'Sri Lanka', 'Laos', 'Brunei', 'Timor Leste', 'Philippines', 'Singapore', 'Vietnam'])]   \n",
    "x = [d.x for d in data['geometry']]\n",
    "y = [d.y for d in data['geometry']]\n",
    "boundary = gpd.read_file('../../../../earthrise/natural_earth_coastlines.geojson')\n",
    "boundary.plot(edgecolor='gray', facecolor=\"None\", linewidth=.5, figsize=(8,5))\n",
    "plt.scatter(x,y, s=1.5)\n",
    "#plt.axis('equal')\n",
    "(min_x, min_y, max_x, max_y) = data.total_bounds\n",
    "buffer = 0.8\n",
    "plt.xlim([min_x - buffer, max_x + buffer])\n",
    "plt.ylim([min_y - buffer, max_y + buffer])\n",
    "plt.xticks([i for i in range(80, 150, 10)],[str(i) + '°' for i in range(80, 150, 10)])\n",
    "plt.yticks([-10, -5, 0, 5, 10, 15, 20], ['-10°', '-5°', '0°', '5°', '10°', '15°', '20°'])\n",
    "title = 'Detected Waste Site Locations in Southeast Asia'\n",
    "plt.title(title)\n",
    "plt.savefig(f'../../figures/{title}.png', dpi=250, facecolor=(1,1,1), bbox_inches='tight')\n",
    "plt.show()"
   ]
  },
  {
   "cell_type": "markdown",
   "metadata": {},
   "source": [
    "## Plot all sites"
   ]
  },
  {
   "cell_type": "code",
   "execution_count": null,
   "metadata": {},
   "outputs": [],
   "source": [
    "data = gpd.read_file('../../data/site_metadata/compiled_sites.geojson')\n",
    "x = [d.x for d in data['geometry']]\n",
    "y = [d.y for d in data['geometry']]\n",
    "boundary = gpd.read_file('../../../../earthrise/natural_earth_coastlines.geojson')\n",
    "boundary.plot(edgecolor='gray', facecolor=\"None\", linewidth=.5, figsize=(8,5), zorder=0)\n",
    "plt.scatter(x,y, s=0.5)\n",
    "#plt.axis('equal')\n",
    "(min_x, min_y, max_x, max_y) = data.total_bounds\n",
    "buffer = 4\n",
    "plt.xlim([min_x - buffer, max_x + buffer])\n",
    "plt.ylim([min_y - buffer, max_y + buffer])\n",
    "plt.xticks([i for i in range(-100, 175, 25)],[str(i) + '°' for i in range(-100, 175, 25)])\n",
    "plt.yticks([i for i in range(-40, 60, 15)],[str(i) + '°' for i in range(-40, 60, 15)])\n",
    "title = 'All Detected Waste Sites'\n",
    "plt.title(title)\n",
    "plt.savefig(f'../../figures/{title}.png', dpi=250, facecolor=(1,1,1), bbox_inches='tight')\n",
    "plt.show()"
   ]
  },
  {
   "cell_type": "code",
   "execution_count": null,
   "metadata": {},
   "outputs": [],
   "source": []
  }
 ],
 "metadata": {
  "interpreter": {
   "hash": "d425afa4a959a86aa036beaa1a58ff3469f38e31f3ec97f5785c695b9108eced"
  },
  "kernelspec": {
   "display_name": "Python 3.9.7 ('m1-plastics')",
   "language": "python",
   "name": "python3"
  },
  "language_info": {
   "codemirror_mode": {
    "name": "ipython",
    "version": 3
   },
   "file_extension": ".py",
   "mimetype": "text/x-python",
   "name": "python",
   "nbconvert_exporter": "python",
   "pygments_lexer": "ipython3",
   "version": "3.9.7"
  },
  "orig_nbformat": 4
 },
 "nbformat": 4,
 "nbformat_minor": 2
}
