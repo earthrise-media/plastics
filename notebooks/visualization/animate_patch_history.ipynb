{
 "cells": [
  {
   "cell_type": "code",
   "execution_count": 1,
   "metadata": {},
   "outputs": [],
   "source": [
    "import os\n",
    "import pickle\n",
    "\n",
    "import matplotlib.pyplot as plt\n",
    "import matplotlib.animation as animation\n",
    "from matplotlib.lines import Line2D\n",
    "import numpy as np"
   ]
  },
  {
   "cell_type": "code",
   "execution_count": 9,
   "metadata": {},
   "outputs": [],
   "source": [
    "def animate_patch_history(data, name):\n",
    "    \"\"\"\n",
    "    Used for visualization and debugging. Takes a history dictionary and outputs a video\n",
    "    for each timestep at each site in the history.\n",
    "    \"\"\"\n",
    "    fig, ax = plt.subplots(dpi=100, facecolor=(1,1,1))\n",
    "    ax.set_axis_off()\n",
    "    images = []\n",
    "    init_date = list(data.keys())[0]\n",
    "    for site_name in data[init_date]:\n",
    "        for date in data.keys():\n",
    "            ax.set_title(name)\n",
    "            hyperpatch = data[date][site_name]\n",
    "            rgb = np.stack((hyperpatch['B4'], hyperpatch['B3'], hyperpatch['B2']), axis=-1)\n",
    "            if len(rgb) > 0:\n",
    "                im = plt.imshow(np.clip(rgb / 2000, 0, 1), animated=True)\n",
    "                images.append([im])\n",
    "    fig.tight_layout()\n",
    "    ani = animation.ArtistAnimation(fig, images, interval=100, blit=True, repeat_delay=500)\n",
    "    ani.save(os.path.join('..', 'figures', 'videos', name + '.mp4'))"
   ]
  },
  {
   "cell_type": "code",
   "execution_count": 12,
   "metadata": {},
   "outputs": [],
   "source": [
    "fn = 'positive_raw_toa_36_2018-01-01.pkl'\n",
    "with open('../../data/training_data/patch_histories/' + fn, 'rb') as f:\n",
    "    patch_history = pickle.load(f)"
   ]
  },
  {
   "cell_type": "code",
   "execution_count": 13,
   "metadata": {},
   "outputs": [
    {
     "name": "stdout",
     "output_type": "stream",
     "text": [
      "[]\n"
     ]
    },
    {
     "data": {
      "image/png": "[encoded data removed]",
      "text/plain": [
       "<Figure size 600x400 with 1 Axes>"
      ]
     },
     "metadata": {},
     "output_type": "display_data"
    }
   ],
   "source": [
    "animate_patch_history(patch_history, fn)"
   ]
  },
  {
   "cell_type": "code",
   "execution_count": null,
   "metadata": {},
   "outputs": [],
   "source": []
  }
 ],
 "metadata": {
  "kernelspec": {
   "display_name": "Python 3",
   "language": "python",
   "name": "python3"
  },
  "language_info": {
   "codemirror_mode": {
    "name": "ipython",
    "version": 3
   },
   "file_extension": ".py",
   "mimetype": "text/x-python",
   "name": "python",
   "nbconvert_exporter": "python",
   "pygments_lexer": "ipython3",
   "version": "3.6.5"
  }
 },
 "nbformat": 4,
 "nbformat_minor": 4
}
