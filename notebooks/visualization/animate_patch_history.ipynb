{
 "cells": [
  {
   "cell_type": "code",
   "execution_count": null,
   "metadata": {},
   "outputs": [],
   "source": [
    "import os\n",
    "import pickle\n",
    "\n",
    "import sys\n",
    "sys.path.append('../../')\n",
    "from scripts.get_s2_data_ee import get_history\n",
    "from scripts.viz_tools import animate_patch_history\n",
    "\n",
    "%load_ext autoreload\n",
    "%autoreload 2"
   ]
  },
  {
   "cell_type": "code",
   "execution_count": null,
   "metadata": {
    "scrolled": true
   },
   "outputs": [],
   "source": [
    "# This function takes a while to run as it is extracting data from GEE\n",
    "\n",
    "rect_width = 0.008\n",
    "coords = [115.16987454393899, -8.091076190191433]\n",
    "num_months = 62\n",
    "start_date = '2016-01-01'\n",
    "fn = 'TPA Bengkala'\n",
    "patch_history = get_history([coords], \n",
    "                            [fn], \n",
    "                            rect_width,\n",
    "                            num_months=num_months,\n",
    "                            start_date=start_date,\n",
    "                            cloud_mask=True)"
   ]
  },
  {
   "cell_type": "code",
   "execution_count": null,
   "metadata": {},
   "outputs": [],
   "source": [
    "fn = 'positive_raw_toa_36_2018-01-01'\n",
    "with open('../../data/training_data/patch_histories/' + fn + '.pkl', 'rb') as f:\n",
    "    patch_history = pickle.load(f)"
   ]
  },
  {
   "cell_type": "code",
   "execution_count": null,
   "metadata": {},
   "outputs": [],
   "source": [
    "max_cloud = 0.5\n",
    "animate_patch_history(patch_history, '../../figures/videos/' + fn + '-' + str(max_cloud) + '.mp4', max_cloud=max_cloud)"
   ]
  },
  {
   "cell_type": "code",
   "execution_count": null,
   "metadata": {},
   "outputs": [],
   "source": []
  }
 ],
 "metadata": {
  "kernelspec": {
   "display_name": "Python 3",
   "language": "python",
   "name": "python3"
  },
  "language_info": {
   "codemirror_mode": {
    "name": "ipython",
    "version": 3
   },
   "file_extension": ".py",
   "mimetype": "text/x-python",
   "name": "python",
   "nbconvert_exporter": "python",
   "pygments_lexer": "ipython3",
   "version": "3.6.5"
  }
 },
 "nbformat": 4,
 "nbformat_minor": 4
}
