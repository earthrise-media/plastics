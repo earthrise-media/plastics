{
 "cells": [
  {
   "cell_type": "code",
   "execution_count": null,
   "metadata": {},
   "outputs": [],
   "source": [
    "import geopandas as gpd\n",
    "file_name = 'se_asia_metadata_2.0'\n",
    "data = gpd.read_file(f'../../data/site_metadata/{file_name}.geojson')\n",
    "data.head()"
   ]
  },
  {
   "cell_type": "code",
   "execution_count": null,
   "metadata": {},
   "outputs": [],
   "source": [
    "data = data[data['waterway distance'] < 200]\n",
    "data = data.sort_values(by='waterway distance')\n",
    "print(len(data))\n",
    "data.head()"
   ]
  },
  {
   "cell_type": "code",
   "execution_count": 3,
   "metadata": {},
   "outputs": [],
   "source": [
    "coords = [[point.x, point.y] for point in data['geometry']]"
   ]
  },
  {
   "cell_type": "code",
   "execution_count": null,
   "metadata": {},
   "outputs": [],
   "source": [
    "output_name = 'bali-sites'\n",
    "title = 'Waste Sites in Bali that are not listed as TPA sites on SIPSN Map'\n",
    "with open(f'../../docs/{output_name}.html', 'w') as f:\n",
    "    f.write(f'''<!DOCTYPE html>\\n<html lang=\"en\">\\n<head>\\n\\t<meta charset=\"UTF-8\">\\n\\t<meta name=\"viewport\" content=\"width=device-width, initial-scale=1.0\">\\n\\t<meta http-equiv=\"X-UA-Compatible\" content=\"ie=edge\">\\n<title>{title}</title>\\n</head>\\n<body>\\n''')\n",
    "    for coord in coords:\n",
    "        lon = coord[0]\n",
    "        lat = coord[1]\n",
    "        f.write(f'\\t<a href=\"https://www.google.com/maps/@{lat},{lon},750m/data=!3m1!1e3\" target=\"_blank\">\\n\\t\\t<img src=\"https://api.mapbox.com/styles/v1/mapbox/satellite-v9/static/{lon},{lat},16,0/400x400?access_token=pk.eyJ1IjoiZWFydGhyaXNlIiwiYSI6ImNqeDExNmtrZzAwM2E0OW16eHZ1dzg1eWEifQ.8LTFXyY-n7OsZOoWN9ONPQ\"></img>\\n\\t</a>\\n')\n",
    "    f.write('''</body>\n",
    "                </html>''')"
   ]
  },
  {
   "cell_type": "code",
   "execution_count": null,
   "metadata": {},
   "outputs": [],
   "source": []
  }
 ],
 "metadata": {
  "interpreter": {
   "hash": "d425afa4a959a86aa036beaa1a58ff3469f38e31f3ec97f5785c695b9108eced"
  },
  "kernelspec": {
   "display_name": "Python 3.9.7 64-bit ('m1-plastics': conda)",
   "language": "python",
   "name": "python3"
  },
  "language_info": {
   "codemirror_mode": {
    "name": "ipython",
    "version": 3
   },
   "file_extension": ".py",
   "mimetype": "text/x-python",
   "name": "python",
   "nbconvert_exporter": "python",
   "pygments_lexer": "ipython3",
   "version": "3.9.7"
  },
  "orig_nbformat": 4
 },
 "nbformat": 4,
 "nbformat_minor": 2
}
