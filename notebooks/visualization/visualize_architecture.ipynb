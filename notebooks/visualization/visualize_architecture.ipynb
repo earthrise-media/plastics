{
 "cells": [
  {
   "cell_type": "code",
   "execution_count": 5,
   "metadata": {},
   "outputs": [],
   "source": [
    "import visualkeras\n",
    "from tensorflow import keras\n",
    "from PIL import ImageFont"
   ]
  },
  {
   "cell_type": "code",
   "execution_count": 24,
   "metadata": {},
   "outputs": [],
   "source": [
    "\n",
    "model_name = 'weak_labels_3.0_batchnorm'\n",
    "model = keras.models.load_model(f'../../models/{model_name}.h5')\n",
    "#model = keras.Model(input_img, encoded)\n",
    "\n",
    "font = ImageFont.truetype(\"/Users/ckruse/Library/Fonts/Montserrat-SemiBold.ttf\", 16)\n",
    "\n",
    "visualkeras.layered_view(model, to_file=f'../../figures/model_architectures/{model_name}.png', \n",
    "                         legend=True, \n",
    "                         padding=30, \n",
    "                         spacing=5, \n",
    "                         draw_funnel=True, \n",
    "                         shade_step=10, \n",
    "                         background_fill=(0,0,0,0),\n",
    "                         draw_volume=True,\n",
    "                         scale_xy=10,\n",
    "                         font=font).show()\n"
   ]
  },
  {
   "cell_type": "code",
   "execution_count": null,
   "metadata": {},
   "outputs": [],
   "source": []
  }
 ],
 "metadata": {
  "interpreter": {
   "hash": "d425afa4a959a86aa036beaa1a58ff3469f38e31f3ec97f5785c695b9108eced"
  },
  "kernelspec": {
   "display_name": "Python 3.9.7 64-bit ('m1-plastics': conda)",
   "language": "python",
   "name": "python3"
  },
  "language_info": {
   "codemirror_mode": {
    "name": "ipython",
    "version": 3
   },
   "file_extension": ".py",
   "mimetype": "text/x-python",
   "name": "python",
   "nbconvert_exporter": "python",
   "pygments_lexer": "ipython3",
   "version": "3.9.7"
  },
  "orig_nbformat": 4
 },
 "nbformat": 4,
 "nbformat_minor": 2
}
