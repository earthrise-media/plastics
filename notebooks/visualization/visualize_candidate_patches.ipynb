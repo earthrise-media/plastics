{
 "cells": [
  {
   "cell_type": "markdown",
   "metadata": {},
   "source": [
    "# Visualize all candidate patches\n",
    "For a given list of coordinates, create a grid of images centered at each coordinate"
   ]
  },
  {
   "cell_type": "code",
   "execution_count": null,
   "metadata": {},
   "outputs": [],
   "source": [
    "import os\n",
    "\n",
    "import ee\n",
    "import pandas as pd\n",
    "import matplotlib.pyplot as plt\n",
    "\n",
    "import sys\n",
    "sys.path.append('../')\n",
    "from scripts.get_s2_data_ee import get_history, get_history_polygon, get_pixel_vectors\n",
    "\n",
    "%load_ext autoreload\n",
    "%autoreload 2"
   ]
  },
  {
   "cell_type": "code",
   "execution_count": null,
   "metadata": {},
   "outputs": [],
   "source": [
    "# Sentinel 2 band descriptions\n",
    "band_descriptions = {\n",
    "    'B1': 'Aerosols, 442nm',\n",
    "    'B2': 'Blue, 492nm',\n",
    "    'B3': 'Green, 559nm',\n",
    "    'B4': 'Red, 665nm',\n",
    "    'B5': 'Red Edge 1, 704nm',\n",
    "    'B6': 'Red Edge 2, 739nm',\n",
    "    'B7': 'Red Edge 3, 779nm',\n",
    "    'B8': 'NIR, 833nm',\n",
    "    'B8A': 'Red Edge 4, 864nm',\n",
    "    'B9': 'Water Vapor, 943nm',\n",
    "    'B11': 'SWIR 1, 1610nm',\n",
    "    'B12': 'SWIR 2, 2186nm'\n",
    "}"
   ]
  },
  {
   "cell_type": "markdown",
   "metadata": {},
   "source": [
    "## Load Sampling Locations\n",
    "Depending on the input format, you may need to modify this section. Ultimately need to create a list of coordinates"
   ]
  },
  {
   "cell_type": "code",
   "execution_count": null,
   "metadata": {},
   "outputs": [],
   "source": [
    "# Java Validated Sites\n",
    "candidates = pd.read_csv('../data/model_outputs/candidate_sites/v12_java_validated_positives.csv')\n",
    "\n",
    "# Mining Sites\n",
    "candidates = pd.read_csv('../../mining/outputs/tambopata_grid_full.csv')\n",
    "display(candidates.head())\n",
    "candidates = candidates[candidates['pred'] > 0.5]\n",
    "coords = [[lat, lon] for lat, lon in zip(np.array(candidates['lon']), np.array(candidates['lat']))]\n",
    "names = ['candidate_' + str(i) for i in range(len(coords))]\n",
    "print(len(coords), \"coordinates loaded\")"
   ]
  },
  {
   "cell_type": "markdown",
   "metadata": {},
   "source": [
    "## Download Data"
   ]
  },
  {
   "cell_type": "code",
   "execution_count": null,
   "metadata": {
    "scrolled": true
   },
   "outputs": [],
   "source": [
    "# Create a list of patch histories\n",
    "# Each patch history is a dictionary with the format:\n",
    "# patch_history[date][site_name][band][band_img]\n",
    "# This function takes a while to run as it is extracting data from GEE\n",
    "num_months = 3\n",
    "start_date = '2019-06-01'\n",
    "patch_histories = get_history(coords, \n",
    "                              names, \n",
    "                              0.004,\n",
    "                              num_months=num_months,\n",
    "                              start_date=start_date,\n",
    "                              cloud_mask=True)"
   ]
  },
  {
   "cell_type": "markdown",
   "metadata": {},
   "source": [
    "## Create Spatial Patches"
   ]
  },
  {
   "cell_type": "code",
   "execution_count": null,
   "metadata": {},
   "outputs": [],
   "source": [
    "def create_img_stack(patch_history, band_combinations):\n",
    "    img_stack = []\n",
    "    for site in patch_history[start_date]:\n",
    "        rgb_stack = []\n",
    "        for date in patch_history:\n",
    "            spectral_stack = []\n",
    "            band_shapes = [np.shape(patch_history[date][site][band]) for band in band_descriptions]\n",
    "            if np.array(band_shapes).all() > 0:\n",
    "                for band in band_descriptions:\n",
    "                    spectral_stack.append(patch_history[date][site][band])\n",
    "            if np.min(spectral_stack) > 0:        \n",
    "                rgb_stack.append(np.stack((np.array(spectral_stack)[band_combinations[0],:,:],\n",
    "                                           np.array(spectral_stack)[band_combinations[1],:,:],\n",
    "                                           np.array(spectral_stack)[band_combinations[2],:,:]), axis=-1))\n",
    "        img_stack.append(np.median(rgb_stack, axis=0))\n",
    "    return img_stack\n",
    "\n",
    "def normalize(array):\n",
    "    return np.array(array) / 3000\n",
    "\n",
    "def stretch_histogram(array, min_val=0.1, max_val=0.75, gamma=1.2):\n",
    "    clipped = np.clip(array, min_val, max_val)\n",
    "    stretched = (clipped - min_val) / (max_val - min_val) ** gamma\n",
    "    return stretched"
   ]
  },
  {
   "cell_type": "code",
   "execution_count": null,
   "metadata": {},
   "outputs": [],
   "source": [
    "patches = create_img_stack(patch_histories, [3,2,1])\n",
    "print(len(patches), 'candidate images extracted')"
   ]
  },
  {
   "cell_type": "code",
   "execution_count": null,
   "metadata": {},
   "outputs": [],
   "source": [
    "# Manually filter duplicate patches\n",
    "duplicate_list = [19, 28, 30, 65, 68]\n",
    "unique_patch_index = [index for index in range(len(patches)) if index not in duplicate_list]\n",
    "patches = np.array(patches)[unique_patch_index]"
   ]
  },
  {
   "cell_type": "code",
   "execution_count": null,
   "metadata": {},
   "outputs": [],
   "source": [
    "#name = 'Confirmed Dump Sites on Java'\n",
    "name = 'Mining Sites Detected'\n",
    "\n",
    "num_images = int(np.ceil(np.sqrt(len(patches))))\n",
    "plt.figure(figsize=(12,12), dpi=150)\n",
    "for index, patch in enumerate(patches):\n",
    "    plt.subplot(num_images, num_images, index + 1)\n",
    "    plt.imshow(np.clip(stretch_histogram(normalize(patch)), 0, 1))\n",
    "    plt.axis('off')\n",
    "plt.suptitle(f'{len(patches)} {name}', size=16)\n",
    "plt.tight_layout()\n",
    "plt.savefig(f'figures/patches/{len(patches)} {name} - RGB.png', bbox_inches='tight')\n",
    "plt.show()"
   ]
  },
  {
   "cell_type": "code",
   "execution_count": null,
   "metadata": {},
   "outputs": [],
   "source": [
    "band_combinations = {\n",
    "    'rgb': ['B4', 'B3', 'B2'],\n",
    "    'false_color': ['B12', 'B11', 'B4'],\n",
    "    'color_infrared': ['B8', 'B4', 'B3'],\n",
    "    'agriculture': ['B11', 'B8', 'B2'],\n",
    "    'atmosphere': ['B12', 'B11', 'B8'],\n",
    "    'healthy_vegetation': ['B8', 'B11', 'B2'],\n",
    "    'land_water': ['B8', 'B11', 'B4'],\n",
    "    'swir': ['B12', 'B8A', 'B4'],\n",
    "    'vegetation': ['B11', 'B8', 'B4'],\n",
    "    'geology': ['B12', 'B11', 'B2'],\n",
    "}"
   ]
  },
  {
   "cell_type": "markdown",
   "metadata": {},
   "source": [
    "## Visualize a set of multispectral predictions"
   ]
  },
  {
   "cell_type": "code",
   "execution_count": null,
   "metadata": {},
   "outputs": [],
   "source": [
    "for combination in band_combinations:\n",
    "    band_combo = [np.argmax(np.array(list(band_descriptions.keys())) == band_combinations[combination][index]) for index in range(3)]\n",
    "    patches = create_img_stack(patch_histories, band_combo)\n",
    "    num_images = int(np.ceil(np.sqrt(len(patches))))\n",
    "    plt.figure(figsize=(12,12), dpi=150)\n",
    "    for index, patch in enumerate(patches):\n",
    "        plt.subplot(num_images, num_images, index + 1)\n",
    "        max_val = np.mean(normalize(patch)) + 4 * np.std(normalize(patch))\n",
    "        plt.imshow(np.clip(stretch_histogram(normalize(patch), max_val=max_val), 0, 1))\n",
    "        plt.axis('off')\n",
    "    plt.suptitle(f'{len(patches)} {name} - {combination} {band_combinations[combination]}', size=16)\n",
    "    plt.tight_layout()\n",
    "    plt.savefig(f'figures/patches/{len(patches)} {name} - {combination}.png', bbox_inches='tight')\n",
    "    plt.show()"
   ]
  },
  {
   "cell_type": "code",
   "execution_count": null,
   "metadata": {},
   "outputs": [],
   "source": []
  }
 ],
 "metadata": {
  "kernelspec": {
   "display_name": "Python 3",
   "language": "python",
   "name": "python3"
  },
  "language_info": {
   "codemirror_mode": {
    "name": "ipython",
    "version": 3
   },
   "file_extension": ".py",
   "mimetype": "text/x-python",
   "name": "python",
   "nbconvert_exporter": "python",
   "pygments_lexer": "ipython3",
   "version": "3.6.5"
  }
 },
 "nbformat": 4,
 "nbformat_minor": 4
}
