{
 "cells": [
  {
   "cell_type": "code",
   "execution_count": null,
   "metadata": {},
   "outputs": [],
   "source": [
    "import os\n",
    "\n",
    "import matplotlib.pyplot as plt\n",
    "from matplotlib import animation\n",
    "import numpy as np\n",
    "from tensorflow import keras\n",
    "from tensorflow.keras import layers\n",
    "from tqdm import tqdm\n",
    "\n",
    "\n",
    "import sys\n",
    "sys.path.append('../')\n",
    "from scripts.get_s2_data_ee import get_history, get_history_polygon, get_pixel_vectors\n",
    "\n",
    "%load_ext autoreload\n",
    "%autoreload 2"
   ]
  },
  {
   "cell_type": "code",
   "execution_count": null,
   "metadata": {},
   "outputs": [],
   "source": [
    "# Configuration:\n",
    "# Set directory where training site json files are located and files are saved\n",
    "# Set rect width for all patches that are not TPA sites\n",
    "rect_width = 0.0053\n",
    "site_coords = [115.349542, -8.562821]\n",
    "name = 'temesi'"
   ]
  },
  {
   "cell_type": "code",
   "execution_count": null,
   "metadata": {},
   "outputs": [],
   "source": [
    "patch_history = get_history([site_coords], \n",
    "                            [name], \n",
    "                            rect_width,\n",
    "                            num_months = 2,\n",
    "                            start_date = '2020-10-01')"
   ]
  },
  {
   "cell_type": "code",
   "execution_count": null,
   "metadata": {},
   "outputs": [],
   "source": [
    "site_data = patch_history['2020-11-01']['temesi']"
   ]
  },
  {
   "cell_type": "code",
   "execution_count": null,
   "metadata": {},
   "outputs": [],
   "source": [
    "gamma = 1\n",
    "edges, bins, patches = plt.hist((site_data['B4'].flatten() / 3000) ** gamma, \n",
    "                                bins=400, color='r', alpha=0.5)\n",
    "plt.hist((site_data['B3'].flatten() / 3000) ** gamma, bins=bins, color='g', alpha=0.5)\n",
    "plt.hist((site_data['B2'].flatten() / 3000) ** gamma, bins=bins, color='b', alpha=0.5)\n",
    "plt.xlim([0, 1])\n",
    "plt.show()"
   ]
  },
  {
   "cell_type": "code",
   "execution_count": null,
   "metadata": {},
   "outputs": [],
   "source": [
    "rgb = np.stack((site_data['B4'],\n",
    "                site_data['B3'],\n",
    "                site_data['B2']), axis=-1)\n",
    "plt.figure(dpi=200)\n",
    "plt.imshow((rgb/3000) ** 1, vmin=0, vmax=0.55)\n",
    "plt.axis('off')\n",
    "plt.show()"
   ]
  },
  {
   "cell_type": "code",
   "execution_count": null,
   "metadata": {},
   "outputs": [],
   "source": [
    "# Sentinel 2 band descriptions\n",
    "band_descriptions = {\n",
    "    'B1': 'Aerosols, 442nm',\n",
    "    'B2': 'Blue, 492nm',\n",
    "    'B3': 'Green, 559nm',\n",
    "    'B4': 'Red, 665nm',\n",
    "    'B5': 'Red Edge 1, 704nm',\n",
    "    'B6': 'Red Edge 2, 739nm',\n",
    "    'B7': 'Red Edge 3, 779nm',\n",
    "    'B8': 'NIR, 833nm',\n",
    "    'B8A': 'Red Edge 4, 864nm',\n",
    "    'B9': 'Water Vapor, 943nm',\n",
    "    'B11': 'SWIR 1, 1610nm',\n",
    "    'B12': 'SWIR 2, 2186nm'\n",
    "}"
   ]
  },
  {
   "cell_type": "code",
   "execution_count": null,
   "metadata": {},
   "outputs": [],
   "source": [
    "for band in band_descriptions:\n",
    "    plt.figure(figsize=(5,5), dpi=150, facecolor=(1,1,1))\n",
    "    plt.imshow(site_data[band] / (np.mean(site_data[band]) + 5 * np.std(site_data[band])), cmap='gray', vmin=0, vmax=1)\n",
    "    plt.title(f\"{band}, {band_descriptions[band]}\")\n",
    "    plt.axis('off')\n",
    "    plt.savefig(f'figures/patches/hyperspectral_patches/{name}_{band}_{band_descriptions[band]}_figure.png',\n",
    "               bbox_inches='tight')\n",
    "    plt.show()"
   ]
  },
  {
   "cell_type": "code",
   "execution_count": null,
   "metadata": {},
   "outputs": [],
   "source": [
    "import cv2\n",
    "for band in band_descriptions:\n",
    "    data = 255 * site_data[band] / (np.mean(site_data[band]) + 5 * np.std(site_data[band]))\n",
    "    cv2.imwrite(f'figures/patches/hyperspectral_patches/{name}_{band}_{band_descriptions[band]}_{rect_width}_patch.png', data)"
   ]
  },
  {
   "cell_type": "code",
   "execution_count": null,
   "metadata": {},
   "outputs": [],
   "source": [
    "band_combinations = {\n",
    "    'rgb': ['B4', 'B3', 'B2'],\n",
    "    'false_color': ['B12', 'B11', 'B4'],\n",
    "    'color_infrared': ['B8', 'B4', 'B3'],\n",
    "    'agriculture': ['B11', 'B8', 'B2'],\n",
    "    'atmosphere': ['B12', 'B11', 'B8'],\n",
    "    'healthy_vegetation': ['B8', 'B11', 'B2'],\n",
    "    'land_water': ['B8', 'B11', 'B4'],\n",
    "    'swir': ['B12', 'B8A', 'B4'],\n",
    "    'vegetation': ['B11', 'B8', 'B4'],\n",
    "    'geology': ['B12', 'B11', 'B2'],\n",
    "}"
   ]
  },
  {
   "cell_type": "code",
   "execution_count": null,
   "metadata": {},
   "outputs": [],
   "source": [
    "# Sentinel 2 band descriptions\n",
    "band_descriptions = {\n",
    "    'B1': 'Aerosols, 442nm',\n",
    "    'B2': 'Blue, 492nm',\n",
    "    'B3': 'Green, 559nm',\n",
    "    'B4': 'Red, 665nm',\n",
    "    'B5': 'Red Edge 1, 704nm',\n",
    "    'B6': 'Red Edge 2, 739nm',\n",
    "    'B7': 'Red Edge 3, 779nm',\n",
    "    'B8': 'NIR, 833nm',\n",
    "    'B8A': 'Red Edge 4, 864nm',\n",
    "    'B9': 'Water Vapor, 943nm',\n",
    "    'B11': 'SWIR 1, 1610nm',\n",
    "    'B12': 'SWIR 2, 2186nm'\n",
    "}"
   ]
  },
  {
   "cell_type": "code",
   "execution_count": null,
   "metadata": {
    "scrolled": true
   },
   "outputs": [],
   "source": [
    "for combo in band_combinations:\n",
    "    r = band_combinations[combo][0]\n",
    "    g = band_combinations[combo][1]\n",
    "    b = band_combinations[combo][2]\n",
    "    composite = np.stack((site_data[r],\n",
    "                site_data[g],\n",
    "                site_data[b]), axis=-1)\n",
    "    plt.figure(dpi=100)\n",
    "    plt.imshow(np.clip((composite/4000), 0, 1), vmin=0, vmax=1)\n",
    "    plt.title(combo)\n",
    "    plt.axis('off')\n",
    "    plt.show()"
   ]
  },
  {
   "cell_type": "code",
   "execution_count": null,
   "metadata": {},
   "outputs": [],
   "source": [
    "import cv2\n",
    "for combo in band_combinations:\n",
    "    print(combo, [band_descriptions[combo_band] for combo_band in band_combinations[combo]])\n",
    "    print()\n",
    "    # Note that the rgb bands are reversed here because opencv will save the image as BGR natively\n",
    "    r = band_combinations[combo][2]\n",
    "    g = band_combinations[combo][1]\n",
    "    b = band_combinations[combo][0]\n",
    "    composite = np.stack((site_data[r],\n",
    "                site_data[g],\n",
    "                site_data[b]), axis=-1)\n",
    "    composite = (composite / 4000) * 256\n",
    "    cv2.imwrite(f'figures/patches/hyperspectral_patches/band_combinations_rgb/{name}_{combo}_{rect_width}_patch.png', composite)"
   ]
  },
  {
   "cell_type": "code",
   "execution_count": null,
   "metadata": {},
   "outputs": [],
   "source": [
    "import sys\n",
    "sys.path.append('../')\n",
    "from scripts.get_s2_data_ee import get_history, get_history_polygon, get_pixel_vectors\n",
    "\n",
    "%load_ext autoreload\n",
    "%autoreload 2"
   ]
  },
  {
   "cell_type": "code",
   "execution_count": null,
   "metadata": {},
   "outputs": [],
   "source": [
    "pixel_vectors = get_pixel_vectors(patch_history, '2020-11-01')"
   ]
  },
  {
   "cell_type": "code",
   "execution_count": null,
   "metadata": {},
   "outputs": [],
   "source": [
    "np.array(pixel_vectors[0])"
   ]
  },
  {
   "cell_type": "code",
   "execution_count": null,
   "metadata": {},
   "outputs": [],
   "source": [
    "from sklearn.decomposition import PCA\n",
    "\n",
    "pca = PCA(n_components=3)\n",
    "pca_out = pca.fit_transform(pixel_vectors[0])\n",
    "pca_img = np.reshape(pca_out, rgb.shape)\n",
    "pca_img_norm = (pca_img - pca_img.min()) / (pca_img.max() - pca_img.min()) * 256\n",
    "pca_bgr = np.stack((pca_img_norm[:,:,2], pca_img_norm[:,:,1], pca_img_norm[:,:,0]), axis=-1)\n",
    "cv2.imwrite(f'figures/patches/hyperspectral_patches/band_combinations/{name}_pca_{rect_width}_patch.png', pca_img_norm)\n",
    "cv2.imwrite(f'figures/patches/hyperspectral_patches/band_combinations/{name}_pca_bgr_{rect_width}_patch.png', pca_bgr)"
   ]
  },
  {
   "cell_type": "code",
   "execution_count": null,
   "metadata": {},
   "outputs": [],
   "source": [
    "from sklearn.manifold import TSNE\n",
    "\n",
    "tsne = TSNE(n_components=3)\n",
    "tsne_out = tsne.fit_transform(pixel_vectors[0])\n",
    "tsne_img = np.reshape(tsne_out, rgb.shape)\n",
    "tsne_img_norm = (tsne_img - tsne_img.min()) / (tsne_img.max() - tsne_img.min()) * 256\n",
    "tsne_bgr = np.stack((tsne_img_norm[:,:,2], tsne_img_norm[:,:,1], tsne_img_norm[:,:,0]), axis=-1)\n",
    "cv2.imwrite(f'figures/patches/hyperspectral_patches/band_combinations/{name}_tsne_{rect_width}_patch.png', tsne_bgr)"
   ]
  },
  {
   "cell_type": "code",
   "execution_count": null,
   "metadata": {},
   "outputs": [],
   "source": [
    "tsne_bgr = np.stack((tsne_img_norm[:,:,2], tsne_img_norm[:,:,1], tsne_img_norm[:,:,0]), axis=-1)\n",
    "cv2.imwrite(f'figures/patches/hyperspectral_patches/band_combinations/{name}_tsne_norm_{rect_width}_patch.png', tsne_img_norm)"
   ]
  },
  {
   "cell_type": "code",
   "execution_count": null,
   "metadata": {},
   "outputs": [],
   "source": [
    "plt.figure(dpi=150)\n",
    "for index, band in enumerate(band_descriptions):\n",
    "    data = np.mean(255 * site_data[band] / (np.mean(site_data[band]) + 5 * np.std(site_data[band])))\n",
    "    plt.subplot(3,4,index + 1)\n",
    "    plt.imshow(np.full((10,10),data), cmap='gray', vmin=0, vmax=255)\n",
    "    plt.title(band)\n",
    "    plt.axis('off')\n",
    "plt.tight_layout()\n",
    "plt.show()"
   ]
  },
  {
   "cell_type": "code",
   "execution_count": null,
   "metadata": {},
   "outputs": [],
   "source": [
    "plt.figure(dpi=150)\n",
    "for index, band in enumerate(band_descriptions):\n",
    "    data = 255 * site_data[band] / (np.mean(site_data[band]) + 5 * np.std(site_data[band]))\n",
    "    pixel_mean = np.full((512,512), np.mean(data))\n",
    "    cv2.imwrite(f\"figures/patches/hyperspectral_patches/{band}_{band_descriptions[band].split(' ')[-1]}_mean_pixel.png\", pixel_mean)"
   ]
  },
  {
   "cell_type": "code",
   "execution_count": null,
   "metadata": {},
   "outputs": [],
   "source": [
    "\n",
    "plt.figure(figsize=(5,5), dpi=300, facecolor=(1,1,1))\n",
    "plt.imshow(rgb / (np.mean(rgb) + 5 * np.std(rgb)), vmin=0, vmax=1)\n",
    "plt.title(f\"RGB\")\n",
    "plt.axis('off')\n",
    "plt.savefig(f'figures/patches/hyperspectral_patches/{name}_RGB_figure.png',\n",
    "           bbox_inches='tight')\n",
    "plt.show()"
   ]
  },
  {
   "cell_type": "code",
   "execution_count": null,
   "metadata": {},
   "outputs": [],
   "source": [
    "bgr = np.stack((site_data['B2'],\n",
    "                site_data['B3'],\n",
    "                site_data['B4']), axis=-1)\n",
    "data = 255 * bgr / (np.mean(bgr) + 5 * np.std(bgr))\n",
    "cv2.imwrite(f'figures/patches/hyperspectral_patches/{name}_RGB.png', data)"
   ]
  },
  {
   "cell_type": "code",
   "execution_count": null,
   "metadata": {},
   "outputs": [],
   "source": []
  }
 ],
 "metadata": {
  "kernelspec": {
   "display_name": "Python 3",
   "language": "python",
   "name": "python3"
  },
  "language_info": {
   "codemirror_mode": {
    "name": "ipython",
    "version": 3
   },
   "file_extension": ".py",
   "mimetype": "text/x-python",
   "name": "python",
   "nbconvert_exporter": "python",
   "pygments_lexer": "ipython3",
   "version": "3.6.5"
  }
 },
 "nbformat": 4,
 "nbformat_minor": 4
}
