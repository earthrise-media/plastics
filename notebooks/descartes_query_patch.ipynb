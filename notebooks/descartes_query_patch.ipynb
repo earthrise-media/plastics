{
 "cells": [
  {
   "cell_type": "code",
   "execution_count": null,
   "metadata": {},
   "outputs": [],
   "source": [
    "%load_ext autoreload\n",
    "%autoreload 2"
   ]
  },
  {
   "cell_type": "code",
   "execution_count": null,
   "metadata": {},
   "outputs": [],
   "source": [
    "import os\n",
    "import descarteslabs as dl\n",
    "import geopandas as gpd\n",
    "\n",
    "from scripts import deploy_query_patch"
   ]
  },
  {
   "cell_type": "code",
   "execution_count": null,
   "metadata": {},
   "outputs": [],
   "source": [
    "output_ids = []\n",
    "roi_list = ['Bangladesh']\n",
    "date_list = [['2021-01-01', '2022-07-01']]\n",
    "for roi in roi_list:\n",
    "    for dates in date_list:\n",
    "        start_date = dates[0]\n",
    "        end_date = dates[1]\n",
    "        patch_version = '3.0'\n",
    "        pred_threshold = '0.5'\n",
    "        patch_product_name = f'earthrise:{roi}_patch_weak_labels_{patch_version}_{start_date}_{end_date}_stride_8'\n",
    "\n",
    "        pixel_version = '0.0.11'\n",
    "        pred_threshold = '0.3'\n",
    "        min_sigma = '5.0'\n",
    "        band = 'median'\n",
    "        #pixel_product_name = f\"{roi}_v{pixel_version}_{start_date}_{end_date}_blobs_thresh_{pred_threshold}_min-sigma_{min_sigma}_area-thresh_0.0025_band-{band}\"\n",
    "        pixel_product_name = f'earthrise:{roi}_v{pixel_version}_{start_date}_{end_date}'\n",
    "        output_id = f\"earthrise:intersect_{pixel_product_name.split('earthrise:')[-1]}-{patch_product_name.split('earthrise:')[-1]}_threshold_{pred_threshold}\"\n",
    "        output_ids.append(output_id)\n",
    "        run_local = False\n",
    "\n",
    "        args = [\n",
    "            '--roi_name', roi,\n",
    "            '--pixel_product_name', pixel_product_name,\n",
    "            '--pixel_version', pixel_version,\n",
    "            '--patch_product_name', patch_product_name,\n",
    "            '--patch_version', patch_version,\n",
    "            '--pred_threshold', pred_threshold\n",
    "        ]\n",
    "        if run_local:\n",
    "            args.append('--run_local')\n",
    "        \n",
    "        # Because of the way DL uploads modules when queuing async tasks, we need to launch from the scripts/ folder\n",
    "        %cd ../scripts\n",
    "        %pwd\n",
    "\n",
    "        deploy_query_patch.main(args)"
   ]
  },
  {
   "cell_type": "markdown",
   "metadata": {},
   "source": [
    "## Download data once task is complete"
   ]
  },
  {
   "cell_type": "code",
   "execution_count": null,
   "metadata": {},
   "outputs": [],
   "source": [
    "for roi in roi_list:\n",
    "    for output_id in output_ids:\n",
    "        roi_file = f'../data/boundaries/{roi}.geojson'\n",
    "        region = gpd.read_file(roi_file)['geometry']\n",
    "\n",
    "        fc_id = [fc.id for fc in dl.vectors.FeatureCollection.list() if output_id in fc.id][0]\n",
    "        fc = dl.vectors.FeatureCollection(fc_id)\n",
    "\n",
    "        features = []\n",
    "        for i, r in enumerate(region):\n",
    "            print(\"region\", i)\n",
    "            candidates = fc.filter(r).features()\n",
    "            for elem in candidates:\n",
    "                features.append(elem.geojson)\n",
    "        candidate_gdf = gpd.GeoDataFrame.from_features(features)\n",
    "        directory = f\"../data/model_outputs/candidate_sites/{pixel_version}\"\n",
    "        candidate_gdf.to_file(os.path.join(directory, output_id.split(':')[-1] + '.geojson'))\n",
    "        "
   ]
  },
  {
   "cell_type": "code",
   "execution_count": null,
   "metadata": {},
   "outputs": [],
   "source": []
  }
 ],
 "metadata": {
  "kernelspec": {
   "display_name": "Python 3.9.7 ('m1-plastics')",
   "language": "python",
   "name": "python3"
  },
  "language_info": {
   "codemirror_mode": {
    "name": "ipython",
    "version": 3
   },
   "file_extension": ".py",
   "mimetype": "text/x-python",
   "name": "python",
   "nbconvert_exporter": "python",
   "pygments_lexer": "ipython3",
   "version": "3.9.7"
  },
  "orig_nbformat": 4,
  "vscode": {
   "interpreter": {
    "hash": "d425afa4a959a86aa036beaa1a58ff3469f38e31f3ec97f5785c695b9108eced"
   }
  }
 },
 "nbformat": 4,
 "nbformat_minor": 2
}
