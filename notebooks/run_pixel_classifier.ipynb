{
 "cells": [
  {
   "cell_type": "markdown",
   "metadata": {},
   "source": [
    "# Run Pixel Classifier on a Test Sites\n",
    "Note: The script `nn_predict.py` also works well for this purpose if evaluating a single site.\n",
    "\n",
    "This functionality is also contained within the `train_pixel_classifier` notebook for the purposes of evaluating a trained model."
   ]
  },
  {
   "cell_type": "code",
   "execution_count": null,
   "metadata": {},
   "outputs": [],
   "source": [
    "import os\n",
    "import pickle\n",
    "import sys\n",
    "\n",
    "import matplotlib.pyplot as plt\n",
    "import numpy as np\n",
    "from tensorflow import keras\n",
    "\n",
    "sys.path.append('../')\n",
    "from scripts.get_s2_data_ee import get_history, get_pixel_vectors\n",
    "from scripts.viz_tools import stretch_histogram, normalize"
   ]
  },
  {
   "cell_type": "code",
   "execution_count": null,
   "metadata": {},
   "outputs": [],
   "source": [
    "def make_predictions(model_path, data, site_name, threshold):\n",
    "    test_image = data\n",
    "    model = keras.models.load_model(model_path)\n",
    "\n",
    "    rgb_stack = []\n",
    "    preds_stack = []\n",
    "    threshold_stack = []\n",
    "    print(\"Making Predictions\")\n",
    "    for month in list(test_image.keys()):\n",
    "        test_pixel_vectors, width, height = get_pixel_vectors(test_image, month)\n",
    "        if width > 0:\n",
    "            test_pixel_vectors = normalize(test_pixel_vectors)\n",
    "\n",
    "            r = np.reshape(np.array(test_pixel_vectors)[:,3], (width, height))\n",
    "            g = np.reshape(np.array(test_pixel_vectors)[:,2], (width, height))\n",
    "            b = np.reshape(np.array(test_pixel_vectors)[:,1], (width, height))\n",
    "            rgb = np.stack((r,g,b), axis=-1)\n",
    "            rgb_stack.append(rgb)\n",
    "\n",
    "            preds = model.predict(np.expand_dims(test_pixel_vectors, axis=-1))\n",
    "            preds_img = np.reshape(preds, (width, height, 2))[:,:,1]\n",
    "            preds_stack.append(preds_img)\n",
    "\n",
    "            thresh_img = np.clip(preds_img, threshold, 1)\n",
    "            threshold_stack.append(thresh_img)\n",
    "            \n",
    "    rgb_median = np.median(rgb_stack, axis=0)\n",
    "    preds_median = np.median(preds_stack, axis=0)\n",
    "    threshold_median = np.median(threshold_stack, axis=0)\n",
    "\n",
    "    plt.figure(dpi=150, facecolor=(1,1,1), figsize=(15,5))\n",
    "\n",
    "    plt.subplot(1,3,1)\n",
    "    \n",
    "    adjusted_image = stretch_histogram(rgb_median)\n",
    "    plt.imshow(adjusted_image)\n",
    "    plt.title(f'{site_name} Median', size=8)\n",
    "    plt.axis('off')\n",
    "\n",
    "    plt.subplot(1,3,2)\n",
    "    plt.imshow(preds_median, vmin=0, vmax=1, cmap='seismic')\n",
    "    plt.title('Classification Median', size=8)\n",
    "    plt.axis('off')\n",
    "\n",
    "    plt.subplot(1,3,3)\n",
    "    plt.imshow(threshold_median, cmap='gray')\n",
    "    plt.title(f\"Positive Pixels Median: Threshold {threshold}\", size=8)\n",
    "    plt.axis('off')\n",
    "\n",
    "    title = f\"{site_name} - Median Values - Neural Network Classification - Threshold {threshold}\"\n",
    "    plt.suptitle(title, y=1.01)\n",
    "    plt.tight_layout()\n",
    "    #plt.savefig(os.path.join(output_dir, title + '.png'), bbox_inches='tight')\n",
    "    plt.show()\n",
    "    \n",
    "    return rgb_stack, preds_stack, threshold_stack"
   ]
  },
  {
   "cell_type": "markdown",
   "metadata": {},
   "source": [
    "### Download a test patch"
   ]
  },
  {
   "cell_type": "code",
   "execution_count": null,
   "metadata": {},
   "outputs": [],
   "source": [
    "rect_width = 0.0075\n",
    "coords = [115.16987454393899, -8.091076190191433]\n",
    "num_months = 3\n",
    "start_date = '2020-01-01'\n",
    "name = 'TPA Bengkala'\n",
    "patch_history = get_history([coords], \n",
    "                            [name], \n",
    "                            rect_width,\n",
    "                            num_months=num_months,\n",
    "                            start_date=start_date,\n",
    "                            cloud_mask=True)"
   ]
  },
  {
   "cell_type": "markdown",
   "metadata": {},
   "source": [
    "### Show composite predictions"
   ]
  },
  {
   "cell_type": "code",
   "execution_count": null,
   "metadata": {},
   "outputs": [],
   "source": [
    "threshold = 0.6\n",
    "model_path = '../models/pipeline_validation_model_3-15-21.h5'\n",
    "rgb_stack, pred_stack, threshold_stack = make_predictions(model_path, patch_history, name, threshold)"
   ]
  },
  {
   "cell_type": "markdown",
   "metadata": {},
   "source": [
    "### Show timeseries predictions"
   ]
  },
  {
   "cell_type": "code",
   "execution_count": null,
   "metadata": {},
   "outputs": [],
   "source": [
    "threshold = 0.8\n",
    "\n",
    "for image, pred, date in zip(rgb_stack, pred_stack, list(patch_history.keys())):\n",
    "    plt.figure(figsize=(9,3), facecolor=(1,1,1), dpi=100)\n",
    "    plt.subplot(1,3,1)\n",
    "    plt.imshow(np.clip(stretch_histogram(image), 0, 1))\n",
    "    plt.axis('off')\n",
    "    plt.title('RGB')\n",
    "    \n",
    "    plt.subplot(1,3,2)\n",
    "    combo = stretch_histogram(np.copy(image))\n",
    "    combo[:,:,0][np.ma.masked_greater(pred, threshold).mask] = 1\n",
    "    combo[:,:,1][np.ma.masked_greater(pred, threshold).mask] = 0\n",
    "    combo[:,:,2][np.ma.masked_greater(pred, threshold).mask] = 0\n",
    "    plt.imshow(combo)\n",
    "    plt.axis('off')\n",
    "    plt.title(f'Composite - Thresh {threshold}')\n",
    "    \n",
    "    plt.subplot(1,3,3)\n",
    "    plt.imshow(pred, cmap='seismic')\n",
    "    plt.title('Prediction')\n",
    "    plt.axis('off')\n",
    "    \n",
    "    plt.suptitle(date, size=14)\n",
    "    plt.tight_layout()\n",
    "    plt.show()"
   ]
  },
  {
   "cell_type": "code",
   "execution_count": null,
   "metadata": {},
   "outputs": [],
   "source": []
  }
 ],
 "metadata": {
  "kernelspec": {
   "display_name": "Python 3",
   "language": "python",
   "name": "python3"
  },
  "language_info": {
   "codemirror_mode": {
    "name": "ipython",
    "version": 3
   },
   "file_extension": ".py",
   "mimetype": "text/x-python",
   "name": "python",
   "nbconvert_exporter": "python",
   "pygments_lexer": "ipython3",
   "version": "3.6.5"
  }
 },
 "nbformat": 4,
 "nbformat_minor": 4
}
