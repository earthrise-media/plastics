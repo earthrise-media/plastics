{
 "cells": [
  {
   "cell_type": "markdown",
   "metadata": {},
   "source": [
    "# Run Pixel Classifier on a Test Sites\n",
    "Note: The script `nn_predict.py` also works well for this purpose if evaluating a single site.\n",
    "\n",
    "This functionality is also contained within the `train_pixel_classifier` notebook for the purposes of evaluating a trained model."
   ]
  },
  {
   "cell_type": "code",
   "execution_count": null,
   "metadata": {},
   "outputs": [],
   "source": [
    "%load_ext autoreload\n",
    "%autoreload 2"
   ]
  },
  {
   "cell_type": "code",
   "execution_count": null,
   "metadata": {},
   "outputs": [],
   "source": [
    "import os\n",
    "import pickle\n",
    "import sys\n",
    "\n",
    "import matplotlib.pyplot as plt\n",
    "import numpy as np\n",
    "from tensorflow import keras\n",
    "\n",
    "sys.path.append('../')\n",
    "sys.path.append('../scripts')\n",
    "from scripts.dl_utils import download_patch, rect_from_point\n",
    "from scripts.nn_predict import make_predictions, visualize_predictions"
   ]
  },
  {
   "cell_type": "code",
   "execution_count": null,
   "metadata": {},
   "outputs": [],
   "source": [
    "rect_width = 0.02\n",
    "coords = [116.0908,-8.6451]\n",
    "start_date = '2020-05-01'\n",
    "end_date = '2020-06-01'\n",
    "patches = download_patch(rect_from_point(coords, rect_width), start_date, end_date)"
   ]
  },
  {
   "cell_type": "code",
   "execution_count": null,
   "metadata": {},
   "outputs": [],
   "source": [
    "model = keras.models.load_model('../models/model_v1.1.8_5-07-21.h5')\n",
    "pred_stack = make_predictions(patches, model)\n",
    "visualize_predictions(patches, pred_stack, threshold=0.8)"
   ]
  },
  {
   "cell_type": "code",
   "execution_count": null,
   "metadata": {},
   "outputs": [],
   "source": [
    "# Compare to a baseline model\n",
    "baseline_model = keras.models.load_model('../models/65_mo_tpa_bootstrap_toa-12-20-2020.h5')\n",
    "pred_stack_baseline = make_predictions(patches, baseline_model)\n",
    "visualize_predictions(patches, pred_stack_baseline, threshold=0.8)"
   ]
  },
  {
   "cell_type": "markdown",
   "metadata": {},
   "source": [
    "### Show timeseries predictions"
   ]
  },
  {
   "cell_type": "code",
   "execution_count": null,
   "metadata": {},
   "outputs": [],
   "source": [
    "threshold = 0.8\n",
    "num_img = int(np.ceil(np.sqrt(len(patches))))\n",
    "\n",
    "plt.figure(figsize=(num_img,num_img), dpi=250, facecolor=(1,1,1))\n",
    "for i, (img, pred) in enumerate(zip(patches, pred_stack)):\n",
    "    rgb = img[:,:,3:0:-1] / 3000\n",
    "    rgb[pred > threshold, 0] = 0.9\n",
    "    rgb[pred > threshold, 1] = 0\n",
    "    rgb[pred > threshold, 2] = 0.1\n",
    "    \n",
    "    plt.subplot(num_img, num_img, i + 1)\n",
    "    plt.imshow(np.clip(rgb, 0, 1))\n",
    "    plt.axis('off')\n",
    "plt.show()"
   ]
  },
  {
   "cell_type": "code",
   "execution_count": null,
   "metadata": {},
   "outputs": [],
   "source": []
  }
 ],
 "metadata": {
  "kernelspec": {
   "display_name": "Python 3",
   "language": "python",
   "name": "python3"
  },
  "language_info": {
   "codemirror_mode": {
    "name": "ipython",
    "version": 3
   },
   "file_extension": ".py",
   "mimetype": "text/x-python",
   "name": "python",
   "nbconvert_exporter": "python",
   "pygments_lexer": "ipython3",
   "version": "3.6.5"
  }
 },
 "nbformat": 4,
 "nbformat_minor": 4
}
