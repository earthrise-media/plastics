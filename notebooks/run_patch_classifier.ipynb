{
 "cells": [
  {
   "cell_type": "markdown",
   "metadata": {},
   "source": [
    "# Run Patch Classifier"
   ]
  },
  {
   "cell_type": "code",
   "execution_count": null,
   "metadata": {},
   "outputs": [],
   "source": [
    "import json\n",
    "import os\n",
    "import sys\n",
    "\n",
    "import matplotlib.pyplot as plt\n",
    "import numpy as np\n",
    "import pandas as pd\n",
    "\n",
    "from tensorflow import keras\n",
    "\n",
    "sys.path.append('../')\n",
    "from scripts.get_s2_data_ee import get_history, band_descriptions\n",
    "from scripts.viz_tools import *\n",
    "\n",
    "%load_ext autoreload\n",
    "%autoreload 2"
   ]
  },
  {
   "cell_type": "markdown",
   "metadata": {},
   "source": [
    "## Load Model"
   ]
  },
  {
   "cell_type": "code",
   "execution_count": null,
   "metadata": {},
   "outputs": [],
   "source": [
    "model = keras.models.load_model('../models/2d_java_classifier_0.0075_patch.h5')\n",
    "input_width = model.input_shape[1]\n",
    "\n",
    "# Get model input size in degrees\n",
    "rect_width = np.round((input_width / 100) / 111.32, 4)"
   ]
  },
  {
   "cell_type": "markdown",
   "metadata": {},
   "source": [
    "## Download Candidate Site Patches"
   ]
  },
  {
   "cell_type": "code",
   "execution_count": null,
   "metadata": {
    "scrolled": true
   },
   "outputs": [],
   "source": [
    "# Load coordinates from the detect_candidates output\n",
    "filename = 'bali_v12_candidates_pred-thresh_0.75_min-sigma_3.5_area-thresh_0.0025'\n",
    "candidate_sites = pd.read_csv('../data/model_outputs/candidate_sites/' + filename + '.csv')\n",
    "candidate_coords = [[lon, lat] for lat, lon in zip(list(candidate_sites['lat']), list(candidate_sites['lon']))]\n",
    "candidate_names = candidate_sites['name']\n",
    "\n",
    "start_date = '2020-06-01'\n",
    "num_months = 1\n",
    "patch_history = get_history(candidate_coords, \n",
    "                            candidate_names, \n",
    "                            rect_width,\n",
    "                            num_months = num_months,\n",
    "                            start_date = start_date,\n",
    "                            cloud_mask=True)\n"
   ]
  },
  {
   "cell_type": "code",
   "execution_count": null,
   "metadata": {},
   "outputs": [],
   "source": [
    "cloudiness = np.mean([np.sum(patch_history[date][site][band] < 0) / np.size(patch_history[date][site][band]) for band in band_descriptions])\n",
    "cloudiness"
   ]
  },
  {
   "cell_type": "code",
   "execution_count": null,
   "metadata": {},
   "outputs": [],
   "source": [
    "dates = list(patch_history.keys())\n",
    "sites = list(patch_history[dates[0]].keys())\n",
    "\n",
    "cloud_threshold = 0.05\n",
    "cloud_free_sites = []\n",
    "for date in dates:\n",
    "    for site in sites:\n",
    "        cloudiness = np.mean([np.sum(patch_history[date][site][band] < 0) / np.size(patch_history[date][site][band]) for band in band_descriptions])\n",
    "        if cloudiness < cloud_threshold:\n",
    "            cloud_free_sites.append(site)\n",
    "print(f\"{len(cloud_free_sites) / len(sites):.0%} percent of sites have less than {cloud_threshold:.0%} cloud cover\")"
   ]
  },
  {
   "cell_type": "markdown",
   "metadata": {},
   "source": [
    "## Run Network and Visualize Predictions"
   ]
  },
  {
   "cell_type": "code",
   "execution_count": null,
   "metadata": {},
   "outputs": [],
   "source": [
    "patches = np.array(create_img_stack_mean(patch_history, cloud_threshold))\n",
    "patches = [patch[:input_width, :input_width] for patch in patches]\n",
    "rgb_img = create_rgb(patches)\n",
    "patches = normalize(patches)\n",
    "preds = model.predict(patches)[:,1]"
   ]
  },
  {
   "cell_type": "code",
   "execution_count": null,
   "metadata": {},
   "outputs": [],
   "source": [
    "num_img = int(np.ceil(np.sqrt(len(preds))))\n",
    "plt.figure(figsize=(num_img, num_img), dpi=150, facecolor=(1,1,1))\n",
    "for index, img in enumerate(rgb_img):\n",
    "    plt.subplot(num_img, num_img, index + 1)\n",
    "    plt.imshow(stretch_histogram(img))\n",
    "    plt.title(f\"{cloud_free_sites[index]}: {preds[index]:.2f}\", size=6)\n",
    "    plt.axis('off')\n",
    "plt.tight_layout()\n",
    "plt.show()"
   ]
  },
  {
   "cell_type": "markdown",
   "metadata": {},
   "source": [
    "## Write Candidate Sites"
   ]
  },
  {
   "cell_type": "code",
   "execution_count": null,
   "metadata": {},
   "outputs": [],
   "source": [
    "filename = 'bali_v12_candidates_pred-thresh_0.75_min-sigma_3.5_area-thresh_0.0025'\n",
    "candidate_sites['patch_prediction'] = [-1] * len(candidate_sites)\n",
    "for site, pred in zip(cloud_free_sites, preds):\n",
    "    candidate_sites.loc[candidate_sites['name'] == site, 'patch_prediction'] = pred\n",
    "candidate_sites.to_csv('../data/model_outputs/candidate_sites/' + filename + '_patch_classifier.csv', index=False)"
   ]
  },
  {
   "cell_type": "code",
   "execution_count": null,
   "metadata": {},
   "outputs": [],
   "source": []
  }
 ],
 "metadata": {
  "kernelspec": {
   "display_name": "Python 3",
   "language": "python",
   "name": "python3"
  },
  "language_info": {
   "codemirror_mode": {
    "name": "ipython",
    "version": 3
   },
   "file_extension": ".py",
   "mimetype": "text/x-python",
   "name": "python",
   "nbconvert_exporter": "python",
   "pygments_lexer": "ipython3",
   "version": "3.6.5"
  }
 },
 "nbformat": 4,
 "nbformat_minor": 4
}
