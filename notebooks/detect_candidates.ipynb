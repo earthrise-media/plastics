{
 "cells": [
  {
   "cell_type": "markdown",
   "metadata": {},
   "source": [
    "# Run Blob Detection on Pixel Heatmap to Identify Candidate Sites\n",
    "Note: This is only working on inputs with EPSG CRS 4326. I may need to make it more general in the future."
   ]
  },
  {
   "cell_type": "code",
   "execution_count": null,
   "metadata": {},
   "outputs": [],
   "source": [
    "%load_ext autoreload\n",
    "%autoreload 2"
   ]
  },
  {
   "cell_type": "code",
   "execution_count": null,
   "metadata": {},
   "outputs": [],
   "source": [
    "from keplergl import KeplerGl\n",
    "from scripts import candidate_detect"
   ]
  },
  {
   "cell_type": "code",
   "execution_count": null,
   "metadata": {},
   "outputs": [],
   "source": [
    "kepler_config = { \"version\": \"v1\", \"config\": { \"visState\": { \"layers\": [ { \"id\": \"iik903a\", \"type\": \"point\", \"config\": { \"dataId\": \"Candidate Peaks\", \"label\": \"Point\", \"color\": [ 218, 0, 0 ], \"columns\": { \"lat\": \"lat\", \"lng\": \"lon\", \"altitude\": None }, \"isVisible\": True, \"visConfig\": { \"radius\": 20, \"fixedRadius\": False, \"opacity\": 0.99, \"outline\": True, \"thickness\": 3, \"strokeColor\": [ 210, 0, 0 ], \"filled\": False }, }, }, { \"id\": \"kyoc7uj\", \"type\": \"point\", \"config\": { \"dataId\": \"Candidate Blobs\", \"label\": \"Point\", \"color\": [ 246, 218, 0 ], \"columns\": { \"lat\": \"lat\", \"lng\": \"lon\", \"altitude\": None }, \"isVisible\": True, \"visConfig\": { \"radius\": 20, \"fixedRadius\": False, \"opacity\": 0.99, \"outline\": True, \"thickness\": 3, \"strokeColor\": [ 246, 218, 0 ], \"filled\": False }, }, } ], }, \"mapStyle\": { \"styleType\": \"satellite\", } } }"
   ]
  },
  {
   "cell_type": "code",
   "execution_count": null,
   "metadata": {},
   "outputs": [],
   "source": [
    "model_name = '0.0.11'\n",
    "name = 'lagos_v0.0.11_2019-01-01_2021-06-01mosaic-median'"
   ]
  },
  {
   "cell_type": "code",
   "execution_count": null,
   "metadata": {
    "scrolled": true
   },
   "outputs": [],
   "source": [
    "# Detect candidates from directory of tiles. Multiprocessed\n",
    "source_dir = f'../data/model_outputs/heatmaps/{model_name}/{name}'\n",
    "blobs = candidate_detect.detect_blobs_tiled(source_dir,\n",
    "                           name=name,\n",
    "                           model_name=model_name,\n",
    "                           pred_threshold=0.6, \n",
    "                           min_sigma=3.5, \n",
    "                           max_sigma=100, \n",
    "                           area_threshold=0.0025, \n",
    "                           save=True,\n",
    "                           merge_radius=0.005\n",
    "                          )\n"
   ]
  },
  {
   "cell_type": "code",
   "execution_count": null,
   "metadata": {
    "scrolled": false
   },
   "outputs": [],
   "source": [
    "# Display Kepler map of points\n",
    "candidate_map = KeplerGl(height=800, config=kepler_config)\n",
    "candidate_map.add_data(data=blobs.copy(), name='Candidate Blobs')\n",
    "candidate_map"
   ]
  },
  {
   "cell_type": "markdown",
   "metadata": {},
   "source": [
    "### Other forms of candidate detection. Not used"
   ]
  },
  {
   "cell_type": "code",
   "execution_count": null,
   "metadata": {},
   "outputs": [],
   "source": [
    "import rasterio as rs\n",
    "source = rs.open(f'../data/model_outputs/heatmaps/{MODEL_NAME}/{name}.tif')"
   ]
  },
  {
   "cell_type": "code",
   "execution_count": null,
   "metadata": {},
   "outputs": [],
   "source": [
    "peaks = candidate_detect.detect_peaks(source, name=name, min_distance=100, threshold_abs=0.95, save=False)\n",
    "candidate_map.add_data(data=peaks.copy(), name='Candidate Peaks')"
   ]
  },
  {
   "cell_type": "code",
   "execution_count": null,
   "metadata": {},
   "outputs": [],
   "source": [
    "blobs = candidate_detect.detect_blobs(source, \n",
    "                     name=name, \n",
    "                     pred_threshold=0.9, \n",
    "                     min_sigma=5, \n",
    "                     area_threshold=0.0025,\n",
    "                     save=True)\n",
    "candidate_map.add_data(data=blobs.copy(), name='Candidate Blobs')"
   ]
  },
  {
   "cell_type": "code",
   "execution_count": null,
   "metadata": {},
   "outputs": [],
   "source": []
  }
 ],
 "metadata": {
  "kernelspec": {
   "display_name": "Python 3",
   "language": "python",
   "name": "python3"
  },
  "language_info": {
   "codemirror_mode": {
    "name": "ipython",
    "version": 3
   },
   "file_extension": ".py",
   "mimetype": "text/x-python",
   "name": "python",
   "nbconvert_exporter": "python",
   "pygments_lexer": "ipython3",
   "version": "3.9.7"
  }
 },
 "nbformat": 4,
 "nbformat_minor": 4
}
