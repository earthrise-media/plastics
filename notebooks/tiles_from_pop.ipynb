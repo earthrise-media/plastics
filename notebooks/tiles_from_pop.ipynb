{
 "cells": [
  {
   "cell_type": "code",
   "execution_count": 1,
   "metadata": {},
   "outputs": [],
   "source": [
    "import descarteslabs as dl\n",
    "import os\n",
    "import sys\n",
    "import json\n",
    "import numpy as np\n",
    "from shapely.geometry import mapping\n",
    "from tqdm.notebook import tqdm\n",
    "\n",
    "module_path = os.path.abspath(os.path.join('..'))\n",
    "if module_path not in sys.path:\n",
    "    sys.path.append(module_path)"
   ]
  },
  {
   "cell_type": "code",
   "execution_count": 38,
   "metadata": {},
   "outputs": [],
   "source": [
    "roi_file = '../data/boundaries/dominican_republic.geojson'"
   ]
  },
  {
   "cell_type": "code",
   "execution_count": 39,
   "metadata": {},
   "outputs": [],
   "source": [
    "with open(roi_file, 'r') as f:\n",
    "    fc = json.load(f)\n",
    "    geom = fc['features'][0]['geometry']"
   ]
  },
  {
   "cell_type": "code",
   "execution_count": 40,
   "metadata": {},
   "outputs": [
    {
     "name": "stdout",
     "output_type": "stream",
     "text": [
      "Found 699 over shape dominican_republic.geojson\n"
     ]
    }
   ],
   "source": [
    "# grab dlkeys that intersect entire shape\n",
    "tiles = dl.scenes.DLTile.from_shape(shape=geom,\n",
    "                                    resolution=10,\n",
    "                                    tilesize=900,\n",
    "                                    pad=0)\n",
    "\n",
    "print(f\"Found {len(tiles)} over shape {os.path.basename(roi_file)}\")"
   ]
  },
  {
   "cell_type": "code",
   "execution_count": 41,
   "metadata": {},
   "outputs": [],
   "source": [
    "# define population raster and threshold\n",
    "pop_id = 'd15c019579fa0985f7006094bba7c7288f830e1f:GPW_Population_Density_V4_0'\n",
    "pop_bands = ['population']\n",
    "start_datetime = '2019-01-01'\n",
    "end_datetime = '2021-01-01'\n",
    "pop_thresh = 50"
   ]
  },
  {
   "cell_type": "code",
   "execution_count": 42,
   "metadata": {},
   "outputs": [
    {
     "data": {
      "application/vnd.jupyter.widget-view+json": {
       "model_id": "9426e553f33c4710b2cd81d46c002b1c",
       "version_major": 2,
       "version_minor": 0
      },
      "text/plain": [
       "  0%|          | 0/699 [00:00<?, ?it/s]"
      ]
     },
     "metadata": {},
     "output_type": "display_data"
    }
   ],
   "source": [
    "# filter dlkeys by population\n",
    "tiles_filt = list()\n",
    "for tile in tqdm(tiles):\n",
    "    # rasterize population at 1km resolution\n",
    "    aoi = dl.scenes.AOI(geometry=tile.geometry,\n",
    "                        resolution=1000,\n",
    "                        crs=tile.crs)\n",
    "    \n",
    "    scenes, ctx = dl.scenes.search(products=pop_id,\n",
    "                                   aoi=aoi,\n",
    "                                   start_datetime=start_datetime,\n",
    "                                   end_datetime=end_datetime)\n",
    "    \n",
    "    if not scenes:\n",
    "        continue\n",
    "        \n",
    "    pop = scenes.mosaic(bands=pop_bands, ctx=ctx)\n",
    "    if np.any(pop > pop_thresh):\n",
    "        tiles_filt.append(tile)"
   ]
  },
  {
   "cell_type": "code",
   "execution_count": 43,
   "metadata": {},
   "outputs": [],
   "source": [
    "features = list()\n",
    "for t in tiles_filt:\n",
    "    geom = mapping(t.geometry)\n",
    "    feature = {'type': 'Feature',\n",
    "               'geometry': geom}\n",
    "    features.append(feature)"
   ]
  },
  {
   "cell_type": "code",
   "execution_count": 44,
   "metadata": {},
   "outputs": [],
   "source": [
    "fc_out = {'type': 'FeatureCollection', 'features': features}"
   ]
  },
  {
   "cell_type": "code",
   "execution_count": 45,
   "metadata": {},
   "outputs": [],
   "source": [
    "roi_out = 'dr_tiles_pop_filt_50.geojson'\n",
    "with open(roi_out, 'w') as f:\n",
    "    json.dump(fc_out, f)"
   ]
  }
 ],
 "metadata": {
  "kernelspec": {
   "display_name": "mldev",
   "language": "python",
   "name": "mldev"
  },
  "language_info": {
   "codemirror_mode": {
    "name": "ipython",
    "version": 3
   },
   "file_extension": ".py",
   "mimetype": "text/x-python",
   "name": "python",
   "nbconvert_exporter": "python",
   "pygments_lexer": "ipython3",
   "version": "3.8.10"
  }
 },
 "nbformat": 4,
 "nbformat_minor": 4
}
