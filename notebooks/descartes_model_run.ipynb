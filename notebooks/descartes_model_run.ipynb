{
 "cells": [
  {
   "cell_type": "code",
   "execution_count": null,
   "metadata": {},
   "outputs": [],
   "source": [
    "import os\n",
    "import shutil\n",
    "\n",
    "import descarteslabs as dl\n",
    "from descarteslabs.catalog import Image, properties\n",
    "import geopandas\n",
    "import matplotlib.pyplot as plt\n",
    "import rasterio as rs\n",
    "from rasterio.merge import merge\n",
    "from tqdm import tqdm"
   ]
  },
  {
   "cell_type": "code",
   "execution_count": null,
   "metadata": {},
   "outputs": [],
   "source": [
    "roi_file = '../data/boundaries/west_nusa_tenggara.geojson'\n",
    "product_id = 'west_nusa_tenggara_v1.1.1_2020' \n",
    "product_desc = 'west_nusa_tenggara - V1.1.1 model - 2020' \n",
    "product_name = product_desc\n",
    "model_file = '../models/model_v1.1.1_4-22-21.h5'\n",
    "model_name = 'model_v1.1.0_4-22-21'\n",
    "tilesize = 840"
   ]
  },
  {
   "cell_type": "code",
   "execution_count": null,
   "metadata": {},
   "outputs": [],
   "source": [
    "job_string = f\"python3 ../scripts/deploy_nn_v0.py --roi_file '{roi_file}' --product_id '{product_id}' --product_desc '{product_desc}' --product_name '{product_name}' --model_file '{model_file}' --model_name '{model_name}' --tilesize {tilesize} --create_product\"\n",
    "print(job_string)"
   ]
  },
  {
   "cell_type": "markdown",
   "metadata": {},
   "source": [
    "Launch Descartes job. Monitor at https://monitor.descarteslabs.com/"
   ]
  },
  {
   "cell_type": "code",
   "execution_count": null,
   "metadata": {},
   "outputs": [],
   "source": [
    "os.system(job_string)"
   ]
  },
  {
   "cell_type": "markdown",
   "metadata": {},
   "source": [
    "After the job is complete (only signaled by looking at the console), use this script to download the files. Because Descartes throws a 502 error when trying to download too many tiles. This process downloads each file individually, and then stitches them into a single geotiff"
   ]
  },
  {
   "cell_type": "code",
   "execution_count": null,
   "metadata": {},
   "outputs": [],
   "source": [
    "search = Image.search().filter(properties.product_id == 'earthrise:' + product_id)\n",
    "search.summary()"
   ]
  },
  {
   "cell_type": "code",
   "execution_count": null,
   "metadata": {},
   "outputs": [],
   "source": [
    "output_dir = os.path.join('../data/model_outputs/heatmaps', product_id)\n",
    "if not os.path.exists(output_dir):\n",
    "    os.mkdir(output_dir)"
   ]
  },
  {
   "cell_type": "code",
   "execution_count": null,
   "metadata": {},
   "outputs": [],
   "source": [
    "image_list = [image.id for image in search]\n",
    "raster_client = dl.Raster()\n",
    "for image in tqdm(image_list):\n",
    "    _ = raster_client.raster(inputs = image,\n",
    "                             bands = ['median'],\n",
    "                             save=True,\n",
    "                             outfile_basename = os.path.join(output_dir, image),\n",
    "                             srs='WGS84'\n",
    "                        )"
   ]
  },
  {
   "cell_type": "code",
   "execution_count": null,
   "metadata": {},
   "outputs": [],
   "source": [
    "files_to_mosaic = []\n",
    "for file in os.listdir(output_dir):\n",
    "    src = rs.open(os.path.join(output_dir, file))\n",
    "    files_to_mosaic.append(src)\n",
    "mosaic, out_trans = merge(files_to_mosaic)"
   ]
  },
  {
   "cell_type": "code",
   "execution_count": null,
   "metadata": {},
   "outputs": [],
   "source": [
    "output_metadata = src.meta.copy()\n",
    "\n",
    "output_metadata.update({\"height\": mosaic.shape[1],\n",
    "                        \"width\": mosaic.shape[2],\n",
    "                        \"transform\": out_trans\n",
    "                 }\n",
    "                )\n",
    "output_metadata\n",
    "with rs.open('../data/model_outputs/heatmaps/' + product_id + '.tif', 'w', **output_metadata) as f:\n",
    "    f.write(mosaic)"
   ]
  },
  {
   "cell_type": "code",
   "execution_count": null,
   "metadata": {},
   "outputs": [],
   "source": [
    "# Delete individual files and folder\n",
    "shutil.rmtree(output_dir)"
   ]
  },
  {
   "cell_type": "code",
   "execution_count": null,
   "metadata": {},
   "outputs": [],
   "source": []
  }
 ],
 "metadata": {
  "kernelspec": {
   "display_name": "Python 3",
   "language": "python",
   "name": "python3"
  },
  "language_info": {
   "codemirror_mode": {
    "name": "ipython",
    "version": 3
   },
   "file_extension": ".py",
   "mimetype": "text/x-python",
   "name": "python",
   "nbconvert_exporter": "python",
   "pygments_lexer": "ipython3",
   "version": "3.6.5"
  }
 },
 "nbformat": 4,
 "nbformat_minor": 4
}
