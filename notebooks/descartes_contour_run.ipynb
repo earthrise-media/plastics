{
 "cells": [
  {
   "cell_type": "code",
   "execution_count": null,
   "metadata": {},
   "outputs": [],
   "source": [
    "%load_ext autoreload\n",
    "%autoreload 2"
   ]
  },
  {
   "cell_type": "code",
   "execution_count": null,
   "metadata": {},
   "outputs": [],
   "source": [
    "import os\n",
    "\n",
    "import geopandas as gpd\n",
    "import requests\n",
    "from tqdm.notebook import tqdm\n",
    "\n",
    "from scripts import deploy_contours"
   ]
  },
  {
   "cell_type": "code",
   "execution_count": null,
   "metadata": {},
   "outputs": [],
   "source": [
    "# User inputs\n",
    "model_version = '0.0.11'\n",
    "model_name = 'spectrogram_v0.0.11_2021-07-13'\n",
    "model_file = '../models/' + model_name + '.h5'\n",
    "\n",
    "version_num = str(2.1)\n",
    "contour_output_path = f'../data/model_outputs/site_contours/{version_num}'\n",
    "if not os.path.exists(contour_output_path):\n",
    "    os.mkdir(contour_output_path)\n",
    "\n",
    "# Rect needs to be large enough to cover big sites. \n",
    "# But large rects take longer to process and increase false positive likelihood\n",
    "rect_width = 0.01\n",
    "mosaic_period = 1\n",
    "spectrogram_interval = 6\n",
    "mosaic_method = 'min'\n",
    "scale=4\n",
    "\n",
    "# Note on dates: The date range should be longer than the spectrogram length.\n",
    "# Starting on successive mosaic periods (typically: monthly), as many\n",
    "# spectrograms are created as fit in the date range.\n",
    "start_date = '2017-06-01'\n",
    "end_date = '2022-02-15'\n",
    "\n",
    "confirmed_sites_file = 'failed_sites'\n",
    "confirmed_sites = gpd.read_file(f\"../data/site_metadata/{confirmed_sites_file}.geojson\")\n",
    "coords = [[site.x, site.y] for site in confirmed_sites['geometry']]\n",
    "names = confirmed_sites['id']\n",
    "\n",
    "product_id = f'earthrise:contours_{confirmed_sites_file}_v{version_num}_{start_date}_{end_date}_{mosaic_period}_{spectrogram_interval}'\n",
    "product_name = product_id.split(':')[-1]  # Arbitrary string - optionally set this to something more human readable.\n",
    "\n",
    "endpoint = 'http://api.dev.plastic.watch.earthrise.media'\n",
    "run_local = False # If False, the model prediction tasks are async queued and sent to DL for processing."
   ]
  },
  {
   "cell_type": "code",
   "execution_count": null,
   "metadata": {},
   "outputs": [],
   "source": [
    "args = [\n",
    "    '--file_name',\n",
    "    confirmed_sites_file,\n",
    "    '--product_id',\n",
    "    product_id,\n",
    "    '--product_name',\n",
    "    product_name,\n",
    "    '--model_file',\n",
    "    model_file,\n",
    "    '--model_name',\n",
    "    model_name,\n",
    "    '--mosaic_period',\n",
    "    str(mosaic_period),\n",
    "    '--mosaic_method',\n",
    "    mosaic_method,\n",
    "    '--spectrogram_interval',\n",
    "    str(spectrogram_interval),\n",
    "    '--start_date',\n",
    "    start_date,\n",
    "    '--end_date',\n",
    "    end_date,\n",
    "    '--rect_width',\n",
    "    str(rect_width),\n",
    "    '--endpoint',\n",
    "    endpoint\n",
    "]\n",
    "if run_local:\n",
    "    args.append('--run_local')"
   ]
  },
  {
   "cell_type": "code",
   "execution_count": null,
   "metadata": {},
   "outputs": [],
   "source": [
    "# Because of the way DL uploads modules when queuing async tasks, we need to launch from the scripts/ folder\n",
    "%cd ../scripts\n",
    "%pwd"
   ]
  },
  {
   "cell_type": "code",
   "execution_count": null,
   "metadata": {},
   "outputs": [],
   "source": [
    "deploy_contours.main(args)"
   ]
  },
  {
   "cell_type": "code",
   "execution_count": null,
   "metadata": {},
   "outputs": [],
   "source": [
    "contours = gpd.GeoDataFrame()\n",
    "for site_id in tqdm(confirmed_sites['id']):\n",
    "    site_endpoint = f'{endpoint}/sites/{site_id}/contours'\n",
    "    r = requests.get(site_endpoint).json()\n",
    "    contours = contours.append(gpd.GeoDataFrame.from_features(r['features']))\n",
    "    file_path = f'{contour_output_path}/{confirmed_sites_file}_{start_date}_{end_date}_period_{mosaic_period}_interval_{spectrogram_interval}_contours.geojson'\n",
    "    contours.to_file(file_path, driver='GeoJSON')"
   ]
  },
  {
   "cell_type": "code",
   "execution_count": null,
   "metadata": {},
   "outputs": [],
   "source": []
  }
 ],
 "metadata": {
  "interpreter": {
   "hash": "d425afa4a959a86aa036beaa1a58ff3469f38e31f3ec97f5785c695b9108eced"
  },
  "kernelspec": {
   "display_name": "Python 3.9.7 64-bit ('m1-plastics': conda)",
   "language": "python",
   "name": "python3"
  },
  "language_info": {
   "codemirror_mode": {
    "name": "ipython",
    "version": 3
   },
   "file_extension": ".py",
   "mimetype": "text/x-python",
   "name": "python",
   "nbconvert_exporter": "python",
   "pygments_lexer": "ipython3",
   "version": "3.9.7"
  },
  "orig_nbformat": 4
 },
 "nbformat": 4,
 "nbformat_minor": 2
}
