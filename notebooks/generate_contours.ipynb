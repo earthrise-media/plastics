{
 "cells": [
  {
   "cell_type": "markdown",
   "metadata": {},
   "source": [
    "# Site Monitoring and Contour Generation"
   ]
  },
  {
   "cell_type": "code",
   "execution_count": null,
   "metadata": {},
   "outputs": [],
   "source": [
    "%load_ext autoreload\n",
    "%autoreload 2"
   ]
  },
  {
   "cell_type": "code",
   "execution_count": null,
   "metadata": {},
   "outputs": [],
   "source": [
    "import datetime\n",
    "import json\n",
    "import os\n",
    "\n",
    "import cv2\n",
    "import geopandas as gpd\n",
    "import matplotlib.pyplot as plt\n",
    "import numpy as np\n",
    "import rasterio as rs\n",
    "import shapely\n",
    "from tensorflow import keras\n",
    "from tqdm import tqdm\n",
    "\n",
    "from scripts import dl_utils\n",
    "from scripts.dl_utils import predict_spectrogram, rect_from_point\n",
    "from scripts.nn_predict import make_predictions, visualize_predictions"
   ]
  },
  {
   "cell_type": "markdown",
   "metadata": {},
   "source": [
    "## Download Data"
   ]
  },
  {
   "cell_type": "markdown",
   "metadata": {},
   "source": [
    "### Download Single Site"
   ]
  },
  {
   "cell_type": "code",
   "execution_count": null,
   "metadata": {},
   "outputs": [],
   "source": [
    "def generate_contours(preds, dates, threshold=0.3, plot=False):\n",
    "    # Set a prediction threshold. Given that the heatmaps are blurred, it is recommended\n",
    "    # to set this value lower than you would in blob detection\n",
    "    contour_list = []\n",
    "    date_list = []\n",
    "    for pred, date in zip(preds, dates):\n",
    "        masked_percentage = np.sum(pred.mask / np.size(pred.mask))\n",
    "        if masked_percentage < 0.1:\n",
    "            input_img = (pred* 255).astype(np.uint8)\n",
    "            blurred = cv2.GaussianBlur(input_img, (3,3), cv2.BORDER_DEFAULT)\n",
    "            ret, thresh = cv2.threshold(blurred, int(threshold * 255), 255, cv2.THRESH_TOZERO)\n",
    "            # Note that cv2.RETR_CCOMP returns a hierarchy of parent and child contours\n",
    "            # Needed for fixing the case with polygon holes \n",
    "            # https://docs.opencv.org/master/d9/d8b/tutorial_py_contours_hierarchy.html\n",
    "            contours, hierarchy = cv2.findContours(thresh, cv2.RETR_CCOMP, cv2.CHAIN_APPROX_SIMPLE)\n",
    "            contour_list.append(contours)\n",
    "            date_list.append(date)\n",
    "            if plot:\n",
    "                plt.figure(figsize=(16,4), dpi=150)\n",
    "                plt.subplot(1,4,1)\n",
    "                plt.imshow(input_img, vmin=0, vmax=255)\n",
    "                plt.title('Pred')\n",
    "                plt.axis('off')\n",
    "                plt.subplot(1,4,3)\n",
    "                plt.imshow(thresh, vmin=0, vmax=255)\n",
    "                plt.title('Thresholded Blur')\n",
    "                plt.axis('off')\n",
    "                plt.subplot(1,4,2)\n",
    "                plt.imshow(blurred, vmin=0, vmax=255)\n",
    "                plt.title('Blurred')\n",
    "                plt.axis('off')\n",
    "                plt.subplot(1,4,4)\n",
    "                three_channel_preds = np.stack((pred * 255, pred * 255, pred * 255), axis=-1)\n",
    "                preds_contour_img = cv2.drawContours(three_channel_preds, contours, -1, (255, 0, 0), 1)\n",
    "                plt.imshow(preds_contour_img /255, vmin=0, vmax=255)\n",
    "                plt.title(f\"{len(contours)} separate contours\")\n",
    "                plt.axis('off')\n",
    "                plt.suptitle(date)\n",
    "                plt.show()\n",
    "    return contour_list, date_list\n",
    "\n",
    "def generate_polygons(contour_list, bounds_list, plot=False):\n",
    "    contour_multipolygons = []\n",
    "    for contours, bounds in zip(contour_list, bounds_list):\n",
    "        # Define patch coordinate bounds to set pixel scale\n",
    "        bounds = shapely.geometry.Polygon(bounds).bounds\n",
    "        transform = rs.transform.from_bounds(*bounds, mosaics[0].shape[0], mosaics[0].shape[1])\n",
    "        polygon_coords = []\n",
    "        for contour in contours:\n",
    "            # Convert from pixels to coords\n",
    "            contour_coords = []\n",
    "            for point in contour[:,0]:\n",
    "                lon, lat = rs.transform.xy(transform, point[1], point[0])\n",
    "                contour_coords.append([lon, lat])\n",
    "            if len(contour_coords) > 1:\n",
    "                # Close the loop\n",
    "                contour_coords.append(contour_coords[0])\n",
    "                # Add individual contour to list of contours for the month\n",
    "                polygon_coords.append(contour_coords)\n",
    "\n",
    "        contour_polygons = []\n",
    "        for coord in polygon_coords:\n",
    "            poly = shapely.geometry.Polygon(coord)\n",
    "            # A single line of pixels will be recognized as a line rather than a polygon\n",
    "            # Inflate the area by a small amount to create a polygon\n",
    "            if poly.area == 0:\n",
    "                poly = poly.buffer(0.00002)\n",
    "            contour_polygons.append(poly)\n",
    "        multipolygon = shapely.geometry.MultiPolygon(contour_polygons)\n",
    "        # Currently, \"holes\" in a polygon are seen as separate contours.\n",
    "        # This means that there will be overlapping polygons. Shapely can \n",
    "        # detect this case, but can't fix it automatically. To rectify, the\n",
    "        # unary_union operator and .buffer(0) hack removes interior polygons.\n",
    "        if not multipolygon.is_valid:\n",
    "            multipolygon = shapely.ops.unary_union(multipolygon).buffer(0)\n",
    "        if plot:\n",
    "            display(multipolygon)\n",
    "        contour_multipolygons.append(multipolygon)\n",
    "    return contour_multipolygons"
   ]
  },
  {
   "cell_type": "code",
   "execution_count": null,
   "metadata": {},
   "outputs": [],
   "source": [
    "RECT_WIDTH = 0.008\n",
    "START_DATE = '2019-06-01'\n",
    "END_DATE = '2021-09-01'\n",
    "MOSAIC_PERIOD = 3\n",
    "SPECTROGRAM_INTERVAL = 2"
   ]
  },
  {
   "cell_type": "code",
   "execution_count": null,
   "metadata": {},
   "outputs": [],
   "source": [
    "model_name = 'spectrogram_v0.0.8_2021-06-03'\n",
    "model = keras.models.load_model(f'../models/{model_name}.h5')"
   ]
  },
  {
   "cell_type": "code",
   "execution_count": null,
   "metadata": {},
   "outputs": [],
   "source": [
    "confirmed_sites_file = 'v12_java_validated_positives'\n",
    "confirmed_sites = gpd.read_file(f\"../data/sampling_locations/{confirmed_sites_file}.geojson\")\n",
    "display(confirmed_sites.head())\n",
    "coords = [[site.x, site.y] for site in confirmed_sites['geometry']]\n",
    "names = [site for site in confirmed_sites['name']]"
   ]
  },
  {
   "cell_type": "code",
   "execution_count": null,
   "metadata": {
    "scrolled": true
   },
   "outputs": [],
   "source": [
    "contour_gdf = gpd.GeoDataFrame(columns=['geometry', 'area (km^2)', 'date', 'name']).set_crs('EPSG:4326')\n",
    "for coord, name in zip(coords, names):\n",
    "    print(name)\n",
    "    mosaics, metadata = dl_utils.download_mosaics(\n",
    "        rect_from_point(coord, RECT_WIDTH), START_DATE, END_DATE, MOSAIC_PERIOD, method='min')\n",
    "    pairs = dl_utils.pair(mosaics, SPECTROGRAM_INTERVAL)\n",
    "    preds = [predict_spectrogram(pair, model) for pair in pairs]\n",
    "    dates = dl_utils.get_starts(START_DATE, END_DATE, 3, 2)[SPECTROGRAM_INTERVAL:]\n",
    "    bounds = [sample['wgs84Extent']['coordinates'][0][:-1] for sample in metadata[SPECTROGRAM_INTERVAL:]]\n",
    "    contours, contour_dates = generate_contours(preds, dates, threshold=0.5, plot=False)\n",
    "    polygons = generate_polygons(contours, bounds, plot=False)\n",
    "    gdf = gpd.GeoDataFrame(geometry=polygons).set_crs('EPSG:4326')\n",
    "    gdf['date'] = [datetime.datetime.fromisoformat(date) for date in contour_dates]\n",
    "    gdf['area (km^2)'] = gdf['geometry'].to_crs('epsg:3395').map(lambda p: p.area / 10**6)\n",
    "    gdf['name'] = [name for _ in range(len(contour_dates))]\n",
    "    contour_gdf = contour_gdf.append(gdf)\n",
    "contour_gdf.to_file(f'../data/model_outputs/site_contours/{confirmed_sites_file}_contours_model_{model_name}.geojson', driver='GeoJSON')"
   ]
  },
  {
   "cell_type": "code",
   "execution_count": null,
   "metadata": {},
   "outputs": [],
   "source": []
  }
 ],
 "metadata": {
  "kernelspec": {
   "display_name": "Python 3",
   "language": "python",
   "name": "python3"
  },
  "language_info": {
   "codemirror_mode": {
    "name": "ipython",
    "version": 3
   },
   "file_extension": ".py",
   "mimetype": "text/x-python",
   "name": "python",
   "nbconvert_exporter": "python",
   "pygments_lexer": "ipython3",
   "version": "3.7.9"
  }
 },
 "nbformat": 4,
 "nbformat_minor": 4
}
