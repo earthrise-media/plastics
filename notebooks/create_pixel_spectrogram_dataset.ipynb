{
 "cells": [
  {
   "cell_type": "markdown",
   "metadata": {},
   "source": [
    "# Create Pixel Spectrogram Dataset\n",
    "This notebook downloads Sentinel data to produce inputs to a spectral-temporal pixelwise-classifier. \n",
    "Currently the notebook supports two time-steps, separated by a number of months assigned in MOSAIC_GAP, below. \n",
    "\n",
    "## Inputs\n",
    "The notebook operates by loading a set of sampling sites from a geojson. If the geojson contains `Point` features, a bounding rect is constructed. If the geojson contains `Polygon` or `MultiPolygon` features, only pixels within the polygon will be extracted.\n",
    "\n",
    "The `download_patch` script attempts to mask clouds. However, cloudy pixels and patches can still come through.\n",
    "\n",
    "Pixels that fall outside of a polygon are also masked using a numpy masked array. These pixels are not stored in the output pixel arrays.\n",
    "\n",
    "## Outputs\n",
    "\n",
    "### Pixel Arrays:\n",
    "The output list of arrays is saved as a pickle. The arrays are not normalized. The dimensionality of each array is  `[bands][num_time_steps]`, with num_time_steps hard-coded to 2. \n",
    "### Image Plot:\n",
    "To log the data in a pixel array dataset, a grid of input images is exported along with the datset."
   ]
  },
  {
   "cell_type": "code",
   "execution_count": null,
   "metadata": {},
   "outputs": [],
   "source": [
    "%load_ext autoreload\n",
    "%autoreload 2"
   ]
  },
  {
   "cell_type": "code",
   "execution_count": null,
   "metadata": {},
   "outputs": [],
   "source": [
    "import descarteslabs as dl\n",
    "import json\n",
    "import matplotlib.pyplot as plt\n",
    "import numpy as np\n",
    "import os\n",
    "import pickle\n",
    "import pandas as pd\n",
    "import seaborn as sns\n",
    "from tqdm.notebook import tqdm\n",
    "\n",
    "from scripts import dl_utils\n",
    "from scripts.viz_tools import band_descriptions, plot_image_grid"
   ]
  },
  {
   "cell_type": "markdown",
   "metadata": {},
   "source": [
    "### Define Parameters for data extraction\n",
    "### Attention: make sure to set appropriate label class!\n",
    "Negative sites = 0, Positive sites = 1"
   ]
  },
  {
   "cell_type": "code",
   "execution_count": null,
   "metadata": {},
   "outputs": [],
   "source": [
    "sampling_file = 'tpa_polygons'\n",
    "data_dir = '../data/sampling_locations/'\n",
    "label_class = 1\n",
    "\n",
    "START_DATE = '2019-01-01'\n",
    "END_DATE = '2021-01-01'\n",
    "MOSAIC_PERIOD = 1  # the period over which to mosaic image data in months\n",
    "MOSAIC_GAP = 6  # For spectrogram analysis, time gap between mosaics in number of mosaic periods\n",
    "\n",
    "OUTPUT_DIR = f'../data/training_data/pixel_arrays_{MOSAIC_PERIOD}mo-mosaics_{MOSAIC_GAP}mo-gap'\n",
    "if not os.path.exists(OUTPUT_DIR):\n",
    "    os.mkdir(OUTPUT_DIR)"
   ]
  },
  {
   "cell_type": "code",
   "execution_count": null,
   "metadata": {},
   "outputs": [],
   "source": [
    "# Create or extract polygons from a sampling location\n",
    "with open(os.path.join(data_dir, sampling_file + '.geojson'), 'r') as f:\n",
    "    data = json.load(f)['features'] \n",
    "    \n",
    "# Set rect width in pixels. Only required for point samples\n",
    "num_pixels = 48\n",
    "# Convert pixels to degrees. Heuristic, not geographically sound\n",
    "# Better to go with slightly bigger patches that can then be cropped\n",
    "rect_width = np.round((num_pixels / 100) / 111.32, 4)    \n",
    "\n",
    "polygons = []\n",
    "for feature in data:\n",
    "    if feature['geometry']['type'] == 'Point':\n",
    "        polygons.append(dl_utils.rect_from_point(feature['geometry']['coordinates'], rect_width))\n",
    "    if feature['geometry']['type'] == 'MultiPolygon' or feature['geometry']['type'] == 'Polygon':\n",
    "        polygons.append(feature['geometry'])\n",
    "print(f'{len(polygons)} polygons loaded.')"
   ]
  },
  {
   "cell_type": "markdown",
   "metadata": {},
   "source": [
    "### Download Sentinel data"
   ]
  },
  {
   "cell_type": "code",
   "execution_count": null,
   "metadata": {},
   "outputs": [],
   "source": [
    "pairs = []\n",
    "for polygon in tqdm(polygons):\n",
    "    mosaics = dl_utils.download_mosaics(polygon, START_DATE, END_DATE, MOSAIC_PERIOD)\n",
    "    pairs += dl_utils.pair(mosaics, MOSAIC_GAP)\n",
    "print(len(pairs), \"pairs of images extracted\")"
   ]
  },
  {
   "cell_type": "code",
   "execution_count": null,
   "metadata": {},
   "outputs": [],
   "source": [
    "def save_pixel_arrays(data, basepath, label_class):\n",
    "    with open(basepath + '_pixel_arrays.pkl', \"wb\") as f:\n",
    "        pickle.dump(data, f)\n",
    "    with open(basepath + '_pixel_array_labels.pkl', \"wb\") as f:\n",
    "        pickle.dump([label_class] * len(data), f)"
   ]
  },
  {
   "cell_type": "code",
   "execution_count": null,
   "metadata": {},
   "outputs": [],
   "source": [
    "# View all images\n",
    "figure_file_path = os.path.join(OUTPUT_DIR, f\"{sampling_file} - Class {label_class}\")\n",
    "unpaired = [img for pair in pairs for img in pair]\n",
    "plot_image_grid(unpaired, file_path=figure_file_path)"
   ]
  },
  {
   "cell_type": "code",
   "execution_count": null,
   "metadata": {},
   "outputs": [],
   "source": [
    "# Create pixel arrays\n",
    "pixel_arrays = []\n",
    "for pair in tqdm(pairs):\n",
    "    height, width, channels = pair[0].shape\n",
    "    img_array = np.moveaxis(np.array(pair), 0, -1)\n",
    "    img_array = img_array.reshape(height * width, channels, len(pair))\n",
    "    pixel_arrays += [pixel for pixel in img_array if np.mean(pixel) > 0]\n",
    "\n",
    "print(f\"{len(pixel_arrays)} pixel arrays extracted\")\n",
    "basepath = os.path.join(OUTPUT_DIR, f\"{sampling_file}_{START_DATE}_{END_DATE}\")\n",
    "save_pixel_arrays(pixel_arrays, basepath, label_class)"
   ]
  },
  {
   "cell_type": "markdown",
   "metadata": {},
   "source": [
    "### Optional: plot the mean pixel spectra of the extracted dataset.\n",
    "Process can take time with many samples"
   ]
  },
  {
   "cell_type": "code",
   "execution_count": null,
   "metadata": {},
   "outputs": [],
   "source": [
    "all_pixels = np.moveaxis(np.array(pixel_arrays), -1, -2).reshape(2 * len(pixel_arrays), len(band_descriptions))\n",
    "data = pd.DataFrame(all_pixels, columns=band_descriptions.keys()).melt(var_name='band', value_name='value')\n",
    "plt.figure(figsize=(6,4), dpi=150, facecolor=(1,1,1))\n",
    "sns.lineplot(x='band', y='value', data=data, ci=\"sd\")\n",
    "plt.title('Mean Value +/- SD')\n",
    "plt.show()"
   ]
  },
  {
   "cell_type": "code",
   "execution_count": null,
   "metadata": {},
   "outputs": [],
   "source": []
  }
 ],
 "metadata": {
  "kernelspec": {
   "display_name": "Python 3",
   "language": "python",
   "name": "python3"
  },
  "language_info": {
   "codemirror_mode": {
    "name": "ipython",
    "version": 3
   },
   "file_extension": ".py",
   "mimetype": "text/x-python",
   "name": "python",
   "nbconvert_exporter": "python",
   "pygments_lexer": "ipython3",
   "version": "3.7.4"
  }
 },
 "nbformat": 4,
 "nbformat_minor": 4
}
