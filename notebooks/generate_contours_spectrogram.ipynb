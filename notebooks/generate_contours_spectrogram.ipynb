{
 "cells": [
  {
   "cell_type": "markdown",
   "metadata": {},
   "source": [
    "# Site Monitoring and Contour Generation"
   ]
  },
  {
   "cell_type": "code",
   "execution_count": null,
   "metadata": {},
   "outputs": [],
   "source": [
    "%load_ext autoreload\n",
    "%autoreload 2"
   ]
  },
  {
   "cell_type": "code",
   "execution_count": null,
   "metadata": {},
   "outputs": [],
   "source": [
    "import os\n",
    "\n",
    "import geopandas as gpd\n",
    "from tensorflow import keras\n",
    "from tqdm.notebook import tqdm\n",
    "\n",
    "from scripts import contour_gen"
   ]
  },
  {
   "cell_type": "markdown",
   "metadata": {},
   "source": [
    "## Load models and set parameters"
   ]
  },
  {
   "cell_type": "code",
   "execution_count": null,
   "metadata": {},
   "outputs": [],
   "source": [
    "model_name = 'spectrogram_v0.0.11_2021-07-13'\n",
    "model = keras.models.load_model(f'../models/{model_name}.h5')\n",
    "\n",
    "ensemble_name = 'v0.0.11_ensemble-8-25-21'\n",
    "model_list = contour_gen.load_ensemble(f'../models/{ensemble_name}')"
   ]
  },
  {
   "cell_type": "code",
   "execution_count": null,
   "metadata": {},
   "outputs": [],
   "source": [
    "version_num = str(2.1)\n",
    "contour_output_path = f'../data/model_outputs/site_contours/{version_num}'\n",
    "if not os.path.exists(contour_output_path):\n",
    "    os.mkdir(contour_output_path)\n",
    "\n",
    "# Rect needs to be large enough to cover big sites. \n",
    "# But large rects take longer to process and increase false positive likelihood\n",
    "rect_width = 0.01\n",
    "start_date = '2015-11-01'\n",
    "end_date = '2022-03-30'\n",
    "mosaic_period = 2\n",
    "spectrogram_interval = 3\n",
    "scale=4"
   ]
  },
  {
   "cell_type": "code",
   "execution_count": null,
   "metadata": {},
   "outputs": [],
   "source": [
    "confirmed_sites_file = 'missing_contours'\n",
    "confirmed_sites = gpd.read_file(f\"../data/site_metadata/{confirmed_sites_file}.geojson\")\n",
    "coords = [[site.x, site.y] for site in confirmed_sites['geometry']]\n",
    "names = confirmed_sites['id']\n",
    "print(len(confirmed_sites), 'sites loaded')"
   ]
  },
  {
   "cell_type": "code",
   "execution_count": null,
   "metadata": {},
   "outputs": [],
   "source": [
    "contour_gdf = gpd.GeoDataFrame(columns=['geometry', 'area (km^2)', 'date', 'name']).set_crs('epsg:4326')\n",
    "failures = []\n",
    "for coord, name in zip(tqdm(coords), names):\n",
    "    site = contour_gen.SiteContours(coord, name)\n",
    "    site.download_pairs(\n",
    "        start_date=start_date,\n",
    "        end_date=end_date,\n",
    "        mosaic_period=mosaic_period,\n",
    "        spectrogram_interval=spectrogram_interval,\n",
    "        rect_width=rect_width\n",
    "    )\n",
    "    if len(site.pairs) > 0:\n",
    "        site.generate_predictions(model)\n",
    "        site.threshold_predictions(threshold=0.5)\n",
    "        site.mask_predictions(window_size=2, threshold=0.1)\n",
    "        site.generate_contours(threshold=0.5, scale=scale, plot=False)\n",
    "        site.generate_polygons(plot=False)\n",
    "        site.compile_contours()\n",
    "        contour_gdf = contour_gdf.append(site.contour_gdf, ignore_index=True)\n",
    "\n"
   ]
  },
  {
   "cell_type": "code",
   "execution_count": null,
   "metadata": {},
   "outputs": [],
   "source": [
    "contour_gdf.to_file(f'{contour_output_path}/{confirmed_sites_file}_contours.geojson', driver='GeoJSON')"
   ]
  },
  {
   "cell_type": "code",
   "execution_count": null,
   "metadata": {},
   "outputs": [],
   "source": [
    "import requests\n",
    "import datetime\n",
    "endpoint = 'http://api.plastic.watch.earthrise.media'\n",
    "site_endpoint = f'{endpoint}/sites/{site.name}/contours'\n",
    "auth = requests.auth.HTTPBasicAuth('admin', 'plastics')\n",
    "delete = requests.delete(site_endpoint, auth=auth)\n",
    "print(\"delete status\", delete.status_code)\n",
    "site.contour_gdf.to_crs(\"epsg:3395\")\n",
    "site.contour_gdf['date'] = [datetime.datetime.isoformat(date) for date in site.contour_gdf['date']]\n",
    "r = requests.post(site_endpoint, site.contour_gdf.to_json())\n",
    "print(\"request status\", r.status_code)"
   ]
  },
  {
   "cell_type": "code",
   "execution_count": null,
   "metadata": {},
   "outputs": [],
   "source": []
  }
 ],
 "metadata": {
  "interpreter": {
   "hash": "4a01d8cce8e3093998fa99b03bade8c0e7fde9c8096298c7b656f9b435102d6b"
  },
  "kernelspec": {
   "display_name": "Python 3.7.9 64-bit ('venv-plastics': pyenv)",
   "name": "python3"
  },
  "language_info": {
   "codemirror_mode": {
    "name": "ipython",
    "version": 3
   },
   "file_extension": ".py",
   "mimetype": "text/x-python",
   "name": "python",
   "nbconvert_exporter": "python",
   "pygments_lexer": "ipython3",
   "version": "3.9.7"
  }
 },
 "nbformat": 4,
 "nbformat_minor": 4
}
